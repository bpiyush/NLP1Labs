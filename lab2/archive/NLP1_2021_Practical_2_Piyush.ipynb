{
 "cells": [
  {
   "cell_type": "markdown",
   "metadata": {
    "id": "ptMZZMQlfn7c"
   },
   "source": [
    "------\n",
    "**You cannot apply any changes to this file, so please make sure to save it on your Google Colab drive or download it as a .ipynb file.**\n",
    "\n",
    "------\n"
   ]
  },
  {
   "cell_type": "markdown",
   "metadata": {
    "id": "jILqpPLlE9r0"
   },
   "source": [
    "# Practical 2: Representing Sentences with Neural Models"
   ]
  },
  {
   "cell_type": "markdown",
   "metadata": {
    "id": "8JXOZ5uhQ8Qq"
   },
   "source": [
    "In this second practical, we will train neural network models to obtain sentence representations. We can then use these sentence representations for a downstream task such as sentiment classification. \n",
    "\n",
    "In this notebook, we will help you to develop models for your experiments. But this time, next to completing the notebook, **you are expected to write a four-page scientific report with your findings**. Please still submit the notebook together with your scientific report so that we can reproduce your experiments. (Note: if you find it useful, you can split this notebook into multiple notebooks. If you do so, keep it mind that it should be possible for your TAs to reproduce the entire content of the notebooks without having to ask for clarifications or to copy and paste functions from one sub-notebook to another.) Make sure your code corresponds to the description you give in the report; we will deduct points if this is not the case.\n",
    "\n",
    "**Important!** The main purpose of this lab is for you to learn how to answer research questions by experimenting and then writing a scientific report.\n",
    "So you will be *judged by the quality of your report* but will lose points if your experiments are not reproducible.\n",
    "You can find the requirements for the report at the end of this notebook.\n",
    "\n",
    "\n",
    "### Data set\n",
    "We will use the [Stanford Sentiment Treebank](https://nlp.stanford.edu/sentiment/) (SST), which provides sentences, their binary tree structure, and fine-grained sentiment scores.\n",
    "This dataset is different from the one we used in the first practical. \n",
    "In Practical 1, a review consisted of several sentences, and we had one sentiment score for the whole review. Now, a review consists of a single sentence, and we have a sentiment score for each node in the binary tree that makes up the sentence, including the root node (i.e., we still have an overall sentiment score for the entire review). We will look at an example below.\n",
    "\n",
    "In the first part of this practical we will only make use of the sentence tokens whereas in the second part we will also exploit the tree structure that is provided by the SST.\n",
    "\n",
    "We will cover the following approaches:\n",
    "\n",
    "- Bag-of-words (BOW)\n",
    "- Continuous bag-of-words (CBOW)\n",
    "- Deep continuous bag-of-words (Deep CBOW)\n",
    "- LSTM\n",
    "- Tree-LSTM\n"
   ]
  },
  {
   "cell_type": "markdown",
   "metadata": {
    "id": "YbNKef3lymaj"
   },
   "source": [
    "## Preparing the data"
   ]
  },
  {
   "cell_type": "markdown",
   "metadata": {
    "id": "9jxTkpg59FlU"
   },
   "source": [
    "Let's first download the data set and take a look."
   ]
  },
  {
   "cell_type": "code",
   "execution_count": 1,
   "metadata": {},
   "outputs": [],
   "source": [
    "%load_ext autoreload\n",
    "%autoreload 2"
   ]
  },
  {
   "cell_type": "code",
   "execution_count": 2,
   "metadata": {
    "id": "WZp53HmMP3F2"
   },
   "outputs": [],
   "source": [
    "import re\n",
    "import random\n",
    "import time\n",
    "import math\n",
    "import numpy as np\n",
    "import nltk\n",
    "import matplotlib.pyplot as plt\n",
    "plt.style.use('default')"
   ]
  },
  {
   "cell_type": "code",
   "execution_count": 3,
   "metadata": {
    "id": "TovFkDTgE_d6"
   },
   "outputs": [],
   "source": [
    "# !wget http://nlp.stanford.edu/sentiment/trainDevTestTrees_PTB.zip\n",
    "# !unzip trainDevTestTrees_PTB.zip"
   ]
  },
  {
   "cell_type": "code",
   "execution_count": 4,
   "metadata": {
    "id": "0IpAphkBO5eW"
   },
   "outputs": [],
   "source": [
    "# this function reads in a textfile and fixes an issue with \"\\\\\"\n",
    "def filereader(path):\n",
    "    with open(path, mode=\"r\", encoding=\"utf-8\") as f:\n",
    "        for line in f:\n",
    "            yield line.strip().replace(\"\\\\\",\"\")"
   ]
  },
  {
   "cell_type": "markdown",
   "metadata": {
    "id": "yP_jpquiprH8"
   },
   "source": [
    "Let's look at a data point. It is a **flattened binary tree**, with sentiment scores at every node, and words as the leaves (or *terminal nodes*)."
   ]
  },
  {
   "cell_type": "code",
   "execution_count": 5,
   "metadata": {
    "id": "ylkIopm0QJML"
   },
   "outputs": [
    {
     "name": "stdout",
     "output_type": "stream",
     "text": [
      "(3 (2 It) (4 (4 (2 's) (4 (3 (2 a) (4 (3 lovely) (2 film))) (3 (2 with) (4 (3 (3 lovely) (2 performances)) (2 (2 by) (2 (2 (2 Buy) (2 and)) (2 Accorsi))))))) (2 .)))\n"
     ]
    }
   ],
   "source": [
    "s = next(filereader(\"trees/dev.txt\"))\n",
    "print(s)"
   ]
  },
  {
   "cell_type": "code",
   "execution_count": 6,
   "metadata": {
    "id": "7_U7HTFwdrWt"
   },
   "outputs": [
    {
     "name": "stdout",
     "output_type": "stream",
     "text": [
      "              3                                                                     \n",
      "  ____________|____________________                                                  \n",
      " |                                 4                                                \n",
      " |        _________________________|______________________________________________   \n",
      " |       4                                                                        | \n",
      " |    ___|______________                                                          |  \n",
      " |   |                  4                                                         | \n",
      " |   |         _________|__________                                               |  \n",
      " |   |        |                    3                                              | \n",
      " |   |        |               _____|______________________                        |  \n",
      " |   |        |              |                            4                       | \n",
      " |   |        |              |            ________________|_______                |  \n",
      " |   |        |              |           |                        2               | \n",
      " |   |        |              |           |                 _______|___            |  \n",
      " |   |        3              |           |                |           2           | \n",
      " |   |    ____|_____         |           |                |        ___|_____      |  \n",
      " |   |   |          4        |           3                |       2         |     | \n",
      " |   |   |     _____|___     |      _____|_______         |    ___|___      |     |  \n",
      " 2   2   2    3         2    2     3             2        2   2       2     2     2 \n",
      " |   |   |    |         |    |     |             |        |   |       |     |     |  \n",
      " It  's  a  lovely     film with lovely     performances  by Buy     and Accorsi  . \n",
      "\n"
     ]
    }
   ],
   "source": [
    "# We can use NLTK to better visualise the tree structure of the sentence\n",
    "from nltk import Tree\n",
    "from nltk.treeprettyprinter import TreePrettyPrinter\n",
    "tree = Tree.fromstring(s)\n",
    "print(TreePrettyPrinter(tree))"
   ]
  },
  {
   "cell_type": "markdown",
   "metadata": {
    "id": "ekAWKsji9t93"
   },
   "source": [
    "The sentiment scores range from 0 (very negative) to 5 (very positive). Again, as you can see, every node in the tree is labeled with a sentiment score. For now, we will only use the score at the **root node**, i.e., the sentiment score for the complete sentence."
   ]
  },
  {
   "cell_type": "code",
   "execution_count": 7,
   "metadata": {
    "id": "DKynLm0xPKr2"
   },
   "outputs": [
    {
     "name": "stdout",
     "output_type": "stream",
     "text": [
      "['It', \"'s\", 'a', 'lovely', 'film', 'with', 'lovely', 'performances', 'by', 'Buy', 'and', 'Accorsi', '.']\n",
      "13\n"
     ]
    }
   ],
   "source": [
    "# Let's first make a function that extracts the tokens (the leaves).\n",
    "\n",
    "def tokens_from_treestring(s):\n",
    "    \"\"\"extract the tokens from a sentiment tree\"\"\"\n",
    "    return re.sub(r\"\\([0-9] |\\)\", \"\", s).split()\n",
    " \n",
    "# let's try it on our example tree\n",
    "tokens = tokens_from_treestring(s)\n",
    "print(tokens)\n",
    "print(len(tokens))"
   ]
  },
  {
   "cell_type": "markdown",
   "metadata": {
    "id": "B8vFkeqN-NLP"
   },
   "source": [
    "> *Warning: you could also parse a treestring using NLTK and ask it to return the leaves, but there seems to be an issue with NLTK not always correctly parsing the input, so do not rely on it.*"
   ]
  },
  {
   "cell_type": "code",
   "execution_count": 8,
   "metadata": {
    "id": "Akr9K_Mv4dym"
   },
   "outputs": [],
   "source": [
    "# We will also need the following function, but you can ignore this for now.\n",
    "# It is explained later on.\n",
    "\n",
    "SHIFT = 0\n",
    "REDUCE = 1\n",
    "\n",
    "\n",
    "def transitions_from_treestring(s):\n",
    "    s = re.sub(\"\\([0-5] ([^)]+)\\)\", \"0\", s)\n",
    "    s = re.sub(\"\\)\", \" )\", s)\n",
    "    s = re.sub(\"\\([0-4] \", \"\", s)\n",
    "    s = re.sub(\"\\([0-4] \", \"\", s)\n",
    "    s = re.sub(\"\\)\", \"1\", s)\n",
    "    return list(map(int, s.split()))"
   ]
  },
  {
   "cell_type": "code",
   "execution_count": 9,
   "metadata": {
    "id": "mNtPdlwPgRat"
   },
   "outputs": [
    {
     "name": "stdout",
     "output_type": "stream",
     "text": [
      "trees/train.txt  8544\n",
      "trees/dev.txt    1101\n",
      "trees/test.txt   2210\n"
     ]
    }
   ],
   "source": [
    "# Now let's first see how large our data sets are.\n",
    "for path in (\"trees/train.txt\", \"trees/dev.txt\", \"trees/test.txt\"):\n",
    "    print(\"{:16s} {:4d}\".format(path, sum(1 for _ in filereader(path))))"
   ]
  },
  {
   "cell_type": "markdown",
   "metadata": {
    "id": "HexlSqTR_UrY"
   },
   "source": [
    "You can see that the number of sentences is not very large. That's probably because the data set required so much manual annotation. However, it is large enough to train a neural network on."
   ]
  },
  {
   "cell_type": "markdown",
   "metadata": {
    "id": "IfRjelOcsXuC"
   },
   "source": [
    "It will be useful to store each data example in an `Example` object,\n",
    "containing everything that we may need for each data point.\n",
    "It will contain the tokens, the tree, the top-level sentiment label, and \n",
    "the transitions (explained later)."
   ]
  },
  {
   "cell_type": "code",
   "execution_count": 10,
   "metadata": {
    "id": "4I07Hb_-q8wg"
   },
   "outputs": [
    {
     "name": "stdout",
     "output_type": "stream",
     "text": [
      "train 8544\n",
      "dev 1101\n",
      "test 2210\n"
     ]
    }
   ],
   "source": [
    "from collections import namedtuple\n",
    "from nltk import Tree\n",
    "\n",
    "# A simple way to define a class is using namedtuple.\n",
    "Example = namedtuple(\"Example\", [\"tokens\", \"tree\", \"label\", \"transitions\"])\n",
    "\n",
    "   \n",
    "def examplereader(path, lower=False):\n",
    "    \"\"\"Returns all examples in a file one by one.\"\"\"\n",
    "    for line in filereader(path):\n",
    "        line = line.lower() if lower else line\n",
    "        tokens = tokens_from_treestring(line)\n",
    "        tree = Tree.fromstring(line)  # use NLTK's Tree\n",
    "        label = int(line[1])\n",
    "        trans = transitions_from_treestring(line)\n",
    "        yield Example(tokens=tokens, tree=tree, label=label, transitions=trans)\n",
    "\n",
    "\n",
    "# Let's load the data into memory.\n",
    "LOWER = False  # we will keep the original casing\n",
    "train_data = list(examplereader(\"trees/train.txt\", lower=LOWER))\n",
    "dev_data = list(examplereader(\"trees/dev.txt\", lower=LOWER))\n",
    "test_data = list(examplereader(\"trees/test.txt\", lower=LOWER))\n",
    "\n",
    "print(\"train\", len(train_data))\n",
    "print(\"dev\", len(dev_data))\n",
    "print(\"test\", len(test_data))"
   ]
  },
  {
   "cell_type": "markdown",
   "metadata": {
    "id": "6KM0bDyeVZtP"
   },
   "source": [
    "Let's check out an `Example` object."
   ]
  },
  {
   "cell_type": "code",
   "execution_count": 11,
   "metadata": {
    "id": "J8mwcaZwxP1c"
   },
   "outputs": [
    {
     "name": "stdout",
     "output_type": "stream",
     "text": [
      "First example: Example(tokens=['It', \"'s\", 'a', 'lovely', 'film', 'with', 'lovely', 'performances', 'by', 'Buy', 'and', 'Accorsi', '.'], tree=Tree('3', [Tree('2', ['It']), Tree('4', [Tree('4', [Tree('2', [\"'s\"]), Tree('4', [Tree('3', [Tree('2', ['a']), Tree('4', [Tree('3', ['lovely']), Tree('2', ['film'])])]), Tree('3', [Tree('2', ['with']), Tree('4', [Tree('3', [Tree('3', ['lovely']), Tree('2', ['performances'])]), Tree('2', [Tree('2', ['by']), Tree('2', [Tree('2', [Tree('2', ['Buy']), Tree('2', ['and'])]), Tree('2', ['Accorsi'])])])])])])]), Tree('2', ['.'])])]), label=3, transitions=[0, 0, 0, 0, 0, 1, 1, 0, 0, 0, 1, 0, 0, 0, 1, 0, 1, 1, 1, 1, 1, 1, 0, 1, 1])\n",
      "First example tokens: ['It', \"'s\", 'a', 'lovely', 'film', 'with', 'lovely', 'performances', 'by', 'Buy', 'and', 'Accorsi', '.']\n",
      "First example label: 3\n"
     ]
    }
   ],
   "source": [
    "example = dev_data[0]\n",
    "print(\"First example:\", example)\n",
    "print(\"First example tokens:\", example.tokens)\n",
    "print(\"First example label:\",  example.label)"
   ]
  },
  {
   "cell_type": "markdown",
   "metadata": {
    "id": "-WDSprDBVcr-"
   },
   "source": [
    "#### Vocabulary \n",
    "A first step in most NLP tasks is collecting all the word types that appear in the data into a vocabulary, and counting the frequency of their occurrences. On the one hand, this will give us an overview of the word distribution of the data set (what are the most frequent words, how many rare words are there, ...). On the other hand, we will also use the vocabulary to map each word to a unique numeric ID, which is a more handy index than a string."
   ]
  },
  {
   "cell_type": "code",
   "execution_count": 12,
   "metadata": {
    "id": "VvNgKx7usRSt"
   },
   "outputs": [],
   "source": [
    "# Here we first define a class that can map a word to an ID (w2i)\n",
    "# and back (i2w).\n",
    "\n",
    "from collections import Counter, OrderedDict, defaultdict\n",
    "\n",
    "\n",
    "class OrderedCounter(Counter, OrderedDict):\n",
    "    \"\"\"Counter that remembers the order elements are first seen\"\"\"\n",
    "    def __repr__(self):\n",
    "        return '%s(%r)' % (self.__class__.__name__, OrderedDict(self))\n",
    "\n",
    "    def __reduce__(self):\n",
    "        return self.__class__, (OrderedDict(self),)\n",
    "\n",
    "\n",
    "class Vocabulary:\n",
    "    \"\"\"A vocabulary, assigns IDs to tokens\"\"\"\n",
    "\n",
    "    def __init__(self):\n",
    "        self.freqs = OrderedCounter()\n",
    "        self.w2i = {}\n",
    "        self.i2w = []\n",
    "\n",
    "    def count_token(self, t):\n",
    "        self.freqs[t] += 1\n",
    "\n",
    "    def add_token(self, t):\n",
    "        self.w2i[t] = len(self.w2i)\n",
    "        self.i2w.append(t)\n",
    "\n",
    "    def build(self, min_freq=0):\n",
    "        '''\n",
    "        min_freq: minimum number of occurrences for a word to be included  \n",
    "                  in the vocabulary\n",
    "        '''\n",
    "        self.add_token(\"<unk>\")  # reserve 0 for <unk> (unknown words)\n",
    "        self.add_token(\"<pad>\")  # reserve 1 for <pad> (discussed later)   \n",
    "\n",
    "        tok_freq = list(self.freqs.items())\n",
    "        tok_freq.sort(key=lambda x: x[1], reverse=True)\n",
    "        for tok, freq in tok_freq:\n",
    "            if freq >= min_freq:\n",
    "                self.add_token(tok)"
   ]
  },
  {
   "cell_type": "markdown",
   "metadata": {
    "id": "kOvkH_llVsoW"
   },
   "source": [
    "The vocabulary has by default an `<unk>` token and a `<pad>` token. The `<unk>` token is reserved for all words which do not appear in the training data (and for which, therefore, we cannot learn word representations). The function of the `<pad>` token will be explained later.\n",
    "\n",
    "\n",
    "Let's build the vocabulary!\n"
   ]
  },
  {
   "cell_type": "code",
   "execution_count": 13,
   "metadata": {
    "id": "GwGQgQQBNUSq"
   },
   "outputs": [
    {
     "name": "stdout",
     "output_type": "stream",
     "text": [
      "Vocabulary size: 18280\n"
     ]
    }
   ],
   "source": [
    "# This process should be deterministic and should have the same result \n",
    "# if run multiple times on the same data set.\n",
    "\n",
    "v = Vocabulary()\n",
    "for data_set in (train_data,):\n",
    "    for ex in data_set:\n",
    "        for token in ex.tokens:\n",
    "            v.count_token(token)\n",
    "\n",
    "v.build()\n",
    "print(\"Vocabulary size:\", len(v.w2i))"
   ]
  },
  {
   "cell_type": "markdown",
   "metadata": {
    "id": "-UNIedPrPdCw"
   },
   "source": [
    "Let's have a closer look at the properties of our vocabulary. Having a good idea of what it is like can facilitate data analysis and debugging later on."
   ]
  },
  {
   "cell_type": "code",
   "execution_count": 14,
   "metadata": {
    "id": "oJyuogmh0CA7"
   },
   "outputs": [],
   "source": [
    "# What is the ID for \"century?\""
   ]
  },
  {
   "cell_type": "code",
   "execution_count": 15,
   "metadata": {},
   "outputs": [
    {
     "data": {
      "text/plain": [
       "1973"
      ]
     },
     "execution_count": 15,
     "metadata": {},
     "output_type": "execute_result"
    }
   ],
   "source": [
    "v.w2i[\"century\"]"
   ]
  },
  {
   "cell_type": "code",
   "execution_count": 16,
   "metadata": {
    "id": "O8OkPQ8Zv-rI"
   },
   "outputs": [],
   "source": [
    "# What are the first 10 words in the vocabulary (based on their IDs)?"
   ]
  },
  {
   "cell_type": "code",
   "execution_count": 17,
   "metadata": {},
   "outputs": [
    {
     "data": {
      "text/plain": [
       "['<unk>', '<pad>', '.', ',', 'the', 'and', 'a', 'of', 'to', \"'s\"]"
      ]
     },
     "execution_count": 17,
     "metadata": {},
     "output_type": "execute_result"
    }
   ],
   "source": [
    "v.i2w[:10]"
   ]
  },
  {
   "cell_type": "code",
   "execution_count": 18,
   "metadata": {
    "id": "kmXwu02lOLWI"
   },
   "outputs": [],
   "source": [
    "# What are the 10 most common words?"
   ]
  },
  {
   "cell_type": "code",
   "execution_count": 19,
   "metadata": {},
   "outputs": [
    {
     "data": {
      "text/plain": [
       "[('.', 8024),\n",
       " (',', 7131),\n",
       " ('the', 6037),\n",
       " ('and', 4431),\n",
       " ('a', 4403),\n",
       " ('of', 4386),\n",
       " ('to', 2995),\n",
       " (\"'s\", 2544),\n",
       " ('is', 2536),\n",
       " ('that', 1915)]"
      ]
     },
     "execution_count": 19,
     "metadata": {},
     "output_type": "execute_result"
    }
   ],
   "source": [
    "v.freqs.most_common()[:10]"
   ]
  },
  {
   "cell_type": "code",
   "execution_count": 20,
   "metadata": {
    "id": "__NDPaCeOT_m"
   },
   "outputs": [],
   "source": [
    "# And how many words are there with frequency 1?\n",
    "# (A fancy name for these is hapax legomena.)"
   ]
  },
  {
   "cell_type": "code",
   "execution_count": 21,
   "metadata": {},
   "outputs": [
    {
     "data": {
      "text/plain": [
       "9543"
      ]
     },
     "execution_count": 21,
     "metadata": {},
     "output_type": "execute_result"
    }
   ],
   "source": [
    "len({k:v for k, v in v.freqs.items() if v == 1})"
   ]
  },
  {
   "cell_type": "code",
   "execution_count": 22,
   "metadata": {
    "id": "xKHocugctZGM"
   },
   "outputs": [],
   "source": [
    "# Finally 20 random words from the vocabulary.\n",
    "# This is a simple way to get a feeling for the data. \n",
    "# You could use the `choice` function from the already imported `random` package"
   ]
  },
  {
   "cell_type": "code",
   "execution_count": 23,
   "metadata": {},
   "outputs": [
    {
     "data": {
      "text/plain": [
       "array(['era', 'closed-door', 'blip', 'pop-cyber', 'omitted', 'horrific',\n",
       "       'Swimfan', 'scientists', 'Christelle', 'poorly'], dtype='<U27')"
      ]
     },
     "execution_count": 23,
     "metadata": {},
     "output_type": "execute_result"
    }
   ],
   "source": [
    "np.random.choice(list(v.freqs.keys()), 10)"
   ]
  },
  {
   "cell_type": "markdown",
   "metadata": {
    "id": "nGWaZahKV_dH"
   },
   "source": [
    "#### Sentiment label vocabulary"
   ]
  },
  {
   "cell_type": "code",
   "execution_count": 24,
   "metadata": {
    "id": "AmTC-rvQelpl"
   },
   "outputs": [
    {
     "name": "stdout",
     "output_type": "stream",
     "text": [
      "['very negative', 'negative', 'neutral', 'positive', 'very positive']\n",
      "very positive\n"
     ]
    }
   ],
   "source": [
    "# Now let's map the sentiment labels 0-4 to a more readable form\n",
    "i2t = [\"very negative\", \"negative\", \"neutral\", \"positive\", \"very positive\"]\n",
    "print(i2t)\n",
    "print(i2t[4])"
   ]
  },
  {
   "cell_type": "code",
   "execution_count": 25,
   "metadata": {
    "id": "D7UI26DP2dr2"
   },
   "outputs": [
    {
     "name": "stdout",
     "output_type": "stream",
     "text": [
      "OrderedDict([('very negative', 0), ('negative', 1), ('neutral', 2), ('positive', 3), ('very positive', 4)])\n",
      "4\n"
     ]
    }
   ],
   "source": [
    "# And let's also create the opposite mapping.\n",
    "# We won't use a Vocabulary for this (although we could), since the labels\n",
    "# are already numeric.\n",
    "t2i = OrderedDict({p : i for p, i in zip(i2t, range(len(i2t)))})\n",
    "print(t2i)\n",
    "print(t2i['very positive'])"
   ]
  },
  {
   "cell_type": "markdown",
   "metadata": {
    "id": "y0067ax54-rd"
   },
   "source": [
    "## PyTorch\n",
    "\n",
    "In Colab notebooks, the last available version of PyTorch is already installed.The current stable version is 1.7.\n",
    "\n",
    "*For installing PyTorch in your own computer, follow the instructions on [pytorch.org](pytorch.org) instead. This is for Google Colab only.*"
   ]
  },
  {
   "cell_type": "code",
   "execution_count": 26,
   "metadata": {
    "id": "qKQMGtkR5KWr"
   },
   "outputs": [
    {
     "name": "stdout",
     "output_type": "stream",
     "text": [
      "Using torch 1.10.0\n"
     ]
    }
   ],
   "source": [
    "import torch\n",
    "print(\"Using torch\", torch.__version__) # should say 1.7.0+cu101"
   ]
  },
  {
   "cell_type": "code",
   "execution_count": 27,
   "metadata": {
    "id": "mnvPcd_E1xH8"
   },
   "outputs": [],
   "source": [
    "# Let's also import torch.nn, a PyTorch package that  \n",
    "# makes building neural networks more convenient.\n",
    "from torch import nn"
   ]
  },
  {
   "cell_type": "code",
   "execution_count": 28,
   "metadata": {
    "id": "BYt8uTyGCKc7"
   },
   "outputs": [
    {
     "data": {
      "text/plain": [
       "device(type='cpu')"
      ]
     },
     "execution_count": 28,
     "metadata": {},
     "output_type": "execute_result"
    }
   ],
   "source": [
    "# PyTorch can run on CPU or on Nvidia GPU (video card) using CUDA\n",
    "# This cell selects the GPU if one is available.\n",
    "device = torch.device('cuda' if torch.cuda.is_available() else 'cpu')\n",
    "device"
   ]
  },
  {
   "cell_type": "code",
   "execution_count": 29,
   "metadata": {
    "id": "2d1VMOOYx1Bw"
   },
   "outputs": [],
   "source": [
    "# Seed manually to make runs reproducible\n",
    "# You need to set this again if you do multiple runs of the same model\n",
    "torch.manual_seed(42)\n",
    "\n",
    "# When running on the CuDNN backend two further options must be set for reproducibility\n",
    "if torch.cuda.is_available():\n",
    "    torch.backends.cudnn.deterministic = True\n",
    "    torch.backends.cudnn.benchmark = False"
   ]
  },
  {
   "cell_type": "markdown",
   "metadata": {},
   "source": [
    "# Dataset analysis"
   ]
  },
  {
   "cell_type": "markdown",
   "metadata": {},
   "source": [
    "Relevant/interesting questions:\n",
    "\n",
    "1. What is the label distribution? Is it balanced? Is it skewed towards a specific class?\n",
    "2. How does the distribution of validation set labels compare with that of train set?\n",
    "3. What is the distribution of words given a class? E.g. do words like `brilliant`, `magnificient` etc come often in class 4? \n",
    "    * Firstly, it shows the importance of stemming and lemmatization\n",
    "    * <Let's plot after preprocessing>\n",
    "4. Given a word, how many times does it occur in sentences for varying labels?\n",
    "5. Does the sentence length play a confounder in classification?"
   ]
  },
  {
   "cell_type": "code",
   "execution_count": 30,
   "metadata": {},
   "outputs": [],
   "source": [
    "from utils import plot_single_categorical_histogram, plot_multiple_categorical_histogram"
   ]
  },
  {
   "cell_type": "code",
   "execution_count": 36,
   "metadata": {},
   "outputs": [],
   "source": [
    "plt.rcParams.update({\n",
    "    \"text.usetex\": True,\n",
    "    \"font.family\": \"serif\",\n",
    "    \"font.serif\": [\"Computer Modern Roman\"],\n",
    "})"
   ]
  },
  {
   "cell_type": "code",
   "execution_count": 37,
   "metadata": {},
   "outputs": [
    {
     "data": {
      "image/png": "[encoded data removed]",
      "text/plain": [
       "<Figure size 600x500 with 1 Axes>"
      ]
     },
     "metadata": {},
     "output_type": "display_data"
    }
   ],
   "source": [
    "train_labels = np.array([x.label for x in train_data])\n",
    "dev_labels = np.array([x.label for x in dev_data])\n",
    "\n",
    "# plot_single_categorical_histogram(\n",
    "#     train_labels, title=\"Distribution of train set labels\",\n",
    "# )\n",
    "\n",
    "plot_multiple_categorical_histogram(\n",
    "    [train_labels, dev_labels], labels=[\"Train\", \"Dev\"], title=\"Distribution of labels\",\n",
    ")"
   ]
  },
  {
   "cell_type": "code",
   "execution_count": 38,
   "metadata": {
    "tags": []
   },
   "outputs": [
    {
     "data": {
      "image/png": "[encoded data removed]",
      "text/plain": [
       "<Figure size 1600x1000 with 4 Axes>"
      ]
     },
     "metadata": {},
     "output_type": "display_data"
    }
   ],
   "source": [
    "def filter_examples_by_label(examples, label):\n",
    "    return [e for e in examples if e.label == label]\n",
    "\n",
    "\n",
    "fig, axes = plt.subplots(2, 2, figsize=(16, 10), constrained_layout=True)\n",
    "\n",
    "for idx, label in enumerate([0, 1, 3, 4]):\n",
    "    i = idx // 2\n",
    "    j = idx % 2\n",
    "\n",
    "    labelled_examples = filter_examples_by_label(train_data, label=label)\n",
    "    tokens = []\n",
    "    for e in labelled_examples:\n",
    "        tokens.extend(e.tokens)\n",
    "    unique_tokens, token_counts = np.unique(tokens, return_counts=True)\n",
    "    token_idx = np.argsort(-token_counts)\n",
    "    unique_tokens = unique_tokens[token_idx][:20]\n",
    "    token_counts = token_counts[token_idx][:20]\n",
    "    \n",
    "    plot_single_categorical_histogram(\n",
    "        x=unique_tokens, counts=token_counts, figsize=(8, 4), ax=axes[i, j],\n",
    "        title=f\"Label: {label}\", xlabel=\"\", ylabel=\"\", \n",
    "    )\n",
    "\n",
    "plt.suptitle(\"Distribution of tokens appearing in sentences with a given label\", fontsize=15)\n",
    "plt.show()"
   ]
  },
  {
   "cell_type": "code",
   "execution_count": 39,
   "metadata": {},
   "outputs": [
    {
     "data": {
      "image/png": "[encoded data removed]",
      "text/plain": [
       "<Figure size 1600x800 with 8 Axes>"
      ]
     },
     "metadata": {},
     "output_type": "display_data"
    }
   ],
   "source": [
    "words = [\"brilliant\", \"amazing\", \"good\", \"poor\", \"terrible\", \"trash\", \"film\", \"movie\"]\n",
    "\n",
    "fig, axes = plt.subplots(2, 4, figsize=(16, 8), constrained_layout=True)\n",
    "\n",
    "for idx, word in enumerate(words):\n",
    "    i, j = idx // 4, idx % 4\n",
    "\n",
    "    labels = [e.label for e in train_data if word in e.tokens]\n",
    "    plot_single_categorical_histogram(\n",
    "        values=labels, ax=axes[i, j],\n",
    "        title=\"\", xlabel=\"\", ylabel=\"\", bar_label=f\"{word.capitalize()}\",\n",
    "    )\n",
    "\n",
    "plt.suptitle(\"Distribution (over labels) of special words\", fontsize=15)\n",
    "plt.show()"
   ]
  },
  {
   "cell_type": "code",
   "execution_count": 40,
   "metadata": {},
   "outputs": [],
   "source": [
    "train_sentence_lengths = np.array([len(e.tokens) for e in train_data])"
   ]
  },
  {
   "cell_type": "code",
   "execution_count": 41,
   "metadata": {},
   "outputs": [
    {
     "data": {
      "image/png": "[encoded data removed]",
      "text/plain": [
       "<Figure size 700x400 with 1 Axes>"
      ]
     },
     "metadata": {},
     "output_type": "display_data"
    }
   ],
   "source": [
    "fig, ax = plt.subplots(1, 1, figsize=(7, 4), constrained_layout=True)\n",
    "\n",
    "for label in [0, 1, 2, 3, 4]:\n",
    "    sent_lens = train_sentence_lengths[train_labels == label]\n",
    "    ax.hist(sent_lens, density=False, histtype=\"step\", label=f\"Label: {label} (Mean: {np.mean(sent_lens):.2f})\", bins=25)\n",
    "    \n",
    "ax.grid()\n",
    "ax.legend()\n",
    "ax.set_title(\"Distribution of sentence lengths for various labels\")\n",
    "ax.set_xlabel(\"Sentence length\")\n",
    "ax.set_ylabel(\"Frequency\")\n",
    "\n",
    "plt.show()"
   ]
  },
  {
   "cell_type": "markdown",
   "metadata": {
    "id": "uWBTzkuE3CtZ"
   },
   "source": [
    "# BOW"
   ]
  },
  {
   "cell_type": "markdown",
   "metadata": {
    "id": "TBAjYYySOA5W"
   },
   "source": [
    "Our first model is a rather simple neural **bag-of-words (BOW) model**.\n",
    "Unlike the bag-of-words model that you used in the previous lab, where we would look at the presence / frequency of words in a text, here we associate each word with a multi-dimensional vector which expresses what sentiment is conveyed by the word. In particular, our BOW vectors will be of size 5, exactly our number of sentiment classes. \n",
    "\n",
    "To classify a sentence, we **sum** the vectors of the words in the sentence and a bias vector. Because we sum the vectors, we lose word order: that's why we call this a neural bag-of-words model.\n",
    "\n",
    "```\n",
    "this   [0.0, 0.1, 0.1, 0.1, 0.0]\n",
    "movie  [0.0, 0.1, 0.1, 0.2, 0.1]\n",
    "is     [0.0, 0.1, 0.0, 0.0, 0.0]\n",
    "stupid [0.9, 0.5, 0.1, 0.0, 0.0]\n",
    "\n",
    "bias   [0.0, 0.0, 0.0, 0.0, 0.0]\n",
    "--------------------------------\n",
    "sum    [0.9, 0.8, 0.3, 0.3, 0.1]\n",
    "\n",
    "argmax: 0 (very negative)\n",
    "```\n",
    "\n",
    "The **argmax** of this sum is our predicted label.\n",
    "\n",
    "We initialize all vectors *randomly* and train them using cross-entropy loss."
   ]
  },
  {
   "cell_type": "markdown",
   "metadata": {
    "id": "rLtBAIQGynkB"
   },
   "source": [
    "#### Model class"
   ]
  },
  {
   "cell_type": "code",
   "execution_count": 42,
   "metadata": {
    "id": "QZfNklWf3tvs"
   },
   "outputs": [],
   "source": [
    "class BOW(nn.Module):\n",
    "    \"\"\"A simple bag-of-words model\"\"\"\n",
    "\n",
    "    def __init__(self, vocab_size, embedding_dim, vocab):\n",
    "        super(BOW, self).__init__()\n",
    "        self.vocab = vocab\n",
    "\n",
    "        # this is a trainable look-up table with word embeddings\n",
    "        self.embed = nn.Embedding(vocab_size, embedding_dim)\n",
    "\n",
    "        # this is a trainable bias term\n",
    "        self.bias = nn.Parameter(torch.zeros(embedding_dim), requires_grad=True)        \n",
    "\n",
    "    def forward(self, inputs):\n",
    "        # this is the forward pass of the neural network\n",
    "        # it applies a function to the input and returns the output\n",
    "\n",
    "        # this looks up the embeddings for each word ID in inputs\n",
    "        # the result is a sequence of word embeddings\n",
    "        embeds = self.embed(inputs)\n",
    "\n",
    "        # the output is the sum across the time dimension (1)\n",
    "        # with the bias term added\n",
    "        logits = embeds.sum(1) + self.bias\n",
    "\n",
    "        return logits"
   ]
  },
  {
   "cell_type": "code",
   "execution_count": 43,
   "metadata": {
    "id": "eKHvBnoBAr6z"
   },
   "outputs": [
    {
     "name": "stdout",
     "output_type": "stream",
     "text": [
      "BOW(\n",
      "  (embed): Embedding(18280, 5)\n",
      ")\n"
     ]
    }
   ],
   "source": [
    "# Let's create a model.\n",
    "vocab_size = len(v.w2i)\n",
    "n_classes = len(t2i)\n",
    "bow_model = BOW(vocab_size, n_classes, v)\n",
    "print(bow_model)"
   ]
  },
  {
   "cell_type": "markdown",
   "metadata": {
    "id": "vfCx-HvMH1qQ"
   },
   "source": [
    "> **Hey, wait, where is the bias vector?**\n",
    "> PyTorch does not print Parameters, only Modules!\n",
    "\n",
    "> We can print it ourselves though, to check that it is there."
   ]
  },
  {
   "cell_type": "code",
   "execution_count": 44,
   "metadata": {
    "id": "Fhvk5HenAroT"
   },
   "outputs": [
    {
     "name": "stdout",
     "output_type": "stream",
     "text": [
      "bias                     [5]          requires_grad=True\n",
      "embed.weight             [18280, 5]   requires_grad=True\n",
      "\n",
      "Total number of parameters: 91405\n",
      "\n"
     ]
    }
   ],
   "source": [
    "\n",
    "# Here we print each parameter name, shape, and if it is trainable.\n",
    "def print_parameters(model):\n",
    "    total = 0\n",
    "    for name, p in model.named_parameters():\n",
    "        total += np.prod(p.shape)\n",
    "        print(\"{:24s} {:12s} requires_grad={}\".format(name, str(list(p.shape)), p.requires_grad))\n",
    "    print(\"\\nTotal number of parameters: {}\\n\".format(total))\n",
    "\n",
    "\n",
    "print_parameters(bow_model)"
   ]
  },
  {
   "cell_type": "markdown",
   "metadata": {
    "id": "WSAw292WxuP4"
   },
   "source": [
    "#### Preparing an example for input\n",
    "\n",
    "To feed sentences to our PyTorch model, we need to convert a sequence of tokens to a sequence of IDs. The `prepare_example` function below takes care of this for us. We then use these IDs as indices for the word embedding table. "
   ]
  },
  {
   "cell_type": "code",
   "execution_count": 45,
   "metadata": {
    "id": "YWeGTC_OGReV"
   },
   "outputs": [],
   "source": [
    "def prepare_example(example, vocab):\n",
    "    \"\"\"\n",
    "    Map tokens to their IDs for a single example\n",
    "    \"\"\"\n",
    "\n",
    "    # vocab returns 0 if the word is not there (i2w[0] = <unk>)\n",
    "    x = [vocab.w2i.get(t, 0) for t in example.tokens]\n",
    "\n",
    "    x = torch.LongTensor([x])\n",
    "    x = x.to(device)\n",
    "\n",
    "    y = torch.LongTensor([example.label])\n",
    "    y = y.to(device)\n",
    "\n",
    "    return x, y"
   ]
  },
  {
   "cell_type": "code",
   "execution_count": 46,
   "metadata": {
    "id": "sfbdv9px3uFF"
   },
   "outputs": [
    {
     "name": "stdout",
     "output_type": "stream",
     "text": [
      "x: tensor([[  28,    9,    6,  998,   16,   18,  998,  135,   32, 7688,    5,    0,\n",
      "            2]])\n",
      "y: tensor([3])\n"
     ]
    }
   ],
   "source": [
    "x, y = prepare_example(dev_data[0], v)\n",
    "print('x:', x)\n",
    "print('y:', y)"
   ]
  },
  {
   "cell_type": "markdown",
   "metadata": {
    "id": "oKNQjEc0yXnJ"
   },
   "source": [
    "#### Evaluation\n",
    "We now need to define an evaluation metric.\n",
    "How many predictions do we get right? The accuracy will tell us.\n",
    "Make sure that you understand this code block.\n"
   ]
  },
  {
   "cell_type": "code",
   "execution_count": 47,
   "metadata": {
    "id": "yGmQLcVYKZsh"
   },
   "outputs": [],
   "source": [
    "def simple_evaluate(model, data, prep_fn=prepare_example, **kwargs):\n",
    "    \"\"\"Accuracy of a model on given data set.\"\"\"\n",
    "    correct = 0\n",
    "    total = 0\n",
    "    model.eval()  # disable dropout (explained later)\n",
    "\n",
    "    for example in data:\n",
    "\n",
    "        # convert the example input and label to PyTorch tensors\n",
    "        x, target = prep_fn(example, model.vocab)\n",
    "\n",
    "        # forward pass without backpropagation (no_grad)\n",
    "        # get the output from the neural network for input x\n",
    "        with torch.no_grad():\n",
    "            logits = model(x)\n",
    "\n",
    "        # get the prediction\n",
    "        prediction = logits.argmax(dim=-1)\n",
    "\n",
    "        # add the number of correct predictions to the total correct\n",
    "        correct += (prediction == target).sum().item()\n",
    "        total += 1\n",
    "\n",
    "    return correct, total, correct / float(total)"
   ]
  },
  {
   "cell_type": "markdown",
   "metadata": {
    "id": "5KlIGFXllWWm"
   },
   "source": [
    "We are using accuracy as a handy evaluation metric. Please consider using [alternative metrics](https://scikit-learn.org/stable/modules/classes.html#classification-metrics) for your experiments if that makes more theoretical sense (see, e.g., Q3.3 in Practical 1). "
   ]
  },
  {
   "cell_type": "markdown",
   "metadata": {
    "id": "dIk6OtSdzGRP"
   },
   "source": [
    "#### Example feed\n",
    "For stochastic gradient descent (SGD) we will need a random training example for every update.\n",
    "We implement this by shuffling the training data and returning examples one by one using `yield`.\n",
    "\n",
    "Shuffling is optional so that we get to use this function to get validation and test examples, too."
   ]
  },
  {
   "cell_type": "code",
   "execution_count": 48,
   "metadata": {
    "id": "dxDFOZLfCXvJ"
   },
   "outputs": [],
   "source": [
    "def get_examples(data, shuffle=True, **kwargs):\n",
    "    \"\"\"Shuffle data set and return 1 example at a time (until nothing left)\"\"\"\n",
    "    if shuffle:\n",
    "        print(\"Shuffling training data\")\n",
    "        random.shuffle(data)  # shuffle training data each epoch\n",
    "    for example in data:\n",
    "        yield example"
   ]
  },
  {
   "cell_type": "markdown",
   "metadata": {
    "id": "g09SM8yb2cjx"
   },
   "source": [
    "#### Exercise: Training function\n",
    "\n",
    "Your task is now to complete the training loop below.\n",
    "Before you do so, please read the section about optimisation."
   ]
  },
  {
   "cell_type": "markdown",
   "metadata": {
    "id": "TVfUukVdM_1c"
   },
   "source": [
    "**Optimisation**\n",
    "\n",
    "As mentioned in the \"Intro to PyTorch\" notebook, one of the perks of using PyTorch is automatic differentiation. We will use it to train our BOW model. \n",
    "\n",
    "We train our model by feeding it an input, performing a **forward** pass, obtaining an output prediction, and calculating a **loss** with our loss function.\n",
    "After the gradients are computed in the **backward** pass, we can take a step on the surface of the loss function towards more optimal parameter settings (gradient descent). \n",
    "\n",
    "The package we will use to do this optimisation is [torch.optim](https://pytorch.org/docs/stable/optim.html). "
   ]
  },
  {
   "cell_type": "code",
   "execution_count": 49,
   "metadata": {
    "id": "KhQigDrQ--YU"
   },
   "outputs": [],
   "source": [
    "from torch import optim"
   ]
  },
  {
   "cell_type": "markdown",
   "metadata": {
    "id": "wGIvcTZU_Cez"
   },
   "source": [
    "Besides implementations of stochastic gradient descent (SGD), this package also implements the optimisation algorithm Adam, which we'll be using in this practical. \n",
    "For the purposes of this assignment you do not need to know what Adam does besides that it uses gradient information to update our model parameters by calling: \n",
    "\n",
    "```\n",
    "optimizer.step()\n",
    "```\n",
    "Remember when we updated our parameters in the PyTorch tutorial in a loop?\n",
    "\n",
    "\n",
    "```python\n",
    "# update weights\n",
    "learning_rate = 0.5\n",
    "for f in net.parameters():\n",
    "    # for each parameter, take a small step in the opposite dir of the gradient\n",
    "    p.data = p.data - p.grad.data * learning_rate\n",
    "\n",
    "```\n",
    "The function call optimizer.step() does effectively the same thing.\n",
    "\n",
    "*(If you want to know more about optimisation algorithms using gradient information, [this blog](http://ruder.io/optimizing-gradient-descent/.) gives a nice intuitive overview.)*"
   ]
  },
  {
   "cell_type": "code",
   "execution_count": 112,
   "metadata": {
    "id": "ktFnKBux25lD"
   },
   "outputs": [],
   "source": [
    "def train_model(model, optimizer, num_iterations=10000, \n",
    "                print_every=1000, eval_every=1000,\n",
    "                batch_fn=get_examples, \n",
    "                prep_fn=prepare_example,\n",
    "                eval_fn=simple_evaluate,\n",
    "                batch_size=1, eval_batch_size=None):\n",
    "    \"\"\"Train a model.\"\"\"  \n",
    "    iter_i = 0\n",
    "    train_loss = 0.\n",
    "    print_num = 0\n",
    "    start = time.time()\n",
    "    criterion = nn.CrossEntropyLoss() # loss function\n",
    "    best_eval = 0.\n",
    "    best_iter = 0\n",
    "\n",
    "    # store train loss and validation accuracy during training\n",
    "    # so we can plot them afterwards\n",
    "    losses = []\n",
    "    accuracies = []  \n",
    "  \n",
    "    if eval_batch_size is None:\n",
    "        eval_batch_size = batch_size\n",
    "  \n",
    "    while True:  # when we run out of examples, shuffle and continue\n",
    "        for batch in batch_fn(train_data, batch_size=batch_size):\n",
    "\n",
    "            # forward pass\n",
    "            model.train()\n",
    "            x, targets = prep_fn(batch, model.vocab)\n",
    "            logits = model(x)\n",
    "\n",
    "            B = targets.size(0)  # later we will use B examples per update\n",
    "\n",
    "            # compute cross-entropy loss (our criterion)\n",
    "            # note that the cross entropy loss function computes the softmax for us\n",
    "            loss = criterion(logits.view([B, -1]), targets.view(-1))\n",
    "            train_loss += loss.item()\n",
    "\n",
    "            # backward pass (tip: check the Introduction to PyTorch notebook)\n",
    "\n",
    "            # erase previous gradients\n",
    "            optimizer.zero_grad()\n",
    "\n",
    "            # compute gradients\n",
    "            loss.backward()\n",
    "\n",
    "            # update weights - take a small step in the opposite dir of the gradient\n",
    "            optimizer.step()\n",
    "\n",
    "            print_num += 1\n",
    "            iter_i += 1\n",
    "\n",
    "            # print info\n",
    "            if iter_i % print_every == 0:\n",
    "                print(\"Iter %r: loss=%.4f, time=%.2fs\" % (iter_i, train_loss, time.time()-start))\n",
    "                losses.append(train_loss)\n",
    "                print_num = 0        \n",
    "                train_loss = 0.\n",
    "\n",
    "            # evaluate\n",
    "            if iter_i % eval_every == 0:\n",
    "                _, _, accuracy = eval_fn(model, dev_data, batch_size=eval_batch_size, batch_fn=batch_fn, prep_fn=prep_fn)\n",
    "                accuracies.append(accuracy)\n",
    "                print(\"iter %r: dev acc=%.4f\" % (iter_i, accuracy))\n",
    "\n",
    "                # save best model parameters\n",
    "                if accuracy > best_eval:\n",
    "                    print(\"new highscore\")\n",
    "                    best_eval = accuracy\n",
    "                    best_iter = iter_i\n",
    "                    path = \"{}.pt\".format(model.__class__.__name__)\n",
    "                    ckpt = {\n",
    "                        \"state_dict\": model.state_dict(),\n",
    "                        \"optimizer_state_dict\": optimizer.state_dict(),\n",
    "                        \"best_eval\": best_eval,\n",
    "                        \"best_iter\": best_iter\n",
    "                    }\n",
    "                    torch.save(ckpt, path)\n",
    "\n",
    "            # done training\n",
    "            if iter_i == num_iterations:\n",
    "                print(\"Done training\")\n",
    "\n",
    "                # evaluate on train, dev, and test with best model\n",
    "                print(\"Loading best model\")\n",
    "                path = \"{}.pt\".format(model.__class__.__name__)        \n",
    "                ckpt = torch.load(path)\n",
    "                model.load_state_dict(ckpt[\"state_dict\"])\n",
    "\n",
    "                _, _, train_acc = eval_fn(\n",
    "                    model, train_data, batch_size=eval_batch_size, \n",
    "                    batch_fn=batch_fn, prep_fn=prep_fn)\n",
    "                _, _, dev_acc = eval_fn(\n",
    "                    model, dev_data, batch_size=eval_batch_size,\n",
    "                    batch_fn=batch_fn, prep_fn=prep_fn)\n",
    "                _, _, test_acc = eval_fn(\n",
    "                    model, test_data, batch_size=eval_batch_size, \n",
    "                    batch_fn=batch_fn, prep_fn=prep_fn)\n",
    "\n",
    "                print(\"best model iter {:d}: \"\n",
    "                      \"train acc={:.4f}, dev acc={:.4f}, test acc={:.4f}\".format(\n",
    "                          best_iter, train_acc, dev_acc, test_acc))\n",
    "\n",
    "                return losses, accuracies"
   ]
  },
  {
   "cell_type": "markdown",
   "metadata": {
    "id": "XEPsLvI-3D5b"
   },
   "source": [
    "### Training the BOW model"
   ]
  },
  {
   "cell_type": "code",
   "execution_count": 100,
   "metadata": {
    "collapsed": true,
    "id": "9luJnNuN_d3q",
    "jupyter": {
     "outputs_hidden": true
    },
    "tags": []
   },
   "outputs": [
    {
     "name": "stdout",
     "output_type": "stream",
     "text": [
      "BOW(\n",
      "  (embed): Embedding(18280, 5)\n",
      ")\n",
      "Shuffling training data\n",
      "Iter 1000: loss=5227.0856, time=0.35s\n",
      "iter 1000: dev acc=0.2107\n",
      "new highscore\n",
      "Iter 2000: loss=4760.4385, time=0.68s\n",
      "iter 2000: dev acc=0.2334\n",
      "new highscore\n",
      "Iter 3000: loss=4650.1827, time=1.00s\n",
      "iter 3000: dev acc=0.2407\n",
      "new highscore\n",
      "Iter 4000: loss=4545.3785, time=1.32s\n",
      "iter 4000: dev acc=0.2452\n",
      "new highscore\n",
      "Iter 5000: loss=4524.6793, time=1.65s\n",
      "iter 5000: dev acc=0.2489\n",
      "new highscore\n",
      "Iter 6000: loss=4120.1566, time=1.97s\n",
      "iter 6000: dev acc=0.2525\n",
      "new highscore\n",
      "Iter 7000: loss=4083.4263, time=2.28s\n",
      "iter 7000: dev acc=0.2543\n",
      "new highscore\n",
      "Iter 8000: loss=4272.4615, time=2.60s\n",
      "iter 8000: dev acc=0.2507\n",
      "Shuffling training data\n",
      "Iter 9000: loss=4029.8364, time=2.91s\n",
      "iter 9000: dev acc=0.2534\n",
      "Iter 10000: loss=3957.1680, time=3.23s\n",
      "iter 10000: dev acc=0.2507\n",
      "Iter 11000: loss=3915.1031, time=3.56s\n",
      "iter 11000: dev acc=0.2498\n",
      "Iter 12000: loss=3791.6525, time=3.88s\n",
      "iter 12000: dev acc=0.2579\n",
      "new highscore\n",
      "Iter 13000: loss=3872.4659, time=4.19s\n",
      "iter 13000: dev acc=0.2616\n",
      "new highscore\n",
      "Iter 14000: loss=3811.7612, time=4.53s\n",
      "iter 14000: dev acc=0.2616\n",
      "Iter 15000: loss=3683.9077, time=4.85s\n",
      "iter 15000: dev acc=0.2570\n",
      "Iter 16000: loss=3650.1734, time=5.16s\n",
      "iter 16000: dev acc=0.2579\n",
      "Iter 17000: loss=3788.8135, time=5.47s\n",
      "iter 17000: dev acc=0.2579\n",
      "Shuffling training data\n",
      "Iter 18000: loss=3577.7210, time=5.78s\n",
      "iter 18000: dev acc=0.2579\n",
      "Iter 19000: loss=3514.4573, time=6.10s\n",
      "iter 19000: dev acc=0.2561\n",
      "Iter 20000: loss=3434.3062, time=6.44s\n",
      "iter 20000: dev acc=0.2598\n",
      "Iter 21000: loss=3343.6712, time=6.77s\n",
      "iter 21000: dev acc=0.2634\n",
      "new highscore\n",
      "Iter 22000: loss=3239.2144, time=7.22s\n",
      "iter 22000: dev acc=0.2643\n",
      "new highscore\n",
      "Iter 23000: loss=3440.3836, time=7.54s\n",
      "iter 23000: dev acc=0.2607\n",
      "Iter 24000: loss=3035.6487, time=7.94s\n",
      "iter 24000: dev acc=0.2616\n",
      "Iter 25000: loss=3494.5686, time=8.28s\n",
      "iter 25000: dev acc=0.2570\n",
      "Shuffling training data\n",
      "Iter 26000: loss=3099.8102, time=8.61s\n",
      "iter 26000: dev acc=0.2625\n",
      "Iter 27000: loss=3058.8955, time=8.95s\n",
      "iter 27000: dev acc=0.2625\n",
      "Iter 28000: loss=2919.4977, time=9.27s\n",
      "iter 28000: dev acc=0.2589\n",
      "Iter 29000: loss=3015.6165, time=9.60s\n",
      "iter 29000: dev acc=0.2616\n",
      "Iter 30000: loss=3244.4094, time=9.93s\n",
      "iter 30000: dev acc=0.2625\n",
      "Iter 31000: loss=2907.0880, time=10.25s\n",
      "iter 31000: dev acc=0.2634\n",
      "Iter 32000: loss=3006.9439, time=10.59s\n",
      "iter 32000: dev acc=0.2625\n",
      "Iter 33000: loss=2880.4458, time=10.91s\n",
      "iter 33000: dev acc=0.2661\n",
      "new highscore\n",
      "Iter 34000: loss=3013.9060, time=11.23s\n",
      "iter 34000: dev acc=0.2670\n",
      "new highscore\n",
      "Shuffling training data\n",
      "Iter 35000: loss=2812.4984, time=11.54s\n",
      "iter 35000: dev acc=0.2670\n",
      "Iter 36000: loss=2820.7819, time=11.88s\n",
      "iter 36000: dev acc=0.2661\n",
      "Iter 37000: loss=2706.7436, time=12.20s\n",
      "iter 37000: dev acc=0.2670\n",
      "Iter 38000: loss=2600.1546, time=12.50s\n",
      "iter 38000: dev acc=0.2670\n",
      "Iter 39000: loss=2646.2495, time=12.81s\n",
      "iter 39000: dev acc=0.2679\n",
      "new highscore\n",
      "Iter 40000: loss=2850.9635, time=13.12s\n",
      "iter 40000: dev acc=0.2679\n",
      "Iter 41000: loss=2706.6452, time=13.43s\n",
      "iter 41000: dev acc=0.2698\n",
      "new highscore\n",
      "Iter 42000: loss=2634.8992, time=13.74s\n",
      "iter 42000: dev acc=0.2716\n",
      "new highscore\n",
      "Shuffling training data\n",
      "Iter 43000: loss=2568.3001, time=14.05s\n",
      "iter 43000: dev acc=0.2725\n",
      "new highscore\n",
      "Iter 44000: loss=2538.4558, time=14.36s\n",
      "iter 44000: dev acc=0.2716\n",
      "Iter 45000: loss=2451.9295, time=14.67s\n",
      "iter 45000: dev acc=0.2725\n",
      "Iter 46000: loss=2501.9599, time=14.98s\n",
      "iter 46000: dev acc=0.2679\n",
      "Iter 47000: loss=2598.9253, time=15.30s\n",
      "iter 47000: dev acc=0.2707\n",
      "Iter 48000: loss=2331.7875, time=15.60s\n",
      "iter 48000: dev acc=0.2761\n",
      "new highscore\n",
      "Iter 49000: loss=2402.2552, time=15.91s\n",
      "iter 49000: dev acc=0.2761\n",
      "Iter 50000: loss=2375.6922, time=16.22s\n",
      "iter 50000: dev acc=0.2779\n",
      "new highscore\n",
      "Iter 51000: loss=2470.0821, time=16.53s\n",
      "iter 51000: dev acc=0.2752\n",
      "Shuffling training data\n",
      "Iter 52000: loss=2160.7192, time=16.84s\n",
      "iter 52000: dev acc=0.2752\n",
      "Iter 53000: loss=2186.6032, time=17.15s\n",
      "iter 53000: dev acc=0.2770\n",
      "Iter 54000: loss=2252.0754, time=17.46s\n",
      "iter 54000: dev acc=0.2752\n",
      "Iter 55000: loss=2159.4984, time=17.76s\n",
      "iter 55000: dev acc=0.2725\n",
      "Iter 56000: loss=2330.7382, time=18.07s\n",
      "iter 56000: dev acc=0.2752\n",
      "Iter 57000: loss=2278.6058, time=18.41s\n",
      "iter 57000: dev acc=0.2752\n",
      "Iter 58000: loss=2188.4293, time=18.73s\n",
      "iter 58000: dev acc=0.2725\n",
      "Iter 59000: loss=2353.6741, time=19.09s\n",
      "iter 59000: dev acc=0.2770\n",
      "Shuffling training data\n",
      "Iter 60000: loss=2164.6816, time=19.41s\n",
      "iter 60000: dev acc=0.2797\n",
      "new highscore\n",
      "Iter 61000: loss=2102.6466, time=19.72s\n",
      "iter 61000: dev acc=0.2743\n",
      "Iter 62000: loss=1950.2519, time=20.03s\n",
      "iter 62000: dev acc=0.2788\n",
      "Iter 63000: loss=2069.4566, time=20.35s\n",
      "iter 63000: dev acc=0.2797\n",
      "Iter 64000: loss=1925.9105, time=20.66s\n",
      "iter 64000: dev acc=0.2797\n",
      "Iter 65000: loss=2085.3358, time=20.97s\n",
      "iter 65000: dev acc=0.2725\n",
      "Iter 66000: loss=1870.8819, time=21.28s\n",
      "iter 66000: dev acc=0.2816\n",
      "new highscore\n",
      "Iter 67000: loss=2091.2281, time=21.60s\n",
      "iter 67000: dev acc=0.2807\n",
      "Iter 68000: loss=2133.2639, time=21.94s\n",
      "iter 68000: dev acc=0.2816\n",
      "Shuffling training data\n",
      "Iter 69000: loss=1928.9215, time=22.25s\n",
      "iter 69000: dev acc=0.2807\n",
      "Iter 70000: loss=1919.3898, time=22.57s\n",
      "iter 70000: dev acc=0.2843\n",
      "new highscore\n",
      "Iter 71000: loss=1844.2143, time=22.88s\n",
      "iter 71000: dev acc=0.2852\n",
      "new highscore\n",
      "Iter 72000: loss=1878.1731, time=23.20s\n",
      "iter 72000: dev acc=0.2852\n",
      "Iter 73000: loss=1919.4688, time=23.51s\n",
      "iter 73000: dev acc=0.2879\n",
      "new highscore\n",
      "Iter 74000: loss=1844.1052, time=23.83s\n",
      "iter 74000: dev acc=0.2861\n",
      "Iter 75000: loss=1798.0907, time=24.15s\n",
      "iter 75000: dev acc=0.2861\n",
      "Iter 76000: loss=1917.1703, time=24.46s\n",
      "iter 76000: dev acc=0.2843\n",
      "Shuffling training data\n",
      "Iter 77000: loss=1827.7308, time=24.77s\n",
      "iter 77000: dev acc=0.2906\n",
      "new highscore\n",
      "Iter 78000: loss=1711.9087, time=25.09s\n",
      "iter 78000: dev acc=0.2916\n",
      "new highscore\n",
      "Iter 79000: loss=1799.6356, time=25.40s\n",
      "iter 79000: dev acc=0.2925\n",
      "new highscore\n",
      "Iter 80000: loss=1761.1284, time=25.71s\n",
      "iter 80000: dev acc=0.2961\n",
      "new highscore\n",
      "Iter 81000: loss=1819.5612, time=26.02s\n",
      "iter 81000: dev acc=0.2979\n",
      "new highscore\n",
      "Iter 82000: loss=1643.5978, time=26.34s\n",
      "iter 82000: dev acc=0.2934\n",
      "Iter 83000: loss=1712.2722, time=26.66s\n",
      "iter 83000: dev acc=0.2961\n",
      "Iter 84000: loss=1693.3497, time=26.97s\n",
      "iter 84000: dev acc=0.2988\n",
      "new highscore\n",
      "Iter 85000: loss=1741.3801, time=27.29s\n",
      "iter 85000: dev acc=0.2970\n",
      "Shuffling training data\n",
      "Iter 86000: loss=1591.2219, time=27.60s\n",
      "iter 86000: dev acc=0.2979\n",
      "Iter 87000: loss=1527.5372, time=27.91s\n",
      "iter 87000: dev acc=0.2897\n",
      "Iter 88000: loss=1636.9840, time=28.22s\n",
      "iter 88000: dev acc=0.2934\n",
      "Iter 89000: loss=1589.9518, time=28.53s\n",
      "iter 89000: dev acc=0.2925\n",
      "Iter 90000: loss=1585.8046, time=28.84s\n",
      "iter 90000: dev acc=0.2961\n",
      "Iter 91000: loss=1536.3885, time=29.15s\n",
      "iter 91000: dev acc=0.2916\n",
      "Iter 92000: loss=1611.1945, time=29.45s\n",
      "iter 92000: dev acc=0.2934\n",
      "Iter 93000: loss=1632.1798, time=29.76s\n",
      "iter 93000: dev acc=0.2961\n",
      "Shuffling training data\n",
      "Iter 94000: loss=1522.4870, time=30.07s\n",
      "iter 94000: dev acc=0.2988\n",
      "Iter 95000: loss=1457.9839, time=30.39s\n",
      "iter 95000: dev acc=0.2943\n",
      "Iter 96000: loss=1377.6374, time=30.69s\n",
      "iter 96000: dev acc=0.2961\n",
      "Iter 97000: loss=1470.6570, time=31.00s\n",
      "iter 97000: dev acc=0.2961\n",
      "Iter 98000: loss=1466.0411, time=31.31s\n",
      "iter 98000: dev acc=0.2961\n",
      "Iter 99000: loss=1492.4914, time=31.62s\n",
      "iter 99000: dev acc=0.2952\n",
      "Iter 100000: loss=1408.0746, time=31.93s\n",
      "iter 100000: dev acc=0.2952\n",
      "Iter 101000: loss=1396.4076, time=32.24s\n",
      "iter 101000: dev acc=0.2943\n",
      "Iter 102000: loss=1618.6737, time=32.55s\n",
      "iter 102000: dev acc=0.2979\n",
      "Shuffling training data\n",
      "Iter 103000: loss=1479.5643, time=32.86s\n",
      "iter 103000: dev acc=0.2970\n",
      "Iter 104000: loss=1250.2282, time=33.17s\n",
      "iter 104000: dev acc=0.2952\n",
      "Iter 105000: loss=1466.6595, time=33.48s\n",
      "iter 105000: dev acc=0.2943\n",
      "Iter 106000: loss=1356.6889, time=33.79s\n",
      "iter 106000: dev acc=0.2952\n",
      "Iter 107000: loss=1259.2673, time=34.10s\n",
      "iter 107000: dev acc=0.2961\n",
      "Iter 108000: loss=1414.3327, time=34.40s\n",
      "iter 108000: dev acc=0.2943\n",
      "Iter 109000: loss=1437.5401, time=34.72s\n",
      "iter 109000: dev acc=0.2952\n",
      "Iter 110000: loss=1314.0069, time=35.03s\n",
      "iter 110000: dev acc=0.2934\n",
      "Iter 111000: loss=1320.7235, time=35.34s\n",
      "iter 111000: dev acc=0.2970\n",
      "Shuffling training data\n",
      "Iter 112000: loss=1316.0745, time=35.65s\n",
      "iter 112000: dev acc=0.2979\n",
      "Iter 113000: loss=1243.2972, time=35.96s\n",
      "iter 113000: dev acc=0.2988\n",
      "Iter 114000: loss=1241.1969, time=36.27s\n",
      "iter 114000: dev acc=0.2988\n",
      "Iter 115000: loss=1280.8126, time=36.58s\n",
      "iter 115000: dev acc=0.3006\n",
      "new highscore\n",
      "Iter 116000: loss=1280.8353, time=36.88s\n",
      "iter 116000: dev acc=0.2979\n",
      "Iter 117000: loss=1158.0351, time=37.20s\n",
      "iter 117000: dev acc=0.2997\n",
      "Iter 118000: loss=1331.5219, time=37.51s\n",
      "iter 118000: dev acc=0.2952\n",
      "Iter 119000: loss=1206.3106, time=37.81s\n",
      "iter 119000: dev acc=0.2988\n",
      "Shuffling training data\n",
      "Iter 120000: loss=1227.7950, time=38.13s\n",
      "iter 120000: dev acc=0.2988\n",
      "Iter 121000: loss=1178.5526, time=38.43s\n",
      "iter 121000: dev acc=0.2952\n",
      "Iter 122000: loss=1137.2889, time=38.74s\n",
      "iter 122000: dev acc=0.2925\n",
      "Iter 123000: loss=1208.0699, time=39.05s\n",
      "iter 123000: dev acc=0.2925\n",
      "Iter 124000: loss=1155.8882, time=39.36s\n",
      "iter 124000: dev acc=0.2943\n",
      "Iter 125000: loss=1219.9869, time=39.68s\n",
      "iter 125000: dev acc=0.2970\n",
      "Iter 126000: loss=1154.8748, time=40.02s\n",
      "iter 126000: dev acc=0.2979\n",
      "Iter 127000: loss=1156.6490, time=40.34s\n",
      "iter 127000: dev acc=0.3006\n",
      "Iter 128000: loss=1160.3574, time=40.65s\n",
      "iter 128000: dev acc=0.2997\n",
      "Shuffling training data\n",
      "Iter 129000: loss=1076.0529, time=40.97s\n",
      "iter 129000: dev acc=0.3015\n",
      "new highscore\n",
      "Iter 130000: loss=1100.5274, time=41.28s\n",
      "iter 130000: dev acc=0.2988\n",
      "Iter 131000: loss=1022.1234, time=41.59s\n",
      "iter 131000: dev acc=0.2934\n",
      "Iter 132000: loss=1066.3638, time=41.91s\n",
      "iter 132000: dev acc=0.2979\n",
      "Iter 133000: loss=1109.7463, time=42.22s\n",
      "iter 133000: dev acc=0.3052\n",
      "new highscore\n",
      "Iter 134000: loss=1094.0199, time=42.53s\n",
      "iter 134000: dev acc=0.2952\n",
      "Iter 135000: loss=1116.7679, time=42.84s\n",
      "iter 135000: dev acc=0.2979\n",
      "Iter 136000: loss=1103.1589, time=43.16s\n",
      "iter 136000: dev acc=0.3034\n",
      "Shuffling training data\n",
      "Iter 137000: loss=1082.5746, time=43.48s\n",
      "iter 137000: dev acc=0.2970\n",
      "Iter 138000: loss=1058.5412, time=43.79s\n",
      "iter 138000: dev acc=0.2988\n",
      "Iter 139000: loss=1051.0293, time=44.10s\n",
      "iter 139000: dev acc=0.3006\n",
      "Iter 140000: loss=941.3698, time=44.41s\n",
      "iter 140000: dev acc=0.2970\n",
      "Iter 141000: loss=1029.1555, time=44.72s\n",
      "iter 141000: dev acc=0.2997\n",
      "Iter 142000: loss=1036.2083, time=45.03s\n",
      "iter 142000: dev acc=0.2961\n",
      "Iter 143000: loss=1028.8245, time=45.34s\n",
      "iter 143000: dev acc=0.2970\n",
      "Iter 144000: loss=1046.5182, time=45.65s\n",
      "iter 144000: dev acc=0.3006\n",
      "Iter 145000: loss=989.8540, time=45.96s\n",
      "iter 145000: dev acc=0.2979\n",
      "Shuffling training data\n",
      "Iter 146000: loss=864.4224, time=46.27s\n",
      "iter 146000: dev acc=0.3015\n",
      "Iter 147000: loss=944.5646, time=46.58s\n",
      "iter 147000: dev acc=0.3034\n",
      "Iter 148000: loss=972.6370, time=47.01s\n",
      "iter 148000: dev acc=0.3006\n",
      "Iter 149000: loss=989.9304, time=47.32s\n",
      "iter 149000: dev acc=0.2979\n",
      "Iter 150000: loss=979.2932, time=47.63s\n",
      "iter 150000: dev acc=0.2997\n",
      "Iter 151000: loss=961.9093, time=47.94s\n",
      "iter 151000: dev acc=0.3006\n",
      "Iter 152000: loss=917.7850, time=48.25s\n",
      "iter 152000: dev acc=0.3034\n",
      "Iter 153000: loss=924.9392, time=48.56s\n",
      "iter 153000: dev acc=0.2997\n",
      "Shuffling training data\n",
      "Iter 154000: loss=916.3016, time=48.87s\n",
      "iter 154000: dev acc=0.2997\n",
      "Iter 155000: loss=859.8632, time=49.18s\n",
      "iter 155000: dev acc=0.3015\n",
      "Iter 156000: loss=880.1065, time=49.48s\n",
      "iter 156000: dev acc=0.2979\n",
      "Iter 157000: loss=892.4236, time=49.80s\n",
      "iter 157000: dev acc=0.3015\n",
      "Iter 158000: loss=876.4757, time=50.10s\n",
      "iter 158000: dev acc=0.3025\n",
      "Iter 159000: loss=894.7095, time=50.41s\n",
      "iter 159000: dev acc=0.3025\n",
      "Iter 160000: loss=872.8430, time=50.72s\n",
      "iter 160000: dev acc=0.3006\n",
      "Iter 161000: loss=853.8716, time=51.03s\n",
      "iter 161000: dev acc=0.3052\n",
      "Iter 162000: loss=959.1620, time=51.33s\n",
      "iter 162000: dev acc=0.3061\n",
      "new highscore\n",
      "Shuffling training data\n",
      "Iter 163000: loss=800.5904, time=51.65s\n",
      "iter 163000: dev acc=0.3034\n",
      "Iter 164000: loss=848.8858, time=51.98s\n",
      "iter 164000: dev acc=0.3043\n",
      "Iter 165000: loss=852.4650, time=52.34s\n",
      "iter 165000: dev acc=0.3052\n",
      "Iter 166000: loss=819.5576, time=52.65s\n",
      "iter 166000: dev acc=0.3088\n",
      "new highscore\n",
      "Iter 167000: loss=821.8948, time=52.96s\n",
      "iter 167000: dev acc=0.3079\n",
      "Iter 168000: loss=815.2727, time=53.28s\n",
      "iter 168000: dev acc=0.3025\n",
      "Iter 169000: loss=869.6659, time=53.59s\n",
      "iter 169000: dev acc=0.3079\n",
      "Iter 170000: loss=835.7714, time=53.90s\n",
      "iter 170000: dev acc=0.3124\n",
      "new highscore\n",
      "Shuffling training data\n",
      "Iter 171000: loss=829.8547, time=54.22s\n",
      "iter 171000: dev acc=0.3061\n",
      "Iter 172000: loss=797.1540, time=54.56s\n",
      "iter 172000: dev acc=0.3061\n",
      "Iter 173000: loss=802.9122, time=54.87s\n",
      "iter 173000: dev acc=0.3061\n",
      "Iter 174000: loss=772.3185, time=55.28s\n",
      "iter 174000: dev acc=0.3088\n",
      "Iter 175000: loss=767.7752, time=55.61s\n",
      "iter 175000: dev acc=0.3097\n",
      "Iter 176000: loss=783.8608, time=55.94s\n",
      "iter 176000: dev acc=0.3115\n",
      "Iter 177000: loss=726.2522, time=56.26s\n",
      "iter 177000: dev acc=0.3097\n",
      "Iter 178000: loss=722.4910, time=56.59s\n",
      "iter 178000: dev acc=0.3079\n",
      "Iter 179000: loss=797.2206, time=56.92s\n",
      "iter 179000: dev acc=0.3079\n",
      "Shuffling training data\n",
      "Iter 180000: loss=757.7306, time=57.26s\n",
      "iter 180000: dev acc=0.3061\n",
      "Iter 181000: loss=724.2950, time=57.58s\n",
      "iter 181000: dev acc=0.3061\n",
      "Iter 182000: loss=749.6820, time=57.91s\n",
      "iter 182000: dev acc=0.3079\n",
      "Iter 183000: loss=761.0704, time=58.24s\n",
      "iter 183000: dev acc=0.3079\n",
      "Iter 184000: loss=688.5048, time=58.56s\n",
      "iter 184000: dev acc=0.3052\n",
      "Iter 185000: loss=761.1070, time=58.87s\n",
      "iter 185000: dev acc=0.3061\n",
      "Iter 186000: loss=735.9019, time=59.18s\n",
      "iter 186000: dev acc=0.3088\n",
      "Iter 187000: loss=666.8766, time=59.49s\n",
      "iter 187000: dev acc=0.3097\n",
      "Shuffling training data\n",
      "Iter 188000: loss=794.9361, time=59.80s\n",
      "iter 188000: dev acc=0.3088\n",
      "Iter 189000: loss=662.9869, time=60.11s\n",
      "iter 189000: dev acc=0.3061\n",
      "Iter 190000: loss=628.8560, time=60.42s\n",
      "iter 190000: dev acc=0.3152\n",
      "new highscore\n",
      "Iter 191000: loss=724.5273, time=60.73s\n",
      "iter 191000: dev acc=0.3124\n",
      "Iter 192000: loss=708.1911, time=61.04s\n",
      "iter 192000: dev acc=0.3079\n",
      "Iter 193000: loss=681.7848, time=61.37s\n",
      "iter 193000: dev acc=0.3061\n",
      "Iter 194000: loss=660.8685, time=61.69s\n",
      "iter 194000: dev acc=0.3070\n",
      "Iter 195000: loss=696.7356, time=62.00s\n",
      "iter 195000: dev acc=0.3043\n",
      "Iter 196000: loss=715.3452, time=62.31s\n",
      "iter 196000: dev acc=0.3115\n",
      "Shuffling training data\n",
      "Iter 197000: loss=631.3559, time=62.63s\n",
      "iter 197000: dev acc=0.3088\n",
      "Iter 198000: loss=659.2516, time=62.94s\n",
      "iter 198000: dev acc=0.3097\n",
      "Iter 199000: loss=644.0389, time=63.25s\n",
      "iter 199000: dev acc=0.3097\n",
      "Iter 200000: loss=612.5081, time=63.56s\n",
      "iter 200000: dev acc=0.3097\n",
      "Iter 201000: loss=631.4784, time=63.87s\n",
      "iter 201000: dev acc=0.3061\n",
      "Iter 202000: loss=653.9085, time=64.18s\n",
      "iter 202000: dev acc=0.3079\n",
      "Iter 203000: loss=691.4078, time=64.49s\n",
      "iter 203000: dev acc=0.3097\n",
      "Iter 204000: loss=600.0943, time=64.81s\n",
      "iter 204000: dev acc=0.3070\n",
      "Iter 205000: loss=699.0249, time=65.13s\n",
      "iter 205000: dev acc=0.3106\n",
      "Shuffling training data\n",
      "Iter 206000: loss=556.6250, time=65.44s\n",
      "iter 206000: dev acc=0.3079\n",
      "Iter 207000: loss=541.3396, time=65.76s\n",
      "iter 207000: dev acc=0.3061\n",
      "Iter 208000: loss=671.7800, time=66.09s\n",
      "iter 208000: dev acc=0.3043\n",
      "Iter 209000: loss=658.8697, time=66.44s\n",
      "iter 209000: dev acc=0.3115\n",
      "Iter 210000: loss=635.1409, time=66.77s\n",
      "iter 210000: dev acc=0.3061\n",
      "Iter 211000: loss=577.9997, time=67.10s\n",
      "iter 211000: dev acc=0.3079\n",
      "Iter 212000: loss=641.5775, time=67.43s\n",
      "iter 212000: dev acc=0.3079\n",
      "Iter 213000: loss=608.9611, time=67.76s\n",
      "iter 213000: dev acc=0.3052\n",
      "Shuffling training data\n",
      "Iter 214000: loss=545.3238, time=68.09s\n",
      "iter 214000: dev acc=0.3043\n",
      "Iter 215000: loss=564.4703, time=68.42s\n",
      "iter 215000: dev acc=0.3061\n",
      "Iter 216000: loss=526.7514, time=68.74s\n",
      "iter 216000: dev acc=0.3061\n",
      "Iter 217000: loss=532.9815, time=69.07s\n",
      "iter 217000: dev acc=0.3079\n",
      "Iter 218000: loss=577.7570, time=69.40s\n",
      "iter 218000: dev acc=0.3061\n",
      "Iter 219000: loss=602.1655, time=69.70s\n",
      "iter 219000: dev acc=0.3088\n",
      "Iter 220000: loss=592.3397, time=70.01s\n",
      "iter 220000: dev acc=0.3088\n",
      "Iter 221000: loss=575.7388, time=70.32s\n",
      "iter 221000: dev acc=0.3070\n",
      "Iter 222000: loss=625.6047, time=70.63s\n",
      "iter 222000: dev acc=0.3097\n",
      "Shuffling training data\n",
      "Iter 223000: loss=535.1222, time=70.94s\n",
      "iter 223000: dev acc=0.3097\n",
      "Iter 224000: loss=527.9246, time=71.31s\n",
      "iter 224000: dev acc=0.3070\n",
      "Iter 225000: loss=515.1709, time=71.62s\n",
      "iter 225000: dev acc=0.3115\n",
      "Iter 226000: loss=496.4455, time=71.93s\n",
      "iter 226000: dev acc=0.3115\n",
      "Iter 227000: loss=585.3503, time=72.23s\n",
      "iter 227000: dev acc=0.3152\n",
      "Iter 228000: loss=572.6477, time=72.54s\n",
      "iter 228000: dev acc=0.3097\n",
      "Iter 229000: loss=519.7988, time=72.85s\n",
      "iter 229000: dev acc=0.3134\n",
      "Iter 230000: loss=535.4799, time=73.16s\n",
      "iter 230000: dev acc=0.3088\n",
      "Shuffling training data\n",
      "Iter 231000: loss=573.0775, time=73.47s\n",
      "iter 231000: dev acc=0.3097\n",
      "Iter 232000: loss=436.6384, time=73.80s\n",
      "iter 232000: dev acc=0.3106\n",
      "Iter 233000: loss=545.1659, time=74.11s\n",
      "iter 233000: dev acc=0.3061\n",
      "Iter 234000: loss=469.3195, time=74.42s\n",
      "iter 234000: dev acc=0.3070\n",
      "Iter 235000: loss=562.4156, time=74.73s\n",
      "iter 235000: dev acc=0.3115\n",
      "Iter 236000: loss=459.2470, time=75.03s\n",
      "iter 236000: dev acc=0.3143\n",
      "Iter 237000: loss=475.6777, time=75.34s\n",
      "iter 237000: dev acc=0.3124\n",
      "Iter 238000: loss=513.4789, time=75.65s\n",
      "iter 238000: dev acc=0.3088\n",
      "Iter 239000: loss=591.2550, time=75.96s\n",
      "iter 239000: dev acc=0.3161\n",
      "new highscore\n",
      "Shuffling training data\n",
      "Iter 240000: loss=482.4037, time=76.30s\n",
      "iter 240000: dev acc=0.3152\n",
      "Iter 241000: loss=438.7468, time=76.63s\n",
      "iter 241000: dev acc=0.3161\n",
      "Iter 242000: loss=502.8195, time=76.97s\n",
      "iter 242000: dev acc=0.3152\n",
      "Iter 243000: loss=562.3390, time=77.28s\n",
      "iter 243000: dev acc=0.3134\n",
      "Iter 244000: loss=474.5417, time=77.62s\n",
      "iter 244000: dev acc=0.3134\n",
      "Iter 245000: loss=477.2572, time=77.94s\n",
      "iter 245000: dev acc=0.3152\n",
      "Iter 246000: loss=499.2784, time=78.25s\n",
      "iter 246000: dev acc=0.3161\n",
      "Iter 247000: loss=457.7954, time=78.56s\n",
      "iter 247000: dev acc=0.3115\n",
      "Shuffling training data\n",
      "Iter 248000: loss=467.3855, time=78.88s\n",
      "iter 248000: dev acc=0.3079\n",
      "Iter 249000: loss=428.1699, time=79.19s\n",
      "iter 249000: dev acc=0.3161\n",
      "Iter 250000: loss=479.2561, time=79.50s\n",
      "iter 250000: dev acc=0.3097\n",
      "Done training\n",
      "Loading best model\n",
      "best model iter 239000: train acc=0.8326, dev acc=0.3161, test acc=0.3267\n"
     ]
    }
   ],
   "source": [
    "# If everything is in place we can now train our first model!\n",
    "bow_model = BOW(len(v.w2i), len(t2i), vocab=v)\n",
    "print(bow_model)\n",
    "\n",
    "bow_model = bow_model.to(device)\n",
    "\n",
    "optimizer = optim.Adam(bow_model.parameters(), lr=0.0005)\n",
    "bow_losses, bow_accuracies = train_model(\n",
    "    bow_model, optimizer, num_iterations=250000, \n",
    "    print_every=1000, eval_every=1000)"
   ]
  },
  {
   "cell_type": "code",
   "execution_count": 101,
   "metadata": {
    "id": "dvYLj8LIAzfS"
   },
   "outputs": [
    {
     "data": {
      "image/png": "[encoded data removed]",
      "text/plain": [
       "<Figure size 640x480 with 1 Axes>"
      ]
     },
     "metadata": {},
     "output_type": "display_data"
    }
   ],
   "source": [
    "# This will plot the validation accuracies across time.\n",
    "\n",
    "plt.plot(bow_accuracies)\n",
    "\n",
    "plt.grid()\n",
    "plt.title(\"BOW Model Dev Accuracy\")\n",
    "plt.xlabel(\"Iterations\")\n",
    "plt.ylabel(\"Accuracy\")\n",
    "plt.show()"
   ]
  },
  {
   "cell_type": "code",
   "execution_count": 102,
   "metadata": {
    "id": "vUHm9JfSI4po"
   },
   "outputs": [
    {
     "data": {
      "image/png": "[encoded data removed]",
      "text/plain": [
       "<Figure size 640x480 with 1 Axes>"
      ]
     },
     "metadata": {},
     "output_type": "display_data"
    }
   ],
   "source": [
    "# This will plot the training loss over time.\n",
    "plt.plot(bow_losses)\n",
    "\n",
    "plt.grid()\n",
    "plt.title(\"BOW Model Dev Loss\")\n",
    "plt.xlabel(\"Iterations\")\n",
    "plt.ylabel(\"Loss\")\n",
    "plt.show()"
   ]
  },
  {
   "cell_type": "markdown",
   "metadata": {
    "id": "Psxh-Le1BMDQ"
   },
   "source": [
    "Please note that we set the number of iterations to 30K as an indicative value, after which we simply stop training without checking for convergence. You should choose an appropriate number of iterations and motivate your decision. **This holds for all pre-set numbers of iteration in the following code blocks.**"
   ]
  },
  {
   "cell_type": "markdown",
   "metadata": {
    "id": "E9mB1_XhMPNN"
   },
   "source": [
    "# CBOW"
   ]
  },
  {
   "cell_type": "markdown",
   "metadata": {
    "id": "pWk78FvNMw4o"
   },
   "source": [
    "We now continue with a **continuous bag-of-words (CBOW)** model. (*This is not the same as the word2vec CBOW model!*)\n",
    "\n",
    "It is similar to the BOW model above, but now embeddings can have a dimension of *arbitrary size*. \n",
    "This means that we can choose a higher dimensionality and learn more aspects of each word. We will still sum word vectors to get a sentence representation, but now the size of the resulting vector will no longer correspond to the number of sentiment classes. \n",
    "\n",
    "So to turn the size of our summed vector into the number of output classes, we can *learn* a parameter matrix $W$ and multiply it by the sum vector $x$: $$Wx$$\n",
    "If the size of $x$ is `d x 1`, we can set $W$ to be `5 x d`, so that the output of the matrix multiplication will be the of the desired size, `5 x 1`. Then, just like for the BOW model, we can obtain a prediction using the argmax function."
   ]
  },
  {
   "cell_type": "markdown",
   "metadata": {
    "id": "gIjrCPfCwsXI"
   },
   "source": [
    "## Exercise: implement and train the CBOW model\n",
    "\n",
    "Write a class `CBOW` that:\n",
    "\n",
    "- has word embeddings with size 300\n",
    "- sums the word vectors for the input words (just like in `BOW`)\n",
    "- projects the resulting vector down to 5 units using a linear layer and a bias term (check out `nn.Linear`)\n",
    "\n",
    "Train your CBOW model and plot the validation accuracy and training loss over time."
   ]
  },
  {
   "cell_type": "code",
   "execution_count": 51,
   "metadata": {
    "id": "QZfNklWf3tvs"
   },
   "outputs": [],
   "source": [
    "class CBOW(nn.Module):\n",
    "    \"\"\"A continuous bag-of-words model\"\"\"\n",
    "\n",
    "    def __init__(self, vocab_size, embedding_dim, vocab, num_classes=5):\n",
    "        super(CBOW, self).__init__()\n",
    "        self.vocab = vocab\n",
    "\n",
    "        # this is a trainable look-up table with word embeddings\n",
    "        self.embed = nn.Embedding(vocab_size, embedding_dim)\n",
    "        self.projector = nn.Linear(embedding_dim, num_classes, bias=True)\n",
    "        \n",
    "        # define a training weight matrix (project from embedding space to output space)\n",
    "        # self.W = nn.Parameter(torch.randn((num_classes, embedding_dim)), requires_grad=True)\n",
    "\n",
    "        # this is a trainable bias term\n",
    "        self.bias = nn.Parameter(torch.zeros(embedding_dim), requires_grad=True)        \n",
    "\n",
    "    def forward(self, inputs):\n",
    "        # this is the forward pass of the neural network\n",
    "        # it applies a function to the input and returns the output\n",
    "\n",
    "        # this looks up the embeddings for each word ID in inputs\n",
    "        # the result is a sequence of word embeddings\n",
    "        embeds = self.embed(inputs)\n",
    "        embeds = embeds.sum(1)\n",
    "\n",
    "        # embeds = torch.matmul(self.W, embeds)\n",
    "\n",
    "        # the output is the sum across the time dimension (1)\n",
    "        # with the bias term added\n",
    "        # logits = embeds.sum(1) + self.bias\n",
    "        logits = self.projector(embeds)\n",
    "\n",
    "        return logits"
   ]
  },
  {
   "cell_type": "code",
   "execution_count": 52,
   "metadata": {
    "id": "eKHvBnoBAr6z"
   },
   "outputs": [
    {
     "name": "stdout",
     "output_type": "stream",
     "text": [
      "CBOW(\n",
      "  (embed): Embedding(18280, 300)\n",
      "  (projector): Linear(in_features=300, out_features=5, bias=True)\n",
      ")\n",
      "torch.Size([3, 5])\n"
     ]
    }
   ],
   "source": [
    "# Let's create a model.\n",
    "vocab_size = len(v.w2i)\n",
    "n_classes = len(t2i)\n",
    "cbow_model = CBOW(vocab_size, 300, v, n_classes)\n",
    "print(cbow_model)\n",
    "\n",
    "x = torch.tensor([[1, 3, 5], [3, 6, 1], [4, 6, 1]])\n",
    "y = cbow_model(x)\n",
    "print(y.shape)"
   ]
  },
  {
   "cell_type": "code",
   "execution_count": 75,
   "metadata": {
    "collapsed": true,
    "id": "PEV22aR2MP0Q",
    "jupyter": {
     "outputs_hidden": true
    },
    "tags": []
   },
   "outputs": [
    {
     "name": "stdout",
     "output_type": "stream",
     "text": [
      "CBOW(\n",
      "  (embed): Embedding(18280, 300)\n",
      "  (projector): Linear(in_features=300, out_features=5, bias=True)\n",
      ")\n",
      "Shuffling training data\n",
      "Iter 1000: loss=2962.8568, time=11.69s\n",
      "iter 1000: dev acc=0.2325\n",
      "new highscore\n",
      "Iter 2000: loss=2517.7893, time=23.30s\n",
      "iter 2000: dev acc=0.2252\n",
      "Iter 3000: loss=2340.7963, time=34.83s\n",
      "iter 3000: dev acc=0.2561\n",
      "new highscore\n",
      "Iter 4000: loss=2187.4082, time=46.91s\n",
      "iter 4000: dev acc=0.2534\n",
      "Iter 5000: loss=2063.3905, time=58.48s\n",
      "iter 5000: dev acc=0.2443\n",
      "Iter 6000: loss=1983.3007, time=70.40s\n",
      "iter 6000: dev acc=0.2570\n",
      "new highscore\n",
      "Iter 7000: loss=1937.5728, time=82.27s\n",
      "iter 7000: dev acc=0.2661\n",
      "new highscore\n",
      "Iter 8000: loss=1893.7247, time=93.90s\n",
      "iter 8000: dev acc=0.2589\n",
      "Shuffling training data\n",
      "Iter 9000: loss=1747.9402, time=105.45s\n",
      "iter 9000: dev acc=0.2507\n",
      "Iter 10000: loss=1695.3539, time=117.06s\n",
      "iter 10000: dev acc=0.2743\n",
      "new highscore\n",
      "Iter 11000: loss=1636.0854, time=128.68s\n",
      "iter 11000: dev acc=0.2634\n",
      "Iter 12000: loss=1551.4759, time=140.22s\n",
      "iter 12000: dev acc=0.2679\n",
      "Iter 13000: loss=1609.9633, time=151.77s\n",
      "iter 13000: dev acc=0.2607\n",
      "Iter 14000: loss=1527.4511, time=163.34s\n",
      "iter 14000: dev acc=0.2797\n",
      "new highscore\n",
      "Iter 15000: loss=1624.3182, time=174.87s\n",
      "iter 15000: dev acc=0.2779\n",
      "Iter 16000: loss=1605.2829, time=186.46s\n",
      "iter 16000: dev acc=0.2579\n",
      "Iter 17000: loss=1585.9229, time=198.06s\n",
      "iter 17000: dev acc=0.2716\n",
      "Shuffling training data\n",
      "Iter 18000: loss=1414.1988, time=209.62s\n",
      "iter 18000: dev acc=0.2816\n",
      "new highscore\n",
      "Iter 19000: loss=1464.6039, time=221.21s\n",
      "iter 19000: dev acc=0.2797\n",
      "Iter 20000: loss=1424.1981, time=232.76s\n",
      "iter 20000: dev acc=0.2734\n",
      "Iter 21000: loss=1474.5398, time=244.29s\n",
      "iter 21000: dev acc=0.2834\n",
      "new highscore\n",
      "Iter 22000: loss=1457.8551, time=255.97s\n",
      "iter 22000: dev acc=0.2843\n",
      "new highscore\n",
      "Iter 23000: loss=1432.6716, time=267.62s\n",
      "iter 23000: dev acc=0.2852\n",
      "new highscore\n",
      "Iter 24000: loss=1445.1370, time=279.27s\n",
      "iter 24000: dev acc=0.2897\n",
      "new highscore\n",
      "Iter 25000: loss=1453.7700, time=290.90s\n",
      "iter 25000: dev acc=0.3079\n",
      "new highscore\n",
      "Shuffling training data\n",
      "Iter 26000: loss=1390.3721, time=302.47s\n",
      "iter 26000: dev acc=0.3006\n",
      "Iter 27000: loss=1348.1094, time=314.09s\n",
      "iter 27000: dev acc=0.3106\n",
      "new highscore\n",
      "Iter 28000: loss=1335.6614, time=325.73s\n",
      "iter 28000: dev acc=0.2925\n",
      "Iter 29000: loss=1341.1751, time=337.37s\n",
      "iter 29000: dev acc=0.3025\n",
      "Iter 30000: loss=1373.7994, time=348.91s\n",
      "iter 30000: dev acc=0.3097\n",
      "Iter 31000: loss=1326.9315, time=360.41s\n",
      "iter 31000: dev acc=0.3015\n",
      "Iter 32000: loss=1378.7346, time=372.01s\n",
      "iter 32000: dev acc=0.3115\n",
      "new highscore\n",
      "Iter 33000: loss=1405.9982, time=383.59s\n",
      "iter 33000: dev acc=0.2961\n",
      "Iter 34000: loss=1365.7475, time=395.11s\n",
      "iter 34000: dev acc=0.2934\n",
      "Shuffling training data\n",
      "Iter 35000: loss=1244.3720, time=406.68s\n",
      "iter 35000: dev acc=0.2970\n",
      "Iter 36000: loss=1256.0098, time=418.28s\n",
      "iter 36000: dev acc=0.3106\n",
      "Iter 37000: loss=1286.5807, time=429.98s\n",
      "iter 37000: dev acc=0.3088\n",
      "Iter 38000: loss=1268.0461, time=441.56s\n",
      "iter 38000: dev acc=0.3070\n",
      "Iter 39000: loss=1320.4863, time=453.14s\n",
      "iter 39000: dev acc=0.3143\n",
      "new highscore\n",
      "Iter 40000: loss=1279.3777, time=464.75s\n",
      "iter 40000: dev acc=0.3070\n",
      "Iter 41000: loss=1299.3332, time=476.38s\n",
      "iter 41000: dev acc=0.3134\n",
      "Iter 42000: loss=1270.7356, time=487.96s\n",
      "iter 42000: dev acc=0.3115\n",
      "Shuffling training data\n",
      "Iter 43000: loss=1238.8651, time=499.56s\n",
      "iter 43000: dev acc=0.3097\n",
      "Iter 44000: loss=1155.7350, time=511.20s\n",
      "iter 44000: dev acc=0.3043\n",
      "Iter 45000: loss=1202.2310, time=522.78s\n",
      "iter 45000: dev acc=0.3025\n",
      "Iter 46000: loss=1212.3354, time=534.33s\n",
      "iter 46000: dev acc=0.3115\n",
      "Iter 47000: loss=1203.7693, time=545.90s\n",
      "iter 47000: dev acc=0.3052\n",
      "Iter 48000: loss=1231.5062, time=557.60s\n",
      "iter 48000: dev acc=0.3115\n",
      "Iter 49000: loss=1201.4824, time=569.23s\n",
      "iter 49000: dev acc=0.3124\n",
      "Iter 50000: loss=1176.3293, time=580.81s\n",
      "iter 50000: dev acc=0.3206\n",
      "new highscore\n",
      "Iter 51000: loss=1176.3223, time=592.54s\n",
      "iter 51000: dev acc=0.3179\n",
      "Shuffling training data\n",
      "Iter 52000: loss=1089.2849, time=604.21s\n",
      "iter 52000: dev acc=0.3124\n",
      "Iter 53000: loss=1123.0211, time=615.78s\n",
      "iter 53000: dev acc=0.3270\n",
      "new highscore\n",
      "Iter 54000: loss=1070.8776, time=627.60s\n",
      "iter 54000: dev acc=0.3170\n",
      "Iter 55000: loss=1128.9810, time=639.11s\n",
      "iter 55000: dev acc=0.3134\n",
      "Iter 56000: loss=1121.2453, time=650.66s\n",
      "iter 56000: dev acc=0.3270\n",
      "Iter 57000: loss=1151.6914, time=662.15s\n",
      "iter 57000: dev acc=0.3324\n",
      "new highscore\n",
      "Iter 58000: loss=1108.9375, time=973.22s\n",
      "iter 58000: dev acc=0.3161\n",
      "Iter 59000: loss=1169.1548, time=984.86s\n",
      "iter 59000: dev acc=0.3124\n",
      "Shuffling training data\n",
      "Iter 60000: loss=1113.4754, time=996.52s\n",
      "iter 60000: dev acc=0.3170\n",
      "Iter 61000: loss=999.2310, time=1007.95s\n",
      "iter 61000: dev acc=0.3061\n",
      "Iter 62000: loss=1026.4052, time=1320.04s\n",
      "iter 62000: dev acc=0.3115\n",
      "Iter 63000: loss=1020.4016, time=1331.50s\n",
      "iter 63000: dev acc=0.3197\n",
      "Iter 64000: loss=1004.4824, time=1342.93s\n",
      "iter 64000: dev acc=0.3224\n",
      "Iter 65000: loss=1045.0766, time=1354.39s\n",
      "iter 65000: dev acc=0.3279\n",
      "Iter 66000: loss=1028.7677, time=1666.47s\n",
      "iter 66000: dev acc=0.3115\n",
      "Iter 67000: loss=1085.2986, time=1677.95s\n",
      "iter 67000: dev acc=0.3288\n",
      "Iter 68000: loss=1101.8621, time=1689.70s\n",
      "iter 68000: dev acc=0.3279\n",
      "Shuffling training data\n",
      "Iter 69000: loss=1017.1004, time=1701.18s\n",
      "iter 69000: dev acc=0.3215\n",
      "Iter 70000: loss=914.7398, time=1712.93s\n",
      "iter 70000: dev acc=0.3179\n",
      "Iter 71000: loss=958.4055, time=1724.48s\n",
      "iter 71000: dev acc=0.3152\n",
      "Iter 72000: loss=936.9659, time=1735.95s\n",
      "iter 72000: dev acc=0.3197\n",
      "Iter 73000: loss=967.8393, time=1747.40s\n",
      "iter 73000: dev acc=0.3206\n",
      "Iter 74000: loss=969.7577, time=2059.62s\n",
      "iter 74000: dev acc=0.3179\n",
      "Iter 75000: loss=1038.7141, time=2071.05s\n",
      "iter 75000: dev acc=0.3197\n",
      "Iter 76000: loss=986.2220, time=2082.49s\n",
      "iter 76000: dev acc=0.3243\n",
      "Shuffling training data\n",
      "Iter 77000: loss=944.3373, time=2093.94s\n",
      "iter 77000: dev acc=0.3179\n",
      "Iter 78000: loss=849.5631, time=2405.93s\n",
      "iter 78000: dev acc=0.3243\n",
      "Iter 79000: loss=856.9734, time=2417.57s\n",
      "iter 79000: dev acc=0.3270\n",
      "Iter 80000: loss=937.6533, time=2429.02s\n",
      "iter 80000: dev acc=0.3233\n",
      "Iter 81000: loss=910.2755, time=2440.46s\n",
      "iter 81000: dev acc=0.3188\n",
      "Iter 82000: loss=849.6020, time=2752.45s\n",
      "iter 82000: dev acc=0.3124\n",
      "Iter 83000: loss=922.3297, time=2764.08s\n",
      "iter 83000: dev acc=0.3315\n",
      "Iter 84000: loss=931.9002, time=2775.98s\n",
      "iter 84000: dev acc=0.3324\n",
      "Iter 85000: loss=915.1951, time=3088.04s\n",
      "iter 85000: dev acc=0.3370\n",
      "new highscore\n",
      "Shuffling training data\n",
      "Iter 86000: loss=855.0880, time=3099.93s\n",
      "iter 86000: dev acc=0.3279\n",
      "Iter 87000: loss=828.5893, time=3111.38s\n",
      "iter 87000: dev acc=0.3206\n",
      "Iter 88000: loss=805.6690, time=3122.88s\n",
      "iter 88000: dev acc=0.3170\n",
      "Iter 89000: loss=797.7142, time=3434.89s\n",
      "iter 89000: dev acc=0.3243\n",
      "Iter 90000: loss=816.7052, time=3446.42s\n",
      "iter 90000: dev acc=0.3224\n",
      "Iter 91000: loss=828.6964, time=3457.88s\n",
      "iter 91000: dev acc=0.3270\n",
      "Iter 92000: loss=869.7911, time=3469.37s\n",
      "iter 92000: dev acc=0.3261\n",
      "Iter 93000: loss=864.3696, time=3781.37s\n",
      "iter 93000: dev acc=0.3243\n",
      "Shuffling training data\n",
      "Iter 94000: loss=837.6181, time=3792.99s\n",
      "iter 94000: dev acc=0.3297\n",
      "Iter 95000: loss=735.0123, time=3804.41s\n",
      "iter 95000: dev acc=0.3270\n",
      "Iter 96000: loss=738.3429, time=3815.84s\n",
      "iter 96000: dev acc=0.3179\n",
      "Iter 97000: loss=794.0945, time=4127.69s\n",
      "iter 97000: dev acc=0.3243\n",
      "Iter 98000: loss=769.6061, time=4139.21s\n",
      "iter 98000: dev acc=0.3243\n",
      "Iter 99000: loss=739.3870, time=4150.65s\n",
      "iter 99000: dev acc=0.3224\n",
      "Iter 100000: loss=776.2304, time=4162.15s\n",
      "iter 100000: dev acc=0.3279\n",
      "Iter 101000: loss=785.7244, time=4474.02s\n",
      "iter 101000: dev acc=0.3270\n",
      "Iter 102000: loss=766.1465, time=4485.46s\n",
      "iter 102000: dev acc=0.3370\n",
      "Shuffling training data\n",
      "Iter 103000: loss=734.3312, time=4496.92s\n",
      "iter 103000: dev acc=0.3379\n",
      "new highscore\n",
      "Iter 104000: loss=685.2437, time=4508.37s\n",
      "iter 104000: dev acc=0.3288\n",
      "Iter 105000: loss=668.1040, time=4820.36s\n",
      "iter 105000: dev acc=0.3306\n",
      "Iter 106000: loss=694.5674, time=4831.77s\n",
      "iter 106000: dev acc=0.3215\n",
      "Iter 107000: loss=729.2291, time=4843.17s\n",
      "iter 107000: dev acc=0.3324\n",
      "Iter 108000: loss=714.3436, time=4854.56s\n",
      "iter 108000: dev acc=0.3261\n",
      "Iter 109000: loss=711.4136, time=5166.39s\n",
      "iter 109000: dev acc=0.3206\n",
      "Iter 110000: loss=740.9781, time=5178.95s\n",
      "iter 110000: dev acc=0.3297\n",
      "Iter 111000: loss=694.3405, time=5190.43s\n",
      "iter 111000: dev acc=0.3279\n",
      "Shuffling training data\n",
      "Iter 112000: loss=646.6444, time=5201.92s\n",
      "iter 112000: dev acc=0.3297\n",
      "Iter 113000: loss=634.0894, time=5513.82s\n",
      "iter 113000: dev acc=0.3288\n",
      "Iter 114000: loss=622.7041, time=5525.39s\n",
      "iter 114000: dev acc=0.3243\n",
      "Iter 115000: loss=628.6957, time=5536.82s\n",
      "iter 115000: dev acc=0.3270\n",
      "Iter 116000: loss=650.3420, time=5548.26s\n",
      "iter 116000: dev acc=0.3351\n",
      "Iter 117000: loss=680.8364, time=5559.78s\n",
      "iter 117000: dev acc=0.3333\n",
      "Iter 118000: loss=633.5905, time=5871.56s\n",
      "iter 118000: dev acc=0.3361\n",
      "Iter 119000: loss=704.0803, time=5883.05s\n",
      "iter 119000: dev acc=0.3243\n",
      "Shuffling training data\n",
      "Iter 120000: loss=615.7028, time=5894.51s\n",
      "iter 120000: dev acc=0.3215\n",
      "Iter 121000: loss=553.2269, time=5906.01s\n",
      "iter 121000: dev acc=0.3261\n",
      "Iter 122000: loss=559.7203, time=6217.96s\n",
      "iter 122000: dev acc=0.3261\n",
      "Iter 123000: loss=575.6392, time=6229.43s\n",
      "iter 123000: dev acc=0.3315\n",
      "Iter 124000: loss=629.0933, time=6240.86s\n",
      "iter 124000: dev acc=0.3224\n",
      "Iter 125000: loss=642.8154, time=6252.40s\n",
      "iter 125000: dev acc=0.3297\n",
      "Iter 126000: loss=618.1799, time=6564.40s\n",
      "iter 126000: dev acc=0.3297\n",
      "Iter 127000: loss=591.0006, time=6575.83s\n",
      "iter 127000: dev acc=0.3379\n",
      "Iter 128000: loss=583.5850, time=6587.27s\n",
      "iter 128000: dev acc=0.3279\n",
      "Shuffling training data\n",
      "Iter 129000: loss=508.4520, time=6598.73s\n",
      "iter 129000: dev acc=0.3306\n",
      "Iter 130000: loss=506.1712, time=6910.62s\n",
      "iter 130000: dev acc=0.3270\n",
      "Iter 131000: loss=562.0288, time=6920.16s\n",
      "iter 131000: dev acc=0.3288\n",
      "Iter 132000: loss=552.4301, time=6931.59s\n",
      "iter 132000: dev acc=0.3361\n",
      "Iter 133000: loss=532.2562, time=6943.02s\n",
      "iter 133000: dev acc=0.3342\n",
      "Iter 134000: loss=566.4055, time=7255.00s\n",
      "iter 134000: dev acc=0.3315\n",
      "Iter 135000: loss=532.3996, time=7266.56s\n",
      "iter 135000: dev acc=0.3288\n",
      "Iter 136000: loss=580.9328, time=7278.32s\n",
      "iter 136000: dev acc=0.3297\n",
      "Shuffling training data\n",
      "Iter 137000: loss=542.0832, time=7289.87s\n",
      "iter 137000: dev acc=0.3288\n",
      "Iter 138000: loss=424.7367, time=7601.79s\n",
      "iter 138000: dev acc=0.3370\n",
      "Iter 139000: loss=506.4052, time=7613.23s\n",
      "iter 139000: dev acc=0.3297\n",
      "Iter 140000: loss=524.4729, time=7624.71s\n",
      "iter 140000: dev acc=0.3270\n",
      "Iter 141000: loss=492.1156, time=7636.20s\n",
      "iter 141000: dev acc=0.3388\n",
      "new highscore\n",
      "Iter 142000: loss=514.5726, time=7948.21s\n",
      "iter 142000: dev acc=0.3233\n",
      "Iter 143000: loss=503.5233, time=7959.68s\n",
      "iter 143000: dev acc=0.3297\n",
      "Iter 144000: loss=483.9415, time=7971.26s\n",
      "iter 144000: dev acc=0.3333\n",
      "Iter 145000: loss=525.3666, time=7982.90s\n",
      "iter 145000: dev acc=0.3197\n",
      "Shuffling training data\n",
      "Iter 146000: loss=447.4495, time=8294.92s\n",
      "iter 146000: dev acc=0.3324\n",
      "Iter 147000: loss=471.5709, time=8306.40s\n",
      "iter 147000: dev acc=0.3361\n",
      "Iter 148000: loss=439.7959, time=8317.87s\n",
      "iter 148000: dev acc=0.3351\n",
      "Iter 149000: loss=440.6617, time=8329.41s\n",
      "iter 149000: dev acc=0.3288\n",
      "Iter 150000: loss=464.8169, time=8641.44s\n",
      "iter 150000: dev acc=0.3306\n",
      "Iter 151000: loss=470.6112, time=8652.90s\n",
      "iter 151000: dev acc=0.3297\n",
      "Iter 152000: loss=473.4697, time=8664.53s\n",
      "iter 152000: dev acc=0.3270\n",
      "Iter 153000: loss=461.6568, time=8675.99s\n",
      "iter 153000: dev acc=0.3288\n",
      "Shuffling training data\n",
      "Iter 154000: loss=452.0905, time=8988.01s\n",
      "iter 154000: dev acc=0.3315\n",
      "Iter 155000: loss=381.5364, time=8999.47s\n",
      "iter 155000: dev acc=0.3379\n",
      "Iter 156000: loss=424.0083, time=9010.96s\n",
      "iter 156000: dev acc=0.3333\n",
      "Iter 157000: loss=413.2657, time=9022.39s\n",
      "iter 157000: dev acc=0.3115\n",
      "Iter 158000: loss=411.4358, time=9033.85s\n",
      "iter 158000: dev acc=0.3415\n",
      "new highscore\n",
      "Iter 159000: loss=442.9995, time=9346.02s\n",
      "iter 159000: dev acc=0.3297\n",
      "Iter 160000: loss=444.3408, time=9357.57s\n",
      "iter 160000: dev acc=0.3224\n",
      "Iter 161000: loss=393.9995, time=9369.04s\n",
      "iter 161000: dev acc=0.3243\n",
      "Iter 162000: loss=419.7365, time=9380.73s\n",
      "iter 162000: dev acc=0.3224\n",
      "Shuffling training data\n",
      "Iter 163000: loss=363.6603, time=9692.72s\n",
      "iter 163000: dev acc=0.3306\n",
      "Iter 164000: loss=352.6280, time=9704.16s\n",
      "iter 164000: dev acc=0.3243\n",
      "Iter 165000: loss=329.9712, time=9715.63s\n",
      "iter 165000: dev acc=0.3351\n",
      "Iter 166000: loss=363.7815, time=9727.09s\n",
      "iter 166000: dev acc=0.3279\n",
      "Iter 167000: loss=403.6178, time=10038.96s\n",
      "iter 167000: dev acc=0.3270\n",
      "Iter 168000: loss=428.5360, time=10050.42s\n",
      "iter 168000: dev acc=0.3315\n",
      "Iter 169000: loss=364.6000, time=10061.93s\n",
      "iter 169000: dev acc=0.3361\n",
      "Iter 170000: loss=376.2061, time=10073.36s\n",
      "iter 170000: dev acc=0.3297\n",
      "Shuffling training data\n",
      "Iter 171000: loss=421.7027, time=10384.90s\n",
      "iter 171000: dev acc=0.3243\n",
      "Iter 172000: loss=329.9388, time=10396.41s\n",
      "iter 172000: dev acc=0.3288\n",
      "Iter 173000: loss=300.8534, time=10407.88s\n",
      "iter 173000: dev acc=0.3315\n",
      "Iter 174000: loss=345.0832, time=10419.29s\n",
      "iter 174000: dev acc=0.3297\n",
      "Iter 175000: loss=376.3284, time=10455.94s\n",
      "iter 175000: dev acc=0.3233\n",
      "Iter 176000: loss=351.5360, time=10467.39s\n",
      "iter 176000: dev acc=0.3252\n",
      "Iter 177000: loss=362.2599, time=10478.82s\n",
      "iter 177000: dev acc=0.3306\n",
      "Iter 178000: loss=316.5312, time=10490.22s\n",
      "iter 178000: dev acc=0.3342\n",
      "Iter 179000: loss=356.3968, time=10802.27s\n",
      "iter 179000: dev acc=0.3261\n",
      "Shuffling training data\n",
      "Iter 180000: loss=344.0874, time=10813.73s\n",
      "iter 180000: dev acc=0.3297\n",
      "Iter 181000: loss=322.8390, time=10825.16s\n",
      "iter 181000: dev acc=0.3206\n",
      "Iter 182000: loss=295.5573, time=10836.60s\n",
      "iter 182000: dev acc=0.3270\n",
      "Iter 183000: loss=287.0563, time=11148.49s\n",
      "iter 183000: dev acc=0.3261\n",
      "Iter 184000: loss=307.3716, time=11160.00s\n",
      "iter 184000: dev acc=0.3324\n",
      "Iter 185000: loss=315.4987, time=11171.44s\n",
      "iter 185000: dev acc=0.3243\n",
      "Iter 186000: loss=311.2368, time=11183.00s\n",
      "iter 186000: dev acc=0.3288\n",
      "Iter 187000: loss=337.0022, time=11494.99s\n",
      "iter 187000: dev acc=0.3124\n",
      "Shuffling training data\n",
      "Iter 188000: loss=336.5828, time=11507.19s\n",
      "iter 188000: dev acc=0.3261\n",
      "Iter 189000: loss=285.1354, time=11518.85s\n",
      "iter 189000: dev acc=0.3361\n",
      "Iter 190000: loss=251.7139, time=11530.29s\n",
      "iter 190000: dev acc=0.3279\n",
      "Iter 191000: loss=261.8316, time=11842.21s\n",
      "iter 191000: dev acc=0.3270\n",
      "Iter 192000: loss=276.9093, time=11853.67s\n",
      "iter 192000: dev acc=0.3370\n",
      "Iter 193000: loss=282.7293, time=11865.14s\n",
      "iter 193000: dev acc=0.3288\n",
      "Iter 194000: loss=304.4814, time=11876.74s\n",
      "iter 194000: dev acc=0.3243\n",
      "Iter 195000: loss=278.8020, time=12188.70s\n",
      "iter 195000: dev acc=0.3161\n",
      "Iter 196000: loss=301.6050, time=12200.19s\n",
      "iter 196000: dev acc=0.3197\n",
      "Shuffling training data\n",
      "Iter 197000: loss=309.4386, time=12211.64s\n",
      "iter 197000: dev acc=0.3361\n",
      "Iter 198000: loss=263.4565, time=12223.04s\n",
      "iter 198000: dev acc=0.3279\n",
      "Iter 199000: loss=215.5289, time=12535.29s\n",
      "iter 199000: dev acc=0.3161\n",
      "Iter 200000: loss=262.2987, time=12546.79s\n",
      "iter 200000: dev acc=0.3197\n",
      "Iter 201000: loss=277.7531, time=12558.22s\n",
      "iter 201000: dev acc=0.3342\n",
      "Iter 202000: loss=269.1176, time=12569.64s\n",
      "iter 202000: dev acc=0.3333\n",
      "Iter 203000: loss=270.7564, time=12581.07s\n",
      "iter 203000: dev acc=0.3233\n",
      "Iter 204000: loss=239.1057, time=12892.43s\n",
      "iter 204000: dev acc=0.3306\n",
      "Iter 205000: loss=266.7469, time=12903.95s\n",
      "iter 205000: dev acc=0.3324\n",
      "Shuffling training data\n",
      "Iter 206000: loss=181.5852, time=12915.42s\n",
      "iter 206000: dev acc=0.3379\n",
      "Iter 207000: loss=231.5491, time=12926.87s\n",
      "iter 207000: dev acc=0.3261\n",
      "Iter 208000: loss=229.3174, time=13238.78s\n",
      "iter 208000: dev acc=0.3306\n",
      "Iter 209000: loss=228.3716, time=13250.18s\n",
      "iter 209000: dev acc=0.3270\n",
      "Iter 210000: loss=256.0485, time=13261.61s\n",
      "iter 210000: dev acc=0.3333\n",
      "Iter 211000: loss=242.1408, time=13273.20s\n",
      "iter 211000: dev acc=0.3243\n",
      "Iter 212000: loss=245.5349, time=13585.16s\n",
      "iter 212000: dev acc=0.3270\n",
      "Iter 213000: loss=242.0358, time=13596.59s\n",
      "iter 213000: dev acc=0.3233\n",
      "Shuffling training data\n",
      "Iter 214000: loss=243.9342, time=13608.03s\n",
      "iter 214000: dev acc=0.3233\n",
      "Iter 215000: loss=185.0725, time=13619.61s\n",
      "iter 215000: dev acc=0.3215\n",
      "Iter 216000: loss=211.7179, time=13931.51s\n",
      "iter 216000: dev acc=0.3270\n",
      "Iter 217000: loss=207.2643, time=13942.92s\n",
      "iter 217000: dev acc=0.3306\n",
      "Iter 218000: loss=220.0771, time=13954.38s\n",
      "iter 218000: dev acc=0.3288\n",
      "Iter 219000: loss=217.8982, time=13965.79s\n",
      "iter 219000: dev acc=0.3152\n",
      "Iter 220000: loss=197.3837, time=14277.63s\n",
      "iter 220000: dev acc=0.3270\n",
      "Iter 221000: loss=208.3445, time=14289.10s\n",
      "iter 221000: dev acc=0.3233\n",
      "Iter 222000: loss=246.4153, time=14300.58s\n",
      "iter 222000: dev acc=0.3351\n",
      "Shuffling training data\n",
      "Iter 223000: loss=166.1422, time=14312.02s\n",
      "iter 223000: dev acc=0.3270\n",
      "Iter 224000: loss=173.4465, time=14624.00s\n",
      "iter 224000: dev acc=0.3288\n",
      "Iter 225000: loss=197.2372, time=14635.44s\n",
      "iter 225000: dev acc=0.3261\n",
      "Iter 226000: loss=197.9202, time=14646.96s\n",
      "iter 226000: dev acc=0.3342\n",
      "Iter 227000: loss=191.7165, time=14658.43s\n",
      "iter 227000: dev acc=0.3243\n",
      "Iter 228000: loss=199.6801, time=14970.36s\n",
      "iter 228000: dev acc=0.3279\n",
      "Iter 229000: loss=197.7874, time=14981.88s\n",
      "iter 229000: dev acc=0.3161\n",
      "Iter 230000: loss=205.9313, time=14993.33s\n",
      "iter 230000: dev acc=0.3270\n",
      "Shuffling training data\n",
      "Iter 231000: loss=189.5758, time=15004.75s\n",
      "iter 231000: dev acc=0.3179\n",
      "Iter 232000: loss=148.0484, time=15316.72s\n",
      "iter 232000: dev acc=0.3270\n",
      "Iter 233000: loss=148.4536, time=15328.18s\n",
      "iter 233000: dev acc=0.3252\n",
      "Iter 234000: loss=180.9450, time=15339.68s\n",
      "iter 234000: dev acc=0.3224\n",
      "Iter 235000: loss=196.2303, time=15351.14s\n",
      "iter 235000: dev acc=0.3224\n",
      "Iter 236000: loss=194.1407, time=15663.21s\n",
      "iter 236000: dev acc=0.3279\n",
      "Iter 237000: loss=172.9792, time=15674.87s\n",
      "iter 237000: dev acc=0.3297\n",
      "Iter 238000: loss=193.9232, time=15686.59s\n",
      "iter 238000: dev acc=0.3306\n",
      "Iter 239000: loss=169.8167, time=15998.86s\n",
      "iter 239000: dev acc=0.3288\n",
      "Shuffling training data\n",
      "Iter 240000: loss=133.0536, time=16010.31s\n",
      "iter 240000: dev acc=0.3306\n",
      "Iter 241000: loss=135.5770, time=16021.76s\n",
      "iter 241000: dev acc=0.3252\n",
      "Iter 242000: loss=157.3337, time=16033.22s\n",
      "iter 242000: dev acc=0.3243\n",
      "Iter 243000: loss=147.0951, time=16345.33s\n",
      "iter 243000: dev acc=0.3215\n",
      "Iter 244000: loss=178.1362, time=16357.17s\n",
      "iter 244000: dev acc=0.3243\n",
      "Iter 245000: loss=163.8341, time=16368.60s\n",
      "iter 245000: dev acc=0.3143\n",
      "Iter 246000: loss=173.3761, time=16380.02s\n",
      "iter 246000: dev acc=0.3252\n",
      "Iter 247000: loss=163.6694, time=16391.62s\n",
      "iter 247000: dev acc=0.3215\n",
      "Shuffling training data\n",
      "Iter 248000: loss=162.5337, time=16703.63s\n",
      "iter 248000: dev acc=0.3243\n",
      "Iter 249000: loss=128.4199, time=16715.20s\n",
      "iter 249000: dev acc=0.3215\n",
      "Iter 250000: loss=137.1850, time=16726.68s\n",
      "iter 250000: dev acc=0.3161\n",
      "Iter 251000: loss=122.8384, time=16738.12s\n",
      "iter 251000: dev acc=0.3279\n",
      "Iter 252000: loss=131.3653, time=17050.02s\n",
      "iter 252000: dev acc=0.3333\n",
      "Iter 253000: loss=180.4350, time=17061.48s\n",
      "iter 253000: dev acc=0.3270\n",
      "Iter 254000: loss=145.5884, time=17072.92s\n",
      "iter 254000: dev acc=0.3351\n",
      "Iter 255000: loss=123.8400, time=17084.35s\n",
      "iter 255000: dev acc=0.3233\n",
      "Iter 256000: loss=157.8557, time=17396.32s\n",
      "iter 256000: dev acc=0.3279\n",
      "Shuffling training data\n",
      "Iter 257000: loss=138.5701, time=17408.27s\n",
      "iter 257000: dev acc=0.3252\n",
      "Iter 258000: loss=116.8847, time=17419.92s\n",
      "iter 258000: dev acc=0.3252\n",
      "Iter 259000: loss=114.6533, time=17431.58s\n",
      "iter 259000: dev acc=0.3333\n",
      "Iter 260000: loss=157.7658, time=17743.42s\n",
      "iter 260000: dev acc=0.3324\n",
      "Iter 261000: loss=116.0236, time=17754.83s\n",
      "iter 261000: dev acc=0.3243\n",
      "Iter 262000: loss=115.9385, time=17766.26s\n",
      "iter 262000: dev acc=0.3252\n",
      "Iter 263000: loss=143.9283, time=17777.87s\n",
      "iter 263000: dev acc=0.3324\n",
      "Iter 264000: loss=117.4467, time=18089.75s\n",
      "iter 264000: dev acc=0.3306\n",
      "Shuffling training data\n",
      "Iter 265000: loss=139.3640, time=18101.23s\n",
      "iter 265000: dev acc=0.3233\n",
      "Iter 266000: loss=99.7422, time=18112.64s\n",
      "iter 266000: dev acc=0.3252\n",
      "Iter 267000: loss=110.1227, time=18124.07s\n",
      "iter 267000: dev acc=0.3288\n",
      "Iter 268000: loss=100.3407, time=18435.99s\n",
      "iter 268000: dev acc=0.3297\n",
      "Iter 269000: loss=114.9195, time=18447.38s\n",
      "iter 269000: dev acc=0.3261\n",
      "Iter 270000: loss=137.0069, time=18458.82s\n",
      "iter 270000: dev acc=0.3161\n",
      "Iter 271000: loss=114.3845, time=18470.23s\n",
      "iter 271000: dev acc=0.3206\n",
      "Iter 272000: loss=141.6162, time=18782.09s\n",
      "iter 272000: dev acc=0.3206\n",
      "Iter 273000: loss=121.3764, time=18793.56s\n",
      "iter 273000: dev acc=0.3233\n",
      "Shuffling training data\n",
      "Iter 274000: loss=91.3421, time=18804.99s\n",
      "iter 274000: dev acc=0.3224\n",
      "Iter 275000: loss=68.5748, time=18816.41s\n",
      "iter 275000: dev acc=0.3279\n",
      "Iter 276000: loss=84.2550, time=19128.38s\n",
      "iter 276000: dev acc=0.3270\n",
      "Iter 277000: loss=107.5320, time=19139.84s\n",
      "iter 277000: dev acc=0.3224\n",
      "Iter 278000: loss=133.2802, time=19151.48s\n",
      "iter 278000: dev acc=0.3261\n",
      "Iter 279000: loss=116.4407, time=19163.15s\n",
      "iter 279000: dev acc=0.3170\n",
      "Iter 280000: loss=119.0050, time=19475.09s\n",
      "iter 280000: dev acc=0.3261\n",
      "Iter 281000: loss=109.3064, time=19486.52s\n",
      "iter 281000: dev acc=0.3288\n",
      "Shuffling training data\n",
      "Iter 282000: loss=120.1988, time=19497.97s\n",
      "iter 282000: dev acc=0.3261\n",
      "Iter 283000: loss=71.7706, time=19509.43s\n",
      "iter 283000: dev acc=0.3252\n",
      "Iter 284000: loss=81.1454, time=19822.00s\n",
      "iter 284000: dev acc=0.3306\n",
      "Iter 285000: loss=97.1261, time=19833.47s\n",
      "iter 285000: dev acc=0.3342\n",
      "Iter 286000: loss=110.4073, time=19844.92s\n",
      "iter 286000: dev acc=0.3243\n",
      "Iter 287000: loss=97.6071, time=19856.37s\n",
      "iter 287000: dev acc=0.3306\n",
      "Iter 288000: loss=81.2233, time=19867.81s\n",
      "iter 288000: dev acc=0.3197\n",
      "Iter 289000: loss=90.4807, time=20180.04s\n",
      "iter 289000: dev acc=0.3252\n",
      "Iter 290000: loss=123.3891, time=20191.91s\n",
      "iter 290000: dev acc=0.3252\n",
      "Shuffling training data\n",
      "Iter 291000: loss=70.7950, time=20203.80s\n",
      "iter 291000: dev acc=0.3206\n",
      "Iter 292000: loss=58.8773, time=20215.66s\n",
      "iter 292000: dev acc=0.3170\n",
      "Iter 293000: loss=81.1560, time=20527.60s\n",
      "iter 293000: dev acc=0.3243\n",
      "Iter 294000: loss=90.8938, time=20539.05s\n",
      "iter 294000: dev acc=0.3297\n",
      "Iter 295000: loss=84.8269, time=20550.55s\n",
      "iter 295000: dev acc=0.3270\n",
      "Iter 296000: loss=97.3971, time=20561.97s\n",
      "iter 296000: dev acc=0.3215\n",
      "Iter 297000: loss=88.1549, time=20873.89s\n",
      "iter 297000: dev acc=0.3197\n",
      "Iter 298000: loss=89.5487, time=20885.56s\n",
      "iter 298000: dev acc=0.3224\n",
      "Iter 299000: loss=101.6434, time=20897.16s\n",
      "iter 299000: dev acc=0.3261\n",
      "Shuffling training data\n",
      "Iter 300000: loss=80.2889, time=20908.63s\n",
      "iter 300000: dev acc=0.3243\n",
      "Iter 301000: loss=57.7560, time=21220.52s\n",
      "iter 301000: dev acc=0.3233\n",
      "Iter 302000: loss=78.2859, time=21232.02s\n",
      "iter 302000: dev acc=0.3243\n",
      "Iter 303000: loss=77.2497, time=21243.49s\n",
      "iter 303000: dev acc=0.3261\n",
      "Iter 304000: loss=65.5246, time=21254.95s\n",
      "iter 304000: dev acc=0.3297\n",
      "Iter 305000: loss=82.4063, time=21566.89s\n",
      "iter 305000: dev acc=0.3188\n",
      "Iter 306000: loss=80.7369, time=21578.34s\n",
      "iter 306000: dev acc=0.3315\n",
      "Iter 307000: loss=90.7554, time=21589.79s\n",
      "iter 307000: dev acc=0.3252\n",
      "Shuffling training data\n",
      "Iter 308000: loss=79.0093, time=21601.30s\n",
      "iter 308000: dev acc=0.3288\n",
      "Iter 309000: loss=58.8279, time=21913.35s\n",
      "iter 309000: dev acc=0.3324\n",
      "Iter 310000: loss=73.7876, time=21924.84s\n",
      "iter 310000: dev acc=0.3270\n",
      "Iter 311000: loss=53.5397, time=21936.28s\n",
      "iter 311000: dev acc=0.3224\n",
      "Iter 312000: loss=79.5018, time=21947.75s\n",
      "iter 312000: dev acc=0.3243\n",
      "Iter 313000: loss=71.4336, time=22259.64s\n",
      "iter 313000: dev acc=0.3170\n",
      "Iter 314000: loss=89.0924, time=22271.15s\n",
      "iter 314000: dev acc=0.3197\n",
      "Iter 315000: loss=66.1762, time=22282.73s\n",
      "iter 315000: dev acc=0.3215\n",
      "Iter 316000: loss=57.2919, time=22594.54s\n",
      "iter 316000: dev acc=0.3288\n",
      "Shuffling training data\n",
      "Iter 317000: loss=48.0997, time=22606.36s\n",
      "iter 317000: dev acc=0.3261\n",
      "Iter 318000: loss=60.6672, time=22617.79s\n",
      "iter 318000: dev acc=0.3288\n",
      "Iter 319000: loss=67.4827, time=22629.24s\n",
      "iter 319000: dev acc=0.3233\n",
      "Iter 320000: loss=50.0154, time=22941.28s\n",
      "iter 320000: dev acc=0.3297\n",
      "Iter 321000: loss=60.3619, time=22952.81s\n",
      "iter 321000: dev acc=0.3288\n",
      "Iter 322000: loss=59.5741, time=22964.26s\n",
      "iter 322000: dev acc=0.3306\n",
      "Iter 323000: loss=69.2250, time=22975.68s\n",
      "iter 323000: dev acc=0.3261\n",
      "Iter 324000: loss=58.3908, time=23287.57s\n",
      "iter 324000: dev acc=0.3279\n",
      "Shuffling training data\n",
      "Iter 325000: loss=79.7816, time=23299.12s\n",
      "iter 325000: dev acc=0.3224\n",
      "Iter 326000: loss=52.0104, time=23310.67s\n",
      "iter 326000: dev acc=0.3288\n",
      "Iter 327000: loss=58.3964, time=23322.11s\n",
      "iter 327000: dev acc=0.3297\n",
      "Iter 328000: loss=46.0471, time=23333.52s\n",
      "iter 328000: dev acc=0.3297\n",
      "Iter 329000: loss=49.6503, time=23344.93s\n",
      "iter 329000: dev acc=0.3252\n",
      "Iter 330000: loss=50.2467, time=23656.81s\n",
      "iter 330000: dev acc=0.3306\n",
      "Iter 331000: loss=67.9520, time=23668.32s\n",
      "iter 331000: dev acc=0.3233\n",
      "Iter 332000: loss=49.8208, time=23679.75s\n",
      "iter 332000: dev acc=0.3288\n",
      "Iter 333000: loss=55.9027, time=23691.24s\n",
      "iter 333000: dev acc=0.3233\n",
      "Shuffling training data\n",
      "Iter 334000: loss=47.1808, time=24003.18s\n",
      "iter 334000: dev acc=0.3315\n",
      "Iter 335000: loss=50.3219, time=24014.62s\n",
      "iter 335000: dev acc=0.3197\n",
      "Iter 336000: loss=51.5292, time=24026.13s\n",
      "iter 336000: dev acc=0.3224\n",
      "Iter 337000: loss=59.2291, time=24337.95s\n",
      "iter 337000: dev acc=0.3152\n",
      "Iter 338000: loss=40.2298, time=24349.57s\n",
      "iter 338000: dev acc=0.3288\n",
      "Iter 339000: loss=46.2922, time=24361.02s\n",
      "iter 339000: dev acc=0.3351\n",
      "Iter 340000: loss=57.4658, time=24372.62s\n",
      "iter 340000: dev acc=0.3333\n",
      "Iter 341000: loss=47.5061, time=24409.52s\n",
      "iter 341000: dev acc=0.3279\n",
      "Shuffling training data\n",
      "Iter 342000: loss=45.9557, time=24421.04s\n",
      "iter 342000: dev acc=0.3333\n",
      "Iter 343000: loss=35.8188, time=24432.62s\n",
      "iter 343000: dev acc=0.3342\n",
      "Iter 344000: loss=33.7478, time=24444.07s\n",
      "iter 344000: dev acc=0.3279\n",
      "Iter 345000: loss=43.9580, time=24756.16s\n",
      "iter 345000: dev acc=0.3297\n",
      "Iter 346000: loss=40.8823, time=24767.61s\n",
      "iter 346000: dev acc=0.3243\n",
      "Iter 347000: loss=51.3499, time=24779.10s\n",
      "iter 347000: dev acc=0.3306\n",
      "Iter 348000: loss=54.2421, time=24790.54s\n",
      "iter 348000: dev acc=0.3224\n",
      "Iter 349000: loss=35.3430, time=25102.39s\n",
      "iter 349000: dev acc=0.3270\n",
      "Iter 350000: loss=45.7345, time=25113.84s\n",
      "iter 350000: dev acc=0.3279\n",
      "Shuffling training data\n",
      "Iter 351000: loss=40.3100, time=25125.31s\n",
      "iter 351000: dev acc=0.3279\n",
      "Iter 352000: loss=28.9417, time=25136.80s\n",
      "iter 352000: dev acc=0.3233\n",
      "Iter 353000: loss=34.6154, time=25448.75s\n",
      "iter 353000: dev acc=0.3197\n",
      "Iter 354000: loss=42.6033, time=25460.27s\n",
      "iter 354000: dev acc=0.3224\n",
      "Iter 355000: loss=39.7632, time=25471.83s\n",
      "iter 355000: dev acc=0.3261\n",
      "Iter 356000: loss=37.8600, time=25483.26s\n",
      "iter 356000: dev acc=0.3252\n",
      "Iter 357000: loss=45.0175, time=25586.78s\n",
      "iter 357000: dev acc=0.3188\n",
      "Iter 358000: loss=40.1656, time=25599.18s\n",
      "iter 358000: dev acc=0.3342\n",
      "Shuffling training data\n",
      "Iter 359000: loss=42.5197, time=25612.06s\n",
      "iter 359000: dev acc=0.3279\n"
     ]
    },
    {
     "ename": "KeyboardInterrupt",
     "evalue": "",
     "output_type": "error",
     "traceback": [
      "\u001b[0;31m---------------------------------------------------------------------------\u001b[0m",
      "\u001b[0;31mKeyboardInterrupt\u001b[0m                         Traceback (most recent call last)",
      "\u001b[0;32m/var/folders/nw/93_by3716yn881ckngw_vmp40000gn/T/ipykernel_16931/1464443629.py\u001b[0m in \u001b[0;36m<module>\u001b[0;34m\u001b[0m\n\u001b[1;32m      5\u001b[0m \u001b[0;34m\u001b[0m\u001b[0m\n\u001b[1;32m      6\u001b[0m \u001b[0moptimizer\u001b[0m \u001b[0;34m=\u001b[0m \u001b[0moptim\u001b[0m\u001b[0;34m.\u001b[0m\u001b[0mAdam\u001b[0m\u001b[0;34m(\u001b[0m\u001b[0mcbow_model\u001b[0m\u001b[0;34m.\u001b[0m\u001b[0mparameters\u001b[0m\u001b[0;34m(\u001b[0m\u001b[0;34m)\u001b[0m\u001b[0;34m,\u001b[0m \u001b[0mlr\u001b[0m\u001b[0;34m=\u001b[0m\u001b[0;36m0.0001\u001b[0m\u001b[0;34m)\u001b[0m\u001b[0;34m\u001b[0m\u001b[0;34m\u001b[0m\u001b[0m\n\u001b[0;32m----> 7\u001b[0;31m cbow_losses, cbow_accuracies = train_model(\n\u001b[0m\u001b[1;32m      8\u001b[0m     \u001b[0mcbow_model\u001b[0m\u001b[0;34m,\u001b[0m \u001b[0moptimizer\u001b[0m\u001b[0;34m,\u001b[0m \u001b[0mnum_iterations\u001b[0m\u001b[0;34m=\u001b[0m\u001b[0;36m500000\u001b[0m\u001b[0;34m,\u001b[0m\u001b[0;34m\u001b[0m\u001b[0;34m\u001b[0m\u001b[0m\n\u001b[1;32m      9\u001b[0m     print_every=1000, eval_every=1000)\n",
      "\u001b[0;32m/var/folders/nw/93_by3716yn881ckngw_vmp40000gn/T/ipykernel_16931/3569217073.py\u001b[0m in \u001b[0;36mtrain_model\u001b[0;34m(model, optimizer, num_iterations, print_every, eval_every, batch_fn, prep_fn, eval_fn, batch_size, eval_batch_size)\u001b[0m\n\u001b[1;32m     43\u001b[0m \u001b[0;34m\u001b[0m\u001b[0m\n\u001b[1;32m     44\u001b[0m             \u001b[0;31m# compute gradients\u001b[0m\u001b[0;34m\u001b[0m\u001b[0;34m\u001b[0m\u001b[0m\n\u001b[0;32m---> 45\u001b[0;31m             \u001b[0mloss\u001b[0m\u001b[0;34m.\u001b[0m\u001b[0mbackward\u001b[0m\u001b[0;34m(\u001b[0m\u001b[0;34m)\u001b[0m\u001b[0;34m\u001b[0m\u001b[0;34m\u001b[0m\u001b[0m\n\u001b[0m\u001b[1;32m     46\u001b[0m \u001b[0;34m\u001b[0m\u001b[0m\n\u001b[1;32m     47\u001b[0m             \u001b[0;31m# update weights - take a small step in the opposite dir of the gradient\u001b[0m\u001b[0;34m\u001b[0m\u001b[0;34m\u001b[0m\u001b[0m\n",
      "\u001b[0;32m~/miniforge3/envs/nlp1labs/lib/python3.9/site-packages/torch/_tensor.py\u001b[0m in \u001b[0;36mbackward\u001b[0;34m(self, gradient, retain_graph, create_graph, inputs)\u001b[0m\n\u001b[1;32m    305\u001b[0m                 \u001b[0mcreate_graph\u001b[0m\u001b[0;34m=\u001b[0m\u001b[0mcreate_graph\u001b[0m\u001b[0;34m,\u001b[0m\u001b[0;34m\u001b[0m\u001b[0;34m\u001b[0m\u001b[0m\n\u001b[1;32m    306\u001b[0m                 inputs=inputs)\n\u001b[0;32m--> 307\u001b[0;31m         \u001b[0mtorch\u001b[0m\u001b[0;34m.\u001b[0m\u001b[0mautograd\u001b[0m\u001b[0;34m.\u001b[0m\u001b[0mbackward\u001b[0m\u001b[0;34m(\u001b[0m\u001b[0mself\u001b[0m\u001b[0;34m,\u001b[0m \u001b[0mgradient\u001b[0m\u001b[0;34m,\u001b[0m \u001b[0mretain_graph\u001b[0m\u001b[0;34m,\u001b[0m \u001b[0mcreate_graph\u001b[0m\u001b[0;34m,\u001b[0m \u001b[0minputs\u001b[0m\u001b[0;34m=\u001b[0m\u001b[0minputs\u001b[0m\u001b[0;34m)\u001b[0m\u001b[0;34m\u001b[0m\u001b[0;34m\u001b[0m\u001b[0m\n\u001b[0m\u001b[1;32m    308\u001b[0m \u001b[0;34m\u001b[0m\u001b[0m\n\u001b[1;32m    309\u001b[0m     \u001b[0;32mdef\u001b[0m \u001b[0mregister_hook\u001b[0m\u001b[0;34m(\u001b[0m\u001b[0mself\u001b[0m\u001b[0;34m,\u001b[0m \u001b[0mhook\u001b[0m\u001b[0;34m)\u001b[0m\u001b[0;34m:\u001b[0m\u001b[0;34m\u001b[0m\u001b[0;34m\u001b[0m\u001b[0m\n",
      "\u001b[0;32m~/miniforge3/envs/nlp1labs/lib/python3.9/site-packages/torch/autograd/__init__.py\u001b[0m in \u001b[0;36mbackward\u001b[0;34m(tensors, grad_tensors, retain_graph, create_graph, grad_variables, inputs)\u001b[0m\n\u001b[1;32m    152\u001b[0m         \u001b[0mretain_graph\u001b[0m \u001b[0;34m=\u001b[0m \u001b[0mcreate_graph\u001b[0m\u001b[0;34m\u001b[0m\u001b[0;34m\u001b[0m\u001b[0m\n\u001b[1;32m    153\u001b[0m \u001b[0;34m\u001b[0m\u001b[0m\n\u001b[0;32m--> 154\u001b[0;31m     Variable._execution_engine.run_backward(\n\u001b[0m\u001b[1;32m    155\u001b[0m         \u001b[0mtensors\u001b[0m\u001b[0;34m,\u001b[0m \u001b[0mgrad_tensors_\u001b[0m\u001b[0;34m,\u001b[0m \u001b[0mretain_graph\u001b[0m\u001b[0;34m,\u001b[0m \u001b[0mcreate_graph\u001b[0m\u001b[0;34m,\u001b[0m \u001b[0minputs\u001b[0m\u001b[0;34m,\u001b[0m\u001b[0;34m\u001b[0m\u001b[0;34m\u001b[0m\u001b[0m\n\u001b[1;32m    156\u001b[0m         allow_unreachable=True, accumulate_grad=True)  # allow_unreachable flag\n",
      "\u001b[0;31mKeyboardInterrupt\u001b[0m: "
     ]
    }
   ],
   "source": [
    "cbow_model = CBOW(len(v.w2i), 300, vocab=v)\n",
    "print(cbow_model)\n",
    "\n",
    "cbow_model = cbow_model.to(device)\n",
    "\n",
    "optimizer = optim.Adam(cbow_model.parameters(), lr=0.0001)\n",
    "cbow_losses, cbow_accuracies = train_model(\n",
    "    cbow_model, optimizer, num_iterations=500000, \n",
    "    print_every=1000, eval_every=1000)"
   ]
  },
  {
   "cell_type": "code",
   "execution_count": 76,
   "metadata": {},
   "outputs": [
    {
     "data": {
      "image/png": "[encoded data removed]",
      "text/plain": [
       "<Figure size 640x480 with 1 Axes>"
      ]
     },
     "metadata": {},
     "output_type": "display_data"
    }
   ],
   "source": [
    "# This will plot the validation accuracies across time.\n",
    "\n",
    "plt.plot(cbow_accuracies)\n",
    "\n",
    "plt.grid()\n",
    "plt.title(\"CBOW Model Dev Accuracy\")\n",
    "plt.xlabel(\"Iterations\")\n",
    "plt.ylabel(\"Accuracy\")\n",
    "plt.show()"
   ]
  },
  {
   "cell_type": "markdown",
   "metadata": {
    "id": "zpFt_Fo2TdN0"
   },
   "source": [
    "# Deep CBOW"
   ]
  },
  {
   "cell_type": "markdown",
   "metadata": {
    "id": "iZanOMesTfEZ"
   },
   "source": [
    "To see if we can squeeze some more performance out of the CBOW model, we can make it deeper and non-linear by adding more layers and, e.g., tanh-activations.\n",
    "By using more parameters we can learn more aspects of the data, and by using more layers and non-linearities, we can try to learn a more complex function. \n",
    "This is not something that always works. If the input-output mapping of your data is simple, then a complicated function could easily overfit on your training set, thereby leading to poor generalization. \n",
    "\n",
    "#### Exercise: write Deep CBOW class and train it\n",
    "\n",
    "Write a class `DeepCBOW`.\n",
    "\n",
    "In your code, make sure that your `output_layer` consists of the following:\n",
    "- A linear transformation from E units to D units.\n",
    "- A Tanh activation\n",
    "- A linear transformation from D units to D units\n",
    "- A Tanh activation\n",
    "- A linear transformation from D units to 5 units (our output classes).\n",
    "\n",
    "E is the size of the word embeddings (please use E=300) and D for the size of a hidden layer (please use D=100).\n",
    "\n",
    "We recommend using [nn.Sequential](https://pytorch.org/docs/stable/nn.html?highlight=sequential#torch.nn.Sequential) to implement this exercise."
   ]
  },
  {
   "cell_type": "code",
   "execution_count": 53,
   "metadata": {
    "id": "l8Z1igvpTrZq"
   },
   "outputs": [],
   "source": [
    "class DeepCBOW(nn.Module):\n",
    "    \"\"\"A deep continuous bag-of-words model\"\"\"\n",
    "\n",
    "    def __init__(self, vocab_size, embedding_dim, hidden_dim, output_dim, vocab):\n",
    "        super(DeepCBOW, self).__init__()\n",
    "        self.vocab = vocab\n",
    "\n",
    "        # this is a trainable look-up table with word embeddings\n",
    "        self.net = nn.Sequential(\n",
    "            nn.Embedding(vocab_size, embedding_dim),\n",
    "            nn.Linear(embedding_dim, hidden_dim, bias=True),\n",
    "            nn.Tanh(),\n",
    "            nn.Linear(hidden_dim, hidden_dim, bias=True),\n",
    "            nn.Tanh(),\n",
    "            nn.Linear(hidden_dim, output_dim, bias=True),\n",
    "        )\n",
    "\n",
    "    def forward(self, inputs):\n",
    "        # this is the forward pass of the neural network\n",
    "        # it applies a function to the input and returns the output\n",
    "        logits = self.net(inputs).sum(1)\n",
    "        \n",
    "        return logits"
   ]
  },
  {
   "cell_type": "code",
   "execution_count": 54,
   "metadata": {},
   "outputs": [
    {
     "name": "stdout",
     "output_type": "stream",
     "text": [
      "DeepCBOW(\n",
      "  (net): Sequential(\n",
      "    (0): Embedding(18280, 300)\n",
      "    (1): Linear(in_features=300, out_features=100, bias=True)\n",
      "    (2): Tanh()\n",
      "    (3): Linear(in_features=100, out_features=100, bias=True)\n",
      "    (4): Tanh()\n",
      "    (5): Linear(in_features=100, out_features=5, bias=True)\n",
      "  )\n",
      ")\n",
      "torch.Size([3, 5])\n"
     ]
    }
   ],
   "source": [
    "# Let's create a model.\n",
    "deep_cbow_model = DeepCBOW(len(v.w2i), 300, 100, 5, v)\n",
    "print(deep_cbow_model)\n",
    "\n",
    "x = torch.tensor([[1, 3, 5], [3, 6, 1], [4, 6, 1]])\n",
    "y = deep_cbow_model(x)\n",
    "print(y.shape)"
   ]
  },
  {
   "cell_type": "code",
   "execution_count": 87,
   "metadata": {
    "tags": []
   },
   "outputs": [
    {
     "name": "stdout",
     "output_type": "stream",
     "text": [
      "DeepCBOW(\n",
      "  (net): Sequential(\n",
      "    (0): Embedding(18280, 300)\n",
      "    (1): Linear(in_features=300, out_features=100, bias=True)\n",
      "    (2): Tanh()\n",
      "    (3): Linear(in_features=100, out_features=100, bias=True)\n",
      "    (4): Tanh()\n",
      "    (5): Linear(in_features=100, out_features=5, bias=True)\n",
      "  )\n",
      ")\n",
      "Shuffling training data\n",
      "Iter 1000: loss=1762.5149, time=12.93s\n",
      "iter 1000: dev acc=0.2797\n",
      "new highscore\n",
      "Iter 2000: loss=1656.1044, time=25.37s\n",
      "iter 2000: dev acc=0.2816\n",
      "new highscore\n",
      "Iter 3000: loss=1615.3262, time=37.73s\n",
      "iter 3000: dev acc=0.2861\n",
      "new highscore\n",
      "Iter 4000: loss=1580.9472, time=50.13s\n",
      "iter 4000: dev acc=0.2852\n",
      "Iter 5000: loss=1576.3602, time=62.45s\n",
      "iter 5000: dev acc=0.2861\n",
      "Iter 6000: loss=1560.1539, time=76.50s\n",
      "iter 6000: dev acc=0.2988\n",
      "new highscore\n",
      "Iter 7000: loss=1517.0976, time=90.08s\n",
      "iter 7000: dev acc=0.3252\n",
      "new highscore\n",
      "Iter 8000: loss=1553.5089, time=102.61s\n",
      "iter 8000: dev acc=0.2843\n",
      "Shuffling training data\n",
      "Iter 9000: loss=1461.6870, time=114.84s\n",
      "iter 9000: dev acc=0.3288\n",
      "new highscore\n",
      "Iter 10000: loss=1389.9635, time=127.29s\n",
      "iter 10000: dev acc=0.3315\n",
      "new highscore\n",
      "Iter 11000: loss=1409.8145, time=139.64s\n",
      "iter 11000: dev acc=0.3451\n",
      "new highscore\n",
      "Iter 12000: loss=1365.3066, time=152.08s\n",
      "iter 12000: dev acc=0.3787\n",
      "new highscore\n",
      "Iter 13000: loss=1375.0586, time=164.67s\n",
      "iter 13000: dev acc=0.3179\n",
      "Iter 14000: loss=1377.3527, time=176.98s\n",
      "iter 14000: dev acc=0.3606\n",
      "Iter 15000: loss=1377.6667, time=189.19s\n",
      "iter 15000: dev acc=0.3379\n",
      "Iter 16000: loss=1388.0923, time=201.39s\n",
      "iter 16000: dev acc=0.3660\n",
      "Iter 17000: loss=1380.8377, time=213.70s\n",
      "iter 17000: dev acc=0.3451\n",
      "Shuffling training data\n",
      "Iter 18000: loss=1131.5002, time=226.44s\n",
      "iter 18000: dev acc=0.3733\n",
      "Iter 19000: loss=1157.9939, time=238.84s\n",
      "iter 19000: dev acc=0.3179\n",
      "Iter 20000: loss=1231.9551, time=251.13s\n",
      "iter 20000: dev acc=0.3751\n",
      "Iter 21000: loss=1179.1208, time=263.52s\n",
      "iter 21000: dev acc=0.3615\n",
      "Iter 22000: loss=1178.2943, time=275.94s\n",
      "iter 22000: dev acc=0.3388\n",
      "Iter 23000: loss=1185.4033, time=288.43s\n",
      "iter 23000: dev acc=0.3470\n",
      "Iter 24000: loss=1198.4604, time=301.25s\n",
      "iter 24000: dev acc=0.3433\n",
      "Iter 25000: loss=1199.8667, time=313.49s\n",
      "iter 25000: dev acc=0.3806\n",
      "new highscore\n",
      "Shuffling training data\n",
      "Iter 26000: loss=1088.1567, time=326.24s\n",
      "iter 26000: dev acc=0.3851\n",
      "new highscore\n",
      "Iter 27000: loss=911.3150, time=338.51s\n",
      "iter 27000: dev acc=0.3442\n",
      "Iter 28000: loss=927.5155, time=350.80s\n",
      "iter 28000: dev acc=0.3479\n",
      "Iter 29000: loss=926.2955, time=364.26s\n",
      "iter 29000: dev acc=0.3569\n",
      "Iter 30000: loss=947.9472, time=376.81s\n",
      "iter 30000: dev acc=0.3224\n",
      "Done training\n",
      "Loading best model\n",
      "best model iter 26000: train acc=0.6511, dev acc=0.3851, test acc=0.3525\n"
     ]
    }
   ],
   "source": [
    "deep_cbow_model = DeepCBOW(len(v.w2i), v)\n",
    "print(deep_cbow_model)\n",
    "\n",
    "deep_cbow_model = deep_cbow_model.to(device)\n",
    "\n",
    "optimizer = optim.Adam(deep_cbow_model.parameters(), lr=0.0005)\n",
    "deep_cbow_losses, deep_cbow_accuracies = train_model(\n",
    "    deep_cbow_model, optimizer, num_iterations=30000, \n",
    "    print_every=1000, eval_every=1000)"
   ]
  },
  {
   "cell_type": "code",
   "execution_count": 88,
   "metadata": {},
   "outputs": [
    {
     "data": {
      "image/png": "[encoded data removed]",
      "text/plain": [
       "<Figure size 640x480 with 1 Axes>"
      ]
     },
     "metadata": {},
     "output_type": "display_data"
    }
   ],
   "source": [
    "# This will plot the validation accuracies across time.\n",
    "\n",
    "plt.plot(deep_cbow_accuracies)\n",
    "\n",
    "plt.grid()\n",
    "plt.title(\"DeepCBOW Model Dev Accuracy\")\n",
    "plt.xlabel(\"Iterations\")\n",
    "plt.ylabel(\"Accuracy\")\n",
    "plt.show()"
   ]
  },
  {
   "cell_type": "markdown",
   "metadata": {
    "id": "MQZ5flHwiiHY"
   },
   "source": [
    "# Pre-trained word embeddings"
   ]
  },
  {
   "cell_type": "markdown",
   "metadata": {
    "id": "9NX35vecmHy6"
   },
   "source": [
    "The Stanford Sentiment Treebank is a rather small data set, since it required fine-grained manual annotatation. This makes it difficult for the Deep CBOW model to learn good word embeddings, i.e. to learn good word representations for the words in our vocabulary.\n",
    "In fact, the only error signal that the network receives is from predicting the sentiment of entire sentences!\n",
    "\n",
    "To start off with better word representations, we can download **pre-trained word embeddings**. \n",
    "You can choose which pre-trained word embeddings to use:\n",
    "\n",
    "- **GloVe**. The \"original\" Stanford Sentiment classification [paper](http://aclweb.org/anthology/P/P15/P15-1150.pdf) used Glove embeddings, which are just another method (like *word2vec*) to get word embeddings from unannotated text. Glove is described in the following paper which you should cite if you use them:\n",
    "> Jeffrey Pennington, Richard Socher, and Christopher Manning. [\"Glove: Global vectors for word representation.\"](https://nlp.stanford.edu/pubs/glove.pdf) EMNLP 2014. \n",
    "\n",
    "- **Word2Vec**. This is the method that you learned about in class, described in:\n",
    "> Mikolov, Tomas, et al. [\"Distributed representations of words and phrases and their compositionality.\"](https://papers.nips.cc/paper/5021-distributed-representations-of-words-and-phrases-and-their-compositionality.pdf) Advances in neural information processing systems. 2013.\n",
    "\n",
    "Using these pre-trained word embeddings, we can initialize our word embedding lookup table and start form a point where similar words are already close to one another in the distributional semantic space. \n",
    "\n",
    "You can choose to keep the word embeddings **fixed** or to train them further, specialising them to the task at hand.\n",
    "We will keep them fixed for now.\n",
    "\n",
    "For the purposes of this lab, it is enough if you understand how word2vec works (whichever vectors you use), but if you are interested, we encourage you to also check out the GloVe paper.\n",
    "\n",
    "You can either download the word2vec vectors, or the Glove vectors.\n",
    "If you want to compare your results to the Stanford paper later on, then you should use Glove. \n",
    "**At the end of this lab you have the option to compare which vectors give you the best performance. For now, simply choose one of them and continue with that.**\n",
    "\n",
    "[**OPTIONAL in case you don't want to mount Google Drive:** instead of running all the 5 boxes below, you can 1) download the GloVe and word2vec in your local machine, 2) upload them on your Drive folder (\"My Drive\"). Then, uncomment the first 2 lines in box 6 before writing your code!]\n"
   ]
  },
  {
   "cell_type": "code",
   "execution_count": 55,
   "metadata": {
    "id": "lGYr02WWO993"
   },
   "outputs": [],
   "source": [
    "# This downloads the Glove 840B 300d embeddings.\n",
    "# The original file is at http://nlp.stanford.edu/data/glove.840B.300d.zip\n",
    "# Since that file is 2GB, we provide you with a *filtered version*\n",
    "# which contains all the words you need for this data set.\n",
    "\n",
    "# You only need to do this once.\n",
    "# Please comment this cell out after downloading.\n",
    "\n",
    "# !wget https://gist.githubusercontent.com/bastings/b094de2813da58056a05e8e7950d4ad1/raw/3fbd3976199c2b88de2ae62afc0ecc6f15e6f7ce/glove.840B.300d.sst.txt"
   ]
  },
  {
   "cell_type": "code",
   "execution_count": 56,
   "metadata": {
    "id": "6NLsgFGiTjmI"
   },
   "outputs": [],
   "source": [
    "# This downloads the word2vec 300D Google News vectors \n",
    "# The file has been truncated to only contain words that appear in our data set.\n",
    "# You can find the original file here: https://code.google.com/archive/p/word2vec/\n",
    "\n",
    "# You only need to do this once.\n",
    "# Please comment this out after downloading.\n",
    "# !wget https://gist.githubusercontent.com/bastings/4d1c346c68969b95f2c34cfbc00ba0a0/raw/76b4fefc9ef635a79d0d8002522543bc53ca2683/googlenews.word2vec.300d.txt"
   ]
  },
  {
   "cell_type": "code",
   "execution_count": 57,
   "metadata": {
    "cellView": "both",
    "id": "GXBITzPRQUQb"
   },
   "outputs": [],
   "source": [
    "# Mount Google Drive (to save the downloaded files)\n",
    "# from google.colab import drive\n",
    "# drive.mount('/gdrive')"
   ]
  },
  {
   "cell_type": "code",
   "execution_count": 58,
   "metadata": {
    "id": "uFvzPuiKSCbl"
   },
   "outputs": [],
   "source": [
    "# Copy word vectors *to* Google Drive\n",
    "\n",
    "# You only need to do this once.\n",
    "# Please comment this out after running it. \n",
    "# !cp \"glove.840B.300d.sst.txt\" \"/gdrive/My Drive/\"\n",
    "# !cp \"googlenews.word2vec.300d.txt\" \"/gdrive/My Drive/\""
   ]
  },
  {
   "cell_type": "code",
   "execution_count": 59,
   "metadata": {
    "id": "kUMH0bM6BuY9"
   },
   "outputs": [],
   "source": [
    "# If you copied the word vectors to your Drive before,\n",
    "# here is where you copy them back to the Colab notebook.\n",
    "\n",
    "# Copy Glove vectors *from* Google Drive\n",
    "# !cp \"/gdrive/My Drive/glove.840B.300d.sst.txt\" .\n",
    "# !cp \"/gdrive/My Drive/googlenews.word2vec.300d.txt\" ."
   ]
  },
  {
   "cell_type": "code",
   "execution_count": 60,
   "metadata": {
    "id": "xcpkoh6PIjfe"
   },
   "outputs": [],
   "source": [
    "# Uncomment these 2 lines below if went for the OPTIONAL method described above\n",
    "# !cp \"glove.840B.300d.sst.txt\" \"./\"\n",
    "# !cp \"googlenews.word2vec.300d.txt\" \"./\""
   ]
  },
  {
   "cell_type": "markdown",
   "metadata": {
    "id": "MX2GJVHILM8n"
   },
   "source": [
    "At this point you have the pre-trained word embedding files, but what do they look like?"
   ]
  },
  {
   "cell_type": "code",
   "execution_count": 61,
   "metadata": {
    "id": "ChsChH14Ruxn"
   },
   "outputs": [],
   "source": [
    "# Exercise: Print the first 4 lines of the files that you downloaded.\n",
    "# What do you see?"
   ]
  },
  {
   "cell_type": "code",
   "execution_count": 62,
   "metadata": {},
   "outputs": [],
   "source": [
    "from utils import load_txt"
   ]
  },
  {
   "cell_type": "code",
   "execution_count": 63,
   "metadata": {},
   "outputs": [],
   "source": [
    "word_embeddings_txt = load_txt(\"./googlenews.word2vec.300d.txt\")"
   ]
  },
  {
   "cell_type": "code",
   "execution_count": 64,
   "metadata": {},
   "outputs": [
    {
     "data": {
      "text/plain": [
       "18921"
      ]
     },
     "execution_count": 64,
     "metadata": {},
     "output_type": "execute_result"
    }
   ],
   "source": [
    "len(word_embeddings_txt)"
   ]
  },
  {
   "cell_type": "code",
   "execution_count": 65,
   "metadata": {},
   "outputs": [
    {
     "data": {
      "text/plain": [
       "[('in', (300,)), ('for', (300,)), ('that', (300,)), ('is', (300,))]"
      ]
     },
     "execution_count": 65,
     "metadata": {},
     "output_type": "execute_result"
    }
   ],
   "source": [
    "[(x.split(\" \")[0], np.array([float(y) for y in x.split(\" \")[1:]]).shape) for x in word_embeddings_txt[:4]]"
   ]
  },
  {
   "cell_type": "markdown",
   "metadata": {
    "id": "WIVCkUkE_IjR"
   },
   "source": [
    "#### Exercise: New Vocabulary\n",
    "\n",
    "Since we now use pre-trained word embeddings, we need to create a new vocabulary. \n",
    "This is because of two reasons:\n",
    "\n",
    "1. We do not have pre-trained word embeddings for all words in our SST training set, and we do not want words in our vocabulary for which we have no word embeddings.\n",
    "2. We should be able to look up the pre-trained word embedding for words in the validation and test set, even if these words are unseen in training. \n",
    "\n",
    "Now, create a new vocabulary object `v` based on the word set of pre-trained embeddings, and load the corresponding embeddings into a list `vectors`.\n",
    "\n",
    "The vocabulary `v` should consist of:\n",
    " - a  `<unk>` token at position 0,\n",
    " - a  `<pad>` token at position 1, \n",
    " - and then all words in the pre-trained embedding set.\n",
    " \n",
    "\n",
    "After storing each vector in a list `vectors`, turn the list into a numpy matrix like this:\n",
    "```python\n",
    " vectors = np.stack(vectors, axis=0)\n",
    "```\n",
    "\n",
    "Remember to add new embeddings for the `<unk>` and `<pad>` tokens, as they're not part of the word2vec/GloVe embeddings. These embeddings can be randomly initialized or 0-valued, think about what makes sense and see what the effects are.\n",
    " "
   ]
  },
  {
   "cell_type": "code",
   "execution_count": 66,
   "metadata": {
    "id": "ITyyCvDnCL4U"
   },
   "outputs": [
    {
     "name": "stdout",
     "output_type": "stream",
     "text": [
      "Vocabulary size: 18922 \t Vectors shape:  (18922, 300)\n"
     ]
    }
   ],
   "source": [
    "# YOUR CODE HERE\n",
    "\n",
    "v = Vocabulary()\n",
    "vectors = []\n",
    "for line in word_embeddings_txt[:-1]:\n",
    "    token, vector = line.split(\" \")[0], line.split(\" \")[1:]\n",
    "    vector = np.array([float(y) for y in vector])\n",
    "    vectors.append(vector)\n",
    "    v.count_token(token)\n",
    "\n",
    "v.build()\n",
    "vectors = np.stack(vectors, axis=0)\n",
    "\n",
    "# add zero-vectors for <unk> and <pad>\n",
    "vectors = np.concatenate([np.zeros((2, 300)), vectors], axis=0)\n",
    "\n",
    "print(\"Vocabulary size:\", len(v.w2i), \"\\t Vectors shape: \", vectors.shape)"
   ]
  },
  {
   "cell_type": "markdown",
   "metadata": {
    "id": "xC-7mRyYNG9b"
   },
   "source": [
    "#### Exercise: words not in our pre-trained set\n",
    "\n",
    "How many words in the training, dev, and test set are also in your vector set?\n",
    "How many words are not there?\n",
    "\n",
    "Store the words that are not in the word vector set in the set below."
   ]
  },
  {
   "cell_type": "code",
   "execution_count": 67,
   "metadata": {},
   "outputs": [],
   "source": [
    "def get_set_of_tokens_in_examples(examples):\n",
    "    tokens = set()\n",
    "    for e in examples:\n",
    "        tokens.update(set(e.tokens))\n",
    "    return tokens"
   ]
  },
  {
   "cell_type": "code",
   "execution_count": 68,
   "metadata": {},
   "outputs": [],
   "source": [
    "vocab_tokens = set(v.w2i.keys())\n",
    "\n",
    "train_tokens = get_set_of_tokens_in_examples(train_data)\n",
    "dev_tokens = get_set_of_tokens_in_examples(dev_data)\n",
    "test_tokens = get_set_of_tokens_in_examples(test_data)\n",
    "\n",
    "data_tokens = train_tokens.union(dev_tokens, test_tokens)\n",
    "\n",
    "common_tokens = data_tokens.intersection(vocab_tokens)\n",
    "words_not_found = data_tokens - vocab_tokens"
   ]
  },
  {
   "cell_type": "code",
   "execution_count": 69,
   "metadata": {},
   "outputs": [
    {
     "data": {
      "text/plain": [
       "(18922, 21699, 18920, 2779)"
      ]
     },
     "execution_count": 69,
     "metadata": {},
     "output_type": "execute_result"
    }
   ],
   "source": [
    "len(vocab_tokens), len(data_tokens), len(common_tokens), len(words_not_found)"
   ]
  },
  {
   "cell_type": "markdown",
   "metadata": {
    "id": "BfEd38W0NnAI"
   },
   "source": [
    "#### Exercise: train Deep CBOW with (fixed) pre-trained embeddings\n",
    "\n",
    "Now train Deep CBOW again using the pre-trained word vectors.\n"
   ]
  },
  {
   "cell_type": "code",
   "execution_count": 70,
   "metadata": {
    "id": "z_6ooqgEsB20"
   },
   "outputs": [],
   "source": [
    "# We define a new class that inherits from DeepCBOW.\n",
    "class PTDeepCBOW(DeepCBOW):\n",
    "    def __init__(self, vocab_size, embedding_dim, hidden_dim, output_dim, vocab):\n",
    "        super(PTDeepCBOW, self).__init__(\n",
    "            vocab_size, embedding_dim, hidden_dim, output_dim, vocab)"
   ]
  },
  {
   "cell_type": "code",
   "execution_count": 160,
   "metadata": {
    "collapsed": true,
    "id": "JfIh4Ni6yuAh",
    "jupyter": {
     "outputs_hidden": true
    },
    "tags": []
   },
   "outputs": [
    {
     "name": "stdout",
     "output_type": "stream",
     "text": [
      "Shuffling training data\n",
      "Iter 1000: loss=1607.8009, time=0.46s\n",
      "iter 1000: dev acc=0.2598\n",
      "new highscore\n",
      "Iter 2000: loss=1582.1987, time=0.99s\n",
      "iter 2000: dev acc=0.2843\n",
      "new highscore\n",
      "Iter 3000: loss=1559.9547, time=1.50s\n",
      "iter 3000: dev acc=0.2925\n",
      "new highscore\n",
      "Iter 4000: loss=1542.6093, time=2.03s\n",
      "iter 4000: dev acc=0.3206\n",
      "new highscore\n",
      "Iter 5000: loss=1551.9937, time=2.55s\n",
      "iter 5000: dev acc=0.2834\n",
      "Iter 6000: loss=1528.1533, time=3.05s\n",
      "iter 6000: dev acc=0.3252\n",
      "new highscore\n",
      "Iter 7000: loss=1539.8730, time=3.57s\n",
      "iter 7000: dev acc=0.3379\n",
      "new highscore\n",
      "Iter 8000: loss=1502.2782, time=4.10s\n",
      "iter 8000: dev acc=0.3533\n",
      "new highscore\n",
      "Shuffling training data\n",
      "Iter 9000: loss=1507.8419, time=4.62s\n",
      "iter 9000: dev acc=0.3533\n",
      "Iter 10000: loss=1484.5136, time=5.11s\n",
      "iter 10000: dev acc=0.3333\n",
      "Iter 11000: loss=1488.0021, time=5.60s\n",
      "iter 11000: dev acc=0.3806\n",
      "new highscore\n",
      "Iter 12000: loss=1459.0219, time=6.11s\n",
      "iter 12000: dev acc=0.3906\n",
      "new highscore\n",
      "Iter 13000: loss=1455.6738, time=6.67s\n",
      "iter 13000: dev acc=0.3760\n",
      "Iter 14000: loss=1445.4244, time=7.20s\n",
      "iter 14000: dev acc=0.3660\n",
      "Iter 15000: loss=1445.5316, time=7.71s\n",
      "iter 15000: dev acc=0.3915\n",
      "new highscore\n",
      "Iter 16000: loss=1428.6415, time=8.27s\n",
      "iter 16000: dev acc=0.4015\n",
      "new highscore\n",
      "Iter 17000: loss=1426.6692, time=8.85s\n",
      "iter 17000: dev acc=0.3942\n",
      "Shuffling training data\n",
      "Iter 18000: loss=1403.0384, time=9.35s\n",
      "iter 18000: dev acc=0.3669\n",
      "Iter 19000: loss=1403.9328, time=9.86s\n",
      "iter 19000: dev acc=0.3987\n",
      "Iter 20000: loss=1395.4424, time=10.42s\n",
      "iter 20000: dev acc=0.4015\n",
      "Iter 21000: loss=1371.8885, time=11.05s\n",
      "iter 21000: dev acc=0.4033\n",
      "new highscore\n",
      "Iter 22000: loss=1388.5057, time=11.79s\n",
      "iter 22000: dev acc=0.4078\n",
      "new highscore\n",
      "Iter 23000: loss=1378.5050, time=12.39s\n",
      "iter 23000: dev acc=0.4042\n",
      "Iter 24000: loss=1359.1095, time=12.94s\n",
      "iter 24000: dev acc=0.4142\n",
      "new highscore\n",
      "Iter 25000: loss=1393.0145, time=13.50s\n",
      "iter 25000: dev acc=0.4178\n",
      "new highscore\n",
      "Shuffling training data\n",
      "Iter 26000: loss=1368.5026, time=14.06s\n",
      "iter 26000: dev acc=0.4042\n",
      "Iter 27000: loss=1353.3073, time=14.55s\n",
      "iter 27000: dev acc=0.4178\n",
      "Iter 28000: loss=1336.1245, time=15.09s\n",
      "iter 28000: dev acc=0.4087\n",
      "Iter 29000: loss=1340.4140, time=15.65s\n",
      "iter 29000: dev acc=0.4133\n",
      "Iter 30000: loss=1363.6151, time=16.20s\n",
      "iter 30000: dev acc=0.4096\n",
      "Iter 31000: loss=1326.2594, time=16.75s\n",
      "iter 31000: dev acc=0.4151\n",
      "Iter 32000: loss=1363.5970, time=17.29s\n",
      "iter 32000: dev acc=0.4105\n",
      "Iter 33000: loss=1342.3951, time=17.83s\n",
      "iter 33000: dev acc=0.4133\n",
      "Iter 34000: loss=1331.2718, time=18.37s\n",
      "iter 34000: dev acc=0.4251\n",
      "new highscore\n",
      "Shuffling training data\n",
      "Iter 35000: loss=1312.4397, time=18.89s\n",
      "iter 35000: dev acc=0.4151\n",
      "Iter 36000: loss=1336.4995, time=19.39s\n",
      "iter 36000: dev acc=0.4105\n",
      "Iter 37000: loss=1357.8717, time=19.89s\n",
      "iter 37000: dev acc=0.4278\n",
      "new highscore\n",
      "Iter 38000: loss=1312.3247, time=20.41s\n",
      "iter 38000: dev acc=0.4196\n",
      "Iter 39000: loss=1312.9654, time=20.90s\n",
      "iter 39000: dev acc=0.4214\n",
      "Iter 40000: loss=1301.9931, time=21.40s\n",
      "iter 40000: dev acc=0.4169\n",
      "Iter 41000: loss=1332.5615, time=21.90s\n",
      "iter 41000: dev acc=0.4251\n",
      "Iter 42000: loss=1305.6530, time=22.40s\n",
      "iter 42000: dev acc=0.4169\n",
      "Shuffling training data\n",
      "Iter 43000: loss=1278.7060, time=22.90s\n",
      "iter 43000: dev acc=0.4160\n",
      "Iter 44000: loss=1312.3605, time=23.40s\n",
      "iter 44000: dev acc=0.4269\n",
      "Iter 45000: loss=1298.4021, time=23.90s\n",
      "iter 45000: dev acc=0.4178\n",
      "Iter 46000: loss=1292.3536, time=24.39s\n",
      "iter 46000: dev acc=0.4214\n",
      "Iter 47000: loss=1310.5201, time=24.89s\n",
      "iter 47000: dev acc=0.4223\n",
      "Iter 48000: loss=1311.6680, time=25.39s\n",
      "iter 48000: dev acc=0.4196\n",
      "Iter 49000: loss=1297.4601, time=25.88s\n",
      "iter 49000: dev acc=0.4269\n",
      "Iter 50000: loss=1289.2784, time=26.37s\n",
      "iter 50000: dev acc=0.4205\n",
      "Iter 51000: loss=1309.7031, time=26.87s\n",
      "iter 51000: dev acc=0.4233\n",
      "Shuffling training data\n",
      "Iter 52000: loss=1284.0280, time=27.37s\n",
      "iter 52000: dev acc=0.4214\n",
      "Iter 53000: loss=1297.6704, time=27.87s\n",
      "iter 53000: dev acc=0.4269\n",
      "Iter 54000: loss=1276.1220, time=28.36s\n",
      "iter 54000: dev acc=0.4223\n",
      "Iter 55000: loss=1319.5038, time=28.86s\n",
      "iter 55000: dev acc=0.4233\n",
      "Iter 56000: loss=1286.3558, time=29.36s\n",
      "iter 56000: dev acc=0.4223\n",
      "Iter 57000: loss=1274.7264, time=29.86s\n",
      "iter 57000: dev acc=0.4296\n",
      "new highscore\n",
      "Iter 58000: loss=1297.4420, time=30.37s\n",
      "iter 58000: dev acc=0.4223\n",
      "Iter 59000: loss=1315.9562, time=30.87s\n",
      "iter 59000: dev acc=0.4342\n",
      "new highscore\n",
      "Shuffling training data\n",
      "Iter 60000: loss=1274.5572, time=31.38s\n",
      "iter 60000: dev acc=0.4314\n",
      "Iter 61000: loss=1269.0170, time=31.88s\n",
      "iter 61000: dev acc=0.4260\n",
      "Iter 62000: loss=1267.0162, time=32.38s\n",
      "iter 62000: dev acc=0.4223\n",
      "Iter 63000: loss=1290.6821, time=32.87s\n",
      "iter 63000: dev acc=0.4251\n",
      "Iter 64000: loss=1272.3395, time=33.37s\n",
      "iter 64000: dev acc=0.4305\n",
      "Iter 65000: loss=1312.3841, time=33.87s\n",
      "iter 65000: dev acc=0.4360\n",
      "new highscore\n",
      "Iter 66000: loss=1304.0941, time=34.39s\n",
      "iter 66000: dev acc=0.4314\n",
      "Iter 67000: loss=1233.9305, time=34.89s\n",
      "iter 67000: dev acc=0.4323\n",
      "Iter 68000: loss=1284.8043, time=35.39s\n",
      "iter 68000: dev acc=0.4369\n",
      "new highscore\n",
      "Shuffling training data\n",
      "Iter 69000: loss=1280.5715, time=35.91s\n",
      "iter 69000: dev acc=0.4332\n",
      "Iter 70000: loss=1290.4706, time=36.42s\n",
      "iter 70000: dev acc=0.4360\n",
      "Iter 71000: loss=1267.6450, time=36.91s\n",
      "iter 71000: dev acc=0.4323\n",
      "Iter 72000: loss=1266.3620, time=37.41s\n",
      "iter 72000: dev acc=0.4351\n",
      "Iter 73000: loss=1248.6873, time=37.91s\n",
      "iter 73000: dev acc=0.4405\n",
      "new highscore\n",
      "Iter 74000: loss=1292.1090, time=38.42s\n",
      "iter 74000: dev acc=0.4287\n",
      "Iter 75000: loss=1286.7219, time=38.92s\n",
      "iter 75000: dev acc=0.4323\n",
      "Iter 76000: loss=1269.7698, time=39.41s\n",
      "iter 76000: dev acc=0.4323\n",
      "Shuffling training data\n",
      "Iter 77000: loss=1284.8822, time=39.91s\n",
      "iter 77000: dev acc=0.4278\n",
      "Iter 78000: loss=1269.6136, time=40.41s\n",
      "iter 78000: dev acc=0.4387\n",
      "Iter 79000: loss=1270.3227, time=40.92s\n",
      "iter 79000: dev acc=0.4287\n",
      "Iter 80000: loss=1286.1171, time=41.41s\n",
      "iter 80000: dev acc=0.4305\n",
      "Iter 81000: loss=1281.9871, time=41.91s\n",
      "iter 81000: dev acc=0.4342\n",
      "Iter 82000: loss=1279.5965, time=42.40s\n",
      "iter 82000: dev acc=0.4360\n",
      "Iter 83000: loss=1225.8949, time=42.90s\n",
      "iter 83000: dev acc=0.4414\n",
      "new highscore\n",
      "Iter 84000: loss=1290.0039, time=43.42s\n",
      "iter 84000: dev acc=0.4260\n",
      "Iter 85000: loss=1262.9256, time=43.91s\n",
      "iter 85000: dev acc=0.4342\n",
      "Shuffling training data\n",
      "Iter 86000: loss=1247.2240, time=44.41s\n",
      "iter 86000: dev acc=0.4314\n",
      "Iter 87000: loss=1249.9224, time=44.91s\n",
      "iter 87000: dev acc=0.4278\n",
      "Iter 88000: loss=1260.0627, time=45.40s\n",
      "iter 88000: dev acc=0.4387\n",
      "Iter 89000: loss=1301.0803, time=45.90s\n",
      "iter 89000: dev acc=0.4314\n",
      "Iter 90000: loss=1281.2993, time=46.39s\n",
      "iter 90000: dev acc=0.4396\n",
      "Iter 91000: loss=1259.4998, time=46.89s\n",
      "iter 91000: dev acc=0.4378\n",
      "Iter 92000: loss=1235.8723, time=47.39s\n",
      "iter 92000: dev acc=0.4405\n",
      "Iter 93000: loss=1265.1340, time=47.88s\n",
      "iter 93000: dev acc=0.4441\n",
      "new highscore\n",
      "Shuffling training data\n",
      "Iter 94000: loss=1257.2952, time=48.40s\n",
      "iter 94000: dev acc=0.4360\n",
      "Iter 95000: loss=1252.5123, time=48.90s\n",
      "iter 95000: dev acc=0.4360\n",
      "Iter 96000: loss=1233.1402, time=49.40s\n",
      "iter 96000: dev acc=0.4405\n",
      "Iter 97000: loss=1301.0514, time=49.89s\n",
      "iter 97000: dev acc=0.4432\n",
      "Iter 98000: loss=1250.0273, time=50.39s\n",
      "iter 98000: dev acc=0.4369\n",
      "Iter 99000: loss=1272.3825, time=50.89s\n",
      "iter 99000: dev acc=0.4351\n",
      "Iter 100000: loss=1227.6028, time=51.39s\n",
      "iter 100000: dev acc=0.4396\n",
      "Iter 101000: loss=1290.1455, time=51.88s\n",
      "iter 101000: dev acc=0.4423\n",
      "Iter 102000: loss=1255.6293, time=52.38s\n",
      "iter 102000: dev acc=0.4378\n",
      "Shuffling training data\n",
      "Iter 103000: loss=1257.3368, time=52.88s\n",
      "iter 103000: dev acc=0.4351\n",
      "Iter 104000: loss=1240.1688, time=53.37s\n",
      "iter 104000: dev acc=0.4441\n",
      "Iter 105000: loss=1263.5849, time=53.87s\n",
      "iter 105000: dev acc=0.4441\n",
      "Iter 106000: loss=1241.6733, time=54.37s\n",
      "iter 106000: dev acc=0.4369\n",
      "Iter 107000: loss=1272.7859, time=54.86s\n",
      "iter 107000: dev acc=0.4278\n",
      "Iter 108000: loss=1263.6807, time=55.38s\n",
      "iter 108000: dev acc=0.4514\n",
      "new highscore\n",
      "Iter 109000: loss=1247.7366, time=55.90s\n",
      "iter 109000: dev acc=0.4396\n",
      "Iter 110000: loss=1277.7924, time=56.40s\n",
      "iter 110000: dev acc=0.4387\n",
      "Iter 111000: loss=1234.6187, time=56.90s\n",
      "iter 111000: dev acc=0.4405\n",
      "Shuffling training data\n",
      "Iter 112000: loss=1265.6727, time=57.41s\n",
      "iter 112000: dev acc=0.4387\n",
      "Iter 113000: loss=1235.6321, time=57.91s\n",
      "iter 113000: dev acc=0.4396\n",
      "Iter 114000: loss=1247.1397, time=58.41s\n",
      "iter 114000: dev acc=0.4378\n",
      "Iter 115000: loss=1238.7599, time=58.91s\n",
      "iter 115000: dev acc=0.4378\n",
      "Iter 116000: loss=1227.5218, time=59.41s\n",
      "iter 116000: dev acc=0.4323\n",
      "Iter 117000: loss=1283.9610, time=59.91s\n",
      "iter 117000: dev acc=0.4432\n",
      "Iter 118000: loss=1247.8353, time=60.40s\n",
      "iter 118000: dev acc=0.4378\n",
      "Iter 119000: loss=1278.8259, time=60.90s\n",
      "iter 119000: dev acc=0.4369\n",
      "Shuffling training data\n",
      "Iter 120000: loss=1256.8587, time=61.40s\n",
      "iter 120000: dev acc=0.4441\n",
      "Iter 121000: loss=1225.6404, time=61.90s\n",
      "iter 121000: dev acc=0.4387\n",
      "Iter 122000: loss=1240.6922, time=62.40s\n",
      "iter 122000: dev acc=0.4396\n",
      "Iter 123000: loss=1254.5342, time=62.91s\n",
      "iter 123000: dev acc=0.4342\n",
      "Iter 124000: loss=1231.5631, time=63.41s\n",
      "iter 124000: dev acc=0.4423\n",
      "Iter 125000: loss=1250.5597, time=63.90s\n",
      "iter 125000: dev acc=0.4387\n",
      "Iter 126000: loss=1286.7642, time=64.41s\n",
      "iter 126000: dev acc=0.4251\n",
      "Iter 127000: loss=1238.0102, time=64.91s\n",
      "iter 127000: dev acc=0.4296\n",
      "Iter 128000: loss=1253.1136, time=65.40s\n",
      "iter 128000: dev acc=0.4387\n",
      "Shuffling training data\n",
      "Iter 129000: loss=1274.4984, time=65.91s\n",
      "iter 129000: dev acc=0.4269\n",
      "Iter 130000: loss=1267.4338, time=66.40s\n",
      "iter 130000: dev acc=0.4432\n",
      "Iter 131000: loss=1246.5713, time=66.90s\n",
      "iter 131000: dev acc=0.4396\n",
      "Iter 132000: loss=1240.2747, time=67.39s\n",
      "iter 132000: dev acc=0.4405\n",
      "Iter 133000: loss=1231.0318, time=67.89s\n",
      "iter 133000: dev acc=0.4332\n",
      "Iter 134000: loss=1228.2804, time=68.39s\n",
      "iter 134000: dev acc=0.4323\n",
      "Iter 135000: loss=1228.3204, time=68.89s\n",
      "iter 135000: dev acc=0.4441\n",
      "Iter 136000: loss=1275.0519, time=69.38s\n",
      "iter 136000: dev acc=0.4487\n",
      "Shuffling training data\n",
      "Iter 137000: loss=1239.3212, time=69.88s\n",
      "iter 137000: dev acc=0.4423\n",
      "Iter 138000: loss=1244.2635, time=70.38s\n",
      "iter 138000: dev acc=0.4423\n",
      "Iter 139000: loss=1260.3113, time=70.88s\n",
      "iter 139000: dev acc=0.4342\n",
      "Iter 140000: loss=1226.8177, time=71.38s\n",
      "iter 140000: dev acc=0.4423\n",
      "Iter 141000: loss=1239.3087, time=71.88s\n",
      "iter 141000: dev acc=0.4369\n",
      "Iter 142000: loss=1234.3751, time=72.37s\n",
      "iter 142000: dev acc=0.4423\n",
      "Iter 143000: loss=1239.9622, time=72.87s\n",
      "iter 143000: dev acc=0.4405\n",
      "Iter 144000: loss=1235.2597, time=73.37s\n",
      "iter 144000: dev acc=0.4323\n",
      "Iter 145000: loss=1266.7901, time=73.87s\n",
      "iter 145000: dev acc=0.4441\n",
      "Shuffling training data\n",
      "Iter 146000: loss=1260.1480, time=74.37s\n",
      "iter 146000: dev acc=0.4432\n",
      "Iter 147000: loss=1247.3532, time=74.87s\n",
      "iter 147000: dev acc=0.4423\n",
      "Iter 148000: loss=1211.6351, time=75.38s\n",
      "iter 148000: dev acc=0.4414\n",
      "Iter 149000: loss=1281.9419, time=75.88s\n",
      "iter 149000: dev acc=0.4360\n",
      "Iter 150000: loss=1256.9219, time=76.40s\n",
      "iter 150000: dev acc=0.4332\n",
      "Iter 151000: loss=1208.6867, time=76.91s\n",
      "iter 151000: dev acc=0.4351\n",
      "Iter 152000: loss=1255.3948, time=77.41s\n",
      "iter 152000: dev acc=0.4342\n",
      "Iter 153000: loss=1254.1852, time=77.91s\n",
      "iter 153000: dev acc=0.4414\n",
      "Shuffling training data\n",
      "Iter 154000: loss=1210.0354, time=78.41s\n",
      "iter 154000: dev acc=0.4405\n",
      "Iter 155000: loss=1198.8426, time=78.91s\n",
      "iter 155000: dev acc=0.4351\n",
      "Iter 156000: loss=1248.7650, time=79.40s\n",
      "iter 156000: dev acc=0.4441\n",
      "Iter 157000: loss=1271.3586, time=79.90s\n",
      "iter 157000: dev acc=0.4387\n",
      "Iter 158000: loss=1281.7291, time=80.41s\n",
      "iter 158000: dev acc=0.4387\n",
      "Iter 159000: loss=1232.6113, time=80.90s\n",
      "iter 159000: dev acc=0.4396\n",
      "Iter 160000: loss=1243.5860, time=81.40s\n",
      "iter 160000: dev acc=0.4360\n",
      "Iter 161000: loss=1224.2053, time=81.89s\n",
      "iter 161000: dev acc=0.4441\n",
      "Iter 162000: loss=1219.0252, time=82.39s\n",
      "iter 162000: dev acc=0.4405\n",
      "Shuffling training data\n",
      "Iter 163000: loss=1280.5382, time=82.89s\n",
      "iter 163000: dev acc=0.4478\n",
      "Iter 164000: loss=1213.3616, time=83.38s\n",
      "iter 164000: dev acc=0.4332\n",
      "Iter 165000: loss=1205.1621, time=83.88s\n",
      "iter 165000: dev acc=0.4305\n",
      "Iter 166000: loss=1255.3070, time=84.37s\n",
      "iter 166000: dev acc=0.4423\n",
      "Iter 167000: loss=1248.0917, time=84.87s\n",
      "iter 167000: dev acc=0.4378\n",
      "Iter 168000: loss=1234.9860, time=85.37s\n",
      "iter 168000: dev acc=0.4387\n",
      "Iter 169000: loss=1216.7206, time=85.86s\n",
      "iter 169000: dev acc=0.4360\n",
      "Iter 170000: loss=1245.0877, time=86.36s\n",
      "iter 170000: dev acc=0.4387\n",
      "Shuffling training data\n",
      "Iter 171000: loss=1272.3921, time=86.87s\n",
      "iter 171000: dev acc=0.4478\n",
      "Iter 172000: loss=1196.0609, time=87.36s\n",
      "iter 172000: dev acc=0.4405\n",
      "Iter 173000: loss=1234.1068, time=87.86s\n",
      "iter 173000: dev acc=0.4460\n",
      "Iter 174000: loss=1220.4120, time=88.36s\n",
      "iter 174000: dev acc=0.4441\n",
      "Iter 175000: loss=1250.9329, time=88.86s\n",
      "iter 175000: dev acc=0.4342\n",
      "Iter 176000: loss=1259.7895, time=89.35s\n",
      "iter 176000: dev acc=0.4396\n",
      "Iter 177000: loss=1256.6451, time=89.87s\n",
      "iter 177000: dev acc=0.4314\n",
      "Iter 178000: loss=1243.8165, time=90.39s\n",
      "iter 178000: dev acc=0.4369\n",
      "Iter 179000: loss=1227.3822, time=90.90s\n",
      "iter 179000: dev acc=0.4405\n",
      "Shuffling training data\n",
      "Iter 180000: loss=1236.3162, time=91.42s\n",
      "iter 180000: dev acc=0.4342\n",
      "Iter 181000: loss=1217.6814, time=91.93s\n",
      "iter 181000: dev acc=0.4332\n",
      "Iter 182000: loss=1207.1939, time=92.45s\n",
      "iter 182000: dev acc=0.4369\n",
      "Iter 183000: loss=1225.9427, time=93.03s\n",
      "iter 183000: dev acc=0.4396\n",
      "Iter 184000: loss=1232.1753, time=93.54s\n",
      "iter 184000: dev acc=0.4423\n",
      "Iter 185000: loss=1236.0203, time=94.05s\n",
      "iter 185000: dev acc=0.4432\n",
      "Iter 186000: loss=1228.4339, time=94.57s\n",
      "iter 186000: dev acc=0.4360\n",
      "Iter 187000: loss=1260.8438, time=95.09s\n",
      "iter 187000: dev acc=0.4342\n",
      "Shuffling training data\n",
      "Iter 188000: loss=1258.9959, time=95.60s\n",
      "iter 188000: dev acc=0.4387\n",
      "Iter 189000: loss=1217.2971, time=96.11s\n",
      "iter 189000: dev acc=0.4414\n",
      "Iter 190000: loss=1236.6917, time=96.63s\n",
      "iter 190000: dev acc=0.4414\n",
      "Iter 191000: loss=1247.8998, time=97.14s\n",
      "iter 191000: dev acc=0.4251\n",
      "Iter 192000: loss=1208.8789, time=97.70s\n",
      "iter 192000: dev acc=0.4460\n",
      "Iter 193000: loss=1238.0262, time=98.21s\n",
      "iter 193000: dev acc=0.4441\n",
      "Iter 194000: loss=1224.3701, time=98.77s\n",
      "iter 194000: dev acc=0.4505\n",
      "Iter 195000: loss=1235.9880, time=99.27s\n",
      "iter 195000: dev acc=0.4432\n",
      "Iter 196000: loss=1252.3427, time=99.77s\n",
      "iter 196000: dev acc=0.4305\n",
      "Shuffling training data\n",
      "Iter 197000: loss=1208.0189, time=100.27s\n",
      "iter 197000: dev acc=0.4287\n",
      "Iter 198000: loss=1224.1809, time=100.77s\n",
      "iter 198000: dev acc=0.4323\n",
      "Iter 199000: loss=1238.1358, time=101.26s\n",
      "iter 199000: dev acc=0.4351\n",
      "Iter 200000: loss=1253.8901, time=101.77s\n",
      "iter 200000: dev acc=0.4351\n",
      "Done training\n",
      "Loading best model\n",
      "best model iter 108000: train acc=0.4604, dev acc=0.4514, test acc=0.4439\n"
     ]
    }
   ],
   "source": [
    "# Create a Deep CBOW model with pre-trained embeddings\n",
    "# YOUR CODE HERE\n",
    "pt_deep_cbow_model = PTDeepCBOW(len(v.w2i), 300, 100, 5, v)\n",
    "\n",
    "# copy pre-trained word vectors into embeddings table\n",
    "pt_deep_cbow_model.net[0].weight.data.copy_(torch.from_numpy(vectors))\n",
    "\n",
    "# disable training the pre-trained embeddings\n",
    "pt_deep_cbow_model.net[0].weight.requires_grad = False\n",
    "\n",
    "# move model to specified device\n",
    "pt_deep_cbow_model = pt_deep_cbow_model.to(device)\n",
    "\n",
    "# train the model\n",
    "optimizer = optim.Adam(pt_deep_cbow_model.parameters(), lr=0.00001)\n",
    "pt_deep_cbow_losses, pt_deep_cbow_accuracies = train_model(\n",
    "    pt_deep_cbow_model, optimizer, num_iterations=200000,\n",
    "    print_every=1000, eval_every=1000)"
   ]
  },
  {
   "cell_type": "code",
   "execution_count": 161,
   "metadata": {},
   "outputs": [
    {
     "data": {
      "image/png": "[encoded data removed]",
      "text/plain": [
       "<Figure size 640x480 with 1 Axes>"
      ]
     },
     "metadata": {},
     "output_type": "display_data"
    }
   ],
   "source": [
    "# This will plot the validation accuracies across time.\n",
    "\n",
    "plt.plot(pt_deep_cbow_accuracies)\n",
    "\n",
    "plt.grid()\n",
    "plt.title(\"DeepCBOW Model Dev Accuracy\")\n",
    "plt.xlabel(\"Iterations\")\n",
    "plt.ylabel(\"Accuracy\")\n",
    "plt.show()"
   ]
  },
  {
   "cell_type": "code",
   "execution_count": 162,
   "metadata": {
    "id": "YTJtKBzd7Qjr"
   },
   "outputs": [
    {
     "data": {
      "image/png": "[encoded data removed]",
      "text/plain": [
       "<Figure size 640x480 with 1 Axes>"
      ]
     },
     "metadata": {},
     "output_type": "display_data"
    }
   ],
   "source": [
    "# This will plot the train loss across time.\n",
    "\n",
    "plt.plot(pt_deep_cbow_losses)\n",
    "\n",
    "plt.grid()\n",
    "plt.title(\"DeepCBOW Model Train Loss\")\n",
    "plt.xlabel(\"Iterations\")\n",
    "plt.ylabel(\"Accuracy\")\n",
    "plt.show()"
   ]
  },
  {
   "cell_type": "markdown",
   "metadata": {
    "id": "yFu8xzCy9XDW"
   },
   "source": [
    "**It looks like we've hit what is possible with just using words.**\n",
    "Let's move on by incorporating word order!"
   ]
  },
  {
   "cell_type": "markdown",
   "metadata": {
    "id": "g41yW4PL9jG0"
   },
   "source": [
    "# LSTM"
   ]
  },
  {
   "cell_type": "markdown",
   "metadata": {
    "id": "ODzXEH0MaGpa"
   },
   "source": [
    "It is time to get more serious. Even with pre-trained word embeddings and multiple layers, we still seem to do pretty badly at sentiment classification. \n",
    "The next step we can take is to introduce word order again, dropping our independence assumptions. In this way, we can get a representation of the sentence as an ordered set of tokens.\n",
    "\n",
    "We will get this representation using a **Long Short-Term Memory** (LSTM). As an exercise, we will code our own LSTM cell, so that we get comfortable with its inner workings.\n",
    "Once we have an LSTM cell, we can call it repeatedly, updating its hidden state one word at a time:\n",
    "\n",
    "```python\n",
    "rnn = MyLSTMCell(input_size, hidden_size)\n",
    "\n",
    "hx = torch.zeros(1, hidden_size)  # initial hidden state\n",
    "cx = torch.zeros(1, hidden_size)  # initial memory cell\n",
    "output = []                       # to save intermediate LSTM states\n",
    "\n",
    "# feed one word at a time\n",
    "for i in range(n_timesteps):\n",
    "  hx, cx = rnn(input[i], (hx, cx))\n",
    "  output.append(hx)\n",
    "```\n",
    "\n",
    "If you need some more help understanding LSTMs, you can check out these resources:\n",
    "- Blog post (highly recommended): http://colah.github.io/posts/2015-08-Understanding-LSTMs/\n",
    "- Paper covering LSTM formulas in detail: https://arxiv.org/abs/1503.04069 \n"
   ]
  },
  {
   "cell_type": "markdown",
   "metadata": {
    "id": "v9f4b45BXKFC"
   },
   "source": [
    "#### Exercise: Finish the LSTM cell below. \n",
    "You will need to implement the LSTM formulas:\n",
    "\n",
    "$$\n",
    "\\begin{array}{ll}\n",
    "        i = \\sigma(W_{ii} x + b_{ii} + W_{hi} h + b_{hi}) \\\\\n",
    "        f = \\sigma(W_{if} x + b_{if} + W_{hf} h + b_{hf}) \\\\\n",
    "        g = \\tanh(W_{ig} x + b_{ig} + W_{hg} h + b_{hg}) \\\\\n",
    "        o = \\sigma(W_{io} x + b_{io} + W_{ho} h + b_{ho}) \\\\\n",
    "        c' = f * c + i * g \\\\\n",
    "        h' = o \\tanh(c') \\\\\n",
    "\\end{array}\n",
    " $$\n",
    "\n",
    "where $\\sigma$ is the sigmoid function.\n",
    "\n",
    "*Note that the LSTM formulas can differ slightly between different papers. We use the PyTorch LSTM formulation here.*"
   ]
  },
  {
   "cell_type": "code",
   "execution_count": 71,
   "metadata": {
    "id": "zJ9m5kLMd7-v"
   },
   "outputs": [],
   "source": [
    "class MyLSTMCell(nn.Module):\n",
    "    \"\"\"Our own LSTM cell\"\"\"\n",
    "\n",
    "    def __init__(self, input_size, hidden_size, bias=True):\n",
    "        \"\"\"Creates the weights for this LSTM\"\"\"\n",
    "        super(MyLSTMCell, self).__init__()\n",
    "\n",
    "        self.input_size = input_size\n",
    "        self.hidden_size = hidden_size\n",
    "        self.bias = bias\n",
    "        \n",
    "        self.chunks = 4\n",
    "        \n",
    "        # define layers to project input x to Wx + b\n",
    "        self.input_projectors = nn.Linear(input_size * self.chunks, hidden_size * self.chunks)\n",
    "\n",
    "        # define layers to project hidden h to Wh + b\n",
    "        self.hidden_projectors = nn.Linear(hidden_size * self.chunks, hidden_size * self.chunks)\n",
    "        \n",
    "        # define activations\n",
    "        self.sigmoid = nn.Sigmoid()\n",
    "        self.tanh = nn.Tanh()\n",
    "\n",
    "        self.reset_parameters()\n",
    "\n",
    "    def reset_parameters(self):\n",
    "        \"\"\"This is PyTorch's default initialization method\"\"\"\n",
    "        stdv = 1.0 / math.sqrt(self.hidden_size)\n",
    "        for weight in self.parameters():\n",
    "            weight.data.uniform_(-stdv, stdv)  \n",
    "\n",
    "    def forward(self, input_, hx, mask=None):\n",
    "        \"\"\"\n",
    "        input is (batch, input_size)\n",
    "        hx is ((batch, hidden_size), (batch, hidden_size))\n",
    "        \"\"\"\n",
    "        prev_h, prev_c = hx\n",
    "\n",
    "        # project input and prev state\n",
    "\n",
    "        input_repeated = torch.repeat_interleave(input_, self.chunks, dim=1)\n",
    "        [ix, fx, gx, ox] = torch.chunk(self.input_projectors(input_repeated), chunks=self.chunks, dim=1)        \n",
    "        prev_h_repeated = torch.repeat_interleave(prev_h, self.chunks, dim=1)\n",
    "        [ih, fh, gh, oh] = torch.chunk(self.hidden_projectors(prev_h_repeated), chunks=self.chunks, dim=1)\n",
    "\n",
    "        # main LSTM computation\n",
    "\n",
    "        i = self.sigmoid(ix + ih)\n",
    "        f = self.sigmoid(fx + fh)\n",
    "        g = self.tanh(gx + gh)\n",
    "        o = self.sigmoid(ox + oh)\n",
    "\n",
    "        c = f * prev_c + i * g\n",
    "        h = o * self.tanh(c)\n",
    "\n",
    "        return h, c\n",
    "\n",
    "    def __repr__(self):\n",
    "        return \"{}({:d}, {:d})\".format(self.__class__.__name__, self.input_size, self.hidden_size)"
   ]
  },
  {
   "cell_type": "code",
   "execution_count": 72,
   "metadata": {},
   "outputs": [],
   "source": [
    "# Test LSTM cell\n",
    "\n",
    "cell = MyLSTMCell(300, 128)\n",
    "\n",
    "x = torch.randn((1, 300))\n",
    "hx = (torch.randn(1, 128), torch.randn(1, 128))\n",
    "h, c = cell(x, hx)\n",
    "\n",
    "assert h.shape == torch.Size([1, 128])\n",
    "assert c.shape == torch.Size([1, 128])"
   ]
  },
  {
   "cell_type": "markdown",
   "metadata": {
    "id": "4JM7xPhkQeE5"
   },
   "source": [
    "#### Optional: Efficient Matrix Multiplication\n",
    "\n",
    "It is more efficient to do a few big matrix multiplications than to do many smaller ones. So we will implement the above cell using just **two** linear layers.\n",
    "\n",
    "This is possible because the eight linear transformations contained in one forward pass through an LSTM cell can be reduced to just two:\n",
    "$$W_h h + b_h$$\n",
    "$$W_i x + b_i $$ \n",
    "\n",
    "with $h = $ `prev_h` and $x = $ `input_`.\n",
    "\n",
    "and where: \n",
    "\n",
    "$W_h =  \\begin{pmatrix}\n",
    "W_{hi}\\\\ \n",
    "W_{hf}\\\\ \n",
    "W_{hg}\\\\ \n",
    "W_{ho}\n",
    "\\end{pmatrix}$, $b_h = \\begin{pmatrix}\n",
    "b_{hi}\\\\ \n",
    "b_{hf}\\\\ \n",
    "b_{hg}\\\\ \n",
    "b_{ho}\n",
    "\\end{pmatrix}$,  $W_i = \\begin{pmatrix}\n",
    "W_{ii}\\\\ \n",
    "W_{if}\\\\ \n",
    "W_{ig}\\\\ \n",
    "W_{io}\n",
    "\\end{pmatrix}$ and $b_i = \\begin{pmatrix}\n",
    "b_{ii}\\\\ \n",
    "b_{if}\\\\ \n",
    "b_{ig}\\\\ \n",
    "b_{io}\n",
    "\\end{pmatrix}$.\n",
    "\n",
    "Convince yourself that, after chunking with [torch.chunk](https://pytorch.org/docs/stable/torch.html?highlight=chunk#torch.chunk), the output of those two linear transformations is equivalent to the output of the eight linear transformations in the LSTM cell calculations above."
   ]
  },
  {
   "cell_type": "markdown",
   "metadata": {
    "id": "X9gA-UcqSBe0"
   },
   "source": [
    "#### LSTM Classifier\n",
    "\n",
    "Having an LSTM cell is not enough: we still need some code that calls it repeatedly, and then makes a prediction from the final hidden state. \n",
    "You will find that code below. Make sure that you understand it."
   ]
  },
  {
   "cell_type": "code",
   "execution_count": 73,
   "metadata": {
    "id": "3iuYZm5poEn5"
   },
   "outputs": [],
   "source": [
    "class LSTMClassifier(nn.Module):\n",
    "    \"\"\"Encodes sentence with an LSTM and projects final hidden state\"\"\"\n",
    "    \n",
    "    def __init__(self, vocab_size, embedding_dim, hidden_dim, output_dim, vocab):\n",
    "        super(LSTMClassifier, self).__init__()\n",
    "        self.vocab = vocab\n",
    "        self.hidden_dim = hidden_dim\n",
    "        self.embed = nn.Embedding(vocab_size, embedding_dim, padding_idx=1)\n",
    "        self.rnn = MyLSTMCell(embedding_dim, hidden_dim)\n",
    "\n",
    "        self.output_layer = nn.Sequential(\n",
    "            nn.Dropout(p=0.5),  # explained later\n",
    "            nn.Linear(hidden_dim, output_dim)\n",
    "        )\n",
    "\n",
    "    def forward(self, x):\n",
    "\n",
    "        B = x.size(0)  # batch size (this is 1 for now, i.e. 1 single example)\n",
    "        T = x.size(1)  # timesteps (the number of words in the sentence)\n",
    "\n",
    "        input_ = self.embed(x)\n",
    "\n",
    "        # here we create initial hidden states containing zeros\n",
    "        # we use a trick here so that, if input is on the GPU, then so are hx and cx\n",
    "        hx = input_.new_zeros(B, self.rnn.hidden_size)\n",
    "        cx = input_.new_zeros(B, self.rnn.hidden_size)\n",
    "\n",
    "        # process input sentences one word/timestep at a time\n",
    "        # input is batch-major (i.e., batch size is the first dimension)\n",
    "        # so the first word(s) is (are) input_[:, 0]\n",
    "        outputs = []\n",
    "\n",
    "        for i in range(T):\n",
    "            hx, cx = self.rnn(input_[:, i], (hx, cx))\n",
    "            outputs.append(hx)\n",
    "    \n",
    "        # if we have a single example, our final LSTM state is the last hx\n",
    "        if B == 1:\n",
    "            final = hx\n",
    "        else:\n",
    "            #\n",
    "            # This part is explained in next section, ignore this else-block for now.\n",
    "            #\n",
    "            # We processed sentences with different lengths, so some of the sentences\n",
    "            # had already finished and we have been adding padding inputs to hx.\n",
    "            # We select the final state based on the length of each sentence.\n",
    "      \n",
    "            # two lines below not needed if using LSTM from pytorch\n",
    "            outputs = torch.stack(outputs, dim=0)           # [T, B, D]\n",
    "            outputs = outputs.transpose(0, 1).contiguous()  # [B, T, D]\n",
    "\n",
    "            # to be super-sure we're not accidentally indexing the wrong state\n",
    "            # we zero out positions that are invalid\n",
    "            pad_positions = (x == 1).unsqueeze(-1)\n",
    "\n",
    "            outputs = outputs.contiguous()      \n",
    "            outputs = outputs.masked_fill_(pad_positions, 0.)\n",
    "\n",
    "            mask = (x != 1)  # true for valid positions [B, T]\n",
    "            lengths = mask.sum(dim=1)                 # [B, 1]\n",
    "\n",
    "            indexes = (lengths - 1) + torch.arange(B, device=x.device, dtype=x.dtype) * T\n",
    "            final = outputs.view(-1, self.hidden_dim)[indexes]  # [B, D]\n",
    "    \n",
    "        # we use the last hidden state to classify the sentence\n",
    "        logits = self.output_layer(final)\n",
    "        return logits"
   ]
  },
  {
   "cell_type": "code",
   "execution_count": 74,
   "metadata": {},
   "outputs": [],
   "source": [
    "# test LSTMClassifier\n",
    "\n",
    "clf = LSTMClassifier(len(v.w2i), 300, 128, 5, v)\n",
    "\n",
    "x = torch.tensor([[34, 2, 12, 5, 4, 190, 784, 12]])\n",
    "y = clf(x)\n",
    "\n",
    "assert y.shape == torch.Size([1, 5])"
   ]
  },
  {
   "cell_type": "markdown",
   "metadata": {
    "id": "FxFoVpvMPB6g"
   },
   "source": [
    "#### Dropout\n",
    "\n",
    "Data sparsity and a small data set can cause *overfitting*. This is a phenomenom that is very likely to occur when training strong and expressive models, like LSTMs, on small data. In practice, if your model overfits, this means that it will be very good at predicting (or \"remembering\") the sentiment of the training set, but unable to generalise to new, unseen data in the test set. This is undesirable and one technique to mitigate this issue is *dropout*. \n",
    "\n",
    "A dropout layer is defined by the following formula, which can be applied, for example, to a linear layer:\n",
    "\n",
    "$$\\text{tanh}(W(\\mathbf{h}\\odot \\mathbf{d}) + \\mathbf{b})$$\n",
    "\n",
    "where $\\mathbf{d} \\in \\{0, 1\\}^n$, with $d_j \\sim \\text{Bernoulli}(p)$, \n",
    "\n",
    "These formula simply means that we *drop* certain parameters during training (by setting them to zero). Which parameters we drop is stochastically determined by a Bernoulli distribution and the probability of each parameter being dropped is set to $p = 0.5$ in our experiments (see the previous cell of code where we define our output layer). A dropout layer can be applied at many different places in our models. This technique helps against the undesirable effect that a model relies on single parameters for prediction (e.g. if $h^{\\prime}_j$ is large, always predict positive). If we use dropout, the model needs to learn to rely on different parameters, which is desirable to obtain better generalisation to unseen data."
   ]
  },
  {
   "cell_type": "markdown",
   "metadata": {
    "id": "XQjEjLt9z0XW"
   },
   "source": [
    "**Let's train our LSTM!** Note that is will be a lot slower than previous models because we need to do many more computations per sentence.\n",
    "\n",
    "#### Training"
   ]
  },
  {
   "cell_type": "code",
   "execution_count": 76,
   "metadata": {},
   "outputs": [],
   "source": [
    "from utils import plot_single_sequence, plot_two_sequences"
   ]
  },
  {
   "cell_type": "code",
   "execution_count": 75,
   "metadata": {
    "collapsed": true,
    "id": "LgZoSPD4fsf_",
    "jupyter": {
     "outputs_hidden": true
    },
    "tags": []
   },
   "outputs": [
    {
     "name": "stdout",
     "output_type": "stream",
     "text": [
      "LSTMClassifier(\n",
      "  (embed): Embedding(18922, 300, padding_idx=1)\n",
      "  (rnn): MyLSTMCell(300, 168)\n",
      "  (output_layer): Sequential(\n",
      "    (0): Dropout(p=0.5, inplace=False)\n",
      "    (1): Linear(in_features=168, out_features=5, bias=True)\n",
      "  )\n",
      ")\n",
      "embed.weight             [18922, 300] requires_grad=False\n",
      "rnn.input_projectors.weight [672, 1200]  requires_grad=True\n",
      "rnn.input_projectors.bias [672]        requires_grad=True\n",
      "rnn.hidden_projectors.weight [672, 672]   requires_grad=True\n",
      "rnn.hidden_projectors.bias [672]        requires_grad=True\n",
      "output_layer.1.weight    [5, 168]     requires_grad=True\n",
      "output_layer.1.bias      [5]          requires_grad=True\n",
      "\n",
      "Total number of parameters: 6936773\n",
      "\n",
      "Shuffling training data\n",
      "Iter 250: loss=400.5197, time=5.67s\n",
      "Iter 500: loss=395.5923, time=12.17s\n",
      "Iter 750: loss=391.6395, time=18.23s\n",
      "Iter 1000: loss=392.4350, time=24.01s\n",
      "iter 1000: dev acc=0.2870\n",
      "new highscore\n",
      "Iter 1250: loss=391.0714, time=32.31s\n",
      "Iter 1500: loss=370.7734, time=39.53s\n",
      "Iter 1750: loss=368.0385, time=45.30s\n",
      "Iter 2000: loss=377.6832, time=51.31s\n",
      "iter 2000: dev acc=0.3633\n",
      "new highscore\n",
      "Iter 2250: loss=367.3405, time=60.00s\n",
      "Iter 2500: loss=360.0775, time=65.81s\n",
      "Iter 2750: loss=369.7138, time=71.78s\n",
      "Iter 3000: loss=372.9096, time=77.92s\n",
      "iter 3000: dev acc=0.2589\n",
      "Iter 3250: loss=388.8895, time=86.51s\n",
      "Iter 3500: loss=374.8535, time=92.30s\n",
      "Iter 3750: loss=365.8230, time=98.01s\n",
      "Iter 4000: loss=360.7390, time=104.07s\n",
      "iter 4000: dev acc=0.3433\n",
      "Iter 4250: loss=358.5574, time=112.66s\n",
      "Iter 4500: loss=362.7408, time=118.41s\n",
      "Iter 4750: loss=356.4803, time=124.24s\n",
      "Iter 5000: loss=355.7420, time=130.13s\n",
      "iter 5000: dev acc=0.3969\n",
      "new highscore\n",
      "Iter 5250: loss=343.2018, time=138.91s\n",
      "Iter 5500: loss=346.5115, time=144.45s\n",
      "Iter 5750: loss=351.9179, time=150.03s\n",
      "Iter 6000: loss=344.7102, time=155.91s\n",
      "iter 6000: dev acc=0.4024\n",
      "new highscore\n",
      "Iter 6250: loss=337.2411, time=164.91s\n",
      "Iter 6500: loss=355.3102, time=170.61s\n",
      "Iter 6750: loss=357.1061, time=176.39s\n",
      "Iter 7000: loss=335.2001, time=181.99s\n",
      "iter 7000: dev acc=0.4342\n",
      "new highscore\n",
      "Iter 7250: loss=334.7024, time=190.57s\n",
      "Iter 7500: loss=379.1803, time=196.43s\n",
      "Iter 7750: loss=381.0436, time=202.08s\n",
      "Iter 8000: loss=362.1518, time=207.96s\n",
      "iter 8000: dev acc=0.3787\n",
      "Iter 8250: loss=357.2390, time=216.45s\n",
      "Iter 8500: loss=350.1476, time=222.29s\n",
      "Shuffling training data\n",
      "Iter 8750: loss=353.5476, time=228.14s\n",
      "Iter 9000: loss=338.2630, time=233.90s\n",
      "iter 9000: dev acc=0.3978\n",
      "Iter 9250: loss=325.9317, time=242.36s\n",
      "Iter 9500: loss=331.9250, time=248.35s\n",
      "Iter 9750: loss=317.6065, time=253.82s\n",
      "Iter 10000: loss=331.5681, time=259.67s\n",
      "iter 10000: dev acc=0.3778\n",
      "Iter 10250: loss=329.5335, time=268.71s\n",
      "Iter 10500: loss=326.7304, time=274.45s\n",
      "Iter 10750: loss=322.7071, time=280.21s\n",
      "Iter 11000: loss=328.7554, time=285.71s\n",
      "iter 11000: dev acc=0.4323\n",
      "Iter 11250: loss=312.2888, time=294.59s\n",
      "Iter 11500: loss=329.3685, time=300.26s\n",
      "Iter 11750: loss=323.4087, time=305.77s\n",
      "Iter 12000: loss=337.5389, time=311.63s\n",
      "iter 12000: dev acc=0.4033\n",
      "Iter 12250: loss=321.0316, time=320.26s\n",
      "Iter 12500: loss=310.7224, time=326.12s\n",
      "Iter 12750: loss=315.2805, time=332.00s\n",
      "Iter 13000: loss=306.5017, time=337.55s\n",
      "iter 13000: dev acc=0.4351\n",
      "new highscore\n",
      "Iter 13250: loss=320.4926, time=346.18s\n",
      "Iter 13500: loss=318.0083, time=352.07s\n",
      "Iter 13750: loss=319.5637, time=358.02s\n",
      "Iter 14000: loss=325.5940, time=363.76s\n",
      "iter 14000: dev acc=0.4287\n",
      "Iter 14250: loss=308.8272, time=372.50s\n",
      "Iter 14500: loss=303.9951, time=378.48s\n",
      "Iter 14750: loss=328.5887, time=384.51s\n",
      "Iter 15000: loss=315.3254, time=389.97s\n",
      "iter 15000: dev acc=0.4423\n",
      "new highscore\n",
      "Iter 15250: loss=327.4493, time=398.66s\n",
      "Iter 15500: loss=308.5350, time=404.60s\n",
      "Iter 15750: loss=319.1400, time=410.92s\n",
      "Iter 16000: loss=309.3628, time=416.94s\n",
      "iter 16000: dev acc=0.4096\n",
      "Iter 16250: loss=314.9696, time=425.56s\n",
      "Iter 16500: loss=319.2190, time=431.56s\n",
      "Iter 16750: loss=313.2417, time=437.15s\n",
      "Iter 17000: loss=312.9358, time=442.74s\n",
      "iter 17000: dev acc=0.4369\n",
      "Shuffling training data\n",
      "Iter 17250: loss=303.8603, time=451.42s\n",
      "Iter 17500: loss=309.6812, time=457.00s\n",
      "Iter 17750: loss=302.5455, time=462.72s\n",
      "Iter 18000: loss=287.0938, time=468.87s\n",
      "iter 18000: dev acc=0.4505\n",
      "new highscore\n",
      "Iter 18250: loss=300.9118, time=477.46s\n",
      "Iter 18500: loss=308.3335, time=483.49s\n",
      "Iter 18750: loss=306.1469, time=488.98s\n",
      "Iter 19000: loss=294.3587, time=494.70s\n",
      "iter 19000: dev acc=0.4687\n",
      "new highscore\n",
      "Iter 19250: loss=272.6818, time=504.85s\n",
      "Iter 19500: loss=294.0386, time=511.30s\n",
      "Iter 19750: loss=301.5723, time=517.63s\n",
      "Iter 20000: loss=282.1298, time=524.59s\n",
      "iter 20000: dev acc=0.4587\n",
      "Iter 20250: loss=297.0901, time=534.07s\n",
      "Iter 20500: loss=284.1294, time=540.21s\n",
      "Iter 20750: loss=324.2745, time=546.55s\n",
      "Iter 21000: loss=291.5583, time=552.70s\n",
      "iter 21000: dev acc=0.4523\n",
      "Iter 21250: loss=286.7983, time=562.14s\n",
      "Iter 21500: loss=292.2980, time=568.41s\n",
      "Iter 21750: loss=285.7421, time=574.38s\n",
      "Iter 22000: loss=308.7522, time=580.41s\n",
      "iter 22000: dev acc=0.4514\n",
      "Iter 22250: loss=286.0039, time=589.73s\n",
      "Iter 22500: loss=306.3905, time=596.06s\n",
      "Iter 22750: loss=314.4568, time=602.28s\n",
      "Iter 23000: loss=290.7755, time=608.38s\n",
      "iter 23000: dev acc=0.4523\n",
      "Iter 23250: loss=284.2778, time=617.87s\n",
      "Iter 23500: loss=285.4388, time=623.96s\n",
      "Iter 23750: loss=272.6245, time=629.96s\n",
      "Iter 24000: loss=280.2841, time=635.94s\n",
      "iter 24000: dev acc=0.4596\n",
      "Iter 24250: loss=296.0316, time=645.52s\n",
      "Iter 24500: loss=315.5662, time=651.54s\n",
      "Iter 24750: loss=299.5651, time=657.59s\n",
      "Iter 25000: loss=291.8083, time=663.64s\n",
      "iter 25000: dev acc=0.4487\n",
      "Iter 25250: loss=297.9344, time=672.45s\n",
      "Iter 25500: loss=304.4062, time=679.02s\n",
      "Shuffling training data\n",
      "Iter 25750: loss=296.7862, time=685.45s\n",
      "Iter 26000: loss=258.9458, time=691.67s\n",
      "iter 26000: dev acc=0.4678\n",
      "Iter 26250: loss=267.5436, time=700.80s\n",
      "Iter 26500: loss=272.4165, time=707.17s\n",
      "Iter 26750: loss=258.9603, time=713.50s\n",
      "Iter 27000: loss=272.2718, time=719.66s\n",
      "iter 27000: dev acc=0.4659\n",
      "Iter 27250: loss=260.6192, time=728.91s\n",
      "Iter 27500: loss=244.4702, time=735.42s\n",
      "Iter 27750: loss=281.3901, time=741.44s\n",
      "Iter 28000: loss=254.8283, time=747.76s\n",
      "iter 28000: dev acc=0.4432\n",
      "Iter 28250: loss=271.9508, time=756.89s\n",
      "Iter 28500: loss=280.7324, time=762.96s\n",
      "Iter 28750: loss=256.2485, time=769.39s\n",
      "Iter 29000: loss=260.7171, time=775.61s\n",
      "iter 29000: dev acc=0.4714\n",
      "new highscore\n",
      "Iter 29250: loss=279.8265, time=784.89s\n",
      "Iter 29500: loss=255.5422, time=791.21s\n",
      "Iter 29750: loss=275.3355, time=797.24s\n",
      "Iter 30000: loss=267.3310, time=803.41s\n",
      "iter 30000: dev acc=0.4659\n",
      "Done training\n",
      "Loading best model\n",
      "best model iter 29000: train acc=0.5809, dev acc=0.4714, test acc=0.4525\n"
     ]
    }
   ],
   "source": [
    "lstm_model = LSTMClassifier(len(v.w2i), 300, 168, len(t2i), v)\n",
    "\n",
    "# copy pre-trained word vectors into embeddings table\n",
    "with torch.no_grad():\n",
    "    lstm_model.embed.weight.data.copy_(torch.from_numpy(vectors))\n",
    "    lstm_model.embed.weight.requires_grad = False\n",
    "\n",
    "print(lstm_model)\n",
    "print_parameters(lstm_model)\n",
    "\n",
    "lstm_model = lstm_model.to(device)\n",
    "optimizer = optim.Adam(lstm_model.parameters(), lr=3e-4)\n",
    "\n",
    "lstm_losses, lstm_accuracies = train_model(\n",
    "    lstm_model, optimizer, num_iterations=30000, \n",
    "    print_every=250, eval_every=1000)"
   ]
  },
  {
   "cell_type": "code",
   "execution_count": 88,
   "metadata": {},
   "outputs": [
    {
     "data": {
      "image/png": "[encoded data removed]",
      "text/plain": [
       "<Figure size 1000x500 with 1 Axes>"
      ]
     },
     "metadata": {},
     "output_type": "display_data"
    }
   ],
   "source": [
    "plot_single_sequence(range(len(lstm_accuracies)), lstm_accuracies, plot_label=\"LSTM\", y_label=\"Accuracy\")"
   ]
  },
  {
   "cell_type": "code",
   "execution_count": 87,
   "metadata": {},
   "outputs": [
    {
     "data": {
      "image/png": "[encoded data removed]",
      "text/plain": [
       "<Figure size 1000x500 with 1 Axes>"
      ]
     },
     "metadata": {},
     "output_type": "display_data"
    }
   ],
   "source": [
    "plot_single_sequence(range(len(lstm_losses)), lstm_losses, plot_label=\"LSTM\", y_label=\"Loss\")"
   ]
  },
  {
   "cell_type": "markdown",
   "metadata": {
    "id": "YEw6XHQY_AAQ"
   },
   "source": [
    "# Mini-batching\n",
    "\n"
   ]
  },
  {
   "cell_type": "markdown",
   "metadata": {
    "id": "FPf96wGzBTQJ"
   },
   "source": [
    "**Why is the LSTM so slow?** Despite our best efforts, we still need to make a lot of matrix multiplications per example (linear in the length of the example) just to get a single classification, and we can only process the 2nd word once we have computed the hidden state for the 1st word (sequential computation).\n",
    "\n",
    "GPUs are more efficient if we do a few big matrix multiplications, rather than lots of small ones. If we could process multiple examples at the same time, then we could exploit that. That is, we could still process the input sequentially, but doing so for multiple sentences at the same time.\n",
    "\n",
    "Up to now our \"mini-batches\" consisted of a single example. This was for a reason: the sentences in our data sets have **different lengths**, and this makes it difficult to process them at the same time.\n",
    "\n",
    "Consider a batch of 2 sentences:\n",
    "\n",
    "```\n",
    "this movie is bad\n",
    "this movie is super cool !\n",
    "```\n",
    "\n",
    "Let's say the IDs for these sentences are:\n",
    "\n",
    "```\n",
    "2 3 4 5\n",
    "2 3 4 6 7 8\n",
    "```\n",
    "\n",
    "We cannot feed PyTorch an object with rows of variable length! We need to turn this into a matrix.\n",
    "\n",
    "The solution is to add **padding values** to our mini-batch:\n",
    "\n",
    "```\n",
    "2 3 4 5 1 1\n",
    "2 3 4 6 7 8\n",
    "```\n",
    "\n",
    "Whenever a sentence is shorter than the longest sentence in a mini-batch, we just use a padding value (here: 1) to fill the matrix.\n",
    "\n",
    "In our computation, we should **ignore** the padding positions (e.g. mask them out) so that paddings do not contribute to the loss.\n",
    "\n",
    "#### Mini-batch feed\n",
    "We will now implement a `get_minibatch` function which will replace `get_example` and returns a mini-batch of the requested size."
   ]
  },
  {
   "cell_type": "code",
   "execution_count": 109,
   "metadata": {
    "id": "IoAE2JBiXJ3P"
   },
   "outputs": [],
   "source": [
    "def get_minibatch(data, batch_size=25, shuffle=True):\n",
    "    \"\"\"Return minibatches, optional shuffling\"\"\"\n",
    "  \n",
    "    if shuffle:\n",
    "        print(\"Shuffling training data\")\n",
    "        random.shuffle(data)  # shuffle training data each epoch\n",
    "  \n",
    "    batch = []\n",
    "  \n",
    "    # yield minibatches\n",
    "    for example in data:\n",
    "        batch.append(example)\n",
    "    \n",
    "        if len(batch) == batch_size:\n",
    "            yield batch\n",
    "            batch = []\n",
    "      \n",
    "    # in case there is something left\n",
    "    if len(batch) > 0:\n",
    "        yield batch"
   ]
  },
  {
   "cell_type": "markdown",
   "metadata": {
    "id": "DwZM-XYkT8Zx"
   },
   "source": [
    "#### Padding function\n",
    "We will need a function that adds padding 1s to a sequence of IDs so that\n",
    "it becomes as long as the longest sequence in the minibatch."
   ]
  },
  {
   "cell_type": "code",
   "execution_count": 82,
   "metadata": {
    "id": "sp0sK1ghw4Ft"
   },
   "outputs": [
    {
     "data": {
      "text/plain": [
       "[2, 3, 4, 1, 1]"
      ]
     },
     "execution_count": 82,
     "metadata": {},
     "output_type": "execute_result"
    }
   ],
   "source": [
    "def pad(tokens, length, pad_value=1):\n",
    "    \"\"\"add padding 1s to a sequence to that it has the desired length\"\"\"\n",
    "    return tokens + [pad_value] * (length - len(tokens))\n",
    "\n",
    "# example\n",
    "tokens = [2, 3, 4]\n",
    "pad(tokens, 5)"
   ]
  },
  {
   "cell_type": "markdown",
   "metadata": {
    "id": "SL2iixMYUgfh"
   },
   "source": [
    "#### New `prepare` function\n",
    "\n",
    "We will also need a new function that turns a mini-batch into PyTorch tensors."
   ]
  },
  {
   "cell_type": "code",
   "execution_count": 83,
   "metadata": {
    "id": "ZID0cqozWks8"
   },
   "outputs": [],
   "source": [
    "def prepare_minibatch(mb, vocab):\n",
    "    \"\"\"\n",
    "    Minibatch is a list of examples.\n",
    "    This function converts words to IDs and returns\n",
    "    torch tensors to be used as input/targets.\n",
    "    \"\"\"\n",
    "    batch_size = len(mb)\n",
    "    maxlen = max([len(ex.tokens) for ex in mb])\n",
    "\n",
    "    # vocab returns 0 if the word is not there\n",
    "    x = [pad([vocab.w2i.get(t, 0) for t in ex.tokens], maxlen) for ex in mb]\n",
    "\n",
    "    x = torch.LongTensor(x)\n",
    "    x = x.to(device)\n",
    "\n",
    "    y = [ex.label for ex in mb]\n",
    "    y = torch.LongTensor(y)\n",
    "    y = y.to(device)\n",
    "\n",
    "    return x, y"
   ]
  },
  {
   "cell_type": "code",
   "execution_count": 97,
   "metadata": {
    "id": "OwDAtCv1x2hB"
   },
   "outputs": [
    {
     "name": "stdout",
     "output_type": "stream",
     "text": [
      "Example(tokens=['The', 'touch', 'is', 'generally', 'light', 'enough', 'and', 'the', 'performances', ',', 'for', 'the', 'most', 'part', ',', 'credible', '.'], tree=Tree('3', [Tree('3', [Tree('3', [Tree('3', [Tree('3', [Tree('2', ['The']), Tree('3', ['touch'])]), Tree('3', [Tree('2', ['is']), Tree('3', [Tree('2', ['generally']), Tree('3', [Tree('2', ['light']), Tree('2', ['enough'])])])])]), Tree('2', ['and'])]), Tree('3', [Tree('2', [Tree('2', ['the']), Tree('2', ['performances'])]), Tree('3', [Tree('2', [',']), Tree('3', [Tree('2', [Tree('2', ['for']), Tree('2', [Tree('2', ['the']), Tree('2', [Tree('2', ['most']), Tree('2', ['part'])])])]), Tree('3', [Tree('2', [',']), Tree('3', ['credible'])])])])])]), Tree('2', ['.'])]), label=3, transitions=[0, 0, 1, 0, 0, 0, 0, 1, 1, 1, 1, 0, 1, 0, 0, 1, 0, 0, 0, 0, 0, 1, 1, 1, 0, 0, 1, 1, 1, 1, 1, 0, 1])\n"
     ]
    }
   ],
   "source": [
    "# Let's test our new function.\n",
    "# This should give us 3 examples.\n",
    "mb = next(get_minibatch(train_data, batch_size=3, shuffle=False))\n",
    "for ex in mb:\n",
    "    print(ex)"
   ]
  },
  {
   "cell_type": "code",
   "execution_count": 85,
   "metadata": {
    "id": "dg8zEK8zyUCH"
   },
   "outputs": [
    {
     "name": "stdout",
     "output_type": "stream",
     "text": [
      "x tensor([[   71,   511,    44,  4557,   139,   186,   296,     4,  1869,     8,\n",
      "            54,   689, 13202,    32,    51,  2327,     0]])\n",
      "y tensor([3])\n"
     ]
    }
   ],
   "source": [
    "# We should find padding 1s at the end\n",
    "x, y = prepare_minibatch(mb, v)\n",
    "print(\"x\", x)\n",
    "print(\"y\", y)"
   ]
  },
  {
   "cell_type": "markdown",
   "metadata": {
    "id": "xYBJEoSNUwI0"
   },
   "source": [
    "#### Evaluate (mini-batch version)\n",
    "\n",
    "We can now update our evaluation function to use mini-batches"
   ]
  },
  {
   "cell_type": "code",
   "execution_count": 86,
   "metadata": {
    "id": "eiZZpEghzqou"
   },
   "outputs": [],
   "source": [
    "def evaluate(model, data, \n",
    "             batch_fn=get_minibatch, prep_fn=prepare_minibatch,\n",
    "             batch_size=16):\n",
    "    \"\"\"Accuracy of a model on given data set (using mini-batches)\"\"\"\n",
    "    correct = 0\n",
    "    total = 0\n",
    "    model.eval()  # disable dropout\n",
    "\n",
    "    for mb in batch_fn(data, batch_size=batch_size, shuffle=False):\n",
    "        x, targets = prep_fn(mb, model.vocab)\n",
    "        with torch.no_grad():\n",
    "            logits = model(x)\n",
    "      \n",
    "        predictions = logits.argmax(dim=-1).view(-1)\n",
    "    \n",
    "        # add the number of correct predictions to the total correct\n",
    "        correct += (predictions == targets.view(-1)).sum().item()\n",
    "        total += targets.size(0)\n",
    "\n",
    "    return correct, total, correct / float(total)"
   ]
  },
  {
   "cell_type": "markdown",
   "metadata": {
    "id": "23wAZomozh_2"
   },
   "source": [
    "# LSTM (Mini-batched)"
   ]
  },
  {
   "cell_type": "markdown",
   "metadata": {
    "id": "B-gkPU7jzBe2"
   },
   "source": [
    "With this, let's run the LSTM again but now using mini-batches!"
   ]
  },
  {
   "cell_type": "code",
   "execution_count": 119,
   "metadata": {
    "collapsed": true,
    "id": "226Xg9OPzFbA",
    "jupyter": {
     "outputs_hidden": true
    },
    "tags": []
   },
   "outputs": [
    {
     "name": "stdout",
     "output_type": "stream",
     "text": [
      "LSTMClassifier(\n",
      "  (embed): Embedding(18922, 300, padding_idx=1)\n",
      "  (rnn): MyLSTMCell(300, 168)\n",
      "  (output_layer): Sequential(\n",
      "    (0): Dropout(p=0.5, inplace=False)\n",
      "    (1): Linear(in_features=168, out_features=5, bias=True)\n",
      "  )\n",
      ")\n",
      "embed.weight             [18922, 300] requires_grad=False\n",
      "rnn.input_projectors.weight [672, 1200]  requires_grad=True\n",
      "rnn.input_projectors.bias [672]        requires_grad=True\n",
      "rnn.hidden_projectors.weight [672, 672]   requires_grad=True\n",
      "rnn.hidden_projectors.bias [672]        requires_grad=True\n",
      "output_layer.1.weight    [5, 168]     requires_grad=True\n",
      "output_layer.1.bias      [5]          requires_grad=True\n",
      "\n",
      "Total number of parameters: 6936773\n",
      "\n",
      "Shuffling training data\n",
      "Iter 25: loss=39.6769, time=1.25s\n",
      "iter 25: dev acc=0.2934\n",
      "new highscore\n",
      "Iter 50: loss=39.3048, time=3.24s\n",
      "iter 50: dev acc=0.2988\n",
      "new highscore\n",
      "Iter 75: loss=38.3306, time=5.36s\n",
      "iter 75: dev acc=0.3324\n",
      "new highscore\n",
      "Iter 100: loss=37.5249, time=7.53s\n",
      "iter 100: dev acc=0.3706\n",
      "new highscore\n",
      "Iter 125: loss=36.9869, time=9.54s\n",
      "iter 125: dev acc=0.3624\n",
      "Iter 150: loss=36.0664, time=11.48s\n",
      "iter 150: dev acc=0.3887\n",
      "new highscore\n",
      "Iter 175: loss=36.4462, time=13.44s\n",
      "iter 175: dev acc=0.4033\n",
      "new highscore\n",
      "Iter 200: loss=36.3570, time=15.53s\n",
      "iter 200: dev acc=0.3887\n",
      "Iter 225: loss=35.1130, time=17.46s\n",
      "iter 225: dev acc=0.3860\n",
      "Iter 250: loss=36.0681, time=19.43s\n",
      "iter 250: dev acc=0.3887\n",
      "Iter 275: loss=35.0187, time=21.44s\n",
      "iter 275: dev acc=0.3996\n",
      "Iter 300: loss=34.0154, time=23.45s\n",
      "iter 300: dev acc=0.3960\n",
      "Iter 325: loss=34.8457, time=25.40s\n",
      "iter 325: dev acc=0.4269\n",
      "new highscore\n",
      "Shuffling training data\n",
      "Iter 350: loss=33.9282, time=27.32s\n",
      "iter 350: dev acc=0.4196\n",
      "Iter 375: loss=33.3673, time=29.26s\n",
      "iter 375: dev acc=0.4078\n",
      "Iter 400: loss=33.3218, time=31.25s\n",
      "iter 400: dev acc=0.3878\n",
      "Iter 425: loss=33.4759, time=33.33s\n",
      "iter 425: dev acc=0.4187\n",
      "Iter 450: loss=34.6832, time=35.47s\n",
      "iter 450: dev acc=0.4060\n",
      "Iter 475: loss=33.5449, time=37.65s\n",
      "iter 475: dev acc=0.4296\n",
      "new highscore\n",
      "Iter 500: loss=33.3511, time=39.75s\n",
      "iter 500: dev acc=0.4078\n",
      "Iter 525: loss=33.2262, time=41.66s\n",
      "iter 525: dev acc=0.4024\n",
      "Iter 550: loss=32.7840, time=43.59s\n",
      "iter 550: dev acc=0.4214\n",
      "Iter 575: loss=32.0901, time=45.58s\n",
      "iter 575: dev acc=0.4260\n",
      "Iter 600: loss=32.3602, time=48.03s\n",
      "iter 600: dev acc=0.4169\n",
      "Iter 625: loss=31.7367, time=50.29s\n",
      "iter 625: dev acc=0.4196\n",
      "Iter 650: loss=33.5061, time=52.54s\n",
      "iter 650: dev acc=0.4360\n",
      "new highscore\n",
      "Iter 675: loss=33.4148, time=54.72s\n",
      "iter 675: dev acc=0.4387\n",
      "new highscore\n",
      "Shuffling training data\n",
      "Iter 700: loss=31.7168, time=56.97s\n",
      "iter 700: dev acc=0.4523\n",
      "new highscore\n",
      "Iter 725: loss=32.7106, time=59.10s\n",
      "iter 725: dev acc=0.4387\n",
      "Iter 750: loss=31.2508, time=61.62s\n",
      "iter 750: dev acc=0.4024\n",
      "Iter 775: loss=31.1920, time=64.04s\n",
      "iter 775: dev acc=0.4351\n",
      "Iter 800: loss=32.1862, time=66.35s\n",
      "iter 800: dev acc=0.4287\n",
      "Iter 825: loss=31.2444, time=68.36s\n",
      "iter 825: dev acc=0.4405\n",
      "Iter 850: loss=31.9752, time=70.38s\n",
      "iter 850: dev acc=0.4287\n",
      "Iter 875: loss=31.3639, time=72.53s\n",
      "iter 875: dev acc=0.4205\n",
      "Iter 900: loss=30.8905, time=74.52s\n",
      "iter 900: dev acc=0.4405\n",
      "Iter 925: loss=31.9615, time=76.55s\n",
      "iter 925: dev acc=0.4142\n",
      "Iter 950: loss=32.3394, time=78.51s\n",
      "iter 950: dev acc=0.4278\n",
      "Iter 975: loss=32.9284, time=80.48s\n",
      "iter 975: dev acc=0.4332\n",
      "Iter 1000: loss=32.8166, time=82.51s\n",
      "iter 1000: dev acc=0.4278\n",
      "Iter 1025: loss=32.3871, time=84.49s\n",
      "iter 1025: dev acc=0.4360\n",
      "Shuffling training data\n",
      "Iter 1050: loss=31.3480, time=86.41s\n",
      "iter 1050: dev acc=0.4178\n",
      "Iter 1075: loss=30.9530, time=88.35s\n",
      "iter 1075: dev acc=0.4396\n",
      "Iter 1100: loss=30.8161, time=90.27s\n",
      "iter 1100: dev acc=0.4550\n",
      "new highscore\n",
      "Iter 1125: loss=30.4857, time=92.36s\n",
      "iter 1125: dev acc=0.4405\n",
      "Iter 1150: loss=29.9190, time=94.70s\n",
      "iter 1150: dev acc=0.4351\n",
      "Iter 1175: loss=31.1674, time=96.59s\n",
      "iter 1175: dev acc=0.4378\n",
      "Iter 1200: loss=30.7188, time=98.61s\n",
      "iter 1200: dev acc=0.4405\n",
      "Iter 1225: loss=30.0794, time=100.59s\n",
      "iter 1225: dev acc=0.4369\n",
      "Iter 1250: loss=30.6858, time=102.63s\n",
      "iter 1250: dev acc=0.4342\n",
      "Iter 1275: loss=30.6527, time=104.58s\n",
      "iter 1275: dev acc=0.4505\n",
      "Iter 1300: loss=30.6146, time=106.51s\n",
      "iter 1300: dev acc=0.4441\n",
      "Iter 1325: loss=29.8010, time=108.44s\n",
      "iter 1325: dev acc=0.4505\n",
      "Iter 1350: loss=31.9674, time=110.43s\n",
      "iter 1350: dev acc=0.4450\n",
      "Shuffling training data\n",
      "Iter 1375: loss=30.5668, time=112.34s\n",
      "iter 1375: dev acc=0.4596\n",
      "new highscore\n",
      "Iter 1400: loss=28.5698, time=114.26s\n",
      "iter 1400: dev acc=0.4569\n",
      "Iter 1425: loss=30.2913, time=116.23s\n",
      "iter 1425: dev acc=0.4414\n",
      "Iter 1450: loss=28.8809, time=118.31s\n",
      "iter 1450: dev acc=0.4632\n",
      "new highscore\n",
      "Iter 1475: loss=29.4199, time=120.67s\n",
      "iter 1475: dev acc=0.4096\n",
      "Iter 1500: loss=28.5190, time=122.71s\n",
      "iter 1500: dev acc=0.4360\n",
      "Iter 1525: loss=30.5701, time=124.68s\n",
      "iter 1525: dev acc=0.4569\n",
      "Iter 1550: loss=29.0037, time=126.68s\n",
      "iter 1550: dev acc=0.4496\n",
      "Iter 1575: loss=30.5638, time=128.65s\n",
      "iter 1575: dev acc=0.4369\n",
      "Iter 1600: loss=30.4895, time=130.59s\n",
      "iter 1600: dev acc=0.4550\n",
      "Iter 1625: loss=30.0598, time=132.52s\n",
      "iter 1625: dev acc=0.4559\n",
      "Iter 1650: loss=29.6645, time=134.47s\n",
      "iter 1650: dev acc=0.4242\n",
      "Iter 1675: loss=30.5402, time=136.72s\n",
      "iter 1675: dev acc=0.4351\n",
      "Iter 1700: loss=30.5169, time=138.74s\n",
      "iter 1700: dev acc=0.4559\n",
      "Shuffling training data\n",
      "Iter 1725: loss=30.9933, time=140.79s\n",
      "iter 1725: dev acc=0.4641\n",
      "new highscore\n",
      "Iter 1750: loss=27.7120, time=142.91s\n",
      "iter 1750: dev acc=0.4569\n",
      "Iter 1775: loss=28.2518, time=145.17s\n",
      "iter 1775: dev acc=0.4550\n",
      "Iter 1800: loss=29.6882, time=147.65s\n",
      "iter 1800: dev acc=0.4650\n",
      "new highscore\n",
      "Iter 1825: loss=29.3600, time=149.98s\n",
      "iter 1825: dev acc=0.4641\n",
      "Iter 1850: loss=29.0824, time=152.32s\n",
      "iter 1850: dev acc=0.4559\n",
      "Iter 1875: loss=28.5836, time=154.61s\n",
      "iter 1875: dev acc=0.4423\n",
      "Iter 1900: loss=27.5594, time=156.76s\n",
      "iter 1900: dev acc=0.4360\n",
      "Iter 1925: loss=29.3425, time=158.94s\n",
      "iter 1925: dev acc=0.4505\n",
      "Iter 1950: loss=28.9536, time=161.08s\n",
      "iter 1950: dev acc=0.4432\n",
      "Iter 1975: loss=28.8498, time=163.25s\n",
      "iter 1975: dev acc=0.4323\n",
      "Iter 2000: loss=29.3573, time=165.43s\n",
      "iter 2000: dev acc=0.4623\n",
      "Done training\n",
      "Loading best model\n",
      "best model iter 1800: train acc=0.5342, dev acc=0.4650, test acc=0.4602\n"
     ]
    }
   ],
   "source": [
    "lstm_model = LSTMClassifier(\n",
    "    len(v.w2i), 300, 168, len(t2i), v)\n",
    "\n",
    "# copy pre-trained vectors into embeddings table\n",
    "with torch.no_grad():\n",
    "    lstm_model.embed.weight.data.copy_(torch.from_numpy(vectors))\n",
    "    lstm_model.embed.weight.requires_grad = False\n",
    "\n",
    "print(lstm_model)\n",
    "print_parameters(lstm_model)  \n",
    "\n",
    "lstm_model = lstm_model.to(device)\n",
    "\n",
    "batch_size = 25\n",
    "optimizer = optim.Adam(lstm_model.parameters(), lr=2e-4)\n",
    "\n",
    "lstm_losses, lstm_accuracies = train_model(\n",
    "    lstm_model, optimizer, num_iterations=2000, \n",
    "    print_every=25, eval_every=25,\n",
    "    batch_size=batch_size,\n",
    "    batch_fn=get_minibatch, \n",
    "    prep_fn=prepare_minibatch,\n",
    "    eval_fn=evaluate)"
   ]
  },
  {
   "cell_type": "code",
   "execution_count": 120,
   "metadata": {},
   "outputs": [
    {
     "data": {
      "image/png": "[encoded data removed]",
      "text/plain": [
       "<Figure size 1000x500 with 1 Axes>"
      ]
     },
     "metadata": {},
     "output_type": "display_data"
    }
   ],
   "source": [
    "plot_single_sequence(range(len(lstm_accuracies)), lstm_accuracies, plot_label=\"LSTM (with minibatch)\", y_label=\"Accuracy\")"
   ]
  },
  {
   "cell_type": "code",
   "execution_count": 121,
   "metadata": {},
   "outputs": [
    {
     "data": {
      "image/png": "[encoded data removed]",
      "text/plain": [
       "<Figure size 1000x500 with 1 Axes>"
      ]
     },
     "metadata": {},
     "output_type": "display_data"
    }
   ],
   "source": [
    "plot_single_sequence(range(len(lstm_losses)), lstm_losses, plot_label=\"LSTM (with minibatch)\", y_label=\"Loss\")"
   ]
  },
  {
   "cell_type": "markdown",
   "metadata": {
    "id": "q7WjcxXntMi5"
   },
   "source": [
    "# Tree-LSTM"
   ]
  },
  {
   "cell_type": "markdown",
   "metadata": {
    "id": "jyj_UD6GtO5M"
   },
   "source": [
    "In the final part of this lab we will exploit the tree structure of the SST data. \n",
    "Until now we only used the surface tokens, but remember that our data examples include binary trees with a sentiment score at every node.\n",
    "\n",
    "In particular, we will implement **N-ary Tree-LSTMs** which are described in:\n",
    "\n",
    "> Kai Sheng Tai, Richard Socher, and Christopher D. Manning. [Improved Semantic Representations From Tree-Structured Long Short-Term Memory Networks](http://aclweb.org/anthology/P/P15/P15-1150.pdf) ACL 2015.\n",
    "\n",
    "Since our trees are binary (i.e., N=2), we can refer to these as *Binary Tree-LSTMs*. If you study equations (9) to (14) in the paper, you will find that they are not all too different from the original LSTM that you already have.\n",
    "\n",
    "You should read this paper carefully and make sure that you understand the approach. You will also find our LSTM baseline there.\n",
    "Note however that Tree-LSTMs were proposed around the same time by two other groups:\n",
    "\n",
    "> Phong Le and Willem Zuidema. [Compositional distributional semantics with long short term memory](http://anthology.aclweb.org/S/S15/S15-1002.pdf). *SEM 2015.\n",
    "\n",
    "> Xiaodan Zhu, Parinaz Sobihani,  and Hongyu Guo. [Long short-term memory over recursive structures](http://proceedings.mlr.press/v37/zhub15.pdf). ICML 2015.\n",
    "\n",
    "It is good scientific practice to cite all three papers in your report.\n",
    "\n",
    "\n"
   ]
  },
  {
   "cell_type": "markdown",
   "metadata": {
    "id": "1rDzvSos3JFp"
   },
   "source": [
    "## Computation\n",
    "\n",
    "Do you remember the `transitions_from_treestring` function all the way in the beginning of this lab? Every example contains a **transition sequence** produced by this function. Let's look at it again:\n",
    "\n"
   ]
  },
  {
   "cell_type": "code",
   "execution_count": 122,
   "metadata": {
    "id": "5pg0Xumc3ZUS"
   },
   "outputs": [
    {
     "name": "stdout",
     "output_type": "stream",
     "text": [
      "              3                                                                     \n",
      "  ____________|____________________                                                  \n",
      " |                                 4                                                \n",
      " |        _________________________|______________________________________________   \n",
      " |       4                                                                        | \n",
      " |    ___|______________                                                          |  \n",
      " |   |                  4                                                         | \n",
      " |   |         _________|__________                                               |  \n",
      " |   |        |                    3                                              | \n",
      " |   |        |               _____|______________________                        |  \n",
      " |   |        |              |                            4                       | \n",
      " |   |        |              |            ________________|_______                |  \n",
      " |   |        |              |           |                        2               | \n",
      " |   |        |              |           |                 _______|___            |  \n",
      " |   |        3              |           |                |           2           | \n",
      " |   |    ____|_____         |           |                |        ___|_____      |  \n",
      " |   |   |          4        |           3                |       2         |     | \n",
      " |   |   |     _____|___     |      _____|_______         |    ___|___      |     |  \n",
      " 2   2   2    3         2    2     3             2        2   2       2     2     2 \n",
      " |   |   |    |         |    |     |             |        |   |       |     |     |  \n",
      " It  's  a  lovely     film with lovely     performances  by Buy     and Accorsi  . \n",
      "\n",
      "Transitions:\n",
      "[0, 0, 0, 0, 0, 1, 1, 0, 0, 0, 1, 0, 0, 0, 1, 0, 1, 1, 1, 1, 1, 1, 0, 1, 1]\n"
     ]
    }
   ],
   "source": [
    "ex = next(examplereader(\"trees/dev.txt\"))\n",
    "print(TreePrettyPrinter(ex.tree))\n",
    "print(\"Transitions:\")\n",
    "print(ex.transitions)"
   ]
  },
  {
   "cell_type": "markdown",
   "metadata": {
    "id": "ceBFe9fU4BI_"
   },
   "source": [
    "Note that the tree is **binary**. Every node has two children, except for pre-terminal nodes.\n",
    "\n",
    "A tree like this can be described by a sequence of **SHIFT (0)** and **REDUCE (1)** actions.\n",
    "\n",
    "To construct a tree, we can use the transitions as follows:\n",
    "- **reverse** the sentence (a list of tokens) and call this the **buffer**\n",
    "   - the first word is now on top (last in the list), and we would get it when calling pop() on the buffer\n",
    "- create an empty list and call it the **stack**\n",
    "- iterate through the transition sequence:\n",
    "  - if it says SHIFT(0), we pop a word from the buffer, and push it to the stack\n",
    "  - if it says REDUCE(1), we pop the **top two items** from the stack, and combine them (e.g. with a Tree-LSTM!), creating a new node that we push back on the stack\n",
    "  \n",
    "Convince yourself that going through the transition sequence above will result in the tree that you see.\n",
    "For example, we would start by putting the following words on the stack (by shifting 5 times, starting with `It`):\n",
    "\n",
    "```\n",
    "Top of the stack:\n",
    "-----------------\n",
    "film\n",
    "lovely\n",
    "a \n",
    "'s  \n",
    "It\n",
    "```\n",
    "Now we find a REDUCE in the transition sequence, so we get the top two words (film and lovely), and combine them, so our new stack becomes:\n",
    "```\n",
    "Top of the stack:\n",
    "-----------------\n",
    "lovely film\n",
    "a \n",
    "'s  \n",
    "It\n",
    "```\n",
    "\n",
    "We will use this approach when encoding sentences with our Tree-LSTM.\n",
    "Now, our sentence is a reversed list of word embeddings.\n",
    "When we shift, we move a word embedding to the stack.\n",
    "When we reduce, we apply the Tree-LSTM to the top two vectors, and the result is a single vector that we put back on the stack.\n",
    "After going through the whole transition sequence, we will have the root node on our stack! We can use that to classify the sentence.\n",
    "\n"
   ]
  },
  {
   "cell_type": "markdown",
   "metadata": {
    "id": "pDWKShm1AfmR"
   },
   "source": [
    "## Obtaining the transition sequence\n"
   ]
  },
  {
   "cell_type": "markdown",
   "metadata": {
    "id": "fO7VKWVpAbWj"
   },
   "source": [
    "\n",
    "So what goes on in the `transitions_from_treestring` function?\n",
    "\n",
    "The idea ([explained in this blog post](https://devblogs.nvidia.com/recursive-neural-networks-pytorch/)) is that, if we had a tree, we could traverse through the tree, and every time that we find a node containing only a word, we output a SHIFT.\n",
    "Every time **after** we have finished visiting the children of a node, we output a REDUCE.\n",
    "(What is this tree traversal called?)\n",
    "\n",
    "However, our `transitions_from_treestring` function operates directly on the string representation. It works as follows.\n",
    "\n",
    "We start with the representation:\n",
    "\n",
    "```\n",
    "(3 (2 It) (4 (4 (2 's) (4 (3 (2 a) (4 (3 lovely) (2 film))) (3 (2 with) (4 (3 (3 lovely) (2 performances)) (2 (2 by) (2 (2 (2 Buy) (2 and)) (2 Accorsi))))))) (2 .)))\n",
    "```\n",
    "\n",
    "First we remove pre-terminal nodes (and add spaces before closing brackets):\n",
    "\n",
    "```\n",
    "(3 It (4 (4 's (4 (3 a (4 lovely film ) ) (3 with (4 (3 lovely performances ) (2 by (2 (2 Buy and )  Accorsi ) ) ) ) ) ) . ) )\n",
    "```\n",
    "\n",
    "Then we remove node labels:\n",
    "\n",
    "```\n",
    "( It ( ( 's ( ( a ( lovely film ) ) ( with ( ( lovely performances) ( by ( ( Buy and )  Accorsi ) ) ) ) ) ) . ) )\n",
    "```\n",
    "\n",
    "Then we remove opening brackets:\n",
    "\n",
    "```\n",
    "It 's a lovely film ) ) with lovely performances ) by Buy and ) Accorsi ) ) ) ) ) ) . ) )\n",
    "```\n",
    "\n",
    "Now we replace words by S (for SHIFT), and closing brackets by R (for REDUCE):\n",
    "\n",
    "```\n",
    "S S S S S R R S S S R S S S R S R R R R R R S R R\n",
    "0 0 0 0 0 1 1 0 0 0 1 0 0 0 1 0 1 1 1 1 1 1 0 1 1 \n",
    "```\n",
    "\n",
    "Et voilà. We just obtained the transition sequence!"
   ]
  },
  {
   "cell_type": "code",
   "execution_count": 123,
   "metadata": {
    "id": "1y069gM4_v64"
   },
   "outputs": [
    {
     "name": "stdout",
     "output_type": "stream",
     "text": [
      "S S S S S R R S S S R S S S R S R R R R R R S R R\n",
      "0 0 0 0 0 1 1 0 0 0 1 0 0 0 1 0 1 1 1 1 1 1 0 1 1\n"
     ]
    }
   ],
   "source": [
    "# for comparison\n",
    "seq = ex.transitions\n",
    "s = \" \".join([\"S\" if t == 0 else \"R\" for t in seq])\n",
    "print(s)\n",
    "print(\" \".join(map(str, seq)))"
   ]
  },
  {
   "cell_type": "markdown",
   "metadata": {
    "id": "d-qOuKbDAiBn"
   },
   "source": [
    "## Coding the Tree-LSTM\n",
    "\n",
    "The code below contains a Binary Tree-LSTM cell.\n",
    "It is used in the TreeLSTM class below it, which in turn is used in the TreeLSTMClassifier.\n",
    "The job of the TreeLSTM class is to encode a complete sentence and return the root node.\n",
    "The job of the TreeLSTMCell is to return a new state when provided with two children (a reduce action). By repeatedly calling the TreeLSTMCell, the TreeLSTM will encode a sentence. This can be done for multiple sentences at the same time.\n",
    "\n",
    "\n",
    "#### Exercise \n",
    "Check the `forward` function and complete the Tree-LSTM formulas.\n",
    "You can see that we defined a large linear layer for you, that projects the *concatenation* of the left and right child into the input gate, left forget gate, right forget gate, candidate, and output gate."
   ]
  },
  {
   "cell_type": "code",
   "execution_count": 142,
   "metadata": {
    "id": "J9b9mjMlN7Pb"
   },
   "outputs": [],
   "source": [
    "class TreeLSTMCell(nn.Module):\n",
    "    \"\"\"A Binary Tree LSTM cell\"\"\"\n",
    "\n",
    "    def __init__(self, input_size, hidden_size, bias=True):\n",
    "        \"\"\"Creates the weights for this LSTM\"\"\"\n",
    "        super(TreeLSTMCell, self).__init__()\n",
    "\n",
    "        self.input_size = input_size\n",
    "        self.hidden_size = hidden_size\n",
    "        self.bias = bias\n",
    "\n",
    "        self.reduce_layer = nn.Linear(2 * hidden_size, 5 * hidden_size)\n",
    "        self.dropout_layer = nn.Dropout(p=0.25)\n",
    "\n",
    "        self.reset_parameters()\n",
    "\n",
    "    def reset_parameters(self):\n",
    "        \"\"\"This is PyTorch's default initialization method\"\"\"\n",
    "        stdv = 1.0 / math.sqrt(self.hidden_size)\n",
    "        for weight in self.parameters():\n",
    "            weight.data.uniform_(-stdv, stdv)  \n",
    "\n",
    "    def forward(self, hx_l, hx_r, mask=None):\n",
    "        \"\"\"\n",
    "        hx_l is ((batch, hidden_size), (batch, hidden_size))\n",
    "        hx_r is ((batch, hidden_size), (batch, hidden_size))    \n",
    "        \"\"\"\n",
    "        prev_h_l, prev_c_l = hx_l  # left child\n",
    "        prev_h_r, prev_c_r = hx_r  # right child\n",
    "\n",
    "        B = prev_h_l.size(0)\n",
    "\n",
    "        # we concatenate the left and right children\n",
    "        # you can also project from them separately and then sum\n",
    "        children = torch.cat([prev_h_l, prev_h_r], dim=1)\n",
    "\n",
    "        # project the combined children into a 5D tensor for i,fl,fr,g,o\n",
    "        # this is done for speed, and you could also do it separately\n",
    "        proj = self.reduce_layer(children)  # shape: B x 5D\n",
    "\n",
    "        # each shape: B x D\n",
    "        i, f_l, f_r, g, o = torch.chunk(proj, 5, dim=-1)\n",
    "\n",
    "        # main Tree LSTM computation\n",
    "\n",
    "        # YOUR CODE HERE\n",
    "        # You only need to complete the commented lines below.\n",
    "\n",
    "        # The shape of each of these is [batch_size, hidden_size]\n",
    "\n",
    "        i = i.sigmoid()\n",
    "        f_l = f_l.sigmoid()\n",
    "        f_r = f_r.sigmoid()\n",
    "        g = g.tanh()\n",
    "        o = o.sigmoid()\n",
    "\n",
    "        c = i * g + (f_l * prev_c_l) + (f_r * prev_c_r)\n",
    "        h = o * nn.functional.tanh(c)\n",
    "\n",
    "        return h, c\n",
    "  \n",
    "    def __repr__(self):\n",
    "        return \"{}({:d}, {:d})\".format(\n",
    "            self.__class__.__name__, self.input_size, self.hidden_size)"
   ]
  },
  {
   "cell_type": "markdown",
   "metadata": {
    "id": "Dj5dYSGh_643"
   },
   "source": [
    "## Explanation of the TreeLSTM class\n",
    "\n",
    "\n",
    "The code below contains the TreeLSTM class, which implements everything we need in order to encode a sentence from word embeddings. The calculations are the same as in the paper, implemented such that the class `TreeLSTMCell` above is as general as possible and only takes two children to reduce them into a parent. \n",
    "\n",
    "\n",
    "**Initialize $\\mathbf{h}$ and $\\mathbf{c}$ outside of the cell for the leaves**\n",
    "\n",
    "At the leaves of each tree the children nodes are **empty**, whereas in higher levels the nodes are binary tree nodes that *do* have a left and right child (but no input $x$). By initializing the leaf nodes outside of the cell class (`TreeLSTMCell`), we avoid if-else statements in the forward pass.\n",
    "\n",
    "The `TreeLSTM` class (among other things) pre-calculates an initial $h$ and $c$ for every word in the sentence. Since the initial left and right child are 0, the only calculations we need to do are based on $x$, and we can drop the forget gate calculation (`prev_c_l` and `prev_c_r` are zero). The calculations we do in order to initalize $h$ and $c$ are then:\n",
    "\n",
    "$$\n",
    "c_1 =  W^{(u)}x_1 \\\\\n",
    "o_1 = \\sigma (W^{(i)}x_1) \\\\\n",
    "h_1 = o_1 \\odot \\text{tanh}(c_1)$$\n",
    "*NB: note that these equations are chosen as initializations of $c$ and $h$, other initializations are possible and might work equally well.*\n",
    "\n",
    "**Sentence Representations**\n",
    "\n",
    "All our leaf nodes are now initialized, so we can start processing the sentence in its tree form. Each sentence is represented by a buffer (initially a list with a concatenation of $[h_1, c_1]$ for every word in the reversed sentence), a stack (initially an empty list) and a transition sequence. To encode our sentence, we construct the tree from its transition sequence as explained earlier. \n",
    "\n",
    "*A short example that constructs a tree:*\n",
    "\n",
    "We loop over the time dimension of the batched transition sequences (i.e. row by row), which contain values of 0's, 1's and 2's (representing SHIFT, REDUCE and padding respectively). If we have a batch of size 2 where the first example has a transition sequence given by [0, 0, 1, 0, 0, 0, 1] and the second by [0, 0, 1, 0, 0, 1], our transition batch will be given by the following two-dimensional numpy array:\n",
    "\n",
    "$$\n",
    "\\text{transitions} = \n",
    "\\begin{pmatrix}\n",
    "0 & 0\\\\ \n",
    "0 & 0\\\\ \n",
    "1 & 1\\\\ \n",
    "0 & 0\\\\ \n",
    "0 & 0\\\\ \n",
    "0 & 1\\\\ \n",
    "1 & 2\n",
    "\\end{pmatrix}\n",
    "$$\n",
    "The inner loop (`for transition, buffer, stack in zip(t_batch, buffers, stacks)`) goes over each example in the batch and updates its buffer and stack. The nested loop for this example will then do roughy the following:\n",
    "\n",
    "```\n",
    "Time = 0:  t_batch = [0, 0], the inner loop performs 2 SHIFTs. \n",
    "\n",
    "Time = 1:  t_batch = [0, 0], \"..\"\n",
    "\n",
    "Time = 2:  t_batch = [1, 1], causing the inner loop to fill the list child_l and child_r for both examples in the batch. Now the statement if child_l will return True, triggering a REDUCE action to be performed by our Tree LSTM cell with a batch size of 2. \n",
    "\n",
    "Time = 3:  t_batch = [0, 0], \"..\".\n",
    "\n",
    "Time = 4:  t_batch = [0, 0], \"..\"\n",
    "\n",
    "Time = 5:  t_batch = [0, 1], one SHIFT will be done and another REDUCE action will be performed by our Tree LSTM, this time of batch size 1.  \n",
    "\n",
    "Time = 6:  t_batch = [1, 2], triggering another REDUCE action with batch size 1.\n",
    "```\n",
    "*NB: note that this was an artificial example for the purpose of demonstrating parts of the code, the transition sequences do not necessarily represent actual trees.*\n",
    "\n",
    "**Batching and Unbatching**\n",
    "\n",
    "Within the body of the outer loop over time, we use the functions for batching and unbatching. \n",
    "\n",
    "*Batching*\n",
    "\n",
    "Before passing two lists of children to the reduce layer (an instance of `TreeLSTMCell`), we batch the children as they are at this point a list of tensors of variable length based on how many REDUCE actions there are to perform at a certain time step across the batch (let's call the length `L`). To do an efficient forward pass we want to transform the list to a pair of tensors of shape `([L, D], [L, D])`, which the function `batch` achieves. \n",
    "\n",
    "*Unbatching*\n",
    "\n",
    "In the same line where we batched the children, we unbatch the output of the forward pass to become a list of states of length `L` again. We do this because we need to loop over each example's transition at the current time step and push the children that are reduced into a parent to the stack.\n",
    "\n",
    "*The batch and unbatch functions let us switch between the \"PyTorch world\" (Tensors) and the Python world (easy to manipulate lists).*\n"
   ]
  },
  {
   "cell_type": "code",
   "execution_count": 125,
   "metadata": {
    "id": "5PixvTd4AqsQ"
   },
   "outputs": [],
   "source": [
    "# Helper functions for batching and unbatching states\n",
    "# For speed we want to combine computations by batching, but \n",
    "# for processing logic we want to turn the output into lists again\n",
    "# to easily manipulate.\n",
    "\n",
    "def batch(states):\n",
    "    \"\"\"\n",
    "    Turns a list of states into a single tensor for fast processing. \n",
    "    This function also chunks (splits) each state into a (h, c) pair\"\"\"\n",
    "    return torch.cat(states, 0).chunk(2, 1)\n",
    "\n",
    "def unbatch(state):\n",
    "    \"\"\"\n",
    "    Turns a tensor back into a list of states.\n",
    "    First, (h, c) are merged into a single state.\n",
    "    Then the result is split into a list of sentences.\n",
    "    \"\"\"\n",
    "    return torch.split(torch.cat(state, 1), 1, 0)"
   ]
  },
  {
   "cell_type": "markdown",
   "metadata": {
    "id": "CynltDasaLPt"
   },
   "source": [
    "Take some time to understand the class below, having read the explanation above."
   ]
  },
  {
   "cell_type": "code",
   "execution_count": 144,
   "metadata": {
    "id": "rQOqMXG4gX5G"
   },
   "outputs": [],
   "source": [
    "class TreeLSTM(nn.Module):\n",
    "    \"\"\"Encodes a sentence using a TreeLSTMCell\"\"\"\n",
    "\n",
    "    def __init__(self, input_size, hidden_size, bias=True):\n",
    "        \"\"\"Creates the weights for this LSTM\"\"\"\n",
    "        super(TreeLSTM, self).__init__()\n",
    "\n",
    "        self.input_size = input_size\n",
    "        self.hidden_size = hidden_size\n",
    "        self.bias = bias\n",
    "        self.reduce = TreeLSTMCell(input_size, hidden_size)\n",
    "\n",
    "        # project word to initial c\n",
    "        self.proj_x = nn.Linear(input_size, hidden_size)\n",
    "        self.proj_x_gate = nn.Linear(input_size, hidden_size)\n",
    "\n",
    "        self.buffers_dropout = nn.Dropout(p=0.5)\n",
    "\n",
    "    def forward(self, x, transitions):\n",
    "        \"\"\"\n",
    "        WARNING: assuming x is reversed!\n",
    "        :param x: word embeddings [B, T, E]\n",
    "        :param transitions: [2T-1, B]\n",
    "        :return: root states\n",
    "        \"\"\"\n",
    "\n",
    "        B = x.size(0)  # batch size\n",
    "        T = x.size(1)  # time\n",
    "\n",
    "        # compute an initial c and h for each word\n",
    "        # Note: this corresponds to input x in the Tai et al. Tree LSTM paper.\n",
    "        # We do not handle input x in the TreeLSTMCell itself.\n",
    "        buffers_c = self.proj_x(x)\n",
    "        buffers_h = buffers_c.tanh()\n",
    "        buffers_h_gate = self.proj_x_gate(x).sigmoid()\n",
    "        buffers_h = buffers_h_gate * buffers_h\n",
    "\n",
    "        # concatenate h and c for each word\n",
    "        buffers = torch.cat([buffers_h, buffers_c], dim=-1)\n",
    "\n",
    "        D = buffers.size(-1) // 2\n",
    "\n",
    "        # we turn buffers into a list of stacks (1 stack for each sentence)\n",
    "        # first we split buffers so that it is a list of sentences (length B)\n",
    "        # then we split each sentence to be a list of word vectors\n",
    "        buffers = buffers.split(1, dim=0)  # Bx[T, 2D]\n",
    "        buffers = [list(b.squeeze(0).split(1, dim=0)) for b in buffers]  # BxTx[2D]\n",
    "\n",
    "        # create B empty stacks\n",
    "        stacks = [[] for _ in buffers]\n",
    "\n",
    "        # t_batch holds 1 transition for each sentence\n",
    "        for t_batch in transitions:\n",
    "\n",
    "            child_l = []  # contains the left child for each sentence with reduce action\n",
    "            child_r = []  # contains the corresponding right child\n",
    "\n",
    "            # iterate over sentences in the batch\n",
    "            # each has a transition t, a buffer and a stack\n",
    "            for transition, buffer, stack in zip(t_batch, buffers, stacks):\n",
    "                if transition == SHIFT:\n",
    "                    stack.append(buffer.pop())\n",
    "                elif transition == REDUCE:\n",
    "                    assert len(stack) >= 2, \\\n",
    "                        \"Stack too small! Should not happen with valid transition sequences\"\n",
    "                    child_r.append(stack.pop())  # right child is on top\n",
    "                    child_l.append(stack.pop())\n",
    "\n",
    "            # if there are sentences with reduce transition, perform them batched\n",
    "            if child_l:\n",
    "                reduced = iter(unbatch(self.reduce(batch(child_l), batch(child_r))))\n",
    "                for transition, stack in zip(t_batch, stacks):\n",
    "                    if transition == REDUCE:\n",
    "                        stack.append(next(reduced))\n",
    "\n",
    "        final = [stack.pop().chunk(2, -1)[0] for stack in stacks]\n",
    "        final = torch.cat(final, dim=0)  # tensor [B, D]\n",
    "\n",
    "        return final"
   ]
  },
  {
   "cell_type": "markdown",
   "metadata": {
    "id": "s4EzbVzqaXkw"
   },
   "source": [
    "Just like the LSTM before, we will need an extra class that does the classifications."
   ]
  },
  {
   "cell_type": "code",
   "execution_count": 145,
   "metadata": {
    "id": "nLxpYRvtQKge"
   },
   "outputs": [],
   "source": [
    "class TreeLSTMClassifier(nn.Module):\n",
    "    \"\"\"Encodes sentence with a TreeLSTM and projects final hidden state\"\"\"\n",
    "\n",
    "    def __init__(self, vocab_size, embedding_dim, hidden_dim, output_dim, vocab):\n",
    "        super(TreeLSTMClassifier, self).__init__()\n",
    "        self.vocab = vocab\n",
    "        self.hidden_dim = hidden_dim\n",
    "        self.embed = nn.Embedding(vocab_size, embedding_dim, padding_idx=1)\n",
    "        self.treelstm = TreeLSTM(embedding_dim, hidden_dim)\n",
    "        self.output_layer = nn.Sequential(     \n",
    "            nn.Dropout(p=0.5),\n",
    "            nn.Linear(hidden_dim, output_dim, bias=True)\n",
    "        )\n",
    "\n",
    "    def forward(self, x):\n",
    "\n",
    "        # x is a pair here of words and transitions; we unpack it here.\n",
    "        # x is batch-major: [B, T], transitions is time major [2T-1, B]\n",
    "        x, transitions = x\n",
    "        emb = self.embed(x)\n",
    "\n",
    "        # we use the root/top state of the Tree LSTM to classify the sentence\n",
    "        root_states = self.treelstm(emb, transitions)\n",
    "\n",
    "        # we use the last hidden state to classify the sentence\n",
    "        logits = self.output_layer(root_states)\n",
    "        return logits"
   ]
  },
  {
   "cell_type": "markdown",
   "metadata": {
    "id": "gh9RbhGwaiLg"
   },
   "source": [
    "## Special `prepare` function for Tree-LSTM\n",
    "\n",
    "We need yet another `prepare` function. For our implementation, sentences need to be *reversed*. We will do that here."
   ]
  },
  {
   "cell_type": "code",
   "execution_count": 146,
   "metadata": {
    "id": "DiqH-_2xdm9H"
   },
   "outputs": [],
   "source": [
    "def prepare_treelstm_minibatch(mb, vocab):\n",
    "    \"\"\"\n",
    "    Returns sentences reversed (last word first)\n",
    "    Returns transitions together with the sentences.  \n",
    "    \"\"\"\n",
    "    batch_size = len(mb)\n",
    "    maxlen = max([len(ex.tokens) for ex in mb])\n",
    "\n",
    "    # vocab returns 0 if the word is not there\n",
    "    # NOTE: reversed sequence!\n",
    "    x = [pad([vocab.w2i.get(t, 0) for t in ex.tokens], maxlen)[::-1] for ex in mb]\n",
    "\n",
    "    x = torch.LongTensor(x)\n",
    "    x = x.to(device)\n",
    "\n",
    "    y = [ex.label for ex in mb]\n",
    "    y = torch.LongTensor(y)\n",
    "    y = y.to(device)\n",
    "\n",
    "    maxlen_t = max([len(ex.transitions) for ex in mb])\n",
    "    transitions = [pad(ex.transitions, maxlen_t, pad_value=2) for ex in mb]\n",
    "    transitions = np.array(transitions)\n",
    "    transitions = transitions.T  # time-major\n",
    "\n",
    "    return (x, transitions), y"
   ]
  },
  {
   "cell_type": "markdown",
   "metadata": {
    "id": "IMUsrlL9ayVe"
   },
   "source": [
    "## Training"
   ]
  },
  {
   "cell_type": "code",
   "execution_count": 147,
   "metadata": {
    "collapsed": true,
    "id": "IpOYUdg2D3v0",
    "jupyter": {
     "outputs_hidden": true
    },
    "tags": []
   },
   "outputs": [
    {
     "name": "stdout",
     "output_type": "stream",
     "text": [
      "TreeLSTMClassifier(\n",
      "  (embed): Embedding(18922, 300, padding_idx=1)\n",
      "  (treelstm): TreeLSTM(\n",
      "    (reduce): TreeLSTMCell(300, 150)\n",
      "    (proj_x): Linear(in_features=300, out_features=150, bias=True)\n",
      "    (proj_x_gate): Linear(in_features=300, out_features=150, bias=True)\n",
      "    (buffers_dropout): Dropout(p=0.5, inplace=False)\n",
      "  )\n",
      "  (output_layer): Sequential(\n",
      "    (0): Dropout(p=0.5, inplace=False)\n",
      "    (1): Linear(in_features=150, out_features=5, bias=True)\n",
      "  )\n",
      ")\n",
      "embed.weight             [18922, 300] requires_grad=False\n",
      "treelstm.reduce.reduce_layer.weight [750, 300]   requires_grad=True\n",
      "treelstm.reduce.reduce_layer.bias [750]        requires_grad=True\n",
      "treelstm.proj_x.weight   [150, 300]   requires_grad=True\n",
      "treelstm.proj_x.bias     [150]        requires_grad=True\n",
      "treelstm.proj_x_gate.weight [150, 300]   requires_grad=True\n",
      "treelstm.proj_x_gate.bias [150]        requires_grad=True\n",
      "output_layer.1.weight    [5, 150]     requires_grad=True\n",
      "output_layer.1.bias      [5]          requires_grad=True\n",
      "\n",
      "Total number of parameters: 5993405\n",
      "\n",
      "Shuffling training data\n",
      "Iter 250: loss=389.2444, time=6.72s\n",
      "iter 250: dev acc=0.3524\n",
      "new highscore\n",
      "Shuffling training data\n",
      "Iter 500: loss=346.0280, time=14.21s\n",
      "iter 500: dev acc=0.4005\n",
      "new highscore\n",
      "Shuffling training data\n",
      "Iter 750: loss=327.8005, time=21.66s\n",
      "iter 750: dev acc=0.4160\n",
      "new highscore\n",
      "Iter 1000: loss=320.8894, time=29.62s\n",
      "iter 1000: dev acc=0.4233\n",
      "new highscore\n",
      "Shuffling training data\n",
      "Iter 1250: loss=311.6113, time=37.24s\n",
      "iter 1250: dev acc=0.4396\n",
      "new highscore\n",
      "Shuffling training data\n",
      "Iter 1500: loss=310.7407, time=44.67s\n",
      "iter 1500: dev acc=0.4450\n",
      "new highscore\n",
      "Shuffling training data\n",
      "Iter 1750: loss=306.9550, time=51.96s\n",
      "iter 1750: dev acc=0.4496\n",
      "new highscore\n",
      "Iter 2000: loss=303.1729, time=59.24s\n",
      "iter 2000: dev acc=0.4460\n",
      "Shuffling training data\n",
      "Iter 2250: loss=299.6120, time=66.52s\n",
      "iter 2250: dev acc=0.4460\n",
      "Shuffling training data\n",
      "Iter 2500: loss=298.6233, time=74.03s\n",
      "iter 2500: dev acc=0.4405\n",
      "Shuffling training data\n",
      "Iter 2750: loss=295.7559, time=81.39s\n",
      "iter 2750: dev acc=0.4405\n",
      "Iter 3000: loss=294.1548, time=88.84s\n",
      "iter 3000: dev acc=0.4450\n",
      "Shuffling training data\n",
      "Iter 3250: loss=288.5306, time=96.30s\n",
      "iter 3250: dev acc=0.4387\n",
      "Shuffling training data\n",
      "Iter 3500: loss=290.6595, time=103.84s\n",
      "iter 3500: dev acc=0.4496\n",
      "Iter 3750: loss=288.4364, time=111.28s\n",
      "iter 3750: dev acc=0.4469\n",
      "Shuffling training data\n",
      "Iter 4000: loss=285.2605, time=118.65s\n",
      "iter 4000: dev acc=0.4405\n",
      "Shuffling training data\n",
      "Iter 4250: loss=282.1418, time=126.00s\n",
      "iter 4250: dev acc=0.4478\n",
      "Shuffling training data\n",
      "Iter 4500: loss=278.2014, time=133.81s\n",
      "iter 4500: dev acc=0.4460\n",
      "Iter 4750: loss=276.3147, time=141.10s\n",
      "iter 4750: dev acc=0.4469\n",
      "Shuffling training data\n",
      "Iter 5000: loss=274.9642, time=149.09s\n",
      "iter 5000: dev acc=0.4432\n",
      "Done training\n",
      "Loading best model\n",
      "best model iter 1750: train acc=0.4766, dev acc=0.4496, test acc=0.4674\n"
     ]
    }
   ],
   "source": [
    "# Now let's train the Tree LSTM!\n",
    "\n",
    "tree_model = TreeLSTMClassifier(\n",
    "    len(v.w2i), 300, 150, len(t2i), v)\n",
    "\n",
    "with torch.no_grad():\n",
    "    tree_model.embed.weight.data.copy_(torch.from_numpy(vectors))\n",
    "    tree_model.embed.weight.requires_grad = False\n",
    "\n",
    "def do_train(model):\n",
    "\n",
    "    print(model)\n",
    "    print_parameters(model)\n",
    "\n",
    "    model = model.to(device)\n",
    "\n",
    "    optimizer = optim.Adam(model.parameters(), lr=2e-4)\n",
    "\n",
    "    return train_model(\n",
    "        model, optimizer, num_iterations=5000,\n",
    "        print_every=250, eval_every=250,\n",
    "        prep_fn=prepare_treelstm_minibatch,\n",
    "        eval_fn=evaluate,\n",
    "        batch_fn=get_minibatch,\n",
    "        batch_size=25, eval_batch_size=25)\n",
    "  \n",
    "results = do_train(tree_model)"
   ]
  },
  {
   "cell_type": "code",
   "execution_count": 148,
   "metadata": {},
   "outputs": [],
   "source": [
    "lstm_losses = results[0]\n",
    "lstm_accuracies = results[1]"
   ]
  },
  {
   "cell_type": "code",
   "execution_count": 149,
   "metadata": {},
   "outputs": [
    {
     "data": {
      "image/png": "[encoded data removed]",
      "text/plain": [
       "<Figure size 1000x500 with 1 Axes>"
      ]
     },
     "metadata": {},
     "output_type": "display_data"
    }
   ],
   "source": [
    "plot_single_sequence(range(len(lstm_accuracies)), lstm_accuracies, plot_label=\"Binary Tree LSTM\", y_label=\"Accuracy\")"
   ]
  },
  {
   "cell_type": "code",
   "execution_count": 150,
   "metadata": {},
   "outputs": [
    {
     "data": {
      "image/png": "[encoded data removed]",
      "text/plain": [
       "<Figure size 1000x500 with 1 Axes>"
      ]
     },
     "metadata": {},
     "output_type": "display_data"
    }
   ],
   "source": [
    "plot_single_sequence(range(len(lstm_losses)), lstm_losses, plot_label=\"Binary Tree LSTM\", y_label=\"Loss\")"
   ]
  },
  {
   "cell_type": "markdown",
   "metadata": {
    "id": "f7QZZH86eHqu"
   },
   "source": [
    "# Further experiments and report\n",
    "\n",
    "For your report, you are expected to answer research questions by doing further experiments.\n",
    "\n",
    "## Research Questions\n",
    "\n",
    "Make sure you cover at least the following:\n",
    "\n",
    "- How important is word order for this task?\n",
    "- Does the tree structure help to get a better accuracy?\n",
    "- How does performance depend on the sentence length? Compare the various models. Is there a model that does better on longer sentences? If so, why?\n",
    "- Do you get better performance if you supervise the sentiment **at each node in the tree**? You can extract more training examples by treating every node in each tree as a separate tree. You will need to write a function that extracts all subtrees given a treestring. \n",
    "    - Warning: NLTK's Tree function seems to result in invalid trees in some cases, so be careful if you want to parse the string to a tree structure before extraction the phrases.\n",
    "\n",
    "**To be able to obtain a full grade (10), you should conduct further investigations.** For example, you can also investigate one the following:\n",
    "\n",
    "- When making a wrong prediction, can you figure out at what point in the tree (sentence) the model fails? You can make a prediction at each node to investigate.\n",
    "- How does N-ary Tree LSTM compare to the Child-Sum Tree LSTM? \n",
    "- How do the Tai et al. Tree LSTMs compare to Le & Zuidema's formulation?\n",
    "- Or... your own research question!\n",
    "\n",
    "These examples should give you an idea of the expected scope of your further investigations.\n",
    "\n",
    "In general:\n",
    "\n",
    "- ***When you report numbers, please report the mean accuracy across 3 (or more) runs with different random seed, together with the standard deviation.*** This is because the final performance may vary per random seed. \n",
    "More precisely, you should run each model with 3 different seeds, and for each of these 3 runs, evaluate the best model (according to the validation) on the test dataset. The validation dataset is used for finding the best model over iterations, but the accuracy you report should be on the test dataset.\n",
    "\n",
    "## Report instructions\n",
    "\n",
    "Your report needs to be written in LaTeX. You are required to use the ACL 2020 template which you can download from or edit directly on [Overleaf](https://www.overleaf.com/latex/templates/instructions-for-acl-2018-proceedings/xzmhqgnmkppc). Make sure your names and student numbers are visible at the top. (Tip: you need to uncomment `\\aclfinalcopy`).\n",
    "You can find some general tips about writing a research paper [here](https://www.microsoft.com/en-us/research/academic-program/write-great-research-paper/), but note that you need to make your own judgment about what is appropriate for this project. \n",
    "\n",
    "We expect you to use the following structure:\n",
    "1. Introduction (~1 page) - describe the problem, your research questions and goals, a summary of your findings and contributions. Please cite related work (models, data set) as part of your introduction here, since this is a short paper.\n",
    "    - Introduce the task and the main goal\n",
    "    - Present your research questions\n",
    "    - Motivate the importance of the questions\n",
    "    - Present and explain your expectations\n",
    "    - Make clear whether the research questions are addressed or not addressed in the literature\n",
    "    - Describe the approach you use to answer the research questions\n",
    "    - Summarise your findings\n",
    "2. Background (~1/2-1 page) -\n",
    "cover the main techniques (\"building blocks\") used in your project (e.g. word embeddings, LSTM, Tree-LSTM) and intuitions behind them. Be accurate and concise.\n",
    "    - How does each technique work? (Don't just copy the formulas)\n",
    "    - What is the relation between the techniques?\n",
    "3. Models (~1/2 page) - Describe the architecture of the final models.\n",
    "    - How do you use LSTM or Tree-LSTM for the sentiment classification task? \n",
    "    - What layers do you have, how do you do classification? \n",
    "    - What is your loss function?\n",
    "    - Etc.\n",
    "4. Experiments (~1/2 page) - Describe your experimental setup. This section should allow someone else to reproduce your experiments. Describe how you evaluate the models.\n",
    "    - Task and the data\n",
    "    - Training (model, data, parameters and hyper parameters, training algorithms, supervision signals, etc.)\n",
    "    - Evaluation (e.g. metrics)\n",
    "5. Results and Analysis (~1 page). Present the results and analyse your findings.\n",
    "    - Answer each of the research questions you raised in the introduction.\n",
    "    - Use figures and tables to highlight interesting patterns\n",
    "    - What are the factors that make model A better than model B in task C? Investigate to prove their effect!\n",
    "6. Conclusion (~1/4 page). Present the conclusions that can be drawn from your experiments.\n",
    "    - What have you learned from you experiments?\n",
    "    - How do your findings relate to what is already known in the literature?\n",
    "    - Were the results as expected? Any surprising results? Why?\n",
    "    - Based on what you learned, what would you suggest doing next?\n",
    "\n",
    "\n",
    "General Tips:\n",
    "\n",
    "- Math notation – define each variable (either in running text, or in a pseudo-legenda after or before the equation).\n",
    "- Define technical terminology you need.\n",
    "- Avoid colloquial language – everything can be said in a scientific-sounding way.\n",
    "- Avoid lengthy sentences, stay to the point.\n",
    "- Do not spend space on \"obvious\" things.\n",
    "- Do not go over the page limit. (We will deduct points for that.)\n",
    "- The page limit is 4 pages excluding references and appendix. This is a strict limit; points will be deducted for longer reports. \n",
    "- There is no strict limit to references and appendix. However, the report needs to remain fully self-contained: the appendix should only include content that is not necessary to understand your work. For example, preprocessing decisions, model parameters, pseudocode, sample system inputs/outputs, and other details that are necessary for the exact replication of your work can be put into the appendix. \n",
    "\n",
    "\n",
    "An ideal report:\n",
    "- Precise, scientific-sounding, technical, to the point \n",
    "  - Little general “waffle”/chit-chat\n",
    "- Not boring – because you don’t explain obvious things too much\n",
    "- Efficient delivery of (only) the facts that we need to know to understand/reimplement\n",
    "- Results visually well-presented and described with the correct priority of importance of sub-results\n",
    "- Insightful analysis – speculation should connect to something interesting and not be too much; the reader “learns something new”\n",
    "- No typos, no colloquialisms – well-considered language\n",
    "- This normally means several re-draftings (re-orderings of information)\n"
   ]
  },
  {
   "cell_type": "code",
   "execution_count": null,
   "metadata": {
    "id": "uCINIXV1q1oe"
   },
   "outputs": [],
   "source": []
  }
 ],
 "metadata": {
  "accelerator": "GPU",
  "colab": {
   "collapsed_sections": [],
   "name": "NLP1 2021 Practical 2 (student version)",
   "provenance": [],
   "toc_visible": true
  },
  "kernelspec": {
   "display_name": "Python 3 (ipykernel)",
   "language": "python",
   "name": "python3"
  },
  "language_info": {
   "codemirror_mode": {
    "name": "ipython",
    "version": 3
   },
   "file_extension": ".py",
   "mimetype": "text/x-python",
   "name": "python",
   "nbconvert_exporter": "python",
   "pygments_lexer": "ipython3",
   "version": "3.9.7"
  }
 },
 "nbformat": 4,
 "nbformat_minor": 4
}
