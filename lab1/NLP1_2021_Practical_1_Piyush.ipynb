{
 "cells": [
  {
   "cell_type": "markdown",
   "metadata": {
    "id": "1-aRiOgl4nHg"
   },
   "source": [
    "------\n",
    "**You cannot save any changes you make to this file, so please make sure to save it on your Google Colab drive or download it as a .ipynb file.**\n",
    "\n",
    "------\n",
    "\n",
    " "
   ]
  },
  {
   "cell_type": "markdown",
   "metadata": {
    "id": "lIZrAUx57vsM"
   },
   "source": [
    "Practical 1: Sentiment Detection in Movie Reviews\n",
    "========================================\n",
    "\n"
   ]
  },
  {
   "cell_type": "markdown",
   "metadata": {
    "id": "J4kXPMhyngZW"
   },
   "source": [
    "This practical concerns detecting sentiment in movie reviews. This is a typical NLP classification task.\n",
    "In [this file](https://gist.githubusercontent.com/bastings/d47423301cca214e3930061a5a75e177/raw/5113687382919e22b1f09ce71a8fecd1687a5760/reviews.json) (80MB) you will find 1000 positive and 1000 negative **movie reviews**.\n",
    "Each review is a **document** and consists of one or more sentences.\n",
    "\n",
    "To prepare yourself for this practical, you should\n",
    "have a look at a few of these texts to understand the difficulties of\n",
    "the task: how might one go about classifying the texts? You will write\n",
    "code that decides whether a movie review conveys positive or\n",
    "negative sentiment.\n",
    "\n",
    "Please make sure you have read the following paper:\n",
    "\n",
    ">   Bo Pang, Lillian Lee, and Shivakumar Vaithyanathan\n",
    "(2002). \n",
    "[Thumbs up? Sentiment Classification using Machine Learning\n",
    "Techniques](https://dl.acm.org/citation.cfm?id=1118704). EMNLP.\n",
    "\n",
    "Bo Pang et al. introduced the movie review sentiment\n",
    "classification task, and the above paper was one of the first papers on\n",
    "the topic. The first version of your sentiment classifier will do\n",
    "something similar to Pang et al.'s system. If you have questions about it,\n",
    "you should resolve you doubts as soon as possible with your TA.\n"
   ]
  },
  {
   "cell_type": "markdown",
   "metadata": {
    "id": "cb7errgRASzZ"
   },
   "source": [
    "**Advice**\n",
    "\n",
    "Please read through the entire practical and familiarise\n",
    "yourself with all requirements before you start coding or otherwise\n",
    "solving the tasks. Writing clean and concise code can make the difference\n",
    "between solving the assignment in a matter of hours, and taking days to\n",
    "run all experiments.\n",
    "\n",
    "## Environment\n",
    "\n",
    "All code should be written in **Python 3**. \n",
    "This is the default in Google Colab."
   ]
  },
  {
   "cell_type": "code",
   "execution_count": 1,
   "metadata": {
    "id": "SaZnxptMJiD7"
   },
   "outputs": [
    {
     "name": "stdout",
     "output_type": "stream",
     "text": [
      "Python 3.9.7\n"
     ]
    }
   ],
   "source": [
    "!python --version"
   ]
  },
  {
   "cell_type": "markdown",
   "metadata": {
    "id": "BYZyIF7lJnGn"
   },
   "source": [
    "If you want to run code on your own computer, then download this notebook through `File -> Download .ipynb`.\n",
    "The easiest way to\n",
    "install Python is through downloading\n",
    "[Anaconda](https://www.anaconda.com/download). \n",
    "After installation, you can start the notebook by typing `jupyter notebook filename.ipynb`.\n",
    "You can also use an IDE\n",
    "such as [PyCharm](https://www.jetbrains.com/pycharm/download/) to make\n",
    "coding and debugging easier. It is good practice to create a [virtual\n",
    "environment](https://docs.python.org/3/tutorial/venv.html) for this\n",
    "project, so that any Python packages don’t interfere with other\n",
    "projects. \n",
    " \n",
    "\n",
    "**Learning Python 3**\n",
    "\n",
    "If you are new to Python 3, you may want to check out a few of these resources:\n",
    "- https://learnxinyminutes.com/docs/python3/\n",
    "- https://www.learnpython.org/\n",
    "- https://docs.python.org/3/tutorial/"
   ]
  },
  {
   "cell_type": "code",
   "execution_count": 54,
   "metadata": {
    "id": "hok-BFu9lGoK"
   },
   "outputs": [],
   "source": [
    "import math\n",
    "import os\n",
    "import sys\n",
    "from subprocess import call\n",
    "from nltk import FreqDist\n",
    "from nltk.util import ngrams\n",
    "from nltk.stem.porter import PorterStemmer\n",
    "import sklearn as sk\n",
    "# from google.colab import drive\n",
    "import pickle\n",
    "import json\n",
    "from collections import Counter\n",
    "import requests\n",
    "import matplotlib.pyplot as plt\n",
    "import numpy as np\n",
    "\n",
    "# additional packages (tqdm can be installed via `pip install tqdm`)\n",
    "import itertools\n",
    "from tqdm import tqdm\n",
    "from nltk import word_tokenize\n",
    "from nltk.util import ngrams"
   ]
  },
  {
   "cell_type": "markdown",
   "metadata": {
    "id": "bXWyGHwE-ieQ"
   },
   "source": [
    "## Loading the data\n",
    "\n",
    "**Download the sentiment lexicon and the movie reviews dataset.**"
   ]
  },
  {
   "cell_type": "code",
   "execution_count": 4,
   "metadata": {
    "id": "lm-rakqtlMOT"
   },
   "outputs": [],
   "source": [
    "# download sentiment lexicon\n",
    "# !wget https://gist.githubusercontent.com/bastings/d6f99dcb6c82231b94b013031356ba05/raw/f80a0281eba8621b122012c89c8b5e2200b39fd6/sent_lexicon\n",
    "# download review data\n",
    "# !wget https://gist.githubusercontent.com/bastings/d47423301cca214e3930061a5a75e177/raw/5113687382919e22b1f09ce71a8fecd1687a5760/reviews.json"
   ]
  },
  {
   "cell_type": "markdown",
   "metadata": {
    "id": "AkPwuHp5LSuQ"
   },
   "source": [
    "**Load the movie reviews.**\n",
    "\n",
    "Each word in a review comes with its part-of-speech tag. For documentation on POS-tags, see https://catalog.ldc.upenn.edu/docs/LDC99T42/tagguid1.pdf.\n"
   ]
  },
  {
   "cell_type": "code",
   "execution_count": 6,
   "metadata": {
    "id": "careEKj-mRpl"
   },
   "outputs": [
    {
     "name": "stdout",
     "output_type": "stream",
     "text": [
      "Total number of reviews: 2000 \n",
      "\n",
      "0 NEG 29\n",
      "Two/CD teen/JJ couples/NNS go/VBP to/TO a/DT church/NN party/NN ,/, drink/NN and/CC then/RB drive/NN ./.\n",
      "1 NEG 11\n",
      "Damn/JJ that/IN Y2K/CD bug/NN ./.\n",
      "2 NEG 24\n",
      "It/PRP is/VBZ movies/NNS like/IN these/DT that/WDT make/VBP a/DT jaded/JJ movie/NN viewer/NN thankful/JJ for/IN the/DT invention/NN of/IN the/DT Timex/NNP IndiGlo/NNP watch/NN ./.\n",
      "3 NEG 19\n",
      "QUEST/NN FOR/IN CAMELOT/NNP ``/`` Quest/NNP for/IN Camelot/NNP ''/'' is/VBZ Warner/NNP Bros./NNP '/POS first/JJ feature-length/JJ ,/, fully-animated/JJ attempt/NN to/TO steal/VB clout/NN from/IN Disney/NNP 's/POS cartoon/NN empire/NN ,/, but/CC the/DT mouse/NN has/VBZ no/DT reason/NN to/TO be/VB worried/VBN ./.\n",
      "4 NEG 38\n",
      "Synopsis/NNPS :/: A/DT mentally/RB unstable/JJ man/NN undergoing/VBG psychotherapy/NN saves/VBZ a/DT boy/NN from/IN a/DT potentially/RB fatal/JJ accident/NN and/CC then/RB falls/VBZ in/IN love/NN with/IN the/DT boy/NN 's/POS mother/NN ,/, a/DT fledgling/NN restauranteur/NN ./.\n",
      "\n",
      "Number of word types: 47743\n",
      "Number of word tokens: 1512359\n",
      "\n",
      "Most common tokens:\n",
      "         , :    77842\n",
      "       the :    75948\n",
      "         . :    59027\n",
      "         a :    37583\n",
      "       and :    35235\n",
      "        of :    33864\n",
      "        to :    31601\n",
      "        is :    25972\n",
      "        in :    21563\n",
      "        's :    18043\n",
      "        it :    15904\n",
      "      that :    15820\n",
      "     -rrb- :    11768\n",
      "     -lrb- :    11670\n",
      "        as :    11312\n",
      "      with :    10739\n",
      "       for :     9816\n",
      "       his :     9542\n",
      "      this :     9497\n",
      "      film :     9404\n"
     ]
    }
   ],
   "source": [
    "# file structure:\n",
    "# [\n",
    "#  {\"cv\": integer, \"sentiment\": str, \"content\": list} \n",
    "#  {\"cv\": integer, \"sentiment\": str, \"content\": list} \n",
    "#   ..\n",
    "# ]\n",
    "# where `content` is a list of sentences, \n",
    "# with a sentence being a list of (token, pos_tag) pairs.\n",
    "\n",
    "\n",
    "with open(\"reviews.json\", mode=\"r\", encoding=\"utf-8\") as f:\n",
    "    reviews = json.load(f)\n",
    "\n",
    "print(\"Total number of reviews:\", len(reviews), '\\n')\n",
    "\n",
    "def print_sentence_with_pos(s):\n",
    "    print(\" \".join(\"%s/%s\" % (token, pos_tag) for token, pos_tag in s))\n",
    "\n",
    "for i, r in enumerate(reviews):\n",
    "    print(r[\"cv\"], r[\"sentiment\"], len(r[\"content\"]))  # cv, sentiment, num sents\n",
    "    print_sentence_with_pos(r[\"content\"][0])\n",
    "    if i == 4: \n",
    "        break\n",
    "    \n",
    "c = Counter()\n",
    "for review in reviews:\n",
    "    for sentence in review[\"content\"]:\n",
    "        for token, pos_tag in sentence:\n",
    "            c[token.lower()] += 1\n",
    "\n",
    "print(\"\\nNumber of word types:\", len(c))\n",
    "print(\"Number of word tokens:\", sum(c.values()))\n",
    "\n",
    "print(\"\\nMost common tokens:\")\n",
    "for token, count in c.most_common(20):\n",
    "      print(\"%10s : %8d\" % (token, count))"
   ]
  },
  {
   "cell_type": "markdown",
   "metadata": {
    "id": "E6PWaEoh8B34"
   },
   "source": [
    "# Lexicon-based approach (3.5pts)\n",
    "\n"
   ]
  },
  {
   "cell_type": "markdown",
   "metadata": {
    "id": "JsTSMb6ma4E8"
   },
   "source": [
    "A traditional approach to classify documents according to their sentiment is the lexicon-based approach. To implement this approach, you need a **sentiment lexicon**, i.e., a list of words annotated with a sentiment label (e.g., positive and negative, or a score from 0 to 5).\n",
    "\n",
    "In this practical, you will use the sentiment\n",
    "lexicon released by Wilson et al. (2005).\n",
    "\n",
    "> Theresa Wilson, Janyce Wiebe, and Paul Hoffmann\n",
    "(2005). [Recognizing Contextual Polarity in Phrase-Level Sentiment\n",
    "Analysis](http://www.aclweb.org/anthology/H/H05/H05-1044.pdf). HLT-EMNLP.\n",
    "\n",
    "Pay attention to all the information available in the sentiment lexicon. The field *word1* contains the lemma, *priorpolarity* contains the sentiment label (positive, negative, both, or neutral), *type* gives you the magnitude of the word's sentiment (strong or weak), and *pos1* gives you the part-of-speech tag of the lemma. Some lemmas can have multiple part-of-speech tags and thus multiple entries in the lexicon. The path of the lexicon file is `\"sent_lexicon\"`.\n"
   ]
  },
  {
   "cell_type": "code",
   "execution_count": 7,
   "metadata": {
    "id": "Ogq0Eq2hQglh"
   },
   "outputs": [
    {
     "name": "stdout",
     "output_type": "stream",
     "text": [
      "type=weaksubj len=1 word1=abandoned pos1=adj stemmed1=n priorpolarity=negative\n",
      "type=weaksubj len=1 word1=abandonment pos1=noun stemmed1=n priorpolarity=negative\n",
      "type=weaksubj len=1 word1=abandon pos1=verb stemmed1=y priorpolarity=negative\n",
      "type=strongsubj len=1 word1=abase pos1=verb stemmed1=y priorpolarity=negative\n",
      "type=strongsubj len=1 word1=abasement pos1=anypos stemmed1=y priorpolarity=negative\n"
     ]
    }
   ],
   "source": [
    "with open(\"sent_lexicon\", mode=\"r\", encoding=\"utf-8\") as f:\n",
    "    line_cnt = 0\n",
    "    for line in f:\n",
    "        print(line.strip())\n",
    "        line_cnt += 1\n",
    "        if line_cnt > 4:\n",
    "            break"
   ]
  },
  {
   "cell_type": "markdown",
   "metadata": {
    "id": "Mml4nOtIUBhn"
   },
   "source": [
    "Lexica such as this can be used to solve\n",
    "the classification task without using Machine Learning. For example, one might look up every word $w_1 ... w_n$ in a document, and compute a **binary score**\n",
    "$S_{binary}$ by counting how many words have a positive or a\n",
    "negative label in the sentiment lexicon $SLex$.\n",
    "\n",
    "$$S_{binary}(w_1 w_2 ... w_n) = \\sum_{i = 1}^{n}\\text{sign}(SLex\\big[w_i\\big])$$\n",
    "\n",
    "where $\\text{sign}(SLex\\big[w_i\\big])$ refers to the polarity of $w_i$.\n",
    "\n",
    "**Threshold.** On average, there are more positive than negative words per review (~7.13 more positive than negative per review) to take this bias into account you should use a threshold of **8** (roughly the bias itself) to make it harder to classify as positive.\n",
    "\n",
    "$$\n",
    "\\text{classify}(S_{binary}(w_1 w_2 ... w_n)) = \\bigg\\{\\begin{array}{ll}\n",
    "        \\text{positive} & \\text{if } S_{binary}(w_1w_2...w_n) > threshold\\\\\n",
    "        \\text{negative} & \\text{otherwise}\n",
    "        \\end{array}\n",
    "$$\n"
   ]
  },
  {
   "cell_type": "markdown",
   "metadata": {
    "id": "tOFnMvbeeZrc"
   },
   "source": [
    "#### (Q1.1) Implement this approach and report its classification accuracy. (1 pt)"
   ]
  },
  {
   "cell_type": "code",
   "execution_count": 41,
   "metadata": {
    "id": "ED2aTEYutW1-"
   },
   "outputs": [
    {
     "name": "stderr",
     "output_type": "stream",
     "text": [
      "Creating lexicon: 100%|████████████████████| 8222/8222 [00:00<00:00, 368648.23it/s]                                                                      "
     ]
    },
    {
     "name": "stdout",
     "output_type": "stream",
     "text": [
      "Created token-based lexicon with unique scores:  [-1  0  1]\n"
     ]
    },
    {
     "name": "stderr",
     "output_type": "stream",
     "text": [
      "\n"
     ]
    }
   ],
   "source": [
    "# Basic common helpers\n",
    "\n",
    "# mapping from polarity to sign\n",
    "POLARITY_TO_SIGN = {\n",
    "    \"negative\": -1,\n",
    "    \"positive\": 1,\n",
    "    \"neutral\": 0,\n",
    "    \"both\": 0,\n",
    "}\n",
    "\n",
    "# mapping from magnitude (str) to magnitude (value - float)\n",
    "MAGNITUDE_TO_VALUE = {\n",
    "    \"strongsubj\": 2.0,\n",
    "    \"weaksubj\": 1.0,\n",
    "}\n",
    "\n",
    "\n",
    "def pos_tag_upenn_to_desc(tag):\n",
    "    \"\"\"Returns the description of given POS tag in UPenn notation.\"\"\"\n",
    "\n",
    "    if tag.startswith(\"VB\"):\n",
    "        desc = \"verb\"\n",
    "    elif tag.startswith(\"NN\"):\n",
    "        desc = \"noun\"\n",
    "    elif tag.startswith(\"JJ\"):\n",
    "        desc = \"adj\"\n",
    "    elif tag.startswith(\"RB\"):\n",
    "        desc = \"adverb\"\n",
    "    else:\n",
    "        desc = \"anypos\"\n",
    "    \n",
    "    return desc\n",
    "\n",
    "\n",
    "def document_score(lexicon, document):\n",
    "    \"\"\"Computes document score based on the given lexicon.\"\"\"\n",
    "    \n",
    "    score = 0.0\n",
    "\n",
    "    # loop over sentences in document\n",
    "    for sent in document:\n",
    "        # loop over words in sentence\n",
    "        for (word, tag) in sent:\n",
    "            word = word.lower()\n",
    "            tag_desc = pos_tag_upenn_to_desc(tag)\n",
    "            key = f\"{word}/{tag_desc}\"\n",
    "            if key in lexicon:\n",
    "                score += lexicon[key]\n",
    "    \n",
    "    return score\n",
    "\n",
    "\n",
    "def classify_by_lexical_score(lexicon, documents, threshold):\n",
    "    \"\"\"Classifies given documents based on score computed via given lexicon.\"\"\"\n",
    "    predicted_labels = []\n",
    "    for i, document in enumerate(documents):\n",
    "        if isinstance(threshold, list):\n",
    "            doc_threshold = threshold[i]\n",
    "        else:\n",
    "            # use the same threshold for each document\n",
    "            doc_threshold = threshold\n",
    "        int_label = int(document_score(lexicon, document) > doc_threshold)\n",
    "        label = (int_label == 1) * \"POS\" + (int_label == 0) * \"NEG\"\n",
    "        predicted_labels.append(label)\n",
    "    return predicted_labels\n",
    "\n",
    "\n",
    "def word_token_score(polarity):\n",
    "    \"\"\"Computes score for a word with given polatiy.\"\"\"\n",
    "    score = POLARITY_TO_SIGN[polarity]\n",
    "\n",
    "    return score\n",
    "\n",
    "\n",
    "def word_magnitude_score(magnitude, polarity):\n",
    "    \"\"\"Computes score for a word with given polarity and magnitude.\"\"\"\n",
    "    assert polarity in [\"positive\", \"negative\", \"both\", \"neutral\"]\n",
    "    assert magnitude in [\"strongsubj\", \"weaksubj\"]\n",
    "    \n",
    "    magnitude = MAGNITUDE_TO_VALUE[magnitude]\n",
    "    score = POLARITY_TO_SIGN[polarity] * magnitude\n",
    "\n",
    "    return score\n",
    "\n",
    "\n",
    "def create_lexicon(filepath=\"sent_lexicon\", score_type=\"token\"):\n",
    "    \"\"\"Constructs score-based lexicon. For every (w, POS) pair, it assigns a score.\n",
    "    \"\"\"\n",
    "    lexicon = dict()\n",
    "\n",
    "    with open(filepath, mode=\"r\", encoding=\"utf-8\") as f:\n",
    "        for line in tqdm(list(f), desc=\"Creating lexicon\", bar_format='{l_bar}{bar:20}{r_bar}{bar:-20b}'):\n",
    "            fields = line.strip().split(\" \")\n",
    "            fields = {ele.split(\"=\")[0]:ele.split(\"=\")[1] for ele in fields}\n",
    "\n",
    "            key = f\"{fields['word1']}/{fields['pos1']}\"\n",
    "\n",
    "            if score_type == \"token\":\n",
    "                value = word_token_score(fields[\"priorpolarity\"])\n",
    "            elif score_type == \"magnitude\":\n",
    "                value = word_magnitude_score(fields[\"type\"], fields[\"priorpolarity\"])\n",
    "            else:\n",
    "                raise ValueError()\n",
    "\n",
    "            lexicon[key] = value\n",
    "\n",
    "    return lexicon\n",
    "\n",
    "\n",
    "token_lexicon = create_lexicon(score_type=\"token\")\n",
    "print(\"Created token-based lexicon with unique scores: \", np.unique(list(token_lexicon.values())))"
   ]
  },
  {
   "cell_type": "code",
   "execution_count": 47,
   "metadata": {
    "id": "iy528EUTphz5"
   },
   "outputs": [
    {
     "name": "stdout",
     "output_type": "stream",
     "text": [
      "Accuracy: 0.63\n"
     ]
    }
   ],
   "source": [
    "# token_results should be a list of binary indicators; for example [1, 0, 1, ...] \n",
    "# where 1 indicates a correct classification and 0 an incorrect classification.\n",
    "\n",
    "documents = [r[\"content\"] for r in reviews]\n",
    "labels = [r[\"sentiment\"] for r in reviews]\n",
    "\n",
    "token_results = classify_by_lexical_score(token_lexicon, documents, threshold=8.0)\n",
    "token_accuracy = np.mean(np.array(labels) == np.array(token_results))\n",
    "\n",
    "print(\"Accuracy: %0.2f\" % token_accuracy)"
   ]
  },
  {
   "cell_type": "markdown",
   "metadata": {
    "id": "Twox0s_3eS0V"
   },
   "source": [
    "As the sentiment lexicon also has information about the **magnitude** of\n",
    "sentiment (e.g., *“excellent\"* has the same sentiment _polarity_ as *“good\"* but it has a higher magnitude), we can take a more fine-grained approach by adding up all\n",
    "sentiment scores, and deciding the polarity of the movie review using\n",
    "the sign of the weighted score $S_{weighted}$.\n",
    "\n",
    "$$S_{weighted}(w_1w_2...w_n) = \\sum_{i = 1}^{n}SLex\\big[w_i\\big]$$\n",
    "\n",
    "\n",
    "Make sure you define an appropriate threshold for this approach.\n",
    "\n",
    "#### (Q1.2) Now incorporate magnitude information and report the classification accuracy. Don't forget to use the threshold. (1pt)"
   ]
  },
  {
   "cell_type": "code",
   "execution_count": 48,
   "metadata": {
    "id": "qG3hUDnPtkhS"
   },
   "outputs": [
    {
     "name": "stderr",
     "output_type": "stream",
     "text": [
      "Creating lexicon: 100%|████████████████████| 8222/8222 [00:00<00:00, 221014.58it/s]                                                                      "
     ]
    },
    {
     "name": "stdout",
     "output_type": "stream",
     "text": [
      "Created magnitude-based lexicon with unique scores:  [-2. -1.  0.  1.  2.]\n"
     ]
    },
    {
     "name": "stderr",
     "output_type": "stream",
     "text": [
      "\n"
     ]
    }
   ],
   "source": [
    "magnitude_lexicon = create_lexicon(score_type=\"magnitude\")\n",
    "print(\"Created magnitude-based lexicon with unique scores: \", np.unique(list(magnitude_lexicon.values())))"
   ]
  },
  {
   "cell_type": "code",
   "execution_count": 49,
   "metadata": {
    "id": "9vVk7CvDpyka"
   },
   "outputs": [
    {
     "name": "stdout",
     "output_type": "stream",
     "text": [
      "Accuracy: 0.66\n"
     ]
    }
   ],
   "source": [
    "magnitude_results = classify_by_lexical_score(magnitude_lexicon, documents, threshold=7.13)\n",
    "magnitude_accuracy = np.mean(np.array(labels) == np.array(magnitude_results))\n",
    "\n",
    "print(\"Accuracy: %0.2f\" % magnitude_accuracy)"
   ]
  },
  {
   "cell_type": "markdown",
   "metadata": {
    "id": "h9SHoGPfsAHV"
   },
   "source": [
    "#### (Q.1.4) Make a barplot of the two results (0.5pt)"
   ]
  },
  {
   "cell_type": "code",
   "execution_count": 50,
   "metadata": {
    "id": "8LgBcYcXsEk3"
   },
   "outputs": [
    {
     "data": {
      "image/png": "[encoded data removed]",
      "text/plain": [
       "<Figure size 360x432 with 1 Axes>"
      ]
     },
     "metadata": {
      "needs_background": "light"
     },
     "output_type": "display_data"
    }
   ],
   "source": [
    "# YOUR CODE HERE\n",
    "\n",
    "width = 0.25\n",
    "height = 1.0\n",
    "\n",
    "fig, ax = plt.subplots(figsize=(5, 6))\n",
    "binary_based_bar = ax.bar(0, token_accuracy, width, label='Token-based')\n",
    "magnitude_based_bar = ax.bar(1, magnitude_accuracy, width, label='Magnitude-based')\n",
    "ax.grid()\n",
    "\n",
    "plt.ylabel('Accuracy')\n",
    "plt.title('Token vs. Magnitude')\n",
    "plt.ylim(0, 0.7)\n",
    "plt.xticks((0, 1), ('Token-based', 'Magnitude-based'))\n",
    "plt.show()"
   ]
  },
  {
   "cell_type": "markdown",
   "metadata": {
    "id": "sNhS8OCVxMHd"
   },
   "source": [
    "#### (Q1.3) A better threshold (1pt)\n",
    "Above we have defined a threshold to account for an inherent bias in the dataset: there are more positive than negative words per review.\n",
    "However, that threshold does not take into account *document length*. Explain why this is a problem and implement an alternative way to compute the threshold."
   ]
  },
  {
   "cell_type": "markdown",
   "metadata": {
    "id": "xo7gk1I-omLI"
   },
   "source": [
    "*Write your answer here.*"
   ]
  },
  {
   "cell_type": "code",
   "execution_count": 53,
   "metadata": {
    "id": "Dwt0B8h8aKjr"
   },
   "outputs": [
    {
     "name": "stdout",
     "output_type": "stream",
     "text": [
      "Accuracy: 0.65\n"
     ]
    }
   ],
   "source": [
    "doc_lengths = [len(r[\"content\"]) for r in reviews]\n",
    "avg_doc_length = np.mean(doc_lengths)\n",
    "doc_wise_thresholds = [7.13 * (l / avg_doc_length) for l in doc_lengths]\n",
    "\n",
    "magnitude_results = classify_by_lexical_score(magnitude_lexicon, documents, threshold=doc_wise_thresholds)\n",
    "magnitude_accuracy = np.mean(np.array(labels) == np.array(magnitude_results))\n",
    "\n",
    "print(\"Accuracy: %0.2f\" % magnitude_accuracy)"
   ]
  },
  {
   "cell_type": "markdown",
   "metadata": {
    "id": "LibV4nR89BXb"
   },
   "source": [
    "# Naive Bayes (9.5pts)"
   ]
  },
  {
   "cell_type": "markdown",
   "metadata": {
    "id": "fnF9adQnuwia"
   },
   "source": [
    "\n",
    "Your second task is to program a simple Machine Learning approach that operates\n",
    "on a simple Bag-of-Words (BoW) representation of the text data, as\n",
    "described by Pang et al. (2002). In this approach, the only features we\n",
    "will consider are the words in the text themselves, without bringing in\n",
    "external sources of information. The BoW model is a popular way of\n",
    "representing texts as vectors, making it\n",
    "easy to apply classical Machine Learning algorithms on NLP tasks.\n",
    "However, the BoW representation is also very crude, since it discards\n",
    "all information related to word order and grammatical structure in the\n",
    "original text—as the name suggests.\n",
    "\n",
    "## Writing your own classifier (4pts)\n",
    "\n",
    "Write your own code to implement the Naive Bayes (NB) classifier. As\n",
    "a reminder, the Naive Bayes classifier works according to the following\n",
    "equation:\n",
    "$$\\hat{c} = \\operatorname*{arg\\,max}_{c \\in C} P(c|\\bar{f}) = \\operatorname*{arg\\,max}_{c \\in C} P(c)\\prod^n_{i=1} P(f_i|c)$$\n",
    "where $C = \\{ \\text{POS}, \\text{NEG} \\}$ is the set of possible classes,\n",
    "$\\hat{c} \\in C$ is the most probable class, and $\\bar{f}$ is the feature\n",
    "vector. Remember that we use the log of these probabilities when making\n",
    "a prediction:\n",
    "$$\\hat{c} = \\operatorname*{arg\\,max}_{c \\in C} \\Big\\{\\log P(c) + \\sum^n_{i=1} \\log P(f_i|c)\\Big\\}$$\n",
    "\n",
    "You can find more details about Naive Bayes in [Jurafsky &\n",
    "Martin](https://web.stanford.edu/~jurafsky/slp3/). You can also look at\n",
    "this helpful\n",
    "[pseudo-code](https://nlp.stanford.edu/IR-book/html/htmledition/naive-bayes-text-classification-1.html).\n",
    "\n",
    "*Note: this section and the next aim to put you in a position to replicate\n",
    "    Pang et al.'s Naive Bayes results. However, your numerical results\n",
    "    will differ from theirs, as they used different data.*\n",
    "\n",
    "**You must write the Naive Bayes training and prediction code from\n",
    "scratch.** You will not be given credit for using off-the-shelf Machine\n",
    "Learning libraries.\n",
    "\n",
    "The data contains the text of the reviews, where each document consists\n",
    "of the sentences in the review, the sentiment of the review and an index\n",
    "(cv) that you will later use for cross-validation. The\n",
    "text has already been tokenised and POS-tagged for you. Your algorithm\n",
    "should read in the text, **lowercase it**, store the words and their\n",
    "frequencies in an appropriate data structure that allows for easy\n",
    "computation of the probabilities used in the Naive Bayes algorithm, and\n",
    "then make predictions for new instances.\n"
   ]
  },
  {
   "cell_type": "markdown",
   "metadata": {
    "id": "vEpyQSBSkb33"
   },
   "source": [
    "#### (Q2.1) Unseen words (1pt)\n",
    "The presence of words in the test dataset that\n",
    "have not been seen during training can cause probabilities in the Naive Bayes classifier to equal $0$.\n",
    "These can be words which are unseen in both positive and negative training reviews (case 1), but also words which are seen in reviews _of only one sentiment class_ in the training dataset (case 2). In both cases, **you should skip these words for both classes**.  What would be the problem instead with skipping words only for one class in case 2? "
   ]
  },
  {
   "cell_type": "markdown",
   "metadata": {
    "id": "BanFiYYnoxDW"
   },
   "source": [
    "*Write your answer here.*"
   ]
  },
  {
   "cell_type": "markdown",
   "metadata": {
    "id": "gsZRhaI3WvzC"
   },
   "source": [
    "#### (Q2.2) Train your classifier on (positive and negative) reviews with cv-value 000-899, and test it on the remaining (positive and negative) reviews cv900–cv999.  Report results using classification accuracy as your evaluation metric. Your  features are the word vocabulary. The value of a feature is the count of that feature (word) in the document. (2pts)\n"
   ]
  },
  {
   "cell_type": "code",
   "execution_count": 94,
   "metadata": {},
   "outputs": [],
   "source": [
    "class BagOfWords:\n",
    "    \"\"\"BoW-based feature encoder.\n",
    "\n",
    "    Args:\n",
    "        n_grams (list): list of n-grams to be used, default [1]\n",
    "        stemmer (Any): Stemming to be applied on words, default None\n",
    "        verbose (bool): whether or not to print logs/messages, default True\n",
    "        classes (list): classes for classification, default [\"POS\", \"NEG\"]\n",
    "\n",
    "    Attributes:\n",
    "        vocab (dict): complete vocabulary constructed during `create_vocabulary`\n",
    "        vocab_size (int): size of vocabulary\n",
    "        vocab_terms (np.ndarray): list of all terms in vocabulary\n",
    "        class_wise_vocab (Counter): dict of per-class vocabulary\n",
    "        class_prior (dict): dict of fraction of number of documents in class\n",
    "    \"\"\"\n",
    "    def __init__(self, n_grams=[1], stemmer=None, verbose=True, classes=[\"POS\", \"NEG\"]):\n",
    "        self.n_grams = n_grams\n",
    "        self.stemmer = stemmer\n",
    "        self.verbose = verbose\n",
    "        self.classes = classes\n",
    "    \n",
    "    def get_sentence_ngrams(self, sent: list):\n",
    "        joined_ngrams = [list(ngrams(sent, k)) for k in self.n_grams]\n",
    "        return list(itertools.chain.from_iterable(joined_ngrams))\n",
    "    \n",
    "    def get_ngram_freq_dict(self, document: list, use_pos=False):\n",
    "        document = np.concatenate(document)\n",
    "\n",
    "        # get all words in the document (in lowercase)\n",
    "        words = list(np.char.lower(document[:, 0]))\n",
    "        pos_tags = document[:, 1]\n",
    "\n",
    "        # apply stemming to the words\n",
    "        if self.stemmer is not None:\n",
    "            words = list(map(self.stemmer.stem, words))\n",
    "        \n",
    "        # apply pos tags as suffixes to words (if flag is true)\n",
    "        if use_pos:\n",
    "            words = np.char.add(np.char.add(np.array(words), \"_\"), pos_tags)\n",
    "            words = list(words)\n",
    "\n",
    "        # get collection of n-grams, for different n\n",
    "        n_grams = self.get_sentence_ngrams(words)\n",
    "        n_grams = np.array(n_grams, dtype=\"object\")\n",
    "\n",
    "        # get counts of n-grams\n",
    "        n_grams_unique, n_grams_counts = np.unique(n_grams, return_counts=True)\n",
    "        n_grams_freq_dict = dict(zip(n_grams_unique, n_grams_counts))\n",
    "        return n_grams_freq_dict\n",
    "    \n",
    "    def create_vocabulary(self, documents: list, labels: list, use_pos=False):\n",
    "        \"\"\"Create a combined vocabulary based on given n-grams, \\forall n.\"\"\"\n",
    "        num_docs = len(documents)\n",
    "        \n",
    "        iterator = tqdm(\n",
    "            range(num_docs),\n",
    "            desc=\"Creating vocabulary\",\n",
    "            bar_format='{l_bar}{bar:20}{r_bar}{bar:-20b}',\n",
    "        )\n",
    "        if not self.verbose:\n",
    "            iterator = range(num_docs)\n",
    "\n",
    "        class_wise_vocab = {c: Counter() for c in self.classes}\n",
    "        class_priors = {c: 0.0 for c in self.classes}\n",
    "        for i in iterator:\n",
    "            d, l = documents[i], labels[i]\n",
    "\n",
    "            # update class counts\n",
    "            class_priors[l] += (1.0 / num_docs)\n",
    "            \n",
    "            # update vocab\n",
    "            n_grams_freq_dict = self.get_ngram_freq_dict(d, use_pos=use_pos)\n",
    "            class_wise_vocab[l].update(n_grams_freq_dict)\n",
    "            \n",
    "        # update class-wise attributes\n",
    "        self.class_wise_vocab = class_wise_vocab\n",
    "        self.class_priors = class_priors\n",
    "\n",
    "        # get the net vocbulary (union)\n",
    "        self.vocab = set.union(*[set(self.class_wise_vocab[c].keys()) for c in self.classes])\n",
    "        self.vocab_terms = np.array(list(self.vocab))\n",
    "        self.vocab_size = len(self.vocab)\n",
    "\n",
    "    def filter_vocab(self):\n",
    "        \"\"\"Removes words that occur only in one class but not others.\"\"\"\n",
    "\n",
    "        # get the net vocbulary (intersection)\n",
    "        self.vocab = set.intersection(*[set(self.class_wise_vocab[c].keys()) for c in self.classes])\n",
    "        self.vocab_terms = np.array(list(self.vocab))\n",
    "        self.vocab_size = len(self.vocab)\n",
    "        \n",
    "        # update class-wise vocabulary\n",
    "        for c in self.classes:\n",
    "            vocab_class = {w:v for w, v in self.class_wise_vocab[c].items() if w in self.vocab}\n",
    "            self.class_wise_vocab[c] = vocab_class\n",
    "\n",
    "    def encode(self, document: list, use_pos=False):\n",
    "        \"\"\"Encodes a document (list of sentences) into a BoW representation.\"\"\"\n",
    "\n",
    "        assert hasattr(self, \"vocab\"), \"Vocabulary has not been created!\"\n",
    "\n",
    "        n_grams_freq_dict = self.get_ngram_freq_dict(document, use_pos)\n",
    "        n_grams_freq_dict = {k:v for k, v in n_grams_freq_dict.items() if k in self.vocab_terms}\n",
    "        \n",
    "        words_in_doc = np.array(list(n_grams_freq_dict.keys()))\n",
    "        word_freqs_in_doc = np.array(list(n_grams_freq_dict.values()))\n",
    "        \n",
    "        bow_vector = np.zeros(len(self.vocab))\n",
    "        indices = np.in1d(self.vocab_terms, words_in_doc)\n",
    "        bow_vector[np.where(indices == True)] = word_freqs_in_doc\n",
    "\n",
    "        return bow_vector"
   ]
  },
  {
   "cell_type": "code",
   "execution_count": 130,
   "metadata": {},
   "outputs": [],
   "source": [
    "class NaiveBayesClassifier:\n",
    "    \"\"\"Implements the NBClassifier.\n",
    "    \n",
    "    Args:\n",
    "        classes (list): classes for classification, default [\"POS\", \"NEG\"]\n",
    "        n_grams (list): list of n-grams to be used, default [1]\n",
    "        stemmer (Any): Stemming to be applied on words, default None\n",
    "        smoothing_kappa (float): constant for Laplace smoothing, default 0\n",
    "        filter_vocab (bool): flag to drop words not occuring in all classes, default False\n",
    "        use_pos (bool): flag to use POS tags along with words, default False\n",
    "    \n",
    "    Attributes:\n",
    "        bow (BagOfWords): bag-of-words class that created vocabulary and encodes new documents\n",
    "    \"\"\"\n",
    "    def __init__(self, classes, n_grams=[1], stemmer=None, smoothing_kappa=0.0, filter_vocab=False, use_pos=False):\n",
    "        self.bow = BagOfWords(n_grams=n_grams, classes=classes, stemmer=stemmer)\n",
    "        self.smoothing_kappa = smoothing_kappa\n",
    "        self.classes = classes\n",
    "        self.filter_vocab = filter_vocab\n",
    "        self.use_pos = use_pos\n",
    "    \n",
    "    def train(self, documents: list, labels: list):\n",
    "        assert len(documents) == len(labels)\n",
    "        assert set(np.unique(labels)) == set(self.classes)\n",
    "\n",
    "        self.bow.create_vocabulary(documents, labels, use_pos=self.use_pos)\n",
    "        print(f\"Training finished with vocabulary of size {len(self.bow.vocab)}.\")\n",
    "\n",
    "        if self.filter_vocab:\n",
    "            self.bow.filter_vocab()\n",
    "            print(f\"Filtered vocabulary. Size of new vocabulary: {self.bow.vocab_size}\")\n",
    "\n",
    "    def check_word_in_vocab(self, word):\n",
    "        for c in self.classes:\n",
    "            if word not in self.bow.class_wise_vocab[c]:\n",
    "                return False\n",
    "        return True\n",
    "\n",
    "    def predict(self, documents: list):\n",
    "        \"\"\"Predicts class label for each of the given documents.\"\"\"\n",
    "        num_docs = len(documents)\n",
    "        \n",
    "        class_wise_sum = {c: sum(list(self.bow.class_wise_vocab[c].values())) for c in self.classes}\n",
    "        \n",
    "        iterator = tqdm(\n",
    "            range(num_docs),\n",
    "            desc=\"Evaluating\",\n",
    "            bar_format='{l_bar}{bar:20}{r_bar}{bar:-20b}',\n",
    "        )\n",
    "        predictions = []\n",
    "        for i in iterator:\n",
    "            d = documents[i]\n",
    "            ngram_frequency_dict = self.bow.get_ngram_freq_dict(d, use_pos=self.use_pos)\n",
    "\n",
    "            score = {k: np.log(self.bow.class_priors[k]) for k in self.classes}\n",
    "            for word in ngram_frequency_dict:\n",
    "                if self.check_word_in_vocab(word):\n",
    "                    for c in self.classes:\n",
    "                        count_word_in_c = self.bow.class_wise_vocab[c][word]\n",
    "                        count_all_words_in_c = class_wise_sum[c]\n",
    "                        nume = count_word_in_c + self.smoothing_kappa\n",
    "                        deno = count_all_words_in_c + self.smoothing_kappa * len(self.bow.vocab)\n",
    "                        # note: we need to multiply by number of times word has occured\n",
    "                        score[c] += ngram_frequency_dict[word] * np.log(nume/deno)\n",
    "\n",
    "            predicted_class = max(score, key=score.get)\n",
    "            predictions.append(predicted_class)\n",
    "\n",
    "        return predictions"
   ]
  },
  {
   "cell_type": "code",
   "execution_count": 131,
   "metadata": {},
   "outputs": [],
   "source": [
    "def filter_based_on_pos_tags(documents, valid_tags=[\"NN\", \"VB\", \"JJ\", \"RB\"]):\n",
    "    \"\"\"Filters given documents with words with only POS tags from valid_tags.\"\"\"\n",
    "    filtered_docs = []\n",
    "    for d in documents:        \n",
    "        doc = np.concatenate(d)\n",
    "        idx = np.in1d(doc[:, 1], np.array(valid_tags))\n",
    "        doc = doc[idx]\n",
    "        filtered_docs.append([doc.tolist()])\n",
    "    return filtered_docs\n",
    "\n",
    "\n",
    "def compute_accuracy(y_true: list, y_pred: list):\n",
    "    y_true = np.array(y_true)\n",
    "    y_pred = np.array(y_pred)\n",
    "    return np.mean((y_true == y_pred).astype(int))\n",
    "\n",
    "\n",
    "def train_and_evaluate_clf(clf, train_idx, test_idx, filter_on_tags=False):\n",
    "    train_documents = [reviews[i][\"content\"] for i in train_idx]\n",
    "    train_labels = [reviews[i][\"sentiment\"] for i in train_idx]\n",
    "\n",
    "    if filter_on_tags:\n",
    "        train_documents = filter_based_on_pos_tags(train_documents)\n",
    "\n",
    "    test_documents = [reviews[i][\"content\"] for i in test_idx]\n",
    "    test_labels = [reviews[i][\"sentiment\"] for i in test_idx]\n",
    "\n",
    "    if filter_on_tags:\n",
    "        test_documents = filter_based_on_pos_tags(test_documents)\n",
    "\n",
    "    # train the classifier\n",
    "    clf.train(train_documents, train_labels)\n",
    "\n",
    "    # compute train accuracy\n",
    "    acc = compute_accuracy(train_labels, clf.predict(train_documents))\n",
    "    print(f\"Obtained accuracy using NaiveBayesClassifier on train set: {acc:.3f}\")\n",
    "\n",
    "    # compute test accuracy\n",
    "    acc = compute_accuracy(test_labels, clf.predict(test_documents))\n",
    "    print(f\"Obtained accuracy using NaiveBayesClassifier on test set: {acc:.3f}\")\n",
    "    \n",
    "    return acc"
   ]
  },
  {
   "cell_type": "code",
   "execution_count": 132,
   "metadata": {},
   "outputs": [
    {
     "data": {
      "text/plain": [
       "(2000, 2000, 2000)"
      ]
     },
     "execution_count": 132,
     "metadata": {},
     "output_type": "execute_result"
    }
   ],
   "source": [
    "# define constants to be used throughout\n",
    "cv = np.array([reviews[i][\"cv\"] for i in range(len(reviews))])\n",
    "documents = [reviews[i][\"content\"] for i in range(len(reviews))]\n",
    "labels = np.array([reviews[i][\"sentiment\"] for i in range(len(reviews))])\n",
    "\n",
    "len(documents), len(labels), len(cv)"
   ]
  },
  {
   "cell_type": "code",
   "execution_count": 133,
   "metadata": {
    "id": "G7zaJYGFvIJ3",
    "tags": []
   },
   "outputs": [
    {
     "name": "stderr",
     "output_type": "stream",
     "text": [
      "Creating vocabulary: 100%|████████████████████| 1800/1800 [00:02<00:00, 782.61it/s]                                                          \n"
     ]
    },
    {
     "name": "stdout",
     "output_type": "stream",
     "text": [
      "Training finished with vocabulary of size 45348.\n",
      "Filtered vocabulary. Size of new vocabulary: 18799\n"
     ]
    },
    {
     "name": "stderr",
     "output_type": "stream",
     "text": [
      "Evaluating: 100%|████████████████████| 1800/1800 [00:06<00:00, 267.37it/s]                                                                   \n"
     ]
    },
    {
     "name": "stdout",
     "output_type": "stream",
     "text": [
      "Obtained accuracy using NaiveBayesClassifier on train set: 0.947\n"
     ]
    },
    {
     "name": "stderr",
     "output_type": "stream",
     "text": [
      "Evaluating: 100%|████████████████████| 200/200 [00:00<00:00, 263.85it/s]                                                                     "
     ]
    },
    {
     "name": "stdout",
     "output_type": "stream",
     "text": [
      "Obtained accuracy using NaiveBayesClassifier on test set: 0.835\n"
     ]
    },
    {
     "name": "stderr",
     "output_type": "stream",
     "text": [
      "\n"
     ]
    },
    {
     "data": {
      "text/plain": [
       "0.835"
      ]
     },
     "execution_count": 133,
     "metadata": {},
     "output_type": "execute_result"
    }
   ],
   "source": [
    "# split into training and testing data\n",
    "train_idx = np.where(cv < 900)[0]\n",
    "test_idx = np.where(cv >= 900)[0]\n",
    "\n",
    "clf = NaiveBayesClassifier(classes=[\"POS\", \"NEG\"], filter_vocab=True)\n",
    "train_and_evaluate_clf(clf, train_idx, test_idx)"
   ]
  },
  {
   "cell_type": "markdown",
   "metadata": {
    "id": "0INK-PBoM6CB"
   },
   "source": [
    "#### (Q2.3) Would you consider accuracy to also be a good way to evaluate your classifier in a situation where 90% of your data instances are of positive movie reviews? (1pt)\n",
    "\n",
    "Simulate this scenario by keeping the positive reviews\n",
    "data unchanged, but only using negative reviews cv000–cv089 for\n",
    "training, and cv900–cv909 for testing. Calculate the classification\n",
    "accuracy, and explain what changed."
   ]
  },
  {
   "cell_type": "markdown",
   "metadata": {
    "id": "oFbcsYlipBAw"
   },
   "source": [
    "*Write your answer here.*"
   ]
  },
  {
   "cell_type": "code",
   "execution_count": 134,
   "metadata": {
    "id": "GWDkt5ZrrFGp"
   },
   "outputs": [
    {
     "name": "stderr",
     "output_type": "stream",
     "text": [
      "Creating vocabulary: 100%|████████████████████| 990/990 [00:01<00:00, 721.27it/s]                                                            \n"
     ]
    },
    {
     "name": "stdout",
     "output_type": "stream",
     "text": [
      "Training finished with vocabulary of size 34662.\n",
      "Filtered vocabulary. Size of new vocabulary: 7351\n"
     ]
    },
    {
     "name": "stderr",
     "output_type": "stream",
     "text": [
      "Evaluating: 100%|████████████████████| 990/990 [00:03<00:00, 284.62it/s]                                                                     \n"
     ]
    },
    {
     "name": "stdout",
     "output_type": "stream",
     "text": [
      "Obtained accuracy using NaiveBayesClassifier on train set: 0.997\n"
     ]
    },
    {
     "name": "stderr",
     "output_type": "stream",
     "text": [
      "Evaluating: 100%|████████████████████| 110/110 [00:00<00:00, 287.04it/s]                                                                     "
     ]
    },
    {
     "name": "stdout",
     "output_type": "stream",
     "text": [
      "Obtained accuracy using NaiveBayesClassifier on test set: 0.891\n"
     ]
    },
    {
     "name": "stderr",
     "output_type": "stream",
     "text": [
      "\n"
     ]
    },
    {
     "data": {
      "text/plain": [
       "0.8909090909090909"
      ]
     },
     "execution_count": 134,
     "metadata": {},
     "output_type": "execute_result"
    }
   ],
   "source": [
    "cond = ((cv < 90) * (labels == \"NEG\")) + ((labels == \"POS\") * (cv < 900))\n",
    "train_idx = [i for i, value in enumerate(cond) if value]\n",
    "\n",
    "cond = ((cv >= 900) * (cv <= 909) * (labels == \"NEG\")) + ((labels == \"POS\") * (cv >= 900))\n",
    "test_idx = [i for i, value in enumerate(cond) if value]\n",
    "\n",
    "clf = NaiveBayesClassifier(classes=[\"POS\", \"NEG\"], filter_vocab=True)\n",
    "train_and_evaluate_clf(clf, train_idx, test_idx)"
   ]
  },
  {
   "cell_type": "markdown",
   "metadata": {
    "id": "6wJzcHX3WUDm"
   },
   "source": [
    "## Smoothing (1pt)\n",
    "\n",
    "As mentioned above, the presence of words in the test dataset that\n",
    "have not been seen during training can cause probabilities in the Naive\n",
    "Bayes classifier to be $0$, thus making that particular test instance\n",
    "undecidable. The standard way to mitigate this effect (as well as to\n",
    "give more clout to rare words) is to use smoothing, in which the\n",
    "probability fraction\n",
    "$$\\frac{\\text{count}(w_i, c)}{\\sum\\limits_{w\\in V} \\text{count}(w, c)}$$ for a word\n",
    "$w_i$ becomes\n",
    "$$\\frac{\\text{count}(w_i, c) + \\text{smoothing}(w_i)}{\\sum\\limits_{w\\in V} \\text{count}(w, c) + \\sum\\limits_{w \\in V} \\text{smoothing}(w)}$$\n",
    "\n",
    "\n",
    "\n"
   ]
  },
  {
   "cell_type": "markdown",
   "metadata": {
    "id": "PBNIcbwUWphC"
   },
   "source": [
    "#### (Q2.4) Implement Laplace feature smoothing (1pt)\n",
    "Implement Laplace smoothing, i.e., smoothing with a constant value ($smoothing(w) = \\kappa, \\forall w \\in V$), in your Naive\n",
    "Bayes classifier’s code, and report the impact on performance. \n",
    "Use $\\kappa = 1$."
   ]
  },
  {
   "cell_type": "code",
   "execution_count": 135,
   "metadata": {
    "id": "g03yflCc9kpW"
   },
   "outputs": [
    {
     "name": "stderr",
     "output_type": "stream",
     "text": [
      "Creating vocabulary: 100%|████████████████████| 1800/1800 [00:02<00:00, 786.99it/s]                                                          \n"
     ]
    },
    {
     "name": "stdout",
     "output_type": "stream",
     "text": [
      "Training finished with vocabulary of size 45348.\n"
     ]
    },
    {
     "name": "stderr",
     "output_type": "stream",
     "text": [
      "Evaluating: 100%|████████████████████| 1800/1800 [00:06<00:00, 265.60it/s]                                                                   \n"
     ]
    },
    {
     "name": "stdout",
     "output_type": "stream",
     "text": [
      "Obtained accuracy using NaiveBayesClassifier on train set: 0.944\n"
     ]
    },
    {
     "name": "stderr",
     "output_type": "stream",
     "text": [
      "Evaluating: 100%|████████████████████| 200/200 [00:00<00:00, 264.09it/s]                                                                     "
     ]
    },
    {
     "name": "stdout",
     "output_type": "stream",
     "text": [
      "Obtained accuracy using NaiveBayesClassifier on test set: 0.835\n"
     ]
    },
    {
     "name": "stderr",
     "output_type": "stream",
     "text": [
      "\n"
     ]
    },
    {
     "data": {
      "text/plain": [
       "0.835"
      ]
     },
     "execution_count": 135,
     "metadata": {},
     "output_type": "execute_result"
    }
   ],
   "source": [
    "# split into training and testing data\n",
    "train_idx = np.where(cv < 900)[0]\n",
    "test_idx = np.where(cv >= 900)[0]\n",
    "\n",
    "clf = NaiveBayesClassifier(classes=[\"POS\", \"NEG\"], filter_vocab=False, smoothing_kappa=1.0)\n",
    "train_and_evaluate_clf(clf, train_idx, test_idx)"
   ]
  },
  {
   "cell_type": "markdown",
   "metadata": {
    "id": "ZiGcgwba87D5"
   },
   "source": [
    "## Cross-Validation (1.5pts)\n",
    "\n",
    "A serious danger in using Machine Learning on small datasets, with many\n",
    "iterations of slightly different versions of the algorithms, is ending up with Type III errors, also called the “testing hypotheses\n",
    "suggested by the data” errors. This type of error occurs when we make\n",
    "repeated improvements to our classifiers by playing with features and\n",
    "their processing, but we don’t get a fresh, never-before seen test\n",
    "dataset every time. Thus, we risk developing a classifier that gets better\n",
    "and better on our data, but only gets worse at generalizing to new, unseen data. In other words, we risk developping a classifier that overfits.\n",
    "\n",
    "A simple method to guard against Type III errors is to use\n",
    "Cross-Validation. In **N-fold Cross-Validation**, we divide the data into N\n",
    "distinct chunks, or folds. Then, we repeat the experiment N times: each\n",
    "time holding out one of the folds for testing, training our classifier\n",
    "on the remaining N - 1 data folds, and reporting performance on the\n",
    "held-out fold. We can use different strategies for dividing the data:\n",
    "\n",
    "-   Consecutive splitting:\n",
    "  - cv000–cv099 = Split 1\n",
    "  - cv100–cv199 = Split 2\n",
    "  - etc.\n",
    "  \n",
    "-   Round-robin splitting (mod 10):\n",
    "  - cv000, cv010, cv020, … = Split 1\n",
    "  - cv001, cv011, cv021, … = Split 2\n",
    "  - etc.\n",
    "\n",
    "-   Random sampling/splitting\n",
    "  - Not used here (but you may choose to split this way in a non-educational situation)\n",
    "\n"
   ]
  },
  {
   "cell_type": "markdown",
   "metadata": {
    "id": "8OeLcbSauGtR"
   },
   "source": [
    "#### (Q2.5) Write the code to implement 10-fold cross-validation using round-robin splitting for your Naive Bayes classifier from Q2.4 and compute the 10 accuracies. Report the final performance, which is the average of the performances per fold. If all splits perform equally well, this is a good sign. (1pt)"
   ]
  },
  {
   "cell_type": "code",
   "execution_count": 136,
   "metadata": {
    "id": "3KeCGPa7Nuzx"
   },
   "outputs": [],
   "source": [
    "def evaluate_by_kfold_cv(K=10, factor=10, verbose=True, clf_args={\"classes\": [\"POS\", \"NEG\"], \"smoothing_kappa\": 1.0}):\n",
    "    test_accuracies = np.zeros(K)\n",
    "\n",
    "    for k in range(K):\n",
    "        if verbose:\n",
    "            print(f\":::::::::::: Fold {k} ::::::::::::\")\n",
    "\n",
    "        cv_fold = cv[k::factor]\n",
    "\n",
    "        test_idx = [i for i, value in enumerate(cv) if value in cv_fold]\n",
    "        train_idx = [i for i, value in enumerate(cv) if value not in cv_fold]\n",
    "        \n",
    "        if verbose:\n",
    "            print(\"Sample test indices: \", np.array(test_idx)[:10])\n",
    "\n",
    "        clf = NaiveBayesClassifier(**clf_args)\n",
    "        test_acc = train_and_evaluate_clf(clf, train_idx, test_idx)\n",
    "\n",
    "        test_accuracies[k] = test_acc\n",
    "    \n",
    "    return test_accuracies"
   ]
  },
  {
   "cell_type": "code",
   "execution_count": 137,
   "metadata": {
    "collapsed": true,
    "jupyter": {
     "outputs_hidden": true
    },
    "tags": []
   },
   "outputs": [
    {
     "name": "stdout",
     "output_type": "stream",
     "text": [
      ":::::::::::: Fold 0 ::::::::::::\n",
      "Sample test indices:  [ 0 10 20 30 40 50 60 70 80 90]\n"
     ]
    },
    {
     "name": "stderr",
     "output_type": "stream",
     "text": [
      "Creating vocabulary: 100%|████████████████████| 1800/1800 [00:02<00:00, 780.76it/s]                                                          \n"
     ]
    },
    {
     "name": "stdout",
     "output_type": "stream",
     "text": [
      "Training finished with vocabulary of size 45329.\n"
     ]
    },
    {
     "name": "stderr",
     "output_type": "stream",
     "text": [
      "Evaluating: 100%|████████████████████| 1800/1800 [00:06<00:00, 262.84it/s]                                                                   \n"
     ]
    },
    {
     "name": "stdout",
     "output_type": "stream",
     "text": [
      "Obtained accuracy using NaiveBayesClassifier on train set: 0.942\n"
     ]
    },
    {
     "name": "stderr",
     "output_type": "stream",
     "text": [
      "Evaluating: 100%|████████████████████| 200/200 [00:00<00:00, 275.16it/s]                                                                     \n"
     ]
    },
    {
     "name": "stdout",
     "output_type": "stream",
     "text": [
      "Obtained accuracy using NaiveBayesClassifier on test set: 0.785\n",
      ":::::::::::: Fold 1 ::::::::::::\n",
      "Sample test indices:  [ 1 11 21 31 41 51 61 71 81 91]\n"
     ]
    },
    {
     "name": "stderr",
     "output_type": "stream",
     "text": [
      "Creating vocabulary: 100%|████████████████████| 1800/1800 [00:02<00:00, 828.54it/s]                                                          \n"
     ]
    },
    {
     "name": "stdout",
     "output_type": "stream",
     "text": [
      "Training finished with vocabulary of size 45392.\n"
     ]
    },
    {
     "name": "stderr",
     "output_type": "stream",
     "text": [
      "Evaluating: 100%|████████████████████| 1800/1800 [00:06<00:00, 265.72it/s]                                                                   \n"
     ]
    },
    {
     "name": "stdout",
     "output_type": "stream",
     "text": [
      "Obtained accuracy using NaiveBayesClassifier on train set: 0.943\n"
     ]
    },
    {
     "name": "stderr",
     "output_type": "stream",
     "text": [
      "Evaluating: 100%|████████████████████| 200/200 [00:00<00:00, 260.97it/s]                                                                     \n"
     ]
    },
    {
     "name": "stdout",
     "output_type": "stream",
     "text": [
      "Obtained accuracy using NaiveBayesClassifier on test set: 0.850\n",
      ":::::::::::: Fold 2 ::::::::::::\n",
      "Sample test indices:  [ 2 12 22 32 42 52 62 72 82 92]\n"
     ]
    },
    {
     "name": "stderr",
     "output_type": "stream",
     "text": [
      "Creating vocabulary: 100%|████████████████████| 1800/1800 [00:02<00:00, 838.50it/s]                                                          \n"
     ]
    },
    {
     "name": "stdout",
     "output_type": "stream",
     "text": [
      "Training finished with vocabulary of size 45438.\n"
     ]
    },
    {
     "name": "stderr",
     "output_type": "stream",
     "text": [
      "Evaluating: 100%|████████████████████| 1800/1800 [00:06<00:00, 269.03it/s]                                                                   \n"
     ]
    },
    {
     "name": "stdout",
     "output_type": "stream",
     "text": [
      "Obtained accuracy using NaiveBayesClassifier on train set: 0.944\n"
     ]
    },
    {
     "name": "stderr",
     "output_type": "stream",
     "text": [
      "Evaluating: 100%|████████████████████| 200/200 [00:00<00:00, 262.86it/s]                                                                     \n"
     ]
    },
    {
     "name": "stdout",
     "output_type": "stream",
     "text": [
      "Obtained accuracy using NaiveBayesClassifier on test set: 0.810\n",
      ":::::::::::: Fold 3 ::::::::::::\n",
      "Sample test indices:  [ 3 13 23 33 43 53 63 73 83 93]\n"
     ]
    },
    {
     "name": "stderr",
     "output_type": "stream",
     "text": [
      "Creating vocabulary: 100%|████████████████████| 1800/1800 [00:02<00:00, 842.00it/s]                                                          \n"
     ]
    },
    {
     "name": "stdout",
     "output_type": "stream",
     "text": [
      "Training finished with vocabulary of size 45389.\n"
     ]
    },
    {
     "name": "stderr",
     "output_type": "stream",
     "text": [
      "Evaluating: 100%|████████████████████| 1800/1800 [00:06<00:00, 257.73it/s]                                                                   \n"
     ]
    },
    {
     "name": "stdout",
     "output_type": "stream",
     "text": [
      "Obtained accuracy using NaiveBayesClassifier on train set: 0.942\n"
     ]
    },
    {
     "name": "stderr",
     "output_type": "stream",
     "text": [
      "Evaluating: 100%|████████████████████| 200/200 [00:00<00:00, 253.76it/s]                                                                     \n"
     ]
    },
    {
     "name": "stdout",
     "output_type": "stream",
     "text": [
      "Obtained accuracy using NaiveBayesClassifier on test set: 0.870\n",
      ":::::::::::: Fold 4 ::::::::::::\n",
      "Sample test indices:  [ 4 14 24 34 44 54 64 74 84 94]\n"
     ]
    },
    {
     "name": "stderr",
     "output_type": "stream",
     "text": [
      "Creating vocabulary: 100%|████████████████████| 1800/1800 [00:02<00:00, 756.69it/s]                                                          \n"
     ]
    },
    {
     "name": "stdout",
     "output_type": "stream",
     "text": [
      "Training finished with vocabulary of size 45648.\n"
     ]
    },
    {
     "name": "stderr",
     "output_type": "stream",
     "text": [
      "Evaluating: 100%|████████████████████| 1800/1800 [00:07<00:00, 237.20it/s]                                                                   \n"
     ]
    },
    {
     "name": "stdout",
     "output_type": "stream",
     "text": [
      "Obtained accuracy using NaiveBayesClassifier on train set: 0.938\n"
     ]
    },
    {
     "name": "stderr",
     "output_type": "stream",
     "text": [
      "Evaluating: 100%|████████████████████| 200/200 [00:00<00:00, 251.17it/s]                                                                     \n"
     ]
    },
    {
     "name": "stdout",
     "output_type": "stream",
     "text": [
      "Obtained accuracy using NaiveBayesClassifier on test set: 0.800\n",
      ":::::::::::: Fold 5 ::::::::::::\n",
      "Sample test indices:  [ 5 15 25 35 45 55 65 75 85 95]\n"
     ]
    },
    {
     "name": "stderr",
     "output_type": "stream",
     "text": [
      "Creating vocabulary: 100%|████████████████████| 1800/1800 [00:02<00:00, 786.57it/s]                                                          \n"
     ]
    },
    {
     "name": "stdout",
     "output_type": "stream",
     "text": [
      "Training finished with vocabulary of size 45296.\n"
     ]
    },
    {
     "name": "stderr",
     "output_type": "stream",
     "text": [
      "Evaluating: 100%|████████████████████| 1800/1800 [00:06<00:00, 259.16it/s]                                                                   \n"
     ]
    },
    {
     "name": "stdout",
     "output_type": "stream",
     "text": [
      "Obtained accuracy using NaiveBayesClassifier on train set: 0.939\n"
     ]
    },
    {
     "name": "stderr",
     "output_type": "stream",
     "text": [
      "Evaluating: 100%|████████████████████| 200/200 [00:00<00:00, 268.63it/s]                                                                     \n"
     ]
    },
    {
     "name": "stdout",
     "output_type": "stream",
     "text": [
      "Obtained accuracy using NaiveBayesClassifier on test set: 0.865\n",
      ":::::::::::: Fold 6 ::::::::::::\n",
      "Sample test indices:  [ 6 16 26 36 46 56 66 76 86 96]\n"
     ]
    },
    {
     "name": "stderr",
     "output_type": "stream",
     "text": [
      "Creating vocabulary: 100%|████████████████████| 1800/1800 [00:02<00:00, 812.83it/s]                                                          \n"
     ]
    },
    {
     "name": "stdout",
     "output_type": "stream",
     "text": [
      "Training finished with vocabulary of size 45365.\n"
     ]
    },
    {
     "name": "stderr",
     "output_type": "stream",
     "text": [
      "Evaluating: 100%|████████████████████| 1800/1800 [00:06<00:00, 268.17it/s]                                                                   \n"
     ]
    },
    {
     "name": "stdout",
     "output_type": "stream",
     "text": [
      "Obtained accuracy using NaiveBayesClassifier on train set: 0.942\n"
     ]
    },
    {
     "name": "stderr",
     "output_type": "stream",
     "text": [
      "Evaluating: 100%|████████████████████| 200/200 [00:00<00:00, 258.54it/s]                                                                     \n"
     ]
    },
    {
     "name": "stdout",
     "output_type": "stream",
     "text": [
      "Obtained accuracy using NaiveBayesClassifier on test set: 0.825\n",
      ":::::::::::: Fold 7 ::::::::::::\n",
      "Sample test indices:  [ 7 17 27 37 47 57 67 77 87 97]\n"
     ]
    },
    {
     "name": "stderr",
     "output_type": "stream",
     "text": [
      "Creating vocabulary: 100%|████████████████████| 1800/1800 [00:02<00:00, 833.62it/s]                                                          \n"
     ]
    },
    {
     "name": "stdout",
     "output_type": "stream",
     "text": [
      "Training finished with vocabulary of size 45409.\n"
     ]
    },
    {
     "name": "stderr",
     "output_type": "stream",
     "text": [
      "Evaluating: 100%|████████████████████| 1800/1800 [00:06<00:00, 266.08it/s]                                                                   \n"
     ]
    },
    {
     "name": "stdout",
     "output_type": "stream",
     "text": [
      "Obtained accuracy using NaiveBayesClassifier on train set: 0.942\n"
     ]
    },
    {
     "name": "stderr",
     "output_type": "stream",
     "text": [
      "Evaluating: 100%|████████████████████| 200/200 [00:00<00:00, 261.10it/s]                                                                     \n"
     ]
    },
    {
     "name": "stdout",
     "output_type": "stream",
     "text": [
      "Obtained accuracy using NaiveBayesClassifier on test set: 0.790\n",
      ":::::::::::: Fold 8 ::::::::::::\n",
      "Sample test indices:  [ 8 18 28 38 48 58 68 78 88 98]\n"
     ]
    },
    {
     "name": "stderr",
     "output_type": "stream",
     "text": [
      "Creating vocabulary: 100%|████████████████████| 1800/1800 [00:02<00:00, 829.97it/s]                                                          \n"
     ]
    },
    {
     "name": "stdout",
     "output_type": "stream",
     "text": [
      "Training finished with vocabulary of size 45557.\n"
     ]
    },
    {
     "name": "stderr",
     "output_type": "stream",
     "text": [
      "Evaluating: 100%|████████████████████| 1800/1800 [00:06<00:00, 264.05it/s]                                                                   \n"
     ]
    },
    {
     "name": "stdout",
     "output_type": "stream",
     "text": [
      "Obtained accuracy using NaiveBayesClassifier on train set: 0.942\n"
     ]
    },
    {
     "name": "stderr",
     "output_type": "stream",
     "text": [
      "Evaluating: 100%|████████████████████| 200/200 [00:00<00:00, 272.55it/s]                                                                     \n"
     ]
    },
    {
     "name": "stdout",
     "output_type": "stream",
     "text": [
      "Obtained accuracy using NaiveBayesClassifier on test set: 0.825\n",
      ":::::::::::: Fold 9 ::::::::::::\n",
      "Sample test indices:  [ 9 19 29 39 49 59 69 79 89 99]\n"
     ]
    },
    {
     "name": "stderr",
     "output_type": "stream",
     "text": [
      "Creating vocabulary: 100%|████████████████████| 1800/1800 [00:02<00:00, 825.11it/s]                                                          \n"
     ]
    },
    {
     "name": "stdout",
     "output_type": "stream",
     "text": [
      "Training finished with vocabulary of size 45642.\n"
     ]
    },
    {
     "name": "stderr",
     "output_type": "stream",
     "text": [
      "Evaluating: 100%|████████████████████| 1800/1800 [00:06<00:00, 265.23it/s]                                                                   \n"
     ]
    },
    {
     "name": "stdout",
     "output_type": "stream",
     "text": [
      "Obtained accuracy using NaiveBayesClassifier on train set: 0.945\n"
     ]
    },
    {
     "name": "stderr",
     "output_type": "stream",
     "text": [
      "Evaluating: 100%|████████████████████| 200/200 [00:00<00:00, 266.89it/s]                                                                     "
     ]
    },
    {
     "name": "stdout",
     "output_type": "stream",
     "text": [
      "Obtained accuracy using NaiveBayesClassifier on test set: 0.820\n"
     ]
    },
    {
     "name": "stderr",
     "output_type": "stream",
     "text": [
      "\n"
     ]
    }
   ],
   "source": [
    "test_accuracies = evaluate_by_kfold_cv(clf_args={\"classes\": [\"POS\", \"NEG\"], \"smoothing_kappa\": 1.0})"
   ]
  },
  {
   "cell_type": "code",
   "execution_count": 138,
   "metadata": {},
   "outputs": [
    {
     "name": "stdout",
     "output_type": "stream",
     "text": [
      "Mean accuracy across folds: 0.824000\n"
     ]
    }
   ],
   "source": [
    "avg_accuracy = np.mean(test_accuracies)\n",
    "print(f\"Mean accuracy across folds: {avg_accuracy:3f}\")"
   ]
  },
  {
   "cell_type": "markdown",
   "metadata": {
    "id": "otdlsDXBNyOa"
   },
   "source": [
    "#### (Q2.6) Report the variance of the 10 accuracy scores. (0.5pt)\n",
    "\n",
    "**Please report all future results using 10-fold cross-validation now\n",
    "(unless told to use the held-out test set).**"
   ]
  },
  {
   "cell_type": "code",
   "execution_count": 139,
   "metadata": {
    "id": "ZoBQm1KuNzNR"
   },
   "outputs": [
    {
     "name": "stdout",
     "output_type": "stream",
     "text": [
      "Std dev and variance in accuracy across folds: 0.028178  0.001\n"
     ]
    }
   ],
   "source": [
    "std_accuracy = np.std(test_accuracies)\n",
    "var_accuracy = np.var(test_accuracies)\n",
    "print(f\"Std dev and variance in accuracy across folds: {std_accuracy:3f}  {var_accuracy:.3f}\")"
   ]
  },
  {
   "cell_type": "markdown",
   "metadata": {
    "id": "s6A2zX9_BRKm"
   },
   "source": [
    "## Features, overfitting, and the curse of dimensionality\n",
    "\n",
    "In the Bag-of-Words model, ideally we would like each distinct word in\n",
    "the text to be mapped to its own dimension in the output vector\n",
    "representation. However, real world text is messy, and we need to decide\n",
    "on what we consider to be a word. For example, is “`word`\" different\n",
    "from “`Word`\", from “`word`”, or from “`words`\"? Too strict a\n",
    "definition, and the number of features explodes, while our algorithm\n",
    "fails to learn anything generalisable. Too lax, and we risk destroying\n",
    "our learning signal. In the following section, you will learn about\n",
    "confronting the feature sparsity and the overfitting problems as they\n",
    "occur in NLP classification tasks."
   ]
  },
  {
   "cell_type": "markdown",
   "metadata": {
    "id": "EKK8FNt8VtcZ"
   },
   "source": [
    "### Stemming (1.5pts)\n",
    "\n",
    "To make your algorithm more robust, use stemming and hash different inflections of a word to the same feature in the BoW vector space. Please use the [Porter stemming\n",
    "    algorithm](http://www.nltk.org/howto/stem.html) from NLTK.\n",
    "\n"
   ]
  },
  {
   "cell_type": "code",
   "execution_count": 140,
   "metadata": {
    "id": "NxtCul1IrBi_"
   },
   "outputs": [],
   "source": [
    "porter_stemmer = PorterStemmer()"
   ]
  },
  {
   "cell_type": "markdown",
   "metadata": {
    "id": "6SrJ1BeLXTnk"
   },
   "source": [
    "#### (Q2.7): How does the performance of your classifier change when you use stemming on your training and test datasets? (1pt)\n",
    "Use cross-validation to evaluate the classifier. \n"
   ]
  },
  {
   "cell_type": "code",
   "execution_count": 141,
   "metadata": {
    "collapsed": true,
    "id": "gYqKBOiIrInT",
    "jupyter": {
     "outputs_hidden": true
    },
    "tags": []
   },
   "outputs": [
    {
     "name": "stdout",
     "output_type": "stream",
     "text": [
      ":::::::::::: Fold 0 ::::::::::::\n",
      "Sample test indices:  [ 0 10 20 30 40 50 60 70 80 90]\n"
     ]
    },
    {
     "name": "stderr",
     "output_type": "stream",
     "text": [
      "Creating vocabulary: 100%|████████████████████| 1800/1800 [00:11<00:00, 152.30it/s]                                                          \n"
     ]
    },
    {
     "name": "stdout",
     "output_type": "stream",
     "text": [
      "Training finished with vocabulary of size 32371.\n",
      "Filtered vocabulary. Size of new vocabulary: 13304\n"
     ]
    },
    {
     "name": "stderr",
     "output_type": "stream",
     "text": [
      "Evaluating: 100%|████████████████████| 1800/1800 [00:16<00:00, 111.96it/s]                                                                   \n"
     ]
    },
    {
     "name": "stdout",
     "output_type": "stream",
     "text": [
      "Obtained accuracy using NaiveBayesClassifier on train set: 0.937\n"
     ]
    },
    {
     "name": "stderr",
     "output_type": "stream",
     "text": [
      "Evaluating: 100%|████████████████████| 200/200 [00:01<00:00, 116.27it/s]                                                                     \n"
     ]
    },
    {
     "name": "stdout",
     "output_type": "stream",
     "text": [
      "Obtained accuracy using NaiveBayesClassifier on test set: 0.775\n",
      ":::::::::::: Fold 1 ::::::::::::\n",
      "Sample test indices:  [ 1 11 21 31 41 51 61 71 81 91]\n"
     ]
    },
    {
     "name": "stderr",
     "output_type": "stream",
     "text": [
      "Creating vocabulary: 100%|████████████████████| 1800/1800 [00:11<00:00, 153.38it/s]                                                          \n"
     ]
    },
    {
     "name": "stdout",
     "output_type": "stream",
     "text": [
      "Training finished with vocabulary of size 32482.\n",
      "Filtered vocabulary. Size of new vocabulary: 13302\n"
     ]
    },
    {
     "name": "stderr",
     "output_type": "stream",
     "text": [
      "Evaluating: 100%|████████████████████| 1800/1800 [00:16<00:00, 112.08it/s]                                                                   \n"
     ]
    },
    {
     "name": "stdout",
     "output_type": "stream",
     "text": [
      "Obtained accuracy using NaiveBayesClassifier on train set: 0.936\n"
     ]
    },
    {
     "name": "stderr",
     "output_type": "stream",
     "text": [
      "Evaluating: 100%|████████████████████| 200/200 [00:01<00:00, 108.64it/s]                                                                     \n"
     ]
    },
    {
     "name": "stdout",
     "output_type": "stream",
     "text": [
      "Obtained accuracy using NaiveBayesClassifier on test set: 0.835\n",
      ":::::::::::: Fold 2 ::::::::::::\n",
      "Sample test indices:  [ 2 12 22 32 42 52 62 72 82 92]\n"
     ]
    },
    {
     "name": "stderr",
     "output_type": "stream",
     "text": [
      "Creating vocabulary: 100%|████████████████████| 1800/1800 [00:11<00:00, 150.96it/s]                                                          \n"
     ]
    },
    {
     "name": "stdout",
     "output_type": "stream",
     "text": [
      "Training finished with vocabulary of size 32545.\n",
      "Filtered vocabulary. Size of new vocabulary: 13340\n"
     ]
    },
    {
     "name": "stderr",
     "output_type": "stream",
     "text": [
      "Evaluating: 100%|████████████████████| 1800/1800 [00:16<00:00, 108.86it/s]                                                                   \n"
     ]
    },
    {
     "name": "stdout",
     "output_type": "stream",
     "text": [
      "Obtained accuracy using NaiveBayesClassifier on train set: 0.934\n"
     ]
    },
    {
     "name": "stderr",
     "output_type": "stream",
     "text": [
      "Evaluating: 100%|████████████████████| 200/200 [00:01<00:00, 103.93it/s]                                                                     \n"
     ]
    },
    {
     "name": "stdout",
     "output_type": "stream",
     "text": [
      "Obtained accuracy using NaiveBayesClassifier on test set: 0.810\n",
      ":::::::::::: Fold 3 ::::::::::::\n",
      "Sample test indices:  [ 3 13 23 33 43 53 63 73 83 93]\n"
     ]
    },
    {
     "name": "stderr",
     "output_type": "stream",
     "text": [
      "Creating vocabulary: 100%|████████████████████| 1800/1800 [00:11<00:00, 150.79it/s]                                                          \n"
     ]
    },
    {
     "name": "stdout",
     "output_type": "stream",
     "text": [
      "Training finished with vocabulary of size 32498.\n",
      "Filtered vocabulary. Size of new vocabulary: 13344\n"
     ]
    },
    {
     "name": "stderr",
     "output_type": "stream",
     "text": [
      "Evaluating: 100%|████████████████████| 1800/1800 [00:16<00:00, 111.88it/s]                                                                   \n"
     ]
    },
    {
     "name": "stdout",
     "output_type": "stream",
     "text": [
      "Obtained accuracy using NaiveBayesClassifier on train set: 0.930\n"
     ]
    },
    {
     "name": "stderr",
     "output_type": "stream",
     "text": [
      "Evaluating: 100%|████████████████████| 200/200 [00:01<00:00, 109.76it/s]                                                                     \n"
     ]
    },
    {
     "name": "stdout",
     "output_type": "stream",
     "text": [
      "Obtained accuracy using NaiveBayesClassifier on test set: 0.875\n",
      ":::::::::::: Fold 4 ::::::::::::\n",
      "Sample test indices:  [ 4 14 24 34 44 54 64 74 84 94]\n"
     ]
    },
    {
     "name": "stderr",
     "output_type": "stream",
     "text": [
      "Creating vocabulary: 100%|████████████████████| 1800/1800 [00:11<00:00, 151.38it/s]                                                          \n"
     ]
    },
    {
     "name": "stdout",
     "output_type": "stream",
     "text": [
      "Training finished with vocabulary of size 32699.\n",
      "Filtered vocabulary. Size of new vocabulary: 13437\n"
     ]
    },
    {
     "name": "stderr",
     "output_type": "stream",
     "text": [
      "Evaluating: 100%|████████████████████| 1800/1800 [00:16<00:00, 110.65it/s]                                                                   \n"
     ]
    },
    {
     "name": "stdout",
     "output_type": "stream",
     "text": [
      "Obtained accuracy using NaiveBayesClassifier on train set: 0.931\n"
     ]
    },
    {
     "name": "stderr",
     "output_type": "stream",
     "text": [
      "Evaluating: 100%|████████████████████| 200/200 [00:01<00:00, 116.39it/s]                                                                     \n"
     ]
    },
    {
     "name": "stdout",
     "output_type": "stream",
     "text": [
      "Obtained accuracy using NaiveBayesClassifier on test set: 0.785\n",
      ":::::::::::: Fold 5 ::::::::::::\n",
      "Sample test indices:  [ 5 15 25 35 45 55 65 75 85 95]\n"
     ]
    },
    {
     "name": "stderr",
     "output_type": "stream",
     "text": [
      "Creating vocabulary: 100%|████████████████████| 1800/1800 [00:12<00:00, 147.68it/s]                                                          \n"
     ]
    },
    {
     "name": "stdout",
     "output_type": "stream",
     "text": [
      "Training finished with vocabulary of size 32439.\n",
      "Filtered vocabulary. Size of new vocabulary: 13316\n"
     ]
    },
    {
     "name": "stderr",
     "output_type": "stream",
     "text": [
      "Evaluating: 100%|████████████████████| 1800/1800 [00:16<00:00, 111.31it/s]                                                                   \n"
     ]
    },
    {
     "name": "stdout",
     "output_type": "stream",
     "text": [
      "Obtained accuracy using NaiveBayesClassifier on train set: 0.926\n"
     ]
    },
    {
     "name": "stderr",
     "output_type": "stream",
     "text": [
      "Evaluating: 100%|████████████████████| 200/200 [00:01<00:00, 111.36it/s]                                                                     \n"
     ]
    },
    {
     "name": "stdout",
     "output_type": "stream",
     "text": [
      "Obtained accuracy using NaiveBayesClassifier on test set: 0.845\n",
      ":::::::::::: Fold 6 ::::::::::::\n",
      "Sample test indices:  [ 6 16 26 36 46 56 66 76 86 96]\n"
     ]
    },
    {
     "name": "stderr",
     "output_type": "stream",
     "text": [
      "Creating vocabulary: 100%|████████████████████| 1800/1800 [00:11<00:00, 152.86it/s]                                                          \n"
     ]
    },
    {
     "name": "stdout",
     "output_type": "stream",
     "text": [
      "Training finished with vocabulary of size 32440.\n",
      "Filtered vocabulary. Size of new vocabulary: 13343\n"
     ]
    },
    {
     "name": "stderr",
     "output_type": "stream",
     "text": [
      "Evaluating: 100%|████████████████████| 1800/1800 [00:16<00:00, 111.55it/s]                                                                   \n"
     ]
    },
    {
     "name": "stdout",
     "output_type": "stream",
     "text": [
      "Obtained accuracy using NaiveBayesClassifier on train set: 0.933\n"
     ]
    },
    {
     "name": "stderr",
     "output_type": "stream",
     "text": [
      "Evaluating: 100%|████████████████████| 200/200 [00:01<00:00, 107.29it/s]                                                                     \n"
     ]
    },
    {
     "name": "stdout",
     "output_type": "stream",
     "text": [
      "Obtained accuracy using NaiveBayesClassifier on test set: 0.800\n",
      ":::::::::::: Fold 7 ::::::::::::\n",
      "Sample test indices:  [ 7 17 27 37 47 57 67 77 87 97]\n"
     ]
    },
    {
     "name": "stderr",
     "output_type": "stream",
     "text": [
      "Creating vocabulary: 100%|████████████████████| 1800/1800 [00:11<00:00, 151.61it/s]                                                          \n"
     ]
    },
    {
     "name": "stdout",
     "output_type": "stream",
     "text": [
      "Training finished with vocabulary of size 32493.\n",
      "Filtered vocabulary. Size of new vocabulary: 13294\n"
     ]
    },
    {
     "name": "stderr",
     "output_type": "stream",
     "text": [
      "Evaluating: 100%|████████████████████| 1800/1800 [00:16<00:00, 111.32it/s]                                                                   \n"
     ]
    },
    {
     "name": "stdout",
     "output_type": "stream",
     "text": [
      "Obtained accuracy using NaiveBayesClassifier on train set: 0.933\n"
     ]
    },
    {
     "name": "stderr",
     "output_type": "stream",
     "text": [
      "Evaluating: 100%|████████████████████| 200/200 [00:01<00:00, 111.91it/s]                                                                     \n"
     ]
    },
    {
     "name": "stdout",
     "output_type": "stream",
     "text": [
      "Obtained accuracy using NaiveBayesClassifier on test set: 0.795\n",
      ":::::::::::: Fold 8 ::::::::::::\n",
      "Sample test indices:  [ 8 18 28 38 48 58 68 78 88 98]\n"
     ]
    },
    {
     "name": "stderr",
     "output_type": "stream",
     "text": [
      "Creating vocabulary: 100%|████████████████████| 1800/1800 [00:11<00:00, 151.63it/s]                                                          \n"
     ]
    },
    {
     "name": "stdout",
     "output_type": "stream",
     "text": [
      "Training finished with vocabulary of size 32576.\n",
      "Filtered vocabulary. Size of new vocabulary: 13384\n"
     ]
    },
    {
     "name": "stderr",
     "output_type": "stream",
     "text": [
      "Evaluating: 100%|████████████████████| 1800/1800 [00:16<00:00, 110.74it/s]                                                                   \n"
     ]
    },
    {
     "name": "stdout",
     "output_type": "stream",
     "text": [
      "Obtained accuracy using NaiveBayesClassifier on train set: 0.932\n"
     ]
    },
    {
     "name": "stderr",
     "output_type": "stream",
     "text": [
      "Evaluating: 100%|████████████████████| 200/200 [00:01<00:00, 113.69it/s]                                                                     \n"
     ]
    },
    {
     "name": "stdout",
     "output_type": "stream",
     "text": [
      "Obtained accuracy using NaiveBayesClassifier on test set: 0.825\n",
      ":::::::::::: Fold 9 ::::::::::::\n",
      "Sample test indices:  [ 9 19 29 39 49 59 69 79 89 99]\n"
     ]
    },
    {
     "name": "stderr",
     "output_type": "stream",
     "text": [
      "Creating vocabulary: 100%|████████████████████| 1800/1800 [00:11<00:00, 151.66it/s]                                                          \n"
     ]
    },
    {
     "name": "stdout",
     "output_type": "stream",
     "text": [
      "Training finished with vocabulary of size 32667.\n",
      "Filtered vocabulary. Size of new vocabulary: 13358\n"
     ]
    },
    {
     "name": "stderr",
     "output_type": "stream",
     "text": [
      "Evaluating: 100%|████████████████████| 1800/1800 [00:16<00:00, 111.14it/s]                                                                   \n"
     ]
    },
    {
     "name": "stdout",
     "output_type": "stream",
     "text": [
      "Obtained accuracy using NaiveBayesClassifier on train set: 0.932\n"
     ]
    },
    {
     "name": "stderr",
     "output_type": "stream",
     "text": [
      "Evaluating: 100%|████████████████████| 200/200 [00:01<00:00, 113.91it/s]                                                                     "
     ]
    },
    {
     "name": "stdout",
     "output_type": "stream",
     "text": [
      "Obtained accuracy using NaiveBayesClassifier on test set: 0.825\n"
     ]
    },
    {
     "name": "stderr",
     "output_type": "stream",
     "text": [
      "\n"
     ]
    }
   ],
   "source": [
    "test_accuracies = evaluate_by_kfold_cv(clf_args={\"classes\": [\"POS\", \"NEG\"], \"stemmer\": porter_stemmer, \"filter_vocab\": True})"
   ]
  },
  {
   "cell_type": "code",
   "execution_count": 142,
   "metadata": {},
   "outputs": [
    {
     "name": "stdout",
     "output_type": "stream",
     "text": [
      "Mean and std of test accuracies: 0.8170 \t 0.0287\n"
     ]
    }
   ],
   "source": [
    "print(f\"Mean and std of test accuracies: {np.mean(test_accuracies):.4f} \\t {np.std(test_accuracies):.4f}\")"
   ]
  },
  {
   "cell_type": "markdown",
   "metadata": {
    "id": "JkDHVq_1XUVP"
   },
   "source": [
    "#### (Q2.8) What happens to the number of features (i.e., the size of the vocabulary) when using stemming as opposed to (Q2.4)? (0.5pt)\n",
    "Give actual numbers. You can use the held-out training set to determine these."
   ]
  },
  {
   "cell_type": "code",
   "execution_count": 145,
   "metadata": {
    "id": "MA3vee5-rJyy"
   },
   "outputs": [
    {
     "name": "stderr",
     "output_type": "stream",
     "text": [
      "Creating vocabulary: 100%|████████████████████| 1800/1800 [00:02<00:00, 822.46it/s]                                                          \n"
     ]
    },
    {
     "name": "stdout",
     "output_type": "stream",
     "text": [
      "Training finished with vocabulary of size 45348.\n"
     ]
    },
    {
     "name": "stderr",
     "output_type": "stream",
     "text": [
      "Evaluating: 100%|████████████████████| 1800/1800 [00:06<00:00, 262.14it/s]                                                                   \n"
     ]
    },
    {
     "name": "stdout",
     "output_type": "stream",
     "text": [
      "Obtained accuracy using NaiveBayesClassifier on train set: 0.944\n"
     ]
    },
    {
     "name": "stderr",
     "output_type": "stream",
     "text": [
      "Evaluating: 100%|████████████████████| 200/200 [00:00<00:00, 265.89it/s]                                                                     \n"
     ]
    },
    {
     "name": "stdout",
     "output_type": "stream",
     "text": [
      "Obtained accuracy using NaiveBayesClassifier on test set: 0.835\n"
     ]
    },
    {
     "name": "stderr",
     "output_type": "stream",
     "text": [
      "Creating vocabulary: 100%|████████████████████| 1800/1800 [00:11<00:00, 153.79it/s]                                                          \n"
     ]
    },
    {
     "name": "stdout",
     "output_type": "stream",
     "text": [
      "Training finished with vocabulary of size 32404.\n"
     ]
    },
    {
     "name": "stderr",
     "output_type": "stream",
     "text": [
      "Evaluating: 100%|████████████████████| 1800/1800 [00:16<00:00, 111.07it/s]                                                                   \n"
     ]
    },
    {
     "name": "stdout",
     "output_type": "stream",
     "text": [
      "Obtained accuracy using NaiveBayesClassifier on train set: 0.926\n"
     ]
    },
    {
     "name": "stderr",
     "output_type": "stream",
     "text": [
      "Evaluating: 100%|████████████████████| 200/200 [00:01<00:00, 110.34it/s]                                                                     "
     ]
    },
    {
     "name": "stdout",
     "output_type": "stream",
     "text": [
      "Obtained accuracy using NaiveBayesClassifier on test set: 0.835\n",
      ":::: Vocabulary size ::::\n",
      ":: Without stemming:\t 45348\n",
      ":: With stemming:\t 32404\n"
     ]
    },
    {
     "name": "stderr",
     "output_type": "stream",
     "text": [
      "\n"
     ]
    }
   ],
   "source": [
    "# YOUR CODE HERE\n",
    "\n",
    "train_idx = np.where(cv < 900)[0]\n",
    "test_idx = np.where(cv >= 900)[0]\n",
    "\n",
    "# without stemming\n",
    "clf = NaiveBayesClassifier(classes=[\"POS\", \"NEG\"], stemmer=None, smoothing_kappa=1.0)\n",
    "train_and_evaluate_clf(clf, train_idx, test_idx)\n",
    "vocab_size_wout_stem = clf.bow.vocab_size\n",
    "\n",
    "# with stemming\n",
    "clf = NaiveBayesClassifier(classes=[\"POS\", \"NEG\"], stemmer=porter_stemmer, smoothing_kappa=1.0)\n",
    "train_and_evaluate_clf(clf, train_idx, test_idx)\n",
    "vocab_size_with_stem = clf.bow.vocab_size\n",
    "\n",
    "print(\":::: Vocabulary size ::::\")\n",
    "print(f\":: Without stemming:\\t {vocab_size_wout_stem}\")\n",
    "print(f\":: With stemming:\\t {vocab_size_with_stem}\")"
   ]
  },
  {
   "cell_type": "markdown",
   "metadata": {
    "id": "SoazfxbNV5Lq"
   },
   "source": [
    "### N-grams (1.5pts)\n",
    "\n",
    "A simple way of retaining some of the word\n",
    "order information when using bag-of-words representations is to use **n-gram** features. \n",
    "\n",
    "\n",
    "\n",
    "\n"
   ]
  },
  {
   "cell_type": "markdown",
   "metadata": {
    "id": "OHjy3I7-qWiu"
   },
   "source": [
    "#### (Q2.9) Retrain your classifier from (Q2.4) using **unigrams+bigrams** and **unigrams+bigrams+trigrams** as features. (1pt)\n",
    "Report accuracy and compare it with that of the approaches you have previously implemented. You are allowed to use NLTK to build n-grams from sentences."
   ]
  },
  {
   "cell_type": "code",
   "execution_count": 146,
   "metadata": {
    "collapsed": true,
    "id": "eYuKMTOpq9jz",
    "jupyter": {
     "outputs_hidden": true
    },
    "tags": []
   },
   "outputs": [
    {
     "name": "stderr",
     "output_type": "stream",
     "text": [
      "Creating vocabulary: 100%|████████████████████| 1800/1800 [00:04<00:00, 415.15it/s]                                                          \n",
      "/var/folders/nw/93_by3716yn881ckngw_vmp40000gn/T/ipykernel_19646/2954982564.py:84: VisibleDeprecationWarning: Creating an ndarray from ragged nested sequences (which is a list-or-tuple of lists-or-tuples-or ndarrays with different lengths or shapes) is deprecated. If you meant to do this, you must specify 'dtype=object' when creating the ndarray.\n",
      "  self.vocab_terms = np.array(list(self.vocab))\n",
      "/var/folders/nw/93_by3716yn881ckngw_vmp40000gn/T/ipykernel_19646/2954982564.py:96: VisibleDeprecationWarning: Creating an ndarray from ragged nested sequences (which is a list-or-tuple of lists-or-tuples-or ndarrays with different lengths or shapes) is deprecated. If you meant to do this, you must specify 'dtype=object' when creating the ndarray.\n",
      "  self.vocab_terms = np.array(list(vocab_common))\n"
     ]
    },
    {
     "name": "stdout",
     "output_type": "stream",
     "text": [
      "Training finished with vocabulary of size 472632.\n",
      "Filtered vocabulary. Size of new vocabulary: 95273\n"
     ]
    },
    {
     "name": "stderr",
     "output_type": "stream",
     "text": [
      "Evaluating: 100%|████████████████████| 1800/1800 [00:15<00:00, 115.05it/s]                                                                   \n"
     ]
    },
    {
     "name": "stdout",
     "output_type": "stream",
     "text": [
      "Obtained accuracy using NaiveBayesClassifier on train set: 0.985\n"
     ]
    },
    {
     "name": "stderr",
     "output_type": "stream",
     "text": [
      "Evaluating: 100%|████████████████████| 200/200 [00:01<00:00, 124.60it/s]                                                                     \n"
     ]
    },
    {
     "name": "stdout",
     "output_type": "stream",
     "text": [
      "Obtained accuracy using NaiveBayesClassifier on test set: 0.780\n"
     ]
    },
    {
     "name": "stderr",
     "output_type": "stream",
     "text": [
      "Creating vocabulary: 100%|████████████████████| 1800/1800 [00:04<00:00, 429.78it/s]                                                          \n"
     ]
    },
    {
     "name": "stdout",
     "output_type": "stream",
     "text": [
      "Training finished with vocabulary of size 470090.\n",
      "Filtered vocabulary. Size of new vocabulary: 94910\n"
     ]
    },
    {
     "name": "stderr",
     "output_type": "stream",
     "text": [
      "Evaluating: 100%|████████████████████| 1800/1800 [00:15<00:00, 116.19it/s]                                                                   \n"
     ]
    },
    {
     "name": "stdout",
     "output_type": "stream",
     "text": [
      "Obtained accuracy using NaiveBayesClassifier on train set: 0.982\n"
     ]
    },
    {
     "name": "stderr",
     "output_type": "stream",
     "text": [
      "Evaluating: 100%|████████████████████| 200/200 [00:01<00:00, 112.56it/s]                                                                     \n"
     ]
    },
    {
     "name": "stdout",
     "output_type": "stream",
     "text": [
      "Obtained accuracy using NaiveBayesClassifier on test set: 0.845\n"
     ]
    },
    {
     "name": "stderr",
     "output_type": "stream",
     "text": [
      "Creating vocabulary: 100%|████████████████████| 1800/1800 [00:04<00:00, 425.57it/s]                                                          \n"
     ]
    },
    {
     "name": "stdout",
     "output_type": "stream",
     "text": [
      "Training finished with vocabulary of size 471219.\n",
      "Filtered vocabulary. Size of new vocabulary: 95128\n"
     ]
    },
    {
     "name": "stderr",
     "output_type": "stream",
     "text": [
      "Evaluating: 100%|████████████████████| 1800/1800 [00:15<00:00, 114.99it/s]                                                                   \n"
     ]
    },
    {
     "name": "stdout",
     "output_type": "stream",
     "text": [
      "Obtained accuracy using NaiveBayesClassifier on train set: 0.982\n"
     ]
    },
    {
     "name": "stderr",
     "output_type": "stream",
     "text": [
      "Evaluating: 100%|████████████████████| 200/200 [00:01<00:00, 116.74it/s]                                                                     \n"
     ]
    },
    {
     "name": "stdout",
     "output_type": "stream",
     "text": [
      "Obtained accuracy using NaiveBayesClassifier on test set: 0.820\n"
     ]
    },
    {
     "name": "stderr",
     "output_type": "stream",
     "text": [
      "Creating vocabulary: 100%|████████████████████| 1800/1800 [00:04<00:00, 422.64it/s]                                                          \n"
     ]
    },
    {
     "name": "stdout",
     "output_type": "stream",
     "text": [
      "Training finished with vocabulary of size 470615.\n",
      "Filtered vocabulary. Size of new vocabulary: 95041\n"
     ]
    },
    {
     "name": "stderr",
     "output_type": "stream",
     "text": [
      "Evaluating: 100%|████████████████████| 1800/1800 [00:15<00:00, 115.69it/s]                                                                   \n"
     ]
    },
    {
     "name": "stdout",
     "output_type": "stream",
     "text": [
      "Obtained accuracy using NaiveBayesClassifier on train set: 0.981\n"
     ]
    },
    {
     "name": "stderr",
     "output_type": "stream",
     "text": [
      "Evaluating: 100%|████████████████████| 200/200 [00:01<00:00, 119.09it/s]                                                                     \n"
     ]
    },
    {
     "name": "stdout",
     "output_type": "stream",
     "text": [
      "Obtained accuracy using NaiveBayesClassifier on test set: 0.880\n"
     ]
    },
    {
     "name": "stderr",
     "output_type": "stream",
     "text": [
      "Creating vocabulary: 100%|████████████████████| 1800/1800 [00:04<00:00, 423.41it/s]                                                          \n"
     ]
    },
    {
     "name": "stdout",
     "output_type": "stream",
     "text": [
      "Training finished with vocabulary of size 474505.\n",
      "Filtered vocabulary. Size of new vocabulary: 95518\n"
     ]
    },
    {
     "name": "stderr",
     "output_type": "stream",
     "text": [
      "Evaluating: 100%|████████████████████| 1800/1800 [00:15<00:00, 116.20it/s]                                                                   \n"
     ]
    },
    {
     "name": "stdout",
     "output_type": "stream",
     "text": [
      "Obtained accuracy using NaiveBayesClassifier on train set: 0.977\n"
     ]
    },
    {
     "name": "stderr",
     "output_type": "stream",
     "text": [
      "Evaluating: 100%|████████████████████| 200/200 [00:01<00:00, 124.98it/s]                                                                     \n"
     ]
    },
    {
     "name": "stdout",
     "output_type": "stream",
     "text": [
      "Obtained accuracy using NaiveBayesClassifier on test set: 0.815\n"
     ]
    },
    {
     "name": "stderr",
     "output_type": "stream",
     "text": [
      "Creating vocabulary: 100%|████████████████████| 1800/1800 [00:04<00:00, 431.87it/s]                                                          \n"
     ]
    },
    {
     "name": "stdout",
     "output_type": "stream",
     "text": [
      "Training finished with vocabulary of size 470209.\n",
      "Filtered vocabulary. Size of new vocabulary: 95187\n"
     ]
    },
    {
     "name": "stderr",
     "output_type": "stream",
     "text": [
      "Evaluating: 100%|████████████████████| 1800/1800 [00:15<00:00, 116.82it/s]                                                                   \n"
     ]
    },
    {
     "name": "stdout",
     "output_type": "stream",
     "text": [
      "Obtained accuracy using NaiveBayesClassifier on train set: 0.982\n"
     ]
    },
    {
     "name": "stderr",
     "output_type": "stream",
     "text": [
      "Evaluating: 100%|████████████████████| 200/200 [00:01<00:00, 122.48it/s]                                                                     \n"
     ]
    },
    {
     "name": "stdout",
     "output_type": "stream",
     "text": [
      "Obtained accuracy using NaiveBayesClassifier on test set: 0.855\n"
     ]
    },
    {
     "name": "stderr",
     "output_type": "stream",
     "text": [
      "Creating vocabulary: 100%|████████████████████| 1800/1800 [00:04<00:00, 411.27it/s]                                                          \n"
     ]
    },
    {
     "name": "stdout",
     "output_type": "stream",
     "text": [
      "Training finished with vocabulary of size 469410.\n",
      "Filtered vocabulary. Size of new vocabulary: 94710\n"
     ]
    },
    {
     "name": "stderr",
     "output_type": "stream",
     "text": [
      "Evaluating: 100%|████████████████████| 1800/1800 [00:15<00:00, 112.51it/s]                                                                   \n"
     ]
    },
    {
     "name": "stdout",
     "output_type": "stream",
     "text": [
      "Obtained accuracy using NaiveBayesClassifier on train set: 0.982\n"
     ]
    },
    {
     "name": "stderr",
     "output_type": "stream",
     "text": [
      "Evaluating: 100%|████████████████████| 200/200 [00:01<00:00, 109.90it/s]                                                                     \n"
     ]
    },
    {
     "name": "stdout",
     "output_type": "stream",
     "text": [
      "Obtained accuracy using NaiveBayesClassifier on test set: 0.830\n"
     ]
    },
    {
     "name": "stderr",
     "output_type": "stream",
     "text": [
      "Creating vocabulary: 100%|████████████████████| 1800/1800 [00:04<00:00, 402.32it/s]                                                          \n"
     ]
    },
    {
     "name": "stdout",
     "output_type": "stream",
     "text": [
      "Training finished with vocabulary of size 471005.\n",
      "Filtered vocabulary. Size of new vocabulary: 95049\n"
     ]
    },
    {
     "name": "stderr",
     "output_type": "stream",
     "text": [
      "Evaluating: 100%|████████████████████| 1800/1800 [00:15<00:00, 114.16it/s]                                                                   \n"
     ]
    },
    {
     "name": "stdout",
     "output_type": "stream",
     "text": [
      "Obtained accuracy using NaiveBayesClassifier on train set: 0.984\n"
     ]
    },
    {
     "name": "stderr",
     "output_type": "stream",
     "text": [
      "Evaluating: 100%|████████████████████| 200/200 [00:01<00:00, 120.58it/s]                                                                     \n"
     ]
    },
    {
     "name": "stdout",
     "output_type": "stream",
     "text": [
      "Obtained accuracy using NaiveBayesClassifier on test set: 0.810\n"
     ]
    },
    {
     "name": "stderr",
     "output_type": "stream",
     "text": [
      "Creating vocabulary: 100%|████████████████████| 1800/1800 [00:04<00:00, 425.76it/s]                                                          \n"
     ]
    },
    {
     "name": "stdout",
     "output_type": "stream",
     "text": [
      "Training finished with vocabulary of size 473245.\n",
      "Filtered vocabulary. Size of new vocabulary: 95561\n"
     ]
    },
    {
     "name": "stderr",
     "output_type": "stream",
     "text": [
      "Evaluating: 100%|████████████████████| 1800/1800 [00:15<00:00, 115.65it/s]                                                                   \n"
     ]
    },
    {
     "name": "stdout",
     "output_type": "stream",
     "text": [
      "Obtained accuracy using NaiveBayesClassifier on train set: 0.979\n"
     ]
    },
    {
     "name": "stderr",
     "output_type": "stream",
     "text": [
      "Evaluating: 100%|████████████████████| 200/200 [00:01<00:00, 121.40it/s]                                                                     \n"
     ]
    },
    {
     "name": "stdout",
     "output_type": "stream",
     "text": [
      "Obtained accuracy using NaiveBayesClassifier on test set: 0.840\n"
     ]
    },
    {
     "name": "stderr",
     "output_type": "stream",
     "text": [
      "Creating vocabulary: 100%|████████████████████| 1800/1800 [00:04<00:00, 423.84it/s]                                                          \n"
     ]
    },
    {
     "name": "stdout",
     "output_type": "stream",
     "text": [
      "Training finished with vocabulary of size 473084.\n",
      "Filtered vocabulary. Size of new vocabulary: 95324\n"
     ]
    },
    {
     "name": "stderr",
     "output_type": "stream",
     "text": [
      "Evaluating: 100%|████████████████████| 1800/1800 [00:16<00:00, 112.20it/s]                                                                   \n"
     ]
    },
    {
     "name": "stdout",
     "output_type": "stream",
     "text": [
      "Obtained accuracy using NaiveBayesClassifier on train set: 0.983\n"
     ]
    },
    {
     "name": "stderr",
     "output_type": "stream",
     "text": [
      "Evaluating: 100%|████████████████████| 200/200 [00:01<00:00, 118.46it/s]                                                                     "
     ]
    },
    {
     "name": "stdout",
     "output_type": "stream",
     "text": [
      "Obtained accuracy using NaiveBayesClassifier on test set: 0.820\n",
      "Mean and std of test accuracies: 0.8295 \t 0.0260\n"
     ]
    },
    {
     "name": "stderr",
     "output_type": "stream",
     "text": [
      "\n"
     ]
    }
   ],
   "source": [
    "# using unigrams + bigrams\n",
    "test_accuracies = evaluate_by_kfold_cv(\n",
    "    clf_args={\"classes\": [\"POS\", \"NEG\"], \"filter_vocab\": True, \"n_grams\": [1, 2]},\n",
    ")"
   ]
  },
  {
   "cell_type": "code",
   "execution_count": 147,
   "metadata": {},
   "outputs": [
    {
     "name": "stdout",
     "output_type": "stream",
     "text": [
      "Mean and std of test accuracies: 0.8295 \t 0.0260\n"
     ]
    }
   ],
   "source": [
    "print(f\"Mean and std of test accuracies: {np.mean(test_accuracies):.4f} \\t {np.std(test_accuracies):.4f}\")"
   ]
  },
  {
   "cell_type": "code",
   "execution_count": 148,
   "metadata": {
    "collapsed": true,
    "jupyter": {
     "outputs_hidden": true
    },
    "tags": []
   },
   "outputs": [
    {
     "name": "stdout",
     "output_type": "stream",
     "text": [
      ":::::::::::: Fold 0 ::::::::::::\n",
      "Sample test indices:  [ 0 10 20 30 40 50 60 70 80 90]\n"
     ]
    },
    {
     "name": "stderr",
     "output_type": "stream",
     "text": [
      "Creating vocabulary: 100%|████████████████████| 1800/1800 [00:06<00:00, 282.87it/s]                                                          \n",
      "/var/folders/nw/93_by3716yn881ckngw_vmp40000gn/T/ipykernel_19646/2954982564.py:84: VisibleDeprecationWarning: Creating an ndarray from ragged nested sequences (which is a list-or-tuple of lists-or-tuples-or ndarrays with different lengths or shapes) is deprecated. If you meant to do this, you must specify 'dtype=object' when creating the ndarray.\n",
      "  self.vocab_terms = np.array(list(self.vocab))\n"
     ]
    },
    {
     "name": "stdout",
     "output_type": "stream",
     "text": [
      "Training finished with vocabulary of size 1423850.\n"
     ]
    },
    {
     "name": "stderr",
     "output_type": "stream",
     "text": [
      "/var/folders/nw/93_by3716yn881ckngw_vmp40000gn/T/ipykernel_19646/2954982564.py:96: VisibleDeprecationWarning: Creating an ndarray from ragged nested sequences (which is a list-or-tuple of lists-or-tuples-or ndarrays with different lengths or shapes) is deprecated. If you meant to do this, you must specify 'dtype=object' when creating the ndarray.\n",
      "  self.vocab_terms = np.array(list(vocab_common))\n"
     ]
    },
    {
     "name": "stdout",
     "output_type": "stream",
     "text": [
      "Filtered vocabulary. Size of new vocabulary: 164508\n"
     ]
    },
    {
     "name": "stderr",
     "output_type": "stream",
     "text": [
      "Evaluating: 100%|████████████████████| 1800/1800 [00:20<00:00, 86.26it/s]                                                                    \n"
     ]
    },
    {
     "name": "stdout",
     "output_type": "stream",
     "text": [
      "Obtained accuracy using NaiveBayesClassifier on train set: 0.988\n"
     ]
    },
    {
     "name": "stderr",
     "output_type": "stream",
     "text": [
      "Evaluating: 100%|████████████████████| 200/200 [00:02<00:00, 96.54it/s]                                                                      \n"
     ]
    },
    {
     "name": "stdout",
     "output_type": "stream",
     "text": [
      "Obtained accuracy using NaiveBayesClassifier on test set: 0.765\n",
      ":::::::::::: Fold 1 ::::::::::::\n",
      "Sample test indices:  [ 1 11 21 31 41 51 61 71 81 91]\n"
     ]
    },
    {
     "name": "stderr",
     "output_type": "stream",
     "text": [
      "Creating vocabulary: 100%|████████████████████| 1800/1800 [00:06<00:00, 295.45it/s]                                                          \n"
     ]
    },
    {
     "name": "stdout",
     "output_type": "stream",
     "text": [
      "Training finished with vocabulary of size 1413520.\n",
      "Filtered vocabulary. Size of new vocabulary: 163758\n"
     ]
    },
    {
     "name": "stderr",
     "output_type": "stream",
     "text": [
      "Evaluating: 100%|████████████████████| 1800/1800 [00:20<00:00, 87.72it/s]                                                                    \n"
     ]
    },
    {
     "name": "stdout",
     "output_type": "stream",
     "text": [
      "Obtained accuracy using NaiveBayesClassifier on train set: 0.989\n"
     ]
    },
    {
     "name": "stderr",
     "output_type": "stream",
     "text": [
      "Evaluating: 100%|████████████████████| 200/200 [00:02<00:00, 90.24it/s]                                                                      \n"
     ]
    },
    {
     "name": "stdout",
     "output_type": "stream",
     "text": [
      "Obtained accuracy using NaiveBayesClassifier on test set: 0.860\n",
      ":::::::::::: Fold 2 ::::::::::::\n",
      "Sample test indices:  [ 2 12 22 32 42 52 62 72 82 92]\n"
     ]
    },
    {
     "name": "stderr",
     "output_type": "stream",
     "text": [
      "Creating vocabulary: 100%|████████████████████| 1800/1800 [00:06<00:00, 289.67it/s]                                                          \n"
     ]
    },
    {
     "name": "stdout",
     "output_type": "stream",
     "text": [
      "Training finished with vocabulary of size 1417278.\n",
      "Filtered vocabulary. Size of new vocabulary: 164171\n"
     ]
    },
    {
     "name": "stderr",
     "output_type": "stream",
     "text": [
      "Evaluating: 100%|████████████████████| 1800/1800 [00:20<00:00, 87.76it/s]                                                                    \n"
     ]
    },
    {
     "name": "stdout",
     "output_type": "stream",
     "text": [
      "Obtained accuracy using NaiveBayesClassifier on train set: 0.988\n"
     ]
    },
    {
     "name": "stderr",
     "output_type": "stream",
     "text": [
      "Evaluating: 100%|████████████████████| 200/200 [00:02<00:00, 90.84it/s]                                                                      \n"
     ]
    },
    {
     "name": "stdout",
     "output_type": "stream",
     "text": [
      "Obtained accuracy using NaiveBayesClassifier on test set: 0.820\n",
      ":::::::::::: Fold 3 ::::::::::::\n",
      "Sample test indices:  [ 3 13 23 33 43 53 63 73 83 93]\n"
     ]
    },
    {
     "name": "stderr",
     "output_type": "stream",
     "text": [
      "Creating vocabulary: 100%|████████████████████| 1800/1800 [00:06<00:00, 292.13it/s]                                                          \n"
     ]
    },
    {
     "name": "stdout",
     "output_type": "stream",
     "text": [
      "Training finished with vocabulary of size 1415698.\n",
      "Filtered vocabulary. Size of new vocabulary: 164024\n"
     ]
    },
    {
     "name": "stderr",
     "output_type": "stream",
     "text": [
      "Evaluating: 100%|████████████████████| 1800/1800 [00:20<00:00, 87.48it/s]                                                                    \n"
     ]
    },
    {
     "name": "stdout",
     "output_type": "stream",
     "text": [
      "Obtained accuracy using NaiveBayesClassifier on train set: 0.987\n"
     ]
    },
    {
     "name": "stderr",
     "output_type": "stream",
     "text": [
      "Evaluating: 100%|████████████████████| 200/200 [00:02<00:00, 92.08it/s]                                                                      \n"
     ]
    },
    {
     "name": "stdout",
     "output_type": "stream",
     "text": [
      "Obtained accuracy using NaiveBayesClassifier on test set: 0.880\n",
      ":::::::::::: Fold 4 ::::::::::::\n",
      "Sample test indices:  [ 4 14 24 34 44 54 64 74 84 94]\n"
     ]
    },
    {
     "name": "stderr",
     "output_type": "stream",
     "text": [
      "Creating vocabulary: 100%|████████████████████| 1800/1800 [00:06<00:00, 289.81it/s]                                                          \n"
     ]
    },
    {
     "name": "stdout",
     "output_type": "stream",
     "text": [
      "Training finished with vocabulary of size 1429108.\n",
      "Filtered vocabulary. Size of new vocabulary: 164994\n"
     ]
    },
    {
     "name": "stderr",
     "output_type": "stream",
     "text": [
      "Evaluating: 100%|████████████████████| 1800/1800 [00:20<00:00, 87.06it/s]                                                                    \n"
     ]
    },
    {
     "name": "stdout",
     "output_type": "stream",
     "text": [
      "Obtained accuracy using NaiveBayesClassifier on train set: 0.986\n"
     ]
    },
    {
     "name": "stderr",
     "output_type": "stream",
     "text": [
      "Evaluating: 100%|████████████████████| 200/200 [00:02<00:00, 97.54it/s]                                                                      \n"
     ]
    },
    {
     "name": "stdout",
     "output_type": "stream",
     "text": [
      "Obtained accuracy using NaiveBayesClassifier on test set: 0.810\n",
      ":::::::::::: Fold 5 ::::::::::::\n",
      "Sample test indices:  [ 5 15 25 35 45 55 65 75 85 95]\n"
     ]
    },
    {
     "name": "stderr",
     "output_type": "stream",
     "text": [
      "Creating vocabulary: 100%|████████████████████| 1800/1800 [00:06<00:00, 281.84it/s]                                                          \n"
     ]
    },
    {
     "name": "stdout",
     "output_type": "stream",
     "text": [
      "Training finished with vocabulary of size 1416304.\n",
      "Filtered vocabulary. Size of new vocabulary: 164679\n"
     ]
    },
    {
     "name": "stderr",
     "output_type": "stream",
     "text": [
      "Evaluating: 100%|████████████████████| 1800/1800 [00:21<00:00, 85.61it/s]                                                                    \n"
     ]
    },
    {
     "name": "stdout",
     "output_type": "stream",
     "text": [
      "Obtained accuracy using NaiveBayesClassifier on train set: 0.988\n"
     ]
    },
    {
     "name": "stderr",
     "output_type": "stream",
     "text": [
      "Evaluating: 100%|████████████████████| 200/200 [00:02<00:00, 93.18it/s]                                                                      \n"
     ]
    },
    {
     "name": "stdout",
     "output_type": "stream",
     "text": [
      "Obtained accuracy using NaiveBayesClassifier on test set: 0.855\n",
      ":::::::::::: Fold 6 ::::::::::::\n",
      "Sample test indices:  [ 6 16 26 36 46 56 66 76 86 96]\n"
     ]
    },
    {
     "name": "stderr",
     "output_type": "stream",
     "text": [
      "Creating vocabulary: 100%|████████████████████| 1800/1800 [00:06<00:00, 277.21it/s]                                                          \n"
     ]
    },
    {
     "name": "stdout",
     "output_type": "stream",
     "text": [
      "Training finished with vocabulary of size 1412319.\n",
      "Filtered vocabulary. Size of new vocabulary: 163493\n"
     ]
    },
    {
     "name": "stderr",
     "output_type": "stream",
     "text": [
      "Evaluating: 100%|████████████████████| 1800/1800 [00:21<00:00, 85.21it/s]                                                                    \n"
     ]
    },
    {
     "name": "stdout",
     "output_type": "stream",
     "text": [
      "Obtained accuracy using NaiveBayesClassifier on train set: 0.987\n"
     ]
    },
    {
     "name": "stderr",
     "output_type": "stream",
     "text": [
      "Evaluating: 100%|████████████████████| 200/200 [00:02<00:00, 86.46it/s]                                                                      \n"
     ]
    },
    {
     "name": "stdout",
     "output_type": "stream",
     "text": [
      "Obtained accuracy using NaiveBayesClassifier on test set: 0.855\n",
      ":::::::::::: Fold 7 ::::::::::::\n",
      "Sample test indices:  [ 7 17 27 37 47 57 67 77 87 97]\n"
     ]
    },
    {
     "name": "stderr",
     "output_type": "stream",
     "text": [
      "Creating vocabulary: 100%|████████████████████| 1800/1800 [00:06<00:00, 279.73it/s]                                                          \n"
     ]
    },
    {
     "name": "stdout",
     "output_type": "stream",
     "text": [
      "Training finished with vocabulary of size 1418019.\n",
      "Filtered vocabulary. Size of new vocabulary: 164287\n"
     ]
    },
    {
     "name": "stderr",
     "output_type": "stream",
     "text": [
      "Evaluating: 100%|████████████████████| 1800/1800 [00:21<00:00, 85.49it/s]                                                                    \n"
     ]
    },
    {
     "name": "stdout",
     "output_type": "stream",
     "text": [
      "Obtained accuracy using NaiveBayesClassifier on train set: 0.988\n"
     ]
    },
    {
     "name": "stderr",
     "output_type": "stream",
     "text": [
      "Evaluating: 100%|████████████████████| 200/200 [00:02<00:00, 84.68it/s]                                                                      \n"
     ]
    },
    {
     "name": "stdout",
     "output_type": "stream",
     "text": [
      "Obtained accuracy using NaiveBayesClassifier on test set: 0.820\n",
      ":::::::::::: Fold 8 ::::::::::::\n",
      "Sample test indices:  [ 8 18 28 38 48 58 68 78 88 98]\n"
     ]
    },
    {
     "name": "stderr",
     "output_type": "stream",
     "text": [
      "Creating vocabulary: 100%|████████████████████| 1800/1800 [00:06<00:00, 283.65it/s]                                                          \n"
     ]
    },
    {
     "name": "stdout",
     "output_type": "stream",
     "text": [
      "Training finished with vocabulary of size 1424267.\n",
      "Filtered vocabulary. Size of new vocabulary: 164712\n"
     ]
    },
    {
     "name": "stderr",
     "output_type": "stream",
     "text": [
      "Evaluating: 100%|████████████████████| 1800/1800 [00:21<00:00, 85.53it/s]                                                                    \n"
     ]
    },
    {
     "name": "stdout",
     "output_type": "stream",
     "text": [
      "Obtained accuracy using NaiveBayesClassifier on train set: 0.987\n"
     ]
    },
    {
     "name": "stderr",
     "output_type": "stream",
     "text": [
      "Evaluating: 100%|████████████████████| 200/200 [00:02<00:00, 93.01it/s]                                                                      \n"
     ]
    },
    {
     "name": "stdout",
     "output_type": "stream",
     "text": [
      "Obtained accuracy using NaiveBayesClassifier on test set: 0.835\n",
      ":::::::::::: Fold 9 ::::::::::::\n",
      "Sample test indices:  [ 9 19 29 39 49 59 69 79 89 99]\n"
     ]
    },
    {
     "name": "stderr",
     "output_type": "stream",
     "text": [
      "Creating vocabulary: 100%|████████████████████| 1800/1800 [00:06<00:00, 291.58it/s]                                                          \n"
     ]
    },
    {
     "name": "stdout",
     "output_type": "stream",
     "text": [
      "Training finished with vocabulary of size 1422874.\n",
      "Filtered vocabulary. Size of new vocabulary: 164344\n"
     ]
    },
    {
     "name": "stderr",
     "output_type": "stream",
     "text": [
      "Evaluating: 100%|████████████████████| 1800/1800 [00:21<00:00, 83.37it/s]                                                                    \n"
     ]
    },
    {
     "name": "stdout",
     "output_type": "stream",
     "text": [
      "Obtained accuracy using NaiveBayesClassifier on train set: 0.988\n"
     ]
    },
    {
     "name": "stderr",
     "output_type": "stream",
     "text": [
      "Evaluating: 100%|████████████████████| 200/200 [00:02<00:00, 92.25it/s]                                                                      "
     ]
    },
    {
     "name": "stdout",
     "output_type": "stream",
     "text": [
      "Obtained accuracy using NaiveBayesClassifier on test set: 0.835\n"
     ]
    },
    {
     "name": "stderr",
     "output_type": "stream",
     "text": [
      "\n"
     ]
    }
   ],
   "source": [
    "# using unigrams + bigrams + trigrams\n",
    "test_accuracies = evaluate_by_kfold_cv(\n",
    "    clf_args={\"classes\": [\"POS\", \"NEG\"], \"filter_vocab\": True, \"n_grams\": [1, 2, 3]},\n",
    ")"
   ]
  },
  {
   "cell_type": "code",
   "execution_count": 149,
   "metadata": {},
   "outputs": [
    {
     "name": "stdout",
     "output_type": "stream",
     "text": [
      "Mean and std of test accuracies: 0.8335 \t 0.0307\n"
     ]
    }
   ],
   "source": [
    "print(f\"Mean and std of test accuracies: {np.mean(test_accuracies):.4f} \\t {np.std(test_accuracies):.4f}\")"
   ]
  },
  {
   "cell_type": "markdown",
   "metadata": {
    "id": "dVrGGArkrWoL"
   },
   "source": [
    "\n",
    "#### Q2.10: How many features does the BoW model have to take into account now? (0.5pt)\n",
    "How would you expect the number of features to increase theoretically (e.g., linear, square, cubed, exponential)? How does this number compare, in practice, to the number of features at (Q2.8)?\n",
    "\n",
    "Use the held-out training set once again for this.\n"
   ]
  },
  {
   "cell_type": "markdown",
   "metadata": {
    "id": "yEGZ9SV8pPaa"
   },
   "source": [
    "*Write your answer here.*"
   ]
  },
  {
   "cell_type": "code",
   "execution_count": 151,
   "metadata": {
    "id": "_z8sAJeUrdtM"
   },
   "outputs": [
    {
     "name": "stderr",
     "output_type": "stream",
     "text": [
      "Creating vocabulary: 100%|████████████████████| 1800/1800 [00:04<00:00, 419.14it/s]                                                          \n",
      "/var/folders/nw/93_by3716yn881ckngw_vmp40000gn/T/ipykernel_19646/2954982564.py:84: VisibleDeprecationWarning: Creating an ndarray from ragged nested sequences (which is a list-or-tuple of lists-or-tuples-or ndarrays with different lengths or shapes) is deprecated. If you meant to do this, you must specify 'dtype=object' when creating the ndarray.\n",
      "  self.vocab_terms = np.array(list(self.vocab))\n"
     ]
    },
    {
     "name": "stdout",
     "output_type": "stream",
     "text": [
      "Training finished with vocabulary of size 471032.\n"
     ]
    },
    {
     "name": "stderr",
     "output_type": "stream",
     "text": [
      "Evaluating: 100%|████████████████████| 1800/1800 [00:16<00:00, 112.23it/s]                                                                   \n"
     ]
    },
    {
     "name": "stdout",
     "output_type": "stream",
     "text": [
      "Obtained accuracy using NaiveBayesClassifier on train set: 0.974\n"
     ]
    },
    {
     "name": "stderr",
     "output_type": "stream",
     "text": [
      "Evaluating: 100%|████████████████████| 200/200 [00:01<00:00, 115.78it/s]                                                                     \n"
     ]
    },
    {
     "name": "stdout",
     "output_type": "stream",
     "text": [
      "Obtained accuracy using NaiveBayesClassifier on test set: 0.835\n",
      "Size of vocabulary with unigrams + bigrams: 471032\n"
     ]
    },
    {
     "name": "stderr",
     "output_type": "stream",
     "text": [
      "Creating vocabulary: 100%|████████████████████| 1800/1800 [00:06<00:00, 281.29it/s]                                                          \n"
     ]
    },
    {
     "name": "stdout",
     "output_type": "stream",
     "text": [
      "Training finished with vocabulary of size 1416686.\n"
     ]
    },
    {
     "name": "stderr",
     "output_type": "stream",
     "text": [
      "Evaluating: 100%|████████████████████| 1800/1800 [00:21<00:00, 84.64it/s]                                                                    \n"
     ]
    },
    {
     "name": "stdout",
     "output_type": "stream",
     "text": [
      "Obtained accuracy using NaiveBayesClassifier on train set: 0.982\n"
     ]
    },
    {
     "name": "stderr",
     "output_type": "stream",
     "text": [
      "Evaluating: 100%|████████████████████| 200/200 [00:02<00:00, 88.69it/s]                                                                      "
     ]
    },
    {
     "name": "stdout",
     "output_type": "stream",
     "text": [
      "Obtained accuracy using NaiveBayesClassifier on test set: 0.840\n",
      "Size of vocabulary with unigrams + bigrams + trigrams: 1416686\n"
     ]
    },
    {
     "name": "stderr",
     "output_type": "stream",
     "text": [
      "\n"
     ]
    }
   ],
   "source": [
    "train_idx = np.where(cv < 900)[0]\n",
    "test_idx = np.where(cv >= 900)[0]\n",
    "\n",
    "# with unigrams + bigrams\n",
    "clf = NaiveBayesClassifier(classes=[\"POS\", \"NEG\"], n_grams=[1,2])\n",
    "train_and_evaluate_clf(clf, train_idx, test_idx)\n",
    "print(\"-- \"* 30)\n",
    "print(f\"Size of vocabulary with unigrams + bigrams: {clf.bow.vocab_size}\")\n",
    "print(\"-- \"* 30)\n",
    "\n",
    "# with unigrams + bigrams + trigrams\n",
    "clf = NaiveBayesClassifier(classes=[\"POS\", \"NEG\"], n_grams=[1,2,3])\n",
    "train_and_evaluate_clf(clf, train_idx, test_idx)\n",
    "print(\"-- \"* 30)\n",
    "print(f\"Size of vocabulary with unigrams + bigrams + trigrams: {clf.bow.vocab_size}\")\n",
    "print(\"-- \"* 30)"
   ]
  },
  {
   "cell_type": "markdown",
   "metadata": {
    "id": "CHWKDL3YV6vh"
   },
   "source": [
    "# Support Vector Machines (4pts)"
   ]
  },
  {
   "cell_type": "markdown",
   "metadata": {
    "id": "hJSYhcVaoJGt"
   },
   "source": [
    "Though simple to understand, implement, and debug, one\n",
    "major problem with the Naive Bayes classifier is that its performance\n",
    "deteriorates (becomes skewed) when it is being used with features which\n",
    "are not independent (i.e., are correlated). Another popular classifier\n",
    "that doesn’t scale as well to big data, and is not as simple to debug as\n",
    "Naive Bayes, but that doesn’t assume feature independence is the Support\n",
    "Vector Machine (SVM) classifier.\n",
    "\n",
    "You can find more details about SVMs in Chapter 7 of Bishop: Pattern Recognition and Machine Learning.\n",
    "Other sources for learning SVM:\n",
    "* http://web.mit.edu/zoya/www/SVM.pdf\n",
    "* http://www.cs.columbia.edu/~kathy/cs4701/documents/jason_svm_tutorial.pdf\n",
    "* https://pythonprogramming.net/support-vector-machine-intro-machine-learning-tutorial/\n",
    "\n",
    "\n",
    "\n",
    "\n",
    "\n",
    "\n",
    "\n",
    "Use the scikit-learn implementation of \n",
    "[SVM](http://scikit-learn.org/stable/modules/svm.html) with the default parameters. (You are not expected to perform any hyperparameter tuning, but feel free to do it if you think it gives you good insights for the discussion in question 5.)\n",
    "\n"
   ]
  },
  {
   "cell_type": "markdown",
   "metadata": {
    "id": "0LnzNtQBV8gr"
   },
   "source": [
    "#### (Q3.1): Train SVM and compare to Naive Bayes (2pts)\n",
    "\n",
    "Train an SVM classifier (sklearn.svm.LinearSVC) using the features collected for Naive Bayes. Compare the\n",
    "classification performance of the SVM classifier to that of the Naive\n",
    "Bayes classifier with smoothing.\n",
    "Use cross-validation to evaluate the performance of the classifiers.\n",
    "\n"
   ]
  },
  {
   "cell_type": "code",
   "execution_count": null,
   "metadata": {
    "id": "JBscui8Mvoz0"
   },
   "outputs": [],
   "source": [
    "# YOUR CODE HERE"
   ]
  },
  {
   "cell_type": "markdown",
   "metadata": {
    "id": "ifXVWcK0V9qY"
   },
   "source": [
    "### POS disambiguation (2pts)\n",
    "\n",
    "Now add in part-of-speech features. You will find the\n",
    "movie review dataset has already been POS-tagged for you ([here](https://catalog.ldc.upenn.edu/docs/LDC99T42/tagguid1.pdf) you find the tagset). Try to\n",
    "replicate the results obtained by Pang et al. (2002).\n",
    "\n"
   ]
  },
  {
   "cell_type": "markdown",
   "metadata": {
    "id": "xA3I82o4oWGu"
   },
   "source": [
    "####(Q3.2) Replace your features with word+POS features, and report performance with the SVM. Use cross-validation to evaluate the classifier and compare the results with (Q3.1). Does part-of-speech information help? Explain why this may be the case. (1pt)\n"
   ]
  },
  {
   "cell_type": "code",
   "execution_count": null,
   "metadata": {
    "id": "NOvjYe-t2Br6"
   },
   "outputs": [],
   "source": [
    "# YOUR CODE HERE"
   ]
  },
  {
   "cell_type": "markdown",
   "metadata": {
    "id": "L0dt_oQupUNe"
   },
   "source": [
    "*Write your answer here.*"
   ]
  },
  {
   "cell_type": "markdown",
   "metadata": {
    "id": "Su-3w87eMW0w"
   },
   "source": [
    "#### (Q3.3) Discard all closed-class words from your data (keep only nouns, verbs, adjectives, and adverbs), and report performance. Does this help? Use cross-validation to evaluate the classifier and compare the results with (Q3.2). Are closed-class words detrimental to the classifier? Explain why this may be the case. (1pt)"
   ]
  },
  {
   "cell_type": "code",
   "execution_count": null,
   "metadata": {
    "id": "CCUPlPozCYUX"
   },
   "outputs": [],
   "source": [
    "# YOUR CODE HERE"
   ]
  },
  {
   "cell_type": "markdown",
   "metadata": {
    "id": "YaxCVrs8pWSp"
   },
   "source": [
    "*Write your answer here.*"
   ]
  },
  {
   "cell_type": "markdown",
   "metadata": {
    "id": "nfwqOciAl2No"
   },
   "source": [
    "# (Q4) Discussion (max. 500 words). (5pts)\n",
    "\n",
    "> Based on your experiments, what are the effective features and techniques in sentiment analysis? What information do different features encode?\n",
    "Why is this important? What are the limitations of these features and techniques?\n",
    " \n"
   ]
  },
  {
   "cell_type": "markdown",
   "metadata": {
    "id": "ZYuse5WLmekZ"
   },
   "source": [
    "*Write your answer here in up to 500 words (-0.25pt for >50 extra words, -0.5 points for >100 extra words, ...)*.\n"
   ]
  },
  {
   "cell_type": "markdown",
   "metadata": {
    "id": "iwaKwfWQhRk_"
   },
   "source": [
    "# Submission \n"
   ]
  },
  {
   "cell_type": "code",
   "execution_count": null,
   "metadata": {
    "id": "aOUeaET5ijk-"
   },
   "outputs": [],
   "source": [
    "# Write your names and student numbers here:\n",
    "# Student 1 #12345\n",
    "# Student 2 #12345"
   ]
  },
  {
   "cell_type": "markdown",
   "metadata": {
    "id": "3A9K-H6Tii3X"
   },
   "source": [
    "**That's it!**\n",
    "\n",
    "- Check if you answered all questions fully and correctly. \n",
    "- Download your completed notebook using `File -> Download .ipynb` \n",
    "- Check if your answers are all included in the file you submit.\n",
    "- Submit your .ipynb file via *Canvas*. One submission per group. "
   ]
  },
  {
   "cell_type": "code",
   "execution_count": null,
   "metadata": {
    "id": "YHslatYAKBrF"
   },
   "outputs": [],
   "source": []
  }
 ],
 "metadata": {
  "colab": {
   "collapsed_sections": [],
   "name": "NLP1 2021 Practical 1 (student version)",
   "provenance": []
  },
  "kernelspec": {
   "display_name": "Python 3 (ipykernel)",
   "language": "python",
   "name": "python3"
  },
  "language_info": {
   "codemirror_mode": {
    "name": "ipython",
    "version": 3
   },
   "file_extension": ".py",
   "mimetype": "text/x-python",
   "name": "python",
   "nbconvert_exporter": "python",
   "pygments_lexer": "ipython3",
   "version": "3.9.7"
  }
 },
 "nbformat": 4,
 "nbformat_minor": 4
}
