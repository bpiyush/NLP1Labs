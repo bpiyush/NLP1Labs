{
 "cells": [
  {
   "cell_type": "markdown",
   "metadata": {
    "id": "1-aRiOgl4nHg"
   },
   "source": [
    "------\n",
    "**You cannot save any changes you make to this file, so please make sure to save it on your Google Colab drive or download it as a .ipynb file.**\n",
    "\n",
    "------\n",
    "\n",
    " "
   ]
  },
  {
   "cell_type": "markdown",
   "metadata": {
    "id": "lIZrAUx57vsM"
   },
   "source": [
    "Practical 1: Sentiment Detection in Movie Reviews\n",
    "========================================\n",
    "\n"
   ]
  },
  {
   "cell_type": "markdown",
   "metadata": {
    "id": "J4kXPMhyngZW"
   },
   "source": [
    "This practical concerns detecting sentiment in movie reviews. This is a typical NLP classification task.\n",
    "In [this file](https://gist.githubusercontent.com/bastings/d47423301cca214e3930061a5a75e177/raw/5113687382919e22b1f09ce71a8fecd1687a5760/reviews.json) (80MB) you will find 1000 positive and 1000 negative **movie reviews**.\n",
    "Each review is a **document** and consists of one or more sentences.\n",
    "\n",
    "To prepare yourself for this practical, you should\n",
    "have a look at a few of these texts to understand the difficulties of\n",
    "the task: how might one go about classifying the texts? You will write\n",
    "code that decides whether a movie review conveys positive or\n",
    "negative sentiment.\n",
    "\n",
    "Please make sure you have read the following paper:\n",
    "\n",
    ">   Bo Pang, Lillian Lee, and Shivakumar Vaithyanathan\n",
    "(2002). \n",
    "[Thumbs up? Sentiment Classification using Machine Learning\n",
    "Techniques](https://dl.acm.org/citation.cfm?id=1118704). EMNLP.\n",
    "\n",
    "Bo Pang et al. introduced the movie review sentiment\n",
    "classification task, and the above paper was one of the first papers on\n",
    "the topic. The first version of your sentiment classifier will do\n",
    "something similar to Pang et al.'s system. If you have questions about it,\n",
    "you should resolve you doubts as soon as possible with your TA.\n"
   ]
  },
  {
   "cell_type": "markdown",
   "metadata": {
    "id": "cb7errgRASzZ"
   },
   "source": [
    "**Advice**\n",
    "\n",
    "Please read through the entire practical and familiarise\n",
    "yourself with all requirements before you start coding or otherwise\n",
    "solving the tasks. Writing clean and concise code can make the difference\n",
    "between solving the assignment in a matter of hours, and taking days to\n",
    "run all experiments.\n",
    "\n",
    "## Environment\n",
    "\n",
    "All code should be written in **Python 3**. \n",
    "This is the default in Google Colab."
   ]
  },
  {
   "cell_type": "code",
   "execution_count": 1,
   "metadata": {
    "id": "SaZnxptMJiD7"
   },
   "outputs": [
    {
     "name": "stdout",
     "output_type": "stream",
     "text": [
      "Python 3.9.7\n"
     ]
    }
   ],
   "source": [
    "!python --version"
   ]
  },
  {
   "cell_type": "markdown",
   "metadata": {
    "id": "BYZyIF7lJnGn"
   },
   "source": [
    "If you want to run code on your own computer, then download this notebook through `File -> Download .ipynb`.\n",
    "The easiest way to\n",
    "install Python is through downloading\n",
    "[Anaconda](https://www.anaconda.com/download). \n",
    "After installation, you can start the notebook by typing `jupyter notebook filename.ipynb`.\n",
    "You can also use an IDE\n",
    "such as [PyCharm](https://www.jetbrains.com/pycharm/download/) to make\n",
    "coding and debugging easier. It is good practice to create a [virtual\n",
    "environment](https://docs.python.org/3/tutorial/venv.html) for this\n",
    "project, so that any Python packages don’t interfere with other\n",
    "projects. \n",
    " \n",
    "\n",
    "**Learning Python 3**\n",
    "\n",
    "If you are new to Python 3, you may want to check out a few of these resources:\n",
    "- https://learnxinyminutes.com/docs/python3/\n",
    "- https://www.learnpython.org/\n",
    "- https://docs.python.org/3/tutorial/"
   ]
  },
  {
   "cell_type": "code",
   "execution_count": 2,
   "metadata": {
    "id": "hok-BFu9lGoK"
   },
   "outputs": [],
   "source": [
    "import math\n",
    "import os\n",
    "import sys\n",
    "from subprocess import call\n",
    "from nltk import FreqDist\n",
    "from nltk.util import ngrams\n",
    "from nltk.stem.porter import PorterStemmer\n",
    "import sklearn as sk\n",
    "# from google.colab import drive\n",
    "import pickle\n",
    "import json\n",
    "from collections import Counter\n",
    "import requests\n",
    "import matplotlib.pyplot as plt\n",
    "import numpy as np"
   ]
  },
  {
   "cell_type": "markdown",
   "metadata": {
    "id": "bXWyGHwE-ieQ"
   },
   "source": [
    "## Loading the data\n",
    "\n",
    "**Download the sentiment lexicon and the movie reviews dataset.**"
   ]
  },
  {
   "cell_type": "code",
   "execution_count": 3,
   "metadata": {
    "id": "lm-rakqtlMOT",
    "tags": []
   },
   "outputs": [],
   "source": [
    "# download sentiment lexicon\n",
    "# !wget https://gist.githubusercontent.com/bastings/d6f99dcb6c82231b94b013031356ba05/raw/f80a0281eba8621b122012c89c8b5e2200b39fd6/sent_lexicon\n",
    "\n",
    "# download review data\n",
    "# !wget https://gist.githubusercontent.com/bastings/d47423301cca214e3930061a5a75e177/raw/5113687382919e22b1f09ce71a8fecd1687a5760/reviews.json"
   ]
  },
  {
   "cell_type": "markdown",
   "metadata": {
    "id": "AkPwuHp5LSuQ"
   },
   "source": [
    "**Load the movie reviews.**\n",
    "\n",
    "Each word in a review comes with its part-of-speech tag. For documentation on POS-tags, see https://catalog.ldc.upenn.edu/docs/LDC99T42/tagguid1.pdf.\n"
   ]
  },
  {
   "cell_type": "code",
   "execution_count": 4,
   "metadata": {
    "id": "careEKj-mRpl"
   },
   "outputs": [
    {
     "name": "stdout",
     "output_type": "stream",
     "text": [
      "Total number of reviews: 2000 \n",
      "\n",
      "0 NEG 29\n",
      "Two/CD teen/JJ couples/NNS go/VBP to/TO a/DT church/NN party/NN ,/, drink/NN and/CC then/RB drive/NN ./.\n",
      "1 NEG 11\n",
      "Damn/JJ that/IN Y2K/CD bug/NN ./.\n",
      "2 NEG 24\n",
      "It/PRP is/VBZ movies/NNS like/IN these/DT that/WDT make/VBP a/DT jaded/JJ movie/NN viewer/NN thankful/JJ for/IN the/DT invention/NN of/IN the/DT Timex/NNP IndiGlo/NNP watch/NN ./.\n",
      "3 NEG 19\n",
      "QUEST/NN FOR/IN CAMELOT/NNP ``/`` Quest/NNP for/IN Camelot/NNP ''/'' is/VBZ Warner/NNP Bros./NNP '/POS first/JJ feature-length/JJ ,/, fully-animated/JJ attempt/NN to/TO steal/VB clout/NN from/IN Disney/NNP 's/POS cartoon/NN empire/NN ,/, but/CC the/DT mouse/NN has/VBZ no/DT reason/NN to/TO be/VB worried/VBN ./.\n",
      "4 NEG 38\n",
      "Synopsis/NNPS :/: A/DT mentally/RB unstable/JJ man/NN undergoing/VBG psychotherapy/NN saves/VBZ a/DT boy/NN from/IN a/DT potentially/RB fatal/JJ accident/NN and/CC then/RB falls/VBZ in/IN love/NN with/IN the/DT boy/NN 's/POS mother/NN ,/, a/DT fledgling/NN restauranteur/NN ./.\n",
      "\n",
      "Number of word types: 47743\n",
      "Number of word tokens: 1512359\n",
      "\n",
      "Most common tokens:\n",
      "         , :    77842\n",
      "       the :    75948\n",
      "         . :    59027\n",
      "         a :    37583\n",
      "       and :    35235\n",
      "        of :    33864\n",
      "        to :    31601\n",
      "        is :    25972\n",
      "        in :    21563\n",
      "        's :    18043\n",
      "        it :    15904\n",
      "      that :    15820\n",
      "     -rrb- :    11768\n",
      "     -lrb- :    11670\n",
      "        as :    11312\n",
      "      with :    10739\n",
      "       for :     9816\n",
      "       his :     9542\n",
      "      this :     9497\n",
      "      film :     9404\n"
     ]
    }
   ],
   "source": [
    "# file structure:\n",
    "# [\n",
    "#  {\"cv\": integer, \"sentiment\": str, \"content\": list} \n",
    "#  {\"cv\": integer, \"sentiment\": str, \"content\": list} \n",
    "#   ..\n",
    "# ]\n",
    "# where `content` is a list of sentences, \n",
    "# with a sentence being a list of (token, pos_tag) pairs.\n",
    "\n",
    "\n",
    "with open(\"reviews.json\", mode=\"r\", encoding=\"utf-8\") as f:\n",
    "    reviews = json.load(f)\n",
    "\n",
    "print(\"Total number of reviews:\", len(reviews), '\\n')\n",
    "\n",
    "def print_sentence_with_pos(s):\n",
    "    print(\" \".join(\"%s/%s\" % (token, pos_tag) for token, pos_tag in s))\n",
    "\n",
    "for i, r in enumerate(reviews):\n",
    "    print(r[\"cv\"], r[\"sentiment\"], len(r[\"content\"]))  # cv, sentiment, num sents\n",
    "    print_sentence_with_pos(r[\"content\"][0])\n",
    "    if i == 4: \n",
    "        break\n",
    "    \n",
    "c = Counter()\n",
    "for review in reviews:\n",
    "    for sentence in review[\"content\"]:\n",
    "        for token, pos_tag in sentence:\n",
    "            c[token.lower()] += 1\n",
    "\n",
    "print(\"\\nNumber of word types:\", len(c))\n",
    "print(\"Number of word tokens:\", sum(c.values()))\n",
    "\n",
    "print(\"\\nMost common tokens:\")\n",
    "for token, count in c.most_common(20):\n",
    "      print(\"%10s : %8d\" % (token, count))"
   ]
  },
  {
   "cell_type": "markdown",
   "metadata": {
    "id": "E6PWaEoh8B34"
   },
   "source": [
    "# Lexicon-based approach (3.5pts)\n",
    "\n"
   ]
  },
  {
   "cell_type": "markdown",
   "metadata": {
    "id": "JsTSMb6ma4E8"
   },
   "source": [
    "A traditional approach to classify documents according to their sentiment is the lexicon-based approach. To implement this approach, you need a **sentiment lexicon**, i.e., a list of words annotated with a sentiment label (e.g., positive and negative, or a score from 0 to 5).\n",
    "\n",
    "In this practical, you will use the sentiment\n",
    "lexicon released by Wilson et al. (2005).\n",
    "\n",
    "> Theresa Wilson, Janyce Wiebe, and Paul Hoffmann\n",
    "(2005). [Recognizing Contextual Polarity in Phrase-Level Sentiment\n",
    "Analysis](http://www.aclweb.org/anthology/H/H05/H05-1044.pdf). HLT-EMNLP.\n",
    "\n",
    "Pay attention to all the information available in the sentiment lexicon. The field *word1* contains the lemma, *priorpolarity* contains the sentiment label (positive, negative, both, or neutral), *type* gives you the magnitude of the word's sentiment (strong or weak), and *pos1* gives you the part-of-speech tag of the lemma. Some lemmas can have multiple part-of-speech tags and thus multiple entries in the lexicon. The path of the lexicon file is `\"sent_lexicon\"`.\n"
   ]
  },
  {
   "cell_type": "code",
   "execution_count": 5,
   "metadata": {
    "id": "Ogq0Eq2hQglh"
   },
   "outputs": [
    {
     "name": "stdout",
     "output_type": "stream",
     "text": [
      "type=weaksubj len=1 word1=abandoned pos1=adj stemmed1=n priorpolarity=negative\n",
      "type=weaksubj len=1 word1=abandonment pos1=noun stemmed1=n priorpolarity=negative\n",
      "type=weaksubj len=1 word1=abandon pos1=verb stemmed1=y priorpolarity=negative\n",
      "type=strongsubj len=1 word1=abase pos1=verb stemmed1=y priorpolarity=negative\n",
      "type=strongsubj len=1 word1=abasement pos1=anypos stemmed1=y priorpolarity=negative\n"
     ]
    }
   ],
   "source": [
    "with open(\"sent_lexicon\", mode=\"r\", encoding=\"utf-8\") as f:\n",
    "    line_cnt = 0\n",
    "    for line in f:\n",
    "        print(line.strip())\n",
    "        line_cnt += 1\n",
    "        if line_cnt > 4:\n",
    "            break"
   ]
  },
  {
   "cell_type": "markdown",
   "metadata": {
    "id": "Mml4nOtIUBhn"
   },
   "source": [
    "Lexica such as this can be used to solve\n",
    "the classification task without using Machine Learning. For example, one might look up every word $w_1 ... w_n$ in a document, and compute a **binary score**\n",
    "$S_{binary}$ by counting how many words have a positive or a\n",
    "negative label in the sentiment lexicon $SLex$.\n",
    "\n",
    "$$S_{binary}(w_1 w_2 ... w_n) = \\sum_{i = 1}^{n}\\text{sign}(SLex\\big[w_i\\big])$$\n",
    "\n",
    "where $\\text{sign}(SLex\\big[w_i\\big])$ refers to the polarity of $w_i$.\n",
    "\n",
    "**Threshold.** On average, there are more positive than negative words per review (~7.13 more positive than negative per review) to take this bias into account you should use a threshold of **8** (roughly the bias itself) to make it harder to classify as positive.\n",
    "\n",
    "$$\n",
    "\\text{classify}(S_{binary}(w_1 w_2 ... w_n)) = \\bigg\\{\\begin{array}{ll}\n",
    "        \\text{positive} & \\text{if } S_{binary}(w_1w_2...w_n) > threshold\\\\\n",
    "        \\text{negative} & \\text{otherwise}\n",
    "        \\end{array}\n",
    "$$\n"
   ]
  },
  {
   "cell_type": "markdown",
   "metadata": {
    "id": "tOFnMvbeeZrc"
   },
   "source": [
    "#### (Q1.1) Implement this approach and report its classification accuracy. (1 pt)"
   ]
  },
  {
   "cell_type": "code",
   "execution_count": 6,
   "metadata": {},
   "outputs": [],
   "source": [
    "# Basic common helpers\n",
    "\n",
    "# mapping from polarity to sign\n",
    "POLARITY_TO_SIGN = {\n",
    "    \"negative\": -1,\n",
    "    \"positive\": 1,\n",
    "    \"neutral\": 0,\n",
    "    \"both\": 0,\n",
    "}\n",
    "\n",
    "# mapping from magnitude (str) to magnitude (value - float)\n",
    "MAGNITUDE_TO_VALUE = {\n",
    "    \"strongsubj\": 2.0,\n",
    "    \"weaksubj\": 1.0,\n",
    "}\n",
    "\n",
    "\n",
    "def pos_tag_upenn_to_desc(tag):\n",
    "    \"\"\"Returns the description of given POS tag in UPenn notation.\"\"\"\n",
    "\n",
    "    if tag.startswith(\"VB\"):\n",
    "        desc = \"verb\"\n",
    "    elif tag.startswith(\"NN\"):\n",
    "        desc = \"noun\"\n",
    "    elif tag.startswith(\"JJ\"):\n",
    "        desc = \"adj\"\n",
    "    elif tag.startswith(\"RB\"):\n",
    "        desc = \"adverb\"\n",
    "    else:\n",
    "        desc = \"anypos\"\n",
    "    \n",
    "    return desc\n",
    "\n",
    "\n",
    "def check_valid_document(document):\n",
    "    \"\"\"Checks if a given document is valid (structurally).\"\"\"\n",
    "    assert isinstance(document, list)\n",
    "    for sent in document:\n",
    "        assert isinstance(sent, list)\n",
    "        for (word, tag) in sent:\n",
    "            assert isinstance(word, str)\n",
    "            assert isinstance(tag, str)\n",
    "\n",
    "\n",
    "def document_score(lexicon, document, check_document=False):\n",
    "    \"\"\"Computes document score based on the given lexicon.\"\"\"\n",
    "    \n",
    "    # check if the document is a valid input\n",
    "    if check_document:\n",
    "        check_valid_document(document)\n",
    "    \n",
    "    score = 0.0\n",
    "\n",
    "    # loop over sentences in document\n",
    "    for sent in document:\n",
    "        # loop over words in sentence\n",
    "        for (word, tag) in sent:\n",
    "            word = word.lower()\n",
    "            tag_desc = pos_tag_upenn_to_desc(tag)\n",
    "            key = f\"{word}/{tag_desc}\"\n",
    "            if key in lexicon:\n",
    "                score += lexicon[key]\n",
    "    \n",
    "    return score\n",
    "\n",
    "\n",
    "def classify_by_lexical_score(lexicon, document, threshold):\n",
    "    \"\"\"Classifies a given document based on score computed via given lexicon.\"\"\"\n",
    "    return int(document_score(lexicon, document) > threshold)"
   ]
  },
  {
   "cell_type": "code",
   "execution_count": 7,
   "metadata": {},
   "outputs": [],
   "source": [
    "def word_binary_score(polarity):\n",
    "    \"\"\"Computes score for a word with given polatiy.\"\"\"\n",
    "    return POLARITY_TO_SIGN[polarity]\n",
    "\n",
    "\n",
    "# construct binary lexicon\n",
    "binary_lexicon = dict()\n",
    "with open(\"sent_lexicon\", mode=\"r\", encoding=\"utf-8\") as f:\n",
    "    for line in f:\n",
    "        fields = line.strip().split(\" \")\n",
    "        fields = {ele.split(\"=\")[0]:ele.split(\"=\")[1] for ele in fields}\n",
    "        \n",
    "        key = f\"{fields['word1']}/{fields['pos1']}\"\n",
    "        value = word_binary_score(fields[\"priorpolarity\"])\n",
    "        binary_lexicon[key] = value"
   ]
  },
  {
   "cell_type": "code",
   "execution_count": 8,
   "metadata": {
    "id": "iy528EUTphz5"
   },
   "outputs": [
    {
     "name": "stdout",
     "output_type": "stream",
     "text": [
      "Accuracy: 0.63\n"
     ]
    }
   ],
   "source": [
    "# token_results should be a list of binary indicators; for example [1, 0, 1, ...] \n",
    "# where 1 indicates a correct classification and 0 an incorrect classification.\n",
    "\n",
    "token_results = []\n",
    "\n",
    "for r in reviews:\n",
    "    y_true = int(r[\"sentiment\"] == \"POS\")\n",
    "    y_pred = classify_by_lexical_score(binary_lexicon, r[\"content\"], threshold=8)\n",
    "    token_results.append(int(y_true == y_pred))\n",
    "\n",
    "token_accuracy = np.mean(token_results)\n",
    "\n",
    "print(\"Accuracy: %0.2f\" % token_accuracy)"
   ]
  },
  {
   "cell_type": "markdown",
   "metadata": {
    "id": "Twox0s_3eS0V"
   },
   "source": [
    "As the sentiment lexicon also has information about the **magnitude** of\n",
    "sentiment (e.g., *“excellent\"* has the same sentiment _polarity_ as *“good\"* but it has a higher magnitude), we can take a more fine-grained approach by adding up all\n",
    "sentiment scores, and deciding the polarity of the movie review using\n",
    "the sign of the weighted score $S_{weighted}$.\n",
    "\n",
    "$$S_{weighted}(w_1w_2...w_n) = \\sum_{i = 1}^{n}SLex\\big[w_i\\big]$$\n",
    "\n",
    "\n",
    "Make sure you define an appropriate threshold for this approach.\n",
    "\n",
    "#### (Q1.2) Now incorporate magnitude information and report the classification accuracy. Don't forget to use the threshold. (1pt)"
   ]
  },
  {
   "cell_type": "code",
   "execution_count": 9,
   "metadata": {},
   "outputs": [],
   "source": [
    "def word_magnitude_score(magnitude, polarity):\n",
    "    \"\"\"Computes score for a word with given polarity and magnitude.\"\"\"\n",
    "    assert polarity in [\"positive\", \"negative\", \"both\", \"neutral\"]\n",
    "    assert magnitude in [\"strongsubj\", \"weaksubj\"]\n",
    "    \n",
    "    magnitude = MAGNITUDE_TO_VALUE[magnitude]\n",
    "\n",
    "    score = POLARITY_TO_SIGN[polarity] * magnitude\n",
    "    return score\n",
    "\n",
    "\n",
    "# construct magnitude lexicon\n",
    "magnitude_lexicon = dict()\n",
    "with open(\"sent_lexicon\", mode=\"r\", encoding=\"utf-8\") as f:\n",
    "    for line in f:\n",
    "        fields = line.strip().split(\" \")\n",
    "        fields = {ele.split(\"=\")[0]:ele.split(\"=\")[1] for ele in fields}\n",
    "        \n",
    "        key = f\"{fields['word1']}/{fields['pos1']}\"\n",
    "        magnitude_lexicon[key] = word_magnitude_score(fields[\"type\"], fields[\"priorpolarity\"])"
   ]
  },
  {
   "cell_type": "code",
   "execution_count": 10,
   "metadata": {
    "id": "9vVk7CvDpyka"
   },
   "outputs": [
    {
     "name": "stdout",
     "output_type": "stream",
     "text": [
      "Accuracy: 0.66\n"
     ]
    }
   ],
   "source": [
    "magnitude_results = []\n",
    "\n",
    "for r in reviews:\n",
    "    y_true = int(r[\"sentiment\"] == \"POS\")\n",
    "    y_pred = classify_by_lexical_score(magnitude_lexicon, r[\"content\"], threshold=8.0)\n",
    "    magnitude_results.append(int(y_true == y_pred))\n",
    "\n",
    "magnitude_accuracy = np.mean(magnitude_results)\n",
    "\n",
    "print(\"Accuracy: %0.2f\" % magnitude_accuracy)"
   ]
  },
  {
   "cell_type": "markdown",
   "metadata": {
    "id": "h9SHoGPfsAHV"
   },
   "source": [
    "#### (Q.1.4) Make a barplot of the two results (0.5pt)"
   ]
  },
  {
   "cell_type": "code",
   "execution_count": 11,
   "metadata": {
    "id": "8LgBcYcXsEk3"
   },
   "outputs": [
    {
     "data": {
      "image/png": "[encoded data removed]",
      "text/plain": [
       "<Figure size 360x432 with 1 Axes>"
      ]
     },
     "metadata": {
      "needs_background": "light"
     },
     "output_type": "display_data"
    }
   ],
   "source": [
    "# YOUR CODE HERE\n",
    "\n",
    "width = 0.25\n",
    "height = 1.0\n",
    "\n",
    "fig, ax = plt.subplots(figsize=(5, 6))\n",
    "binary_based_bar = ax.bar(0, token_accuracy, width, label='Binary-based')\n",
    "magnitude_based_bar = ax.bar(1, magnitude_accuracy, width, label='Magnitude-based')\n",
    "ax.grid()\n",
    "\n",
    "plt.ylabel('Accuracy')\n",
    "plt.title('Binary vs. Magnitude')\n",
    "plt.ylim(0, 0.7)\n",
    "plt.xticks((0, 1), ('Binary-based', 'Magnitude-based'))\n",
    "plt.show()"
   ]
  },
  {
   "cell_type": "markdown",
   "metadata": {
    "id": "sNhS8OCVxMHd"
   },
   "source": [
    "#### (Q1.3) A better threshold (1pt)\n",
    "Above we have defined a threshold to account for an inherent bias in the dataset: there are more positive than negative words per review.\n",
    "However, that threshold does not take into account *document length*. Explain why this is a problem and implement an alternative way to compute the threshold."
   ]
  },
  {
   "cell_type": "markdown",
   "metadata": {
    "id": "xo7gk1I-omLI"
   },
   "source": [
    "Since our choice of threshold is independent of document length, it is problematic because longer documents will naturally have more words and could skew the score to highly positive or highly negative value by the virtue of its length."
   ]
  },
  {
   "cell_type": "code",
   "execution_count": 12,
   "metadata": {
    "id": "Dwt0B8h8aKjr"
   },
   "outputs": [
    {
     "name": "stdout",
     "output_type": "stream",
     "text": [
      "Accuracy: 0.63\n"
     ]
    }
   ],
   "source": [
    "magnitude_results = []\n",
    "\n",
    "for r in reviews:\n",
    "    y_true = int(r[\"sentiment\"] == \"POS\")\n",
    "    num_words_in_document = np.sum([len(x) for x in r[\"content\"]])\n",
    "    y_pred = classify_by_lexical_score(magnitude_lexicon, r[\"content\"], threshold=(8000.0 / num_words_in_document))\n",
    "    magnitude_results.append(int(y_true == y_pred))\n",
    "\n",
    "magnitude_accuracy = np.mean(magnitude_results)\n",
    "\n",
    "print(\"Accuracy: %0.2f\" % magnitude_accuracy)"
   ]
  },
  {
   "cell_type": "markdown",
   "metadata": {
    "id": "LibV4nR89BXb"
   },
   "source": [
    "# Naive Bayes (9.5pts)"
   ]
  },
  {
   "cell_type": "markdown",
   "metadata": {
    "id": "fnF9adQnuwia"
   },
   "source": [
    "\n",
    "Your second task is to program a simple Machine Learning approach that operates\n",
    "on a simple Bag-of-Words (BoW) representation of the text data, as\n",
    "described by Pang et al. (2002). In this approach, the only features we\n",
    "will consider are the words in the text themselves, without bringing in\n",
    "external sources of information. The BoW model is a popular way of\n",
    "representing texts as vectors, making it\n",
    "easy to apply classical Machine Learning algorithms on NLP tasks.\n",
    "However, the BoW representation is also very crude, since it discards\n",
    "all information related to word order and grammatical structure in the\n",
    "original text—as the name suggests.\n",
    "\n",
    "## Writing your own classifier (4pts)\n",
    "\n",
    "Write your own code to implement the Naive Bayes (NB) classifier. As\n",
    "a reminder, the Naive Bayes classifier works according to the following\n",
    "equation:\n",
    "$$\\hat{c} = \\operatorname*{arg\\,max}_{c \\in C} P(c|\\bar{f}) = \\operatorname*{arg\\,max}_{c \\in C} P(c)\\prod^n_{i=1} P(f_i|c)$$\n",
    "where $C = \\{ \\text{POS}, \\text{NEG} \\}$ is the set of possible classes,\n",
    "$\\hat{c} \\in C$ is the most probable class, and $\\bar{f}$ is the feature\n",
    "vector. Remember that we use the log of these probabilities when making\n",
    "a prediction:\n",
    "$$\\hat{c} = \\operatorname*{arg\\,max}_{c \\in C} \\Big\\{\\log P(c) + \\sum^n_{i=1} \\log P(f_i|c)\\Big\\}$$\n",
    "\n",
    "You can find more details about Naive Bayes in [Jurafsky &\n",
    "Martin](https://web.stanford.edu/~jurafsky/slp3/). You can also look at\n",
    "this helpful\n",
    "[pseudo-code](https://nlp.stanford.edu/IR-book/html/htmledition/naive-bayes-text-classification-1.html).\n",
    "\n",
    "*Note: this section and the next aim to put you in a position to replicate\n",
    "    Pang et al.'s Naive Bayes results. However, your numerical results\n",
    "    will differ from theirs, as they used different data.*\n",
    "\n",
    "**You must write the Naive Bayes training and prediction code from\n",
    "scratch.** You will not be given credit for using off-the-shelf Machine\n",
    "Learning libraries.\n",
    "\n",
    "The data contains the text of the reviews, where each document consists\n",
    "of the sentences in the review, the sentiment of the review and an index\n",
    "(cv) that you will later use for cross-validation. The\n",
    "text has already been tokenised and POS-tagged for you. Your algorithm\n",
    "should read in the text, **lowercase it**, store the words and their\n",
    "frequencies in an appropriate data structure that allows for easy\n",
    "computation of the probabilities used in the Naive Bayes algorithm, and\n",
    "then make predictions for new instances.\n"
   ]
  },
  {
   "cell_type": "markdown",
   "metadata": {
    "id": "vEpyQSBSkb33"
   },
   "source": [
    "#### (Q2.1) Unseen words (1pt)\n",
    "The presence of words in the test dataset that\n",
    "have not been seen during training can cause probabilities in the Naive Bayes classifier to equal $0$.\n",
    "These can be words which are unseen in both positive and negative training reviews (case 1), but also words which are seen in reviews _of only one sentiment class_ in the training dataset (case 2). In both cases, **you should skip these words for both classes**.  What would be the problem instead with skipping words only for one class in case 2? "
   ]
  },
  {
   "cell_type": "markdown",
   "metadata": {
    "id": "BanFiYYnoxDW"
   },
   "source": [
    "Note that, our estimates for required probabilities are as follows:\n",
    "$$\n",
    "p(c) = \\frac{N_{c}}{N}, \\\\\n",
    "p(w| c) = \\frac{T_{wc}}{\\sum_{w' \\in \\mathbf{V}}T_{w'c}}\n",
    "$$\n",
    "\n",
    "where $N$ is the total number of documents, $N_c$ is the number of documents in class $c$, $\\mathbf{V}$ denotes the vocabulary, $w$ denotes a given word, $T_{wc}$ denotes the frequency of word $w$ occuring in training documents in class $c$.\n",
    "\n",
    "If we consider case 2, suppose we encounter a word $w$ that occurs in positive reviews but not in negative reviews. Then, by definition, \n",
    "$$\n",
    "p(f | c = 0) = \\frac{T_{w0}}{\\sum_{w' \\in \\mathbf{V}}T_{w'0}} = 0\n",
    "$$\n",
    "since $T_{w0} = 0$."
   ]
  },
  {
   "cell_type": "markdown",
   "metadata": {
    "id": "gsZRhaI3WvzC"
   },
   "source": [
    "#### (Q2.2) Train your classifier on (positive and negative) reviews with cv-value 000-899, and test it on the remaining (positive and negative) reviews cv900–cv999.  Report results using classification accuracy as your evaluation metric. Your  features are the word vocabulary. The value of a feature is the count of that feature (word) in the document. (2pts)\n"
   ]
  },
  {
   "cell_type": "code",
   "execution_count": 52,
   "metadata": {},
   "outputs": [],
   "source": [
    "# YOUR CODE HERE\n",
    "\n",
    "from tqdm import tqdm\n",
    "\n",
    "class NaiveBayesClassifier:\n",
    "    \"\"\"NB Classifier for text-classification based on BoW features.\"\"\"\n",
    "\n",
    "    def __init__(self, classes, smoothing_kappa=0, stemmer=None):\n",
    "        self.classes = classes\n",
    "        self.smoothing_kappa = smoothing_kappa\n",
    "        \n",
    "        # class-wise document counts\n",
    "        self.class_priors = {k: 0.0 for k in self.classes}\n",
    "        \n",
    "        # class-wise vocabulary\n",
    "        self.V = {k: Counter() for k in self.classes}\n",
    "        self.net_words_per_class = {k: 0 for k in self.classes}\n",
    "        self.common_words_per_class = {k: 0 for k in self.classes}\n",
    "        self.vocab_size = 0\n",
    "        \n",
    "        # define stemmer\n",
    "        self.stemmer = stemmer\n",
    "\n",
    "    def create_class_wise_vocabulary(self, documents, labels):\n",
    "        num_docs = len(documents)\n",
    "        \n",
    "        iterator = tqdm(\n",
    "            range(num_docs),\n",
    "            desc=\"Training\",\n",
    "            bar_format='{l_bar}{bar:20}{r_bar}{bar:-20b}',\n",
    "        )\n",
    "        for i in iterator:\n",
    "            d, l = documents[i], labels[i]\n",
    "\n",
    "            # update class counts\n",
    "            self.class_priors[l] += (1.0 / num_docs)\n",
    "            \n",
    "            # get all words in the document (in lowercase)\n",
    "            words = list(np.char.lower(np.concatenate(d)[:, 0]))\n",
    "            \n",
    "            # apply stemming to the words\n",
    "            if self.stemmer is not None:\n",
    "                words = list(map(self.stemmer.stem, words))\n",
    "            \n",
    "            words_unique, words_counts = np.unique(words, return_counts=True)\n",
    "            word_freq_dict = dict(zip(words_unique, words_counts))\n",
    "            \n",
    "            # update class-wise vocabulary\n",
    "            self.V[l].update(word_freq_dict)\n",
    "        \n",
    "        # get the net vocbulary\n",
    "        vocab = set.union(*[set(self.V[c].keys()) for c in self.classes])\n",
    "        self.vocab_size = len(vocab)\n",
    "        \n",
    "        # compute net size of class cluster (to be used while smoothing)\n",
    "        for c in self.classes:\n",
    "            self.net_words_per_class[c] = sum(list(self.V[c].values()))\n",
    "\n",
    "        # compute common size of class cluster (to be used while smoothing)\n",
    "        vocab_common = set.intersection(*[set(self.V[c].keys()) for c in self.classes])\n",
    "        for c in self.classes:\n",
    "            vocab_class = {w:v for w, v in self.V[c].items() if w in vocab_common}\n",
    "            self.common_words_per_class[c] = sum(list(vocab_class.values()))\n",
    "\n",
    "    def train(self, documents: list, labels: list):\n",
    "        assert len(documents) == len(labels)\n",
    "        assert set(np.unique(labels)) == set(self.classes)\n",
    "\n",
    "        self.create_class_wise_vocabulary(documents, labels)\n",
    "\n",
    "        print(f\"Training finished with vocabulary of size {self.vocab_size}.\")\n",
    "\n",
    "    def check_word_in_vocab(self, word):\n",
    "        for c in self.classes:\n",
    "            if word not in self.V[c]:\n",
    "                return False\n",
    "        return True\n",
    "\n",
    "    def predict(self, documents: list):\n",
    "        \"\"\"Predicts class label for each of the given documents.\"\"\"\n",
    "        num_docs = len(documents)\n",
    "        \n",
    "        iterator = tqdm(\n",
    "            range(num_docs),\n",
    "            desc=\"Evaluating\",\n",
    "            bar_format='{l_bar}{bar:20}{r_bar}{bar:-20b}',\n",
    "        )\n",
    "        predictions = []\n",
    "        for i in iterator:\n",
    "            d = documents[i]\n",
    "\n",
    "            # get all words in the document (in lowercase)\n",
    "            words = list(np.char.lower(np.concatenate(d)[:, 0]))\n",
    "            if self.stemmer is not None:\n",
    "                words = list(map(self.stemmer.stem, words))\n",
    "            \n",
    "            score = {k: np.log(self.class_priors[k]) for k in self.classes}\n",
    "            for word in words:\n",
    "                if self.check_word_in_vocab(word):\n",
    "                    for c in self.classes:\n",
    "                        count_word_in_c = self.V[c][word]\n",
    "                        if self.smoothing_kappa > 0:\n",
    "                            count_all_words_in_c = self.net_words_per_class[c]\n",
    "                        else:\n",
    "                            count_all_words_in_c = self.common_words_per_class[c]\n",
    "                        nume = count_word_in_c + self.smoothing_kappa\n",
    "                        deno = count_all_words_in_c + self.smoothing_kappa * self.vocab_size\n",
    "                        score[c] += np.log(nume/deno)\n",
    "        \n",
    "            predicted_class = max(score, key=score.get)\n",
    "            predictions.append(predicted_class)\n",
    "        \n",
    "        return predictions\n",
    "\n",
    "\n",
    "def compute_accuracy(y_true: list, y_pred: list):\n",
    "    y_true = np.array(y_true)\n",
    "    y_pred = np.array(y_pred)\n",
    "    return np.mean((y_true == y_pred).astype(int))\n",
    "\n",
    "\n",
    "def train_and_evaluate_clf(clf, train_idx, test_idx):\n",
    "    train_documents = [reviews[i][\"content\"] for i in train_idx]\n",
    "    train_labels = [reviews[i][\"sentiment\"] for i in train_idx]\n",
    "\n",
    "    test_documents = [reviews[i][\"content\"] for i in test_idx]\n",
    "    test_labels = [reviews[i][\"sentiment\"] for i in test_idx]\n",
    "    \n",
    "    # train the classifier\n",
    "    clf.train(train_documents, train_labels)\n",
    "\n",
    "    # compute train accuracy\n",
    "    acc = compute_accuracy(train_labels, clf.predict(train_documents))\n",
    "    print(f\"Obtained accuracy using NaiveBayesClassifier on train set: {acc:.3f}\")\n",
    "\n",
    "    # compute test accuracy\n",
    "    acc = compute_accuracy(test_labels, clf.predict(test_documents))\n",
    "    print(f\"Obtained accuracy using NaiveBayesClassifier on test set: {acc:.3f}\")\n",
    "    \n",
    "    return acc\n",
    "\n",
    "\n",
    "test = False\n",
    "if test:\n",
    "    # testing NB Classifier\n",
    "    clf = NaiveBayesClassifier(classes=[\"POS\", \"NEG\"])\n",
    "    train_documents = [reviews[i][\"content\"] for i in range(len(reviews))]\n",
    "    train_labels = [reviews[i][\"sentiment\"] for i in range(len(reviews))]\n",
    "\n",
    "    clf.train(train_documents, train_labels)\n",
    "    y_pred = clf.predict(train_documents)\n",
    "    y_true = train_labels\n",
    "\n",
    "    # compute train accuracy\n",
    "    compute_accuracy(y_true, y_pred)"
   ]
  },
  {
   "cell_type": "code",
   "execution_count": 53,
   "metadata": {},
   "outputs": [
    {
     "name": "stderr",
     "output_type": "stream",
     "text": [
      "Training: 100%|████████████████████| 1800/1800 [00:01<00:00, 946.46it/s]                                                                                 \n"
     ]
    },
    {
     "name": "stdout",
     "output_type": "stream",
     "text": [
      "Training finished with vocabulary of size 45348.\n"
     ]
    },
    {
     "name": "stderr",
     "output_type": "stream",
     "text": [
      "Evaluating: 100%|████████████████████| 1800/1800 [00:04<00:00, 413.28it/s]                                                                               \n"
     ]
    },
    {
     "name": "stdout",
     "output_type": "stream",
     "text": [
      "Obtained accuracy using NaiveBayesClassifier on train set: 0.947\n"
     ]
    },
    {
     "name": "stderr",
     "output_type": "stream",
     "text": [
      "Evaluating: 100%|████████████████████| 200/200 [00:00<00:00, 403.21it/s]                                                                                 "
     ]
    },
    {
     "name": "stdout",
     "output_type": "stream",
     "text": [
      "Obtained accuracy using NaiveBayesClassifier on test set: 0.835\n"
     ]
    },
    {
     "name": "stderr",
     "output_type": "stream",
     "text": [
      "\n"
     ]
    },
    {
     "data": {
      "text/plain": [
       "0.835"
      ]
     },
     "execution_count": 53,
     "metadata": {},
     "output_type": "execute_result"
    }
   ],
   "source": [
    "# split into training and testing data\n",
    "cv = np.array([reviews[i][\"cv\"] for i in range(len(reviews))])\n",
    "labels = np.array([reviews[i][\"sentiment\"] for i in range(len(reviews))])\n",
    "\n",
    "train_idx = np.where(cv < 900)[0]\n",
    "test_idx = np.where(cv >= 900)[0]\n",
    "\n",
    "clf = NaiveBayesClassifier(classes=[\"POS\", \"NEG\"])\n",
    "train_and_evaluate_clf(clf, train_idx, test_idx)"
   ]
  },
  {
   "cell_type": "markdown",
   "metadata": {
    "id": "0INK-PBoM6CB"
   },
   "source": [
    "#### (Q2.3) Would you consider accuracy to also be a good way to evaluate your classifier in a situation where 90% of your data instances are of positive movie reviews? (1pt)\n",
    "\n",
    "Simulate this scenario by keeping the positive reviews\n",
    "data unchanged, but only using negative reviews cv000–cv089 for\n",
    "training, and cv900–cv909 for testing. Calculate the classification\n",
    "accuracy, and explain what changed."
   ]
  },
  {
   "cell_type": "markdown",
   "metadata": {
    "id": "oFbcsYlipBAw"
   },
   "source": [
    "In general, I would not consider accuracy to be a good metric if my evaluation set is highly imbalanced since even if it predicts everything as positive, it can still achieve 90% accuracy.\n",
    "\n",
    "> What is happening with NB in this case????"
   ]
  },
  {
   "cell_type": "code",
   "execution_count": 54,
   "metadata": {},
   "outputs": [
    {
     "name": "stderr",
     "output_type": "stream",
     "text": [
      "Training: 100%|████████████████████| 990/990 [00:01<00:00, 905.34it/s]                                                                                   \n"
     ]
    },
    {
     "name": "stdout",
     "output_type": "stream",
     "text": [
      "Training finished with vocabulary of size 34662.\n"
     ]
    },
    {
     "name": "stderr",
     "output_type": "stream",
     "text": [
      "Evaluating: 100%|████████████████████| 990/990 [00:04<00:00, 212.54it/s]                                                                                 \n"
     ]
    },
    {
     "name": "stdout",
     "output_type": "stream",
     "text": [
      "Obtained accuracy using NaiveBayesClassifier on train set: 0.997\n"
     ]
    },
    {
     "name": "stderr",
     "output_type": "stream",
     "text": [
      "Evaluating: 100%|████████████████████| 110/110 [00:00<00:00, 214.12it/s]                                                                                 "
     ]
    },
    {
     "name": "stdout",
     "output_type": "stream",
     "text": [
      "Obtained accuracy using NaiveBayesClassifier on test set: 0.891\n"
     ]
    },
    {
     "name": "stderr",
     "output_type": "stream",
     "text": [
      "\n"
     ]
    },
    {
     "data": {
      "text/plain": [
       "0.8909090909090909"
      ]
     },
     "execution_count": 54,
     "metadata": {},
     "output_type": "execute_result"
    }
   ],
   "source": [
    "cond = ((cv < 90) * (labels == \"NEG\")) + ((labels == \"POS\") * (cv < 900))\n",
    "train_idx = [i for i, value in enumerate(cond) if value]\n",
    "\n",
    "cond = ((cv >= 900) * (cv <= 909) * (labels == \"NEG\")) + ((labels == \"POS\") * (cv >= 900))\n",
    "test_idx = [i for i, value in enumerate(cond) if value]\n",
    "\n",
    "clf = NaiveBayesClassifier(classes=[\"POS\", \"NEG\"], smoothing_kappa=0.0)\n",
    "train_and_evaluate_clf(clf, train_idx, test_idx)"
   ]
  },
  {
   "cell_type": "markdown",
   "metadata": {
    "id": "6wJzcHX3WUDm"
   },
   "source": [
    "## Smoothing (1pt)\n",
    "\n",
    "As mentioned above, the presence of words in the test dataset that\n",
    "have not been seen during training can cause probabilities in the Naive\n",
    "Bayes classifier to be $0$, thus making that particular test instance\n",
    "undecidable. The standard way to mitigate this effect (as well as to\n",
    "give more clout to rare words) is to use smoothing, in which the\n",
    "probability fraction\n",
    "$$\\frac{\\text{count}(w_i, c)}{\\sum\\limits_{w\\in V} \\text{count}(w, c)}$$ for a word\n",
    "$w_i$ becomes\n",
    "$$\\frac{\\text{count}(w_i, c) + \\text{smoothing}(w_i)}{\\sum\\limits_{w\\in V} \\text{count}(w, c) + \\sum\\limits_{w \\in V} \\text{smoothing}(w)}$$\n",
    "\n",
    "\n",
    "\n"
   ]
  },
  {
   "cell_type": "markdown",
   "metadata": {
    "id": "PBNIcbwUWphC"
   },
   "source": [
    "#### (Q2.4) Implement Laplace feature smoothing (1pt)\n",
    "Implement Laplace smoothing, i.e., smoothing with a constant value ($smoothing(w) = \\kappa, \\forall w \\in V$), in your Naive\n",
    "Bayes classifier’s code, and report the impact on performance. \n",
    "Use $\\kappa = 1$."
   ]
  },
  {
   "cell_type": "code",
   "execution_count": 55,
   "metadata": {
    "id": "g03yflCc9kpW"
   },
   "outputs": [
    {
     "name": "stderr",
     "output_type": "stream",
     "text": [
      "Training: 100%|████████████████████| 1800/1800 [00:01<00:00, 951.08it/s]                                                                                 \n"
     ]
    },
    {
     "name": "stdout",
     "output_type": "stream",
     "text": [
      "Training finished with vocabulary of size 45348.\n"
     ]
    },
    {
     "name": "stderr",
     "output_type": "stream",
     "text": [
      "Evaluating: 100%|████████████████████| 1800/1800 [00:08<00:00, 208.09it/s]                                                                               \n"
     ]
    },
    {
     "name": "stdout",
     "output_type": "stream",
     "text": [
      "Obtained accuracy using NaiveBayesClassifier on train set: 0.944\n"
     ]
    },
    {
     "name": "stderr",
     "output_type": "stream",
     "text": [
      "Evaluating: 100%|████████████████████| 200/200 [00:00<00:00, 206.32it/s]                                                                                 "
     ]
    },
    {
     "name": "stdout",
     "output_type": "stream",
     "text": [
      "Obtained accuracy using NaiveBayesClassifier on test set: 0.835\n"
     ]
    },
    {
     "name": "stderr",
     "output_type": "stream",
     "text": [
      "\n"
     ]
    },
    {
     "data": {
      "text/plain": [
       "0.835"
      ]
     },
     "execution_count": 55,
     "metadata": {},
     "output_type": "execute_result"
    }
   ],
   "source": [
    "# split into training and testing data\n",
    "train_idx = np.where(cv < 900)[0]\n",
    "test_idx = np.where(cv >= 900)[0]\n",
    "\n",
    "clf = NaiveBayesClassifier(classes=[\"POS\", \"NEG\"], smoothing_kappa=1.0)\n",
    "train_and_evaluate_clf(clf, train_idx, test_idx)"
   ]
  },
  {
   "cell_type": "markdown",
   "metadata": {
    "id": "ZiGcgwba87D5"
   },
   "source": [
    "## Cross-Validation (1.5pts)\n",
    "\n",
    "A serious danger in using Machine Learning on small datasets, with many\n",
    "iterations of slightly different versions of the algorithms, is ending up with Type III errors, also called the “testing hypotheses\n",
    "suggested by the data” errors. This type of error occurs when we make\n",
    "repeated improvements to our classifiers by playing with features and\n",
    "their processing, but we don’t get a fresh, never-before seen test\n",
    "dataset every time. Thus, we risk developing a classifier that gets better\n",
    "and better on our data, but only gets worse at generalizing to new, unseen data. In other words, we risk developping a classifier that overfits.\n",
    "\n",
    "A simple method to guard against Type III errors is to use\n",
    "Cross-Validation. In **N-fold Cross-Validation**, we divide the data into N\n",
    "distinct chunks, or folds. Then, we repeat the experiment N times: each\n",
    "time holding out one of the folds for testing, training our classifier\n",
    "on the remaining N - 1 data folds, and reporting performance on the\n",
    "held-out fold. We can use different strategies for dividing the data:\n",
    "\n",
    "-   Consecutive splitting:\n",
    "  - cv000–cv099 = Split 1\n",
    "  - cv100–cv199 = Split 2\n",
    "  - etc.\n",
    "  \n",
    "-   Round-robin splitting (mod 10):\n",
    "  - cv000, cv010, cv020, … = Split 1\n",
    "  - cv001, cv011, cv021, … = Split 2\n",
    "  - etc.\n",
    "\n",
    "-   Random sampling/splitting\n",
    "  - Not used here (but you may choose to split this way in a non-educational situation)\n",
    "\n"
   ]
  },
  {
   "cell_type": "markdown",
   "metadata": {
    "id": "8OeLcbSauGtR"
   },
   "source": [
    "#### (Q2.5) Write the code to implement 10-fold cross-validation using round-robin splitting for your Naive Bayes classifier from Q2.4 and compute the 10 accuracies. Report the final performance, which is the average of the performances per fold. If all splits perform equally well, this is a good sign. (1pt)"
   ]
  },
  {
   "cell_type": "code",
   "execution_count": 57,
   "metadata": {},
   "outputs": [],
   "source": [
    "def evaluate_by_kfold_cv(K=10, factor=10, clf_args={\"classes\": [\"POS\", \"NEG\"], \"smoothing_kappa\": 1.0}):\n",
    "    test_accuracies = np.zeros(K)\n",
    "\n",
    "    for k in range(K):\n",
    "        print(f\":::::::::::: Fold {k} ::::::::::::\")\n",
    "\n",
    "        cv_fold = cv[k::factor]\n",
    "\n",
    "        test_idx = [i for i, value in enumerate(cv) if value in cv_fold]\n",
    "        train_idx = [i for i, value in enumerate(cv) if value not in cv_fold]\n",
    "        print(\"Sample test indices: \", np.array(test_idx)[:10])\n",
    "\n",
    "        clf = NaiveBayesClassifier(**clf_args)\n",
    "        test_acc = train_and_evaluate_clf(clf, train_idx, test_idx)\n",
    "\n",
    "        test_accuracies[k] = test_acc\n",
    "    \n",
    "    return test_accuracies"
   ]
  },
  {
   "cell_type": "code",
   "execution_count": 58,
   "metadata": {
    "collapsed": true,
    "jupyter": {
     "outputs_hidden": true
    },
    "tags": []
   },
   "outputs": [
    {
     "name": "stdout",
     "output_type": "stream",
     "text": [
      ":::::::::::: Fold 0 ::::::::::::\n",
      "Sample test indices:  [ 0 10 20 30 40 50 60 70 80 90]\n"
     ]
    },
    {
     "name": "stderr",
     "output_type": "stream",
     "text": [
      "Training: 100%|████████████████████| 1800/1800 [00:01<00:00, 950.57it/s]                                                                                 \n"
     ]
    },
    {
     "name": "stdout",
     "output_type": "stream",
     "text": [
      "Training finished with vocabulary of size 45329.\n"
     ]
    },
    {
     "name": "stderr",
     "output_type": "stream",
     "text": [
      "Evaluating: 100%|████████████████████| 1800/1800 [00:08<00:00, 205.08it/s]                                                                               \n"
     ]
    },
    {
     "name": "stdout",
     "output_type": "stream",
     "text": [
      "Obtained accuracy using NaiveBayesClassifier on train set: 0.942\n"
     ]
    },
    {
     "name": "stderr",
     "output_type": "stream",
     "text": [
      "Evaluating: 100%|████████████████████| 200/200 [00:00<00:00, 209.37it/s]                                                                                 \n"
     ]
    },
    {
     "name": "stdout",
     "output_type": "stream",
     "text": [
      "Obtained accuracy using NaiveBayesClassifier on test set: 0.785\n",
      ":::::::::::: Fold 1 ::::::::::::\n",
      "Sample test indices:  [ 1 11 21 31 41 51 61 71 81 91]\n"
     ]
    },
    {
     "name": "stderr",
     "output_type": "stream",
     "text": [
      "Training: 100%|████████████████████| 1800/1800 [00:02<00:00, 881.42it/s]                                                                                 \n"
     ]
    },
    {
     "name": "stdout",
     "output_type": "stream",
     "text": [
      "Training finished with vocabulary of size 45392.\n"
     ]
    },
    {
     "name": "stderr",
     "output_type": "stream",
     "text": [
      "Evaluating: 100%|████████████████████| 1800/1800 [00:09<00:00, 197.29it/s]                                                                               \n"
     ]
    },
    {
     "name": "stdout",
     "output_type": "stream",
     "text": [
      "Obtained accuracy using NaiveBayesClassifier on train set: 0.943\n"
     ]
    },
    {
     "name": "stderr",
     "output_type": "stream",
     "text": [
      "Evaluating: 100%|████████████████████| 200/200 [00:01<00:00, 197.21it/s]                                                                                 \n"
     ]
    },
    {
     "name": "stdout",
     "output_type": "stream",
     "text": [
      "Obtained accuracy using NaiveBayesClassifier on test set: 0.850\n",
      ":::::::::::: Fold 2 ::::::::::::\n",
      "Sample test indices:  [ 2 12 22 32 42 52 62 72 82 92]\n"
     ]
    },
    {
     "name": "stderr",
     "output_type": "stream",
     "text": [
      "Training: 100%|████████████████████| 1800/1800 [00:01<00:00, 974.34it/s]                                                                                 \n"
     ]
    },
    {
     "name": "stdout",
     "output_type": "stream",
     "text": [
      "Training finished with vocabulary of size 45438.\n"
     ]
    },
    {
     "name": "stderr",
     "output_type": "stream",
     "text": [
      "Evaluating: 100%|████████████████████| 1800/1800 [00:08<00:00, 206.59it/s]                                                                               \n"
     ]
    },
    {
     "name": "stdout",
     "output_type": "stream",
     "text": [
      "Obtained accuracy using NaiveBayesClassifier on train set: 0.944\n"
     ]
    },
    {
     "name": "stderr",
     "output_type": "stream",
     "text": [
      "Evaluating: 100%|████████████████████| 200/200 [00:01<00:00, 197.41it/s]                                                                                 \n"
     ]
    },
    {
     "name": "stdout",
     "output_type": "stream",
     "text": [
      "Obtained accuracy using NaiveBayesClassifier on test set: 0.810\n",
      ":::::::::::: Fold 3 ::::::::::::\n",
      "Sample test indices:  [ 3 13 23 33 43 53 63 73 83 93]\n"
     ]
    },
    {
     "name": "stderr",
     "output_type": "stream",
     "text": [
      "Training: 100%|████████████████████| 1800/1800 [00:01<00:00, 965.37it/s]                                                                                 \n"
     ]
    },
    {
     "name": "stdout",
     "output_type": "stream",
     "text": [
      "Training finished with vocabulary of size 45389.\n"
     ]
    },
    {
     "name": "stderr",
     "output_type": "stream",
     "text": [
      "Evaluating: 100%|████████████████████| 1800/1800 [00:08<00:00, 202.73it/s]                                                                               \n"
     ]
    },
    {
     "name": "stdout",
     "output_type": "stream",
     "text": [
      "Obtained accuracy using NaiveBayesClassifier on train set: 0.942\n"
     ]
    },
    {
     "name": "stderr",
     "output_type": "stream",
     "text": [
      "Evaluating: 100%|████████████████████| 200/200 [00:00<00:00, 207.25it/s]                                                                                 \n"
     ]
    },
    {
     "name": "stdout",
     "output_type": "stream",
     "text": [
      "Obtained accuracy using NaiveBayesClassifier on test set: 0.870\n",
      ":::::::::::: Fold 4 ::::::::::::\n",
      "Sample test indices:  [ 4 14 24 34 44 54 64 74 84 94]\n"
     ]
    },
    {
     "name": "stderr",
     "output_type": "stream",
     "text": [
      "Training: 100%|████████████████████| 1800/1800 [00:01<00:00, 968.87it/s]                                                                                 \n"
     ]
    },
    {
     "name": "stdout",
     "output_type": "stream",
     "text": [
      "Training finished with vocabulary of size 45648.\n"
     ]
    },
    {
     "name": "stderr",
     "output_type": "stream",
     "text": [
      "Evaluating: 100%|████████████████████| 1800/1800 [00:08<00:00, 204.13it/s]                                                                               \n"
     ]
    },
    {
     "name": "stdout",
     "output_type": "stream",
     "text": [
      "Obtained accuracy using NaiveBayesClassifier on train set: 0.938\n"
     ]
    },
    {
     "name": "stderr",
     "output_type": "stream",
     "text": [
      "Evaluating: 100%|████████████████████| 200/200 [00:00<00:00, 212.95it/s]                                                                                 \n"
     ]
    },
    {
     "name": "stdout",
     "output_type": "stream",
     "text": [
      "Obtained accuracy using NaiveBayesClassifier on test set: 0.800\n",
      ":::::::::::: Fold 5 ::::::::::::\n",
      "Sample test indices:  [ 5 15 25 35 45 55 65 75 85 95]\n"
     ]
    },
    {
     "name": "stderr",
     "output_type": "stream",
     "text": [
      "Training: 100%|████████████████████| 1800/1800 [00:01<00:00, 959.03it/s]                                                                                 \n"
     ]
    },
    {
     "name": "stdout",
     "output_type": "stream",
     "text": [
      "Training finished with vocabulary of size 45296.\n"
     ]
    },
    {
     "name": "stderr",
     "output_type": "stream",
     "text": [
      "Evaluating: 100%|████████████████████| 1800/1800 [00:08<00:00, 204.34it/s]                                                                               \n"
     ]
    },
    {
     "name": "stdout",
     "output_type": "stream",
     "text": [
      "Obtained accuracy using NaiveBayesClassifier on train set: 0.939\n"
     ]
    },
    {
     "name": "stderr",
     "output_type": "stream",
     "text": [
      "Evaluating: 100%|████████████████████| 200/200 [00:00<00:00, 207.86it/s]                                                                                 \n"
     ]
    },
    {
     "name": "stdout",
     "output_type": "stream",
     "text": [
      "Obtained accuracy using NaiveBayesClassifier on test set: 0.865\n",
      ":::::::::::: Fold 6 ::::::::::::\n",
      "Sample test indices:  [ 6 16 26 36 46 56 66 76 86 96]\n"
     ]
    },
    {
     "name": "stderr",
     "output_type": "stream",
     "text": [
      "Training: 100%|████████████████████| 1800/1800 [00:01<00:00, 964.07it/s]                                                                                 \n"
     ]
    },
    {
     "name": "stdout",
     "output_type": "stream",
     "text": [
      "Training finished with vocabulary of size 45365.\n"
     ]
    },
    {
     "name": "stderr",
     "output_type": "stream",
     "text": [
      "Evaluating: 100%|████████████████████| 1800/1800 [00:08<00:00, 206.88it/s]                                                                               \n"
     ]
    },
    {
     "name": "stdout",
     "output_type": "stream",
     "text": [
      "Obtained accuracy using NaiveBayesClassifier on train set: 0.942\n"
     ]
    },
    {
     "name": "stderr",
     "output_type": "stream",
     "text": [
      "Evaluating: 100%|████████████████████| 200/200 [00:01<00:00, 197.48it/s]                                                                                 \n"
     ]
    },
    {
     "name": "stdout",
     "output_type": "stream",
     "text": [
      "Obtained accuracy using NaiveBayesClassifier on test set: 0.825\n",
      ":::::::::::: Fold 7 ::::::::::::\n",
      "Sample test indices:  [ 7 17 27 37 47 57 67 77 87 97]\n"
     ]
    },
    {
     "name": "stderr",
     "output_type": "stream",
     "text": [
      "Training: 100%|████████████████████| 1800/1800 [00:01<00:00, 962.71it/s]                                                                                 \n"
     ]
    },
    {
     "name": "stdout",
     "output_type": "stream",
     "text": [
      "Training finished with vocabulary of size 45409.\n"
     ]
    },
    {
     "name": "stderr",
     "output_type": "stream",
     "text": [
      "Evaluating: 100%|████████████████████| 1800/1800 [00:08<00:00, 205.63it/s]                                                                               \n"
     ]
    },
    {
     "name": "stdout",
     "output_type": "stream",
     "text": [
      "Obtained accuracy using NaiveBayesClassifier on train set: 0.942\n"
     ]
    },
    {
     "name": "stderr",
     "output_type": "stream",
     "text": [
      "Evaluating: 100%|████████████████████| 200/200 [00:00<00:00, 207.13it/s]                                                                                 \n"
     ]
    },
    {
     "name": "stdout",
     "output_type": "stream",
     "text": [
      "Obtained accuracy using NaiveBayesClassifier on test set: 0.790\n",
      ":::::::::::: Fold 8 ::::::::::::\n",
      "Sample test indices:  [ 8 18 28 38 48 58 68 78 88 98]\n"
     ]
    },
    {
     "name": "stderr",
     "output_type": "stream",
     "text": [
      "Training: 100%|████████████████████| 1800/1800 [00:01<00:00, 954.18it/s]                                                                                 \n"
     ]
    },
    {
     "name": "stdout",
     "output_type": "stream",
     "text": [
      "Training finished with vocabulary of size 45557.\n"
     ]
    },
    {
     "name": "stderr",
     "output_type": "stream",
     "text": [
      "Evaluating: 100%|████████████████████| 1800/1800 [00:08<00:00, 206.13it/s]                                                                               \n"
     ]
    },
    {
     "name": "stdout",
     "output_type": "stream",
     "text": [
      "Obtained accuracy using NaiveBayesClassifier on train set: 0.942\n"
     ]
    },
    {
     "name": "stderr",
     "output_type": "stream",
     "text": [
      "Evaluating: 100%|████████████████████| 200/200 [00:00<00:00, 211.69it/s]                                                                                 \n"
     ]
    },
    {
     "name": "stdout",
     "output_type": "stream",
     "text": [
      "Obtained accuracy using NaiveBayesClassifier on test set: 0.825\n",
      ":::::::::::: Fold 9 ::::::::::::\n",
      "Sample test indices:  [ 9 19 29 39 49 59 69 79 89 99]\n"
     ]
    },
    {
     "name": "stderr",
     "output_type": "stream",
     "text": [
      "Training: 100%|████████████████████| 1800/1800 [00:01<00:00, 967.26it/s]                                                                                 \n"
     ]
    },
    {
     "name": "stdout",
     "output_type": "stream",
     "text": [
      "Training finished with vocabulary of size 45642.\n"
     ]
    },
    {
     "name": "stderr",
     "output_type": "stream",
     "text": [
      "Evaluating: 100%|████████████████████| 1800/1800 [00:09<00:00, 199.89it/s]                                                                               \n"
     ]
    },
    {
     "name": "stdout",
     "output_type": "stream",
     "text": [
      "Obtained accuracy using NaiveBayesClassifier on train set: 0.945\n"
     ]
    },
    {
     "name": "stderr",
     "output_type": "stream",
     "text": [
      "Evaluating: 100%|████████████████████| 200/200 [00:01<00:00, 194.68it/s]                                                                                 "
     ]
    },
    {
     "name": "stdout",
     "output_type": "stream",
     "text": [
      "Obtained accuracy using NaiveBayesClassifier on test set: 0.820\n"
     ]
    },
    {
     "name": "stderr",
     "output_type": "stream",
     "text": [
      "\n"
     ]
    }
   ],
   "source": [
    "test_accuracies = evaluate_by_kfold_cv()"
   ]
  },
  {
   "cell_type": "code",
   "execution_count": 59,
   "metadata": {
    "id": "3KeCGPa7Nuzx"
   },
   "outputs": [
    {
     "name": "stdout",
     "output_type": "stream",
     "text": [
      "Mean accuracy across folds: 0.824000\n"
     ]
    }
   ],
   "source": [
    "avg_accuracy = np.mean(test_accuracies)\n",
    "print(f\"Mean accuracy across folds: {avg_accuracy:3f}\")"
   ]
  },
  {
   "cell_type": "markdown",
   "metadata": {
    "id": "otdlsDXBNyOa"
   },
   "source": [
    "#### (Q2.6) Report the variance of the 10 accuracy scores. (0.5pt)\n",
    "\n",
    "**Please report all future results using 10-fold cross-validation now\n",
    "(unless told to use the held-out test set).**"
   ]
  },
  {
   "cell_type": "code",
   "execution_count": 60,
   "metadata": {
    "id": "ZoBQm1KuNzNR"
   },
   "outputs": [
    {
     "name": "stdout",
     "output_type": "stream",
     "text": [
      "Std dev and variance in accuracy across folds: 0.028178  0.001\n"
     ]
    }
   ],
   "source": [
    "std_accuracy = np.std(test_accuracies)\n",
    "var_accuracy = np.var(test_accuracies)\n",
    "print(f\"Std dev and variance in accuracy across folds: {std_accuracy:3f}  {var_accuracy:.3f}\")"
   ]
  },
  {
   "cell_type": "markdown",
   "metadata": {
    "id": "s6A2zX9_BRKm"
   },
   "source": [
    "## Features, overfitting, and the curse of dimensionality\n",
    "\n",
    "In the Bag-of-Words model, ideally we would like each distinct word in\n",
    "the text to be mapped to its own dimension in the output vector\n",
    "representation. However, real world text is messy, and we need to decide\n",
    "on what we consider to be a word. For example, is “`word`\" different\n",
    "from “`Word`\", from “`word`”, or from “`words`\"? Too strict a\n",
    "definition, and the number of features explodes, while our algorithm\n",
    "fails to learn anything generalisable. Too lax, and we risk destroying\n",
    "our learning signal. In the following section, you will learn about\n",
    "confronting the feature sparsity and the overfitting problems as they\n",
    "occur in NLP classification tasks."
   ]
  },
  {
   "cell_type": "markdown",
   "metadata": {
    "id": "EKK8FNt8VtcZ"
   },
   "source": [
    "### Stemming (1.5pts)\n",
    "\n",
    "To make your algorithm more robust, use stemming and hash different inflections of a word to the same feature in the BoW vector space. Please use the [Porter stemming\n",
    "    algorithm](http://www.nltk.org/howto/stem.html) from NLTK.\n",
    "\n"
   ]
  },
  {
   "cell_type": "code",
   "execution_count": 61,
   "metadata": {},
   "outputs": [
    {
     "data": {
      "text/plain": [
       "['word', 'word', 'word']"
      ]
     },
     "execution_count": 61,
     "metadata": {},
     "output_type": "execute_result"
    }
   ],
   "source": [
    "stemmer = PorterStemmer()\n",
    "\n",
    "# example usage\n",
    "list(map(stemmer.stem, [\"words\", \"Word\", \"word\"]))"
   ]
  },
  {
   "cell_type": "markdown",
   "metadata": {
    "id": "6SrJ1BeLXTnk"
   },
   "source": [
    "#### (Q2.7): How does the performance of your classifier change when you use stemming on your training and test datasets? (1pt)\n",
    "Use cross-validation to evaluate the classifier. \n"
   ]
  },
  {
   "cell_type": "code",
   "execution_count": 62,
   "metadata": {
    "id": "gYqKBOiIrInT",
    "tags": []
   },
   "outputs": [
    {
     "name": "stdout",
     "output_type": "stream",
     "text": [
      ":::::::::::: Fold 0 ::::::::::::\n",
      "Sample test indices:  [ 0 10 20 30 40 50 60 70 80 90]\n"
     ]
    },
    {
     "name": "stderr",
     "output_type": "stream",
     "text": [
      "Training: 100%|████████████████████| 1800/1800 [00:11<00:00, 152.41it/s]                                                                                 \n"
     ]
    },
    {
     "name": "stdout",
     "output_type": "stream",
     "text": [
      "Training finished with vocabulary of size 32371.\n"
     ]
    },
    {
     "name": "stderr",
     "output_type": "stream",
     "text": [
      "Evaluating: 100%|████████████████████| 1800/1800 [00:18<00:00, 97.38it/s]                                                                                \n"
     ]
    },
    {
     "name": "stdout",
     "output_type": "stream",
     "text": [
      "Obtained accuracy using NaiveBayesClassifier on train set: 0.929\n"
     ]
    },
    {
     "name": "stderr",
     "output_type": "stream",
     "text": [
      "Evaluating: 100%|████████████████████| 200/200 [00:01<00:00, 102.31it/s]                                                                                 \n"
     ]
    },
    {
     "name": "stdout",
     "output_type": "stream",
     "text": [
      "Obtained accuracy using NaiveBayesClassifier on test set: 0.770\n",
      ":::::::::::: Fold 1 ::::::::::::\n",
      "Sample test indices:  [ 1 11 21 31 41 51 61 71 81 91]\n"
     ]
    },
    {
     "name": "stderr",
     "output_type": "stream",
     "text": [
      "Training: 100%|████████████████████| 1800/1800 [00:11<00:00, 156.71it/s]                                                                                 \n"
     ]
    },
    {
     "name": "stdout",
     "output_type": "stream",
     "text": [
      "Training finished with vocabulary of size 32482.\n"
     ]
    },
    {
     "name": "stderr",
     "output_type": "stream",
     "text": [
      "Evaluating: 100%|████████████████████| 1800/1800 [00:18<00:00, 95.27it/s]                                                                                \n"
     ]
    },
    {
     "name": "stdout",
     "output_type": "stream",
     "text": [
      "Obtained accuracy using NaiveBayesClassifier on train set: 0.929\n"
     ]
    },
    {
     "name": "stderr",
     "output_type": "stream",
     "text": [
      "Evaluating: 100%|████████████████████| 200/200 [00:02<00:00, 93.21it/s]                                                                                  \n"
     ]
    },
    {
     "name": "stdout",
     "output_type": "stream",
     "text": [
      "Obtained accuracy using NaiveBayesClassifier on test set: 0.830\n",
      ":::::::::::: Fold 2 ::::::::::::\n",
      "Sample test indices:  [ 2 12 22 32 42 52 62 72 82 92]\n"
     ]
    },
    {
     "name": "stderr",
     "output_type": "stream",
     "text": [
      "Training: 100%|████████████████████| 1800/1800 [00:11<00:00, 154.41it/s]                                                                                 \n"
     ]
    },
    {
     "name": "stdout",
     "output_type": "stream",
     "text": [
      "Training finished with vocabulary of size 32545.\n"
     ]
    },
    {
     "name": "stderr",
     "output_type": "stream",
     "text": [
      "Evaluating: 100%|████████████████████| 1800/1800 [00:18<00:00, 95.52it/s]                                                                                \n"
     ]
    },
    {
     "name": "stdout",
     "output_type": "stream",
     "text": [
      "Obtained accuracy using NaiveBayesClassifier on train set: 0.931\n"
     ]
    },
    {
     "name": "stderr",
     "output_type": "stream",
     "text": [
      "Evaluating: 100%|████████████████████| 200/200 [00:02<00:00, 91.31it/s]                                                                                  \n"
     ]
    },
    {
     "name": "stdout",
     "output_type": "stream",
     "text": [
      "Obtained accuracy using NaiveBayesClassifier on test set: 0.805\n",
      ":::::::::::: Fold 3 ::::::::::::\n",
      "Sample test indices:  [ 3 13 23 33 43 53 63 73 83 93]\n"
     ]
    },
    {
     "name": "stderr",
     "output_type": "stream",
     "text": [
      "Training: 100%|████████████████████| 1800/1800 [00:11<00:00, 154.10it/s]                                                                                 \n"
     ]
    },
    {
     "name": "stdout",
     "output_type": "stream",
     "text": [
      "Training finished with vocabulary of size 32498.\n"
     ]
    },
    {
     "name": "stderr",
     "output_type": "stream",
     "text": [
      "Evaluating: 100%|████████████████████| 1800/1800 [00:18<00:00, 95.78it/s]                                                                                \n"
     ]
    },
    {
     "name": "stdout",
     "output_type": "stream",
     "text": [
      "Obtained accuracy using NaiveBayesClassifier on train set: 0.923\n"
     ]
    },
    {
     "name": "stderr",
     "output_type": "stream",
     "text": [
      "Evaluating: 100%|████████████████████| 200/200 [00:02<00:00, 92.49it/s]                                                                                  \n"
     ]
    },
    {
     "name": "stdout",
     "output_type": "stream",
     "text": [
      "Obtained accuracy using NaiveBayesClassifier on test set: 0.875\n",
      ":::::::::::: Fold 4 ::::::::::::\n",
      "Sample test indices:  [ 4 14 24 34 44 54 64 74 84 94]\n"
     ]
    },
    {
     "name": "stderr",
     "output_type": "stream",
     "text": [
      "Training: 100%|████████████████████| 1800/1800 [00:11<00:00, 155.19it/s]                                                                                 \n"
     ]
    },
    {
     "name": "stdout",
     "output_type": "stream",
     "text": [
      "Training finished with vocabulary of size 32699.\n"
     ]
    },
    {
     "name": "stderr",
     "output_type": "stream",
     "text": [
      "Evaluating: 100%|████████████████████| 1800/1800 [00:19<00:00, 93.32it/s]                                                                                \n"
     ]
    },
    {
     "name": "stdout",
     "output_type": "stream",
     "text": [
      "Obtained accuracy using NaiveBayesClassifier on train set: 0.924\n"
     ]
    },
    {
     "name": "stderr",
     "output_type": "stream",
     "text": [
      "Evaluating: 100%|████████████████████| 200/200 [00:02<00:00, 97.59it/s]                                                                                  \n"
     ]
    },
    {
     "name": "stdout",
     "output_type": "stream",
     "text": [
      "Obtained accuracy using NaiveBayesClassifier on test set: 0.790\n",
      ":::::::::::: Fold 5 ::::::::::::\n",
      "Sample test indices:  [ 5 15 25 35 45 55 65 75 85 95]\n"
     ]
    },
    {
     "name": "stderr",
     "output_type": "stream",
     "text": [
      "Training: 100%|████████████████████| 1800/1800 [00:11<00:00, 152.94it/s]                                                                                 \n"
     ]
    },
    {
     "name": "stdout",
     "output_type": "stream",
     "text": [
      "Training finished with vocabulary of size 32439.\n"
     ]
    },
    {
     "name": "stderr",
     "output_type": "stream",
     "text": [
      "Evaluating: 100%|████████████████████| 1800/1800 [00:19<00:00, 94.14it/s]                                                                                \n"
     ]
    },
    {
     "name": "stdout",
     "output_type": "stream",
     "text": [
      "Obtained accuracy using NaiveBayesClassifier on train set: 0.923\n"
     ]
    },
    {
     "name": "stderr",
     "output_type": "stream",
     "text": [
      "Evaluating: 100%|████████████████████| 200/200 [00:02<00:00, 97.36it/s]                                                                                  \n"
     ]
    },
    {
     "name": "stdout",
     "output_type": "stream",
     "text": [
      "Obtained accuracy using NaiveBayesClassifier on test set: 0.850\n",
      ":::::::::::: Fold 6 ::::::::::::\n",
      "Sample test indices:  [ 6 16 26 36 46 56 66 76 86 96]\n"
     ]
    },
    {
     "name": "stderr",
     "output_type": "stream",
     "text": [
      "Training: 100%|████████████████████| 1800/1800 [00:11<00:00, 157.17it/s]                                                                                 \n"
     ]
    },
    {
     "name": "stdout",
     "output_type": "stream",
     "text": [
      "Training finished with vocabulary of size 32440.\n"
     ]
    },
    {
     "name": "stderr",
     "output_type": "stream",
     "text": [
      "Evaluating: 100%|████████████████████| 1800/1800 [00:18<00:00, 95.77it/s]                                                                                \n"
     ]
    },
    {
     "name": "stdout",
     "output_type": "stream",
     "text": [
      "Obtained accuracy using NaiveBayesClassifier on train set: 0.929\n"
     ]
    },
    {
     "name": "stderr",
     "output_type": "stream",
     "text": [
      "Evaluating: 100%|████████████████████| 200/200 [00:02<00:00, 89.63it/s]                                                                                  \n"
     ]
    },
    {
     "name": "stdout",
     "output_type": "stream",
     "text": [
      "Obtained accuracy using NaiveBayesClassifier on test set: 0.815\n",
      ":::::::::::: Fold 7 ::::::::::::\n",
      "Sample test indices:  [ 7 17 27 37 47 57 67 77 87 97]\n"
     ]
    },
    {
     "name": "stderr",
     "output_type": "stream",
     "text": [
      "Training: 100%|████████████████████| 1800/1800 [00:11<00:00, 155.99it/s]                                                                                 \n"
     ]
    },
    {
     "name": "stdout",
     "output_type": "stream",
     "text": [
      "Training finished with vocabulary of size 32493.\n"
     ]
    },
    {
     "name": "stderr",
     "output_type": "stream",
     "text": [
      "Evaluating: 100%|████████████████████| 1800/1800 [00:19<00:00, 94.59it/s]                                                                                \n"
     ]
    },
    {
     "name": "stdout",
     "output_type": "stream",
     "text": [
      "Obtained accuracy using NaiveBayesClassifier on train set: 0.927\n"
     ]
    },
    {
     "name": "stderr",
     "output_type": "stream",
     "text": [
      "Evaluating: 100%|████████████████████| 200/200 [00:02<00:00, 96.86it/s]                                                                                  \n"
     ]
    },
    {
     "name": "stdout",
     "output_type": "stream",
     "text": [
      "Obtained accuracy using NaiveBayesClassifier on test set: 0.795\n",
      ":::::::::::: Fold 8 ::::::::::::\n",
      "Sample test indices:  [ 8 18 28 38 48 58 68 78 88 98]\n"
     ]
    },
    {
     "name": "stderr",
     "output_type": "stream",
     "text": [
      "Training: 100%|████████████████████| 1800/1800 [00:11<00:00, 156.06it/s]                                                                                 \n"
     ]
    },
    {
     "name": "stdout",
     "output_type": "stream",
     "text": [
      "Training finished with vocabulary of size 32576.\n"
     ]
    },
    {
     "name": "stderr",
     "output_type": "stream",
     "text": [
      "Evaluating: 100%|████████████████████| 1800/1800 [00:18<00:00, 95.38it/s]                                                                                \n"
     ]
    },
    {
     "name": "stdout",
     "output_type": "stream",
     "text": [
      "Obtained accuracy using NaiveBayesClassifier on train set: 0.926\n"
     ]
    },
    {
     "name": "stderr",
     "output_type": "stream",
     "text": [
      "Evaluating: 100%|████████████████████| 200/200 [00:02<00:00, 98.63it/s]                                                                                  \n"
     ]
    },
    {
     "name": "stdout",
     "output_type": "stream",
     "text": [
      "Obtained accuracy using NaiveBayesClassifier on test set: 0.820\n",
      ":::::::::::: Fold 9 ::::::::::::\n",
      "Sample test indices:  [ 9 19 29 39 49 59 69 79 89 99]\n"
     ]
    },
    {
     "name": "stderr",
     "output_type": "stream",
     "text": [
      "Training: 100%|████████████████████| 1800/1800 [00:11<00:00, 154.41it/s]                                                                                 \n"
     ]
    },
    {
     "name": "stdout",
     "output_type": "stream",
     "text": [
      "Training finished with vocabulary of size 32667.\n"
     ]
    },
    {
     "name": "stderr",
     "output_type": "stream",
     "text": [
      "Evaluating: 100%|████████████████████| 1800/1800 [00:18<00:00, 95.19it/s]                                                                                \n"
     ]
    },
    {
     "name": "stdout",
     "output_type": "stream",
     "text": [
      "Obtained accuracy using NaiveBayesClassifier on train set: 0.927\n"
     ]
    },
    {
     "name": "stderr",
     "output_type": "stream",
     "text": [
      "Evaluating: 100%|████████████████████| 200/200 [00:02<00:00, 97.70it/s]                                                                                  "
     ]
    },
    {
     "name": "stdout",
     "output_type": "stream",
     "text": [
      "Obtained accuracy using NaiveBayesClassifier on test set: 0.835\n",
      "Result: 0.8185 +- 0.02915904662364665\n"
     ]
    },
    {
     "name": "stderr",
     "output_type": "stream",
     "text": [
      "\n"
     ]
    }
   ],
   "source": [
    "# YOUR ANSWER HERE\n",
    "\n",
    "test_accuracies = evaluate_by_kfold_cv(clf_args={\"classes\": [\"POS\", \"NEG\"], \"smoothing_kappa\": 1.0, \"stemmer\": stemmer})\n",
    "\n",
    "print(f\"Result: {np.mean(test_accuracies)} +- {np.std(test_accuracies)}\")"
   ]
  },
  {
   "cell_type": "markdown",
   "metadata": {
    "id": "JkDHVq_1XUVP"
   },
   "source": [
    "#### (Q2.8) What happens to the number of features (i.e., the size of the vocabulary) when using stemming as opposed to (Q2.4)? (0.5pt)\n",
    "Give actual numbers. You can use the held-out training set to determine these."
   ]
  },
  {
   "cell_type": "code",
   "execution_count": 63,
   "metadata": {
    "id": "MA3vee5-rJyy"
   },
   "outputs": [
    {
     "name": "stderr",
     "output_type": "stream",
     "text": [
      "Training: 100%|████████████████████| 1800/1800 [00:01<00:00, 949.70it/s]                                                                                 \n"
     ]
    },
    {
     "name": "stdout",
     "output_type": "stream",
     "text": [
      "Training finished with vocabulary of size 45348.\n"
     ]
    },
    {
     "name": "stderr",
     "output_type": "stream",
     "text": [
      "Evaluating: 100%|████████████████████| 1800/1800 [00:08<00:00, 205.50it/s]                                                                               \n"
     ]
    },
    {
     "name": "stdout",
     "output_type": "stream",
     "text": [
      "Obtained accuracy using NaiveBayesClassifier on train set: 0.944\n"
     ]
    },
    {
     "name": "stderr",
     "output_type": "stream",
     "text": [
      "Evaluating: 100%|████████████████████| 200/200 [00:00<00:00, 204.33it/s]                                                                                 \n"
     ]
    },
    {
     "name": "stdout",
     "output_type": "stream",
     "text": [
      "Obtained accuracy using NaiveBayesClassifier on test set: 0.835\n"
     ]
    },
    {
     "name": "stderr",
     "output_type": "stream",
     "text": [
      "Training: 100%|████████████████████| 1800/1800 [00:11<00:00, 158.23it/s]                                                                                 \n"
     ]
    },
    {
     "name": "stdout",
     "output_type": "stream",
     "text": [
      "Training finished with vocabulary of size 32404.\n"
     ]
    },
    {
     "name": "stderr",
     "output_type": "stream",
     "text": [
      "Evaluating: 100%|████████████████████| 1800/1800 [00:18<00:00, 97.74it/s]                                                                                \n"
     ]
    },
    {
     "name": "stdout",
     "output_type": "stream",
     "text": [
      "Obtained accuracy using NaiveBayesClassifier on train set: 0.926\n"
     ]
    },
    {
     "name": "stderr",
     "output_type": "stream",
     "text": [
      "Evaluating: 100%|████████████████████| 200/200 [00:02<00:00, 95.97it/s]                                                                                  "
     ]
    },
    {
     "name": "stdout",
     "output_type": "stream",
     "text": [
      "Obtained accuracy using NaiveBayesClassifier on test set: 0.835\n",
      ":::: Vocabulary size ::::\n",
      ":: Without stemming:\t 45348\n",
      ":: With stemming:\t 32404\n"
     ]
    },
    {
     "name": "stderr",
     "output_type": "stream",
     "text": [
      "\n"
     ]
    }
   ],
   "source": [
    "# YOUR CODE HERE\n",
    "\n",
    "train_idx = np.where(cv < 900)[0]\n",
    "test_idx = np.where(cv >= 900)[0]\n",
    "\n",
    "# without stemming\n",
    "clf = NaiveBayesClassifier(classes=[\"POS\", \"NEG\"], stemmer=None, smoothing_kappa=1.0)\n",
    "train_and_evaluate_clf(clf, train_idx, test_idx)\n",
    "vocab_size_wout_stem = clf.vocab_size\n",
    "\n",
    "# with stemming\n",
    "clf = NaiveBayesClassifier(classes=[\"POS\", \"NEG\"], stemmer=stemmer, smoothing_kappa=1.0)\n",
    "train_and_evaluate_clf(clf, train_idx, test_idx)\n",
    "vocab_size_with_stem = clf.vocab_size\n",
    "\n",
    "print(\":::: Vocabulary size ::::\")\n",
    "print(f\":: Without stemming:\\t {vocab_size_wout_stem}\")\n",
    "print(f\":: With stemming:\\t {vocab_size_with_stem}\")"
   ]
  },
  {
   "cell_type": "markdown",
   "metadata": {
    "id": "SoazfxbNV5Lq"
   },
   "source": [
    "### N-grams (1.5pts)\n",
    "\n",
    "A simple way of retaining some of the word\n",
    "order information when using bag-of-words representations is to use **n-gram** features. \n",
    "\n",
    "\n",
    "\n",
    "\n"
   ]
  },
  {
   "cell_type": "markdown",
   "metadata": {
    "id": "OHjy3I7-qWiu"
   },
   "source": [
    "#### (Q2.9) Retrain your classifier from (Q2.4) using **unigrams+bigrams** and **unigrams+bigrams+trigrams** as features. (1pt)\n",
    "Report accuracy and compare it with that of the approaches you have previously implemented. You are allowed to use NLTK to build n-grams from sentences."
   ]
  },
  {
   "cell_type": "code",
   "execution_count": 66,
   "metadata": {},
   "outputs": [],
   "source": [
    "from nltk import word_tokenize\n",
    "from nltk.util import ngrams"
   ]
  },
  {
   "cell_type": "code",
   "execution_count": 68,
   "metadata": {},
   "outputs": [
    {
     "name": "stderr",
     "output_type": "stream",
     "text": [
      "[nltk_data] Downloading package punkt to /Users/piyush/nltk_data...\n",
      "[nltk_data]   Unzipping tokenizers/punkt.zip.\n"
     ]
    },
    {
     "data": {
      "text/plain": [
       "True"
      ]
     },
     "execution_count": 68,
     "metadata": {},
     "output_type": "execute_result"
    }
   ],
   "source": [
    "import nltk\n",
    "nltk.download('punkt')"
   ]
  },
  {
   "cell_type": "code",
   "execution_count": 73,
   "metadata": {},
   "outputs": [],
   "source": [
    "data = [\"I\", \"am\", \"a\", \"jongen\"]\n",
    "n_grams = list(ngrams(data, 2))"
   ]
  },
  {
   "cell_type": "code",
   "execution_count": 74,
   "metadata": {},
   "outputs": [
    {
     "data": {
      "text/plain": [
       "[('I', 'am'), ('am', 'a'), ('a', 'jongen')]"
      ]
     },
     "execution_count": 74,
     "metadata": {},
     "output_type": "execute_result"
    }
   ],
   "source": [
    "n_grams"
   ]
  },
  {
   "cell_type": "code",
   "execution_count": null,
   "metadata": {
    "id": "eYuKMTOpq9jz"
   },
   "outputs": [],
   "source": [
    "# YOUR CODE HERE"
   ]
  },
  {
   "cell_type": "markdown",
   "metadata": {
    "id": "dVrGGArkrWoL"
   },
   "source": [
    "\n",
    "#### Q2.10: How many features does the BoW model have to take into account now? (0.5pt)\n",
    "How would you expect the number of features to increase theoretically (e.g., linear, square, cubed, exponential)? How does this number compare, in practice, to the number of features at (Q2.8)?\n",
    "\n",
    "Use the held-out training set once again for this.\n"
   ]
  },
  {
   "cell_type": "markdown",
   "metadata": {
    "id": "yEGZ9SV8pPaa"
   },
   "source": [
    "*Write your answer here.*"
   ]
  },
  {
   "cell_type": "code",
   "execution_count": null,
   "metadata": {
    "id": "_z8sAJeUrdtM"
   },
   "outputs": [],
   "source": [
    "# YOUR CODE HERE"
   ]
  },
  {
   "cell_type": "markdown",
   "metadata": {
    "id": "CHWKDL3YV6vh"
   },
   "source": [
    "# Support Vector Machines (4pts)"
   ]
  },
  {
   "cell_type": "markdown",
   "metadata": {
    "id": "hJSYhcVaoJGt"
   },
   "source": [
    "Though simple to understand, implement, and debug, one\n",
    "major problem with the Naive Bayes classifier is that its performance\n",
    "deteriorates (becomes skewed) when it is being used with features which\n",
    "are not independent (i.e., are correlated). Another popular classifier\n",
    "that doesn’t scale as well to big data, and is not as simple to debug as\n",
    "Naive Bayes, but that doesn’t assume feature independence is the Support\n",
    "Vector Machine (SVM) classifier.\n",
    "\n",
    "You can find more details about SVMs in Chapter 7 of Bishop: Pattern Recognition and Machine Learning.\n",
    "Other sources for learning SVM:\n",
    "* http://web.mit.edu/zoya/www/SVM.pdf\n",
    "* http://www.cs.columbia.edu/~kathy/cs4701/documents/jason_svm_tutorial.pdf\n",
    "* https://pythonprogramming.net/support-vector-machine-intro-machine-learning-tutorial/\n",
    "\n",
    "\n",
    "\n",
    "\n",
    "\n",
    "\n",
    "\n",
    "Use the scikit-learn implementation of \n",
    "[SVM](http://scikit-learn.org/stable/modules/svm.html) with the default parameters. (You are not expected to perform any hyperparameter tuning, but feel free to do it if you think it gives you good insights for the discussion in question 5.)\n",
    "\n"
   ]
  },
  {
   "cell_type": "markdown",
   "metadata": {
    "id": "0LnzNtQBV8gr"
   },
   "source": [
    "#### (Q3.1): Train SVM and compare to Naive Bayes (2pts)\n",
    "\n",
    "Train an SVM classifier (sklearn.svm.LinearSVC) using the features collected for Naive Bayes. Compare the\n",
    "classification performance of the SVM classifier to that of the Naive\n",
    "Bayes classifier with smoothing.\n",
    "Use cross-validation to evaluate the performance of the classifiers.\n",
    "\n"
   ]
  },
  {
   "cell_type": "code",
   "execution_count": null,
   "metadata": {
    "id": "JBscui8Mvoz0"
   },
   "outputs": [],
   "source": [
    "# YOUR CODE HERE"
   ]
  },
  {
   "cell_type": "markdown",
   "metadata": {
    "id": "ifXVWcK0V9qY"
   },
   "source": [
    "### POS disambiguation (2pts)\n",
    "\n",
    "Now add in part-of-speech features. You will find the\n",
    "movie review dataset has already been POS-tagged for you ([here](https://catalog.ldc.upenn.edu/docs/LDC99T42/tagguid1.pdf) you find the tagset). Try to\n",
    "replicate the results obtained by Pang et al. (2002).\n",
    "\n"
   ]
  },
  {
   "cell_type": "markdown",
   "metadata": {
    "id": "xA3I82o4oWGu"
   },
   "source": [
    "####(Q3.2) Replace your features with word+POS features, and report performance with the SVM. Use cross-validation to evaluate the classifier and compare the results with (Q3.1). Does part-of-speech information help? Explain why this may be the case. (1pt)\n"
   ]
  },
  {
   "cell_type": "code",
   "execution_count": null,
   "metadata": {
    "id": "NOvjYe-t2Br6"
   },
   "outputs": [],
   "source": [
    "# YOUR CODE HERE"
   ]
  },
  {
   "cell_type": "markdown",
   "metadata": {
    "id": "L0dt_oQupUNe"
   },
   "source": [
    "*Write your answer here.*"
   ]
  },
  {
   "cell_type": "markdown",
   "metadata": {
    "id": "Su-3w87eMW0w"
   },
   "source": [
    "#### (Q3.3) Discard all closed-class words from your data (keep only nouns, verbs, adjectives, and adverbs), and report performance. Does this help? Use cross-validation to evaluate the classifier and compare the results with (Q3.2). Are closed-class words detrimental to the classifier? Explain why this may be the case. (1pt)"
   ]
  },
  {
   "cell_type": "code",
   "execution_count": null,
   "metadata": {
    "id": "CCUPlPozCYUX"
   },
   "outputs": [],
   "source": [
    "# YOUR CODE HERE"
   ]
  },
  {
   "cell_type": "markdown",
   "metadata": {
    "id": "YaxCVrs8pWSp"
   },
   "source": [
    "*Write your answer here.*"
   ]
  },
  {
   "cell_type": "markdown",
   "metadata": {
    "id": "nfwqOciAl2No"
   },
   "source": [
    "# (Q4) Discussion (max. 500 words). (5pts)\n",
    "\n",
    "> Based on your experiments, what are the effective features and techniques in sentiment analysis? What information do different features encode?\n",
    "Why is this important? What are the limitations of these features and techniques?\n",
    " \n"
   ]
  },
  {
   "cell_type": "markdown",
   "metadata": {
    "id": "ZYuse5WLmekZ"
   },
   "source": [
    "*Write your answer here in up to 500 words (-0.25pt for >50 extra words, -0.5 points for >100 extra words, ...)*.\n"
   ]
  },
  {
   "cell_type": "markdown",
   "metadata": {
    "id": "iwaKwfWQhRk_"
   },
   "source": [
    "# Submission \n"
   ]
  },
  {
   "cell_type": "code",
   "execution_count": null,
   "metadata": {
    "id": "aOUeaET5ijk-"
   },
   "outputs": [],
   "source": [
    "# Write your names and student numbers here:\n",
    "# Student 1 #12345\n",
    "# Student 2 #12345"
   ]
  },
  {
   "cell_type": "markdown",
   "metadata": {
    "id": "3A9K-H6Tii3X"
   },
   "source": [
    "**That's it!**\n",
    "\n",
    "- Check if you answered all questions fully and correctly. \n",
    "- Download your completed notebook using `File -> Download .ipynb` \n",
    "- Check if your answers are all included in the file you submit.\n",
    "- Submit your .ipynb file via *Canvas*. One submission per group. "
   ]
  },
  {
   "cell_type": "code",
   "execution_count": null,
   "metadata": {
    "id": "YHslatYAKBrF"
   },
   "outputs": [],
   "source": []
  }
 ],
 "metadata": {
  "colab": {
   "collapsed_sections": [],
   "name": "NLP1 2021 Practical 1 (student version)",
   "provenance": []
  },
  "kernelspec": {
   "display_name": "Python 3 (ipykernel)",
   "language": "python",
   "name": "python3"
  },
  "language_info": {
   "codemirror_mode": {
    "name": "ipython",
    "version": 3
   },
   "file_extension": ".py",
   "mimetype": "text/x-python",
   "name": "python",
   "nbconvert_exporter": "python",
   "pygments_lexer": "ipython3",
   "version": "3.9.7"
  }
 },
 "nbformat": 4,
 "nbformat_minor": 4
}
